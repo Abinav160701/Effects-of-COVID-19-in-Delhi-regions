{
 "cells": [
  {
   "cell_type": "code",
   "execution_count": 14,
   "metadata": {},
   "outputs": [],
   "source": [
    "import pandas as pd\n",
    "import numpy as np\n",
    "import matplotlib.pyplot as plt\n",
    "import seaborn as sns\n",
    "sns.set()\n",
    "import warnings\n",
    "warnings.filterwarnings(action='ignore')\n",
    "from statsmodels.tsa.seasonal import seasonal_decompose\n",
    "import statsmodels.formula.api as formula\n",
    "from statsmodels.stats.outliers_influence import variance_inflation_factor\n",
    "import statsmodels as sm\n",
    "from sklearn import preprocessing\n",
    "from sklearn.model_selection import train_test_split,GridSearchCV,RandomizedSearchCV\n",
    "from sklearn.linear_model import LinearRegression,Lasso,Ridge\n",
    "#from sklearn.externals import joblib\n",
    "from sklearn.metrics import r2_score,mean_squared_error\n",
    "from sklearn.ensemble import RandomForestRegressor,GradientBoostingRegressor\n",
    "from sklearn.tree import DecisionTreeRegressor\n",
    "from IPython.display import display\n",
    "from sklearn.preprocessing import MinMaxScaler\n",
    "df = pd.read_excel (r'C:\\Users\\Kira\\Desktop\\Internship\\Data\\Delhi_Data-20210529T043217Z-001\\Delhi_Data\\2013-2020-RK-PURAM-final-dataset\\RK_PURAM_DATA_0null.xlsx')\n",
    "#df = pd.read_excel (r'D:\\Downloads\\rk_month.xlsx')\n",
    "df=df.set_index('From Date')"
   ]
  },
  {
   "cell_type": "code",
   "execution_count": 15,
   "metadata": {},
   "outputs": [
    {
     "data": {
      "text/html": [
       "<div>\n",
       "<style scoped>\n",
       "    .dataframe tbody tr th:only-of-type {\n",
       "        vertical-align: middle;\n",
       "    }\n",
       "\n",
       "    .dataframe tbody tr th {\n",
       "        vertical-align: top;\n",
       "    }\n",
       "\n",
       "    .dataframe thead th {\n",
       "        text-align: right;\n",
       "    }\n",
       "</style>\n",
       "<table border=\"1\" class=\"dataframe\">\n",
       "  <thead>\n",
       "    <tr style=\"text-align: right;\">\n",
       "      <th></th>\n",
       "      <th>PM2.5</th>\n",
       "      <th>PM1</th>\n",
       "      <th>NO</th>\n",
       "      <th>NO2</th>\n",
       "      <th>NOx</th>\n",
       "      <th>NH3</th>\n",
       "      <th>SO2</th>\n",
       "      <th>CO</th>\n",
       "      <th>Ozone</th>\n",
       "    </tr>\n",
       "    <tr>\n",
       "      <th>From Date</th>\n",
       "      <th></th>\n",
       "      <th></th>\n",
       "      <th></th>\n",
       "      <th></th>\n",
       "      <th></th>\n",
       "      <th></th>\n",
       "      <th></th>\n",
       "      <th></th>\n",
       "      <th></th>\n",
       "    </tr>\n",
       "  </thead>\n",
       "  <tbody>\n",
       "    <tr>\n",
       "      <th>2013-01-01</th>\n",
       "      <td>462.25</td>\n",
       "      <td>571.68</td>\n",
       "      <td>274.61</td>\n",
       "      <td>15.00</td>\n",
       "      <td>474.39</td>\n",
       "      <td>108.30</td>\n",
       "      <td>23.00</td>\n",
       "      <td>121.00</td>\n",
       "      <td>4.50</td>\n",
       "    </tr>\n",
       "    <tr>\n",
       "      <th>2013-01-02</th>\n",
       "      <td>331.93</td>\n",
       "      <td>417.23</td>\n",
       "      <td>102.16</td>\n",
       "      <td>28.68</td>\n",
       "      <td>170.48</td>\n",
       "      <td>59.99</td>\n",
       "      <td>19.98</td>\n",
       "      <td>2.68</td>\n",
       "      <td>2.64</td>\n",
       "    </tr>\n",
       "    <tr>\n",
       "      <th>2013-01-03</th>\n",
       "      <td>220.60</td>\n",
       "      <td>537.10</td>\n",
       "      <td>75.22</td>\n",
       "      <td>37.13</td>\n",
       "      <td>144.90</td>\n",
       "      <td>65.49</td>\n",
       "      <td>20.55</td>\n",
       "      <td>1.66</td>\n",
       "      <td>15.93</td>\n",
       "    </tr>\n",
       "    <tr>\n",
       "      <th>2013-01-04</th>\n",
       "      <td>295.63</td>\n",
       "      <td>634.82</td>\n",
       "      <td>116.30</td>\n",
       "      <td>67.87</td>\n",
       "      <td>226.48</td>\n",
       "      <td>103.64</td>\n",
       "      <td>20.97</td>\n",
       "      <td>2.67</td>\n",
       "      <td>23.15</td>\n",
       "    </tr>\n",
       "    <tr>\n",
       "      <th>2013-01-05</th>\n",
       "      <td>245.00</td>\n",
       "      <td>536.55</td>\n",
       "      <td>51.00</td>\n",
       "      <td>52.24</td>\n",
       "      <td>119.99</td>\n",
       "      <td>101.44</td>\n",
       "      <td>20.26</td>\n",
       "      <td>1.78</td>\n",
       "      <td>24.65</td>\n",
       "    </tr>\n",
       "  </tbody>\n",
       "</table>\n",
       "</div>"
      ],
      "text/plain": [
       "             PM2.5     PM1      NO    NO2     NOx     NH3    SO2      CO  \\\n",
       "From Date                                                                  \n",
       "2013-01-01  462.25  571.68  274.61  15.00  474.39  108.30  23.00  121.00   \n",
       "2013-01-02  331.93  417.23  102.16  28.68  170.48   59.99  19.98    2.68   \n",
       "2013-01-03  220.60  537.10   75.22  37.13  144.90   65.49  20.55    1.66   \n",
       "2013-01-04  295.63  634.82  116.30  67.87  226.48  103.64  20.97    2.67   \n",
       "2013-01-05  245.00  536.55   51.00  52.24  119.99  101.44  20.26    1.78   \n",
       "\n",
       "            Ozone  \n",
       "From Date          \n",
       "2013-01-01   4.50  \n",
       "2013-01-02   2.64  \n",
       "2013-01-03  15.93  \n",
       "2013-01-04  23.15  \n",
       "2013-01-05  24.65  "
      ]
     },
     "execution_count": 15,
     "metadata": {},
     "output_type": "execute_result"
    }
   ],
   "source": [
    "df.head()"
   ]
  },
  {
   "cell_type": "markdown",
   "metadata": {},
   "source": [
    "many places in RK puram were in containment zones for unlock 1.0 and unlock 2.0. So we take the range to consider our drop fro, 22 march to 31 July"
   ]
  },
  {
   "cell_type": "code",
   "execution_count": 37,
   "metadata": {},
   "outputs": [],
   "source": [
    "frames=[df.loc[\"2013-03-24\":\"2013-07-31\"],df.loc[\"2014-03-24\":\"2014-07-31\"],df.loc[\"2015-03-24\":\"2015-07-31\"],df.loc[\"2016-03-24\":\"2016-07-31\"],df.loc[\"2017-03-24\":\"2017-07-31\"],df.loc[\"2018-03-24\":\"2018-07-31\"],df.loc[\"2019-03-24\":\"2019-07-31\"]]\n",
    "noLock_data=pd.concat(frames)"
   ]
  },
  {
   "cell_type": "code",
   "execution_count": 58,
   "metadata": {},
   "outputs": [
    {
     "name": "stdout",
     "output_type": "stream",
     "text": [
      "pollutant median 76.06833333333333\n",
      "pollutant mean 86.00729120879117\n",
      "pollutant min 9.83\n",
      "pollutant max 287.42\n",
      "     From Date  PM2.5\n",
      "479 2016-06-21   9.83\n",
      "     From Date   PM2.5\n",
      "454 2016-05-27  287.42\n"
     ]
    }
   ],
   "source": [
    "print('pollutant median',noLock_data['PM2.5'].median())\n",
    "print('pollutant mean',noLock_data['PM2.5'].mean())\n",
    "print('pollutant min',noLock_data['PM2.5'].min())\n",
    "print('pollutant max',noLock_data['PM2.5'].max())\n",
    "print(noLock_data[['From Date','PM2.5']].loc[noLock_data['PM2.5']==noLock_data['PM2.5'].min()])\n",
    "print(noLock_data[['From Date','PM2.5']].loc[noLock_data['PM2.5']==noLock_data['PM2.5'].max()])"
   ]
  },
  {
   "cell_type": "code",
   "execution_count": 41,
   "metadata": {},
   "outputs": [],
   "source": [
    "lock2020=df.loc[\"2020-03-24\":\"2020-07-31\"]"
   ]
  },
  {
   "cell_type": "code",
   "execution_count": 43,
   "metadata": {
    "scrolled": true
   },
   "outputs": [
    {
     "data": {
      "text/html": [
       "<div>\n",
       "<style scoped>\n",
       "    .dataframe tbody tr th:only-of-type {\n",
       "        vertical-align: middle;\n",
       "    }\n",
       "\n",
       "    .dataframe tbody tr th {\n",
       "        vertical-align: top;\n",
       "    }\n",
       "\n",
       "    .dataframe thead th {\n",
       "        text-align: right;\n",
       "    }\n",
       "</style>\n",
       "<table border=\"1\" class=\"dataframe\">\n",
       "  <thead>\n",
       "    <tr style=\"text-align: right;\">\n",
       "      <th></th>\n",
       "      <th>From Date</th>\n",
       "      <th>PM2.5</th>\n",
       "      <th>PM1</th>\n",
       "      <th>NO</th>\n",
       "      <th>NO2</th>\n",
       "      <th>NOx</th>\n",
       "      <th>NH3</th>\n",
       "      <th>SO2</th>\n",
       "      <th>CO</th>\n",
       "      <th>Ozone</th>\n",
       "    </tr>\n",
       "  </thead>\n",
       "  <tbody>\n",
       "    <tr>\n",
       "      <th>120</th>\n",
       "      <td>2020-07-22</td>\n",
       "      <td>6.22</td>\n",
       "      <td>36.43</td>\n",
       "      <td>8.8</td>\n",
       "      <td>31.93</td>\n",
       "      <td>23.85</td>\n",
       "      <td>24.64</td>\n",
       "      <td>8.25</td>\n",
       "      <td>0.6</td>\n",
       "      <td>9.51</td>\n",
       "    </tr>\n",
       "  </tbody>\n",
       "</table>\n",
       "</div>"
      ],
      "text/plain": [
       "     From Date  PM2.5    PM1   NO    NO2    NOx    NH3   SO2   CO  Ozone\n",
       "120 2020-07-22   6.22  36.43  8.8  31.93  23.85  24.64  8.25  0.6   9.51"
      ]
     },
     "execution_count": 43,
     "metadata": {},
     "output_type": "execute_result"
    }
   ],
   "source": [
    "lock2020.loc[lock2020['PM2.5']==lock2020['PM2.5'].min()]"
   ]
  },
  {
   "cell_type": "code",
   "execution_count": 63,
   "metadata": {},
   "outputs": [
    {
     "name": "stdout",
     "output_type": "stream",
     "text": [
      "pollutant median 29.72\n",
      "pollutant mean 32.99973076923078\n",
      "pollutant min 6.22\n",
      "pollutant max 105.0\n",
      "     From Date  PM2.5\n",
      "120 2020-07-22   6.22\n",
      "    From Date  PM2.5\n",
      "13 2020-04-06  105.0\n"
     ]
    }
   ],
   "source": [
    "print('pollutant median',lock2020['PM2.5'].median())\n",
    "print('pollutant mean',lock2020['PM2.5'].mean())\n",
    "print('pollutant min',lock2020['PM2.5'].min())\n",
    "print('pollutant max',lock2020['PM2.5'].max())\n",
    "print(lock2020[['From Date','PM2.5']].loc[lock2020['PM2.5']==lock2020['PM2.5'].min()])\n",
    "print(lock2020[['From Date','PM2.5']].loc[lock2020['PM2.5']==lock2020['PM2.5'].max()])"
   ]
  },
  {
   "cell_type": "code",
   "execution_count": 75,
   "metadata": {},
   "outputs": [],
   "source": [
    "framesaf=[df.loc[\"2013-08-01\":\"2013-12-31\"],df.loc[\"2014-08-01\":\"2014-12-31\"],df.loc[\"2015-08-01\":\"2015-12-31\"],df.loc[\"2016-08-01\":\"2016-12-31\"],df.loc[\"2017-08-01\":\"2017-12-31\"],df.loc[\"2018-08-01\":\"2018-12-31\"],df.loc[\"2019-08-01\":\"2019-12-31\"]]\n",
    "afterlockprev=pd.concat(framesaf)\n",
    "afterlockprev=afterlockprev.reset_index()\n"
   ]
  },
  {
   "cell_type": "code",
   "execution_count": 76,
   "metadata": {},
   "outputs": [
    {
     "name": "stdout",
     "output_type": "stream",
     "text": [
      "pollutant median 102.98\n",
      "pollutant mean 139.1472194211018\n",
      "pollutant min -1.88\n",
      "pollutant max 713.12\n",
      "     From Date  PM2.5\n",
      "604 2016-12-24  -1.88\n",
      "     From Date   PM2.5\n",
      "556 2016-11-06  713.12\n"
     ]
    }
   ],
   "source": [
    "print('pollutant median',afterlockprev['PM2.5'].median())\n",
    "print('pollutant mean',afterlockprev['PM2.5'].mean())\n",
    "print('pollutant min',afterlockprev['PM2.5'].min())\n",
    "print('pollutant max',afterlockprev['PM2.5'].max())\n",
    "print(afterlockprev[['From Date','PM2.5']].loc[afterlockprev['PM2.5']==afterlockprev['PM2.5'].min()])\n",
    "print(afterlockprev[['From Date','PM2.5']].loc[afterlockprev['PM2.5']==afterlockprev['PM2.5'].max()])"
   ]
  },
  {
   "cell_type": "code",
   "execution_count": 80,
   "metadata": {},
   "outputs": [],
   "source": [
    "afterlock2020=df.loc[\"2020-08-01\":\"2020-12-31\"]\n",
    "afterlock2020=afterlock2020.reset_index()"
   ]
  },
  {
   "cell_type": "code",
   "execution_count": 81,
   "metadata": {},
   "outputs": [
    {
     "name": "stdout",
     "output_type": "stream",
     "text": [
      "pollutant median 109.66\n",
      "pollutant mean 127.50562091503271\n",
      "pollutant min 7.25\n",
      "pollutant max 528.92\n",
      "    From Date  PM2.5\n",
      "12 2020-08-13   7.25\n",
      "     From Date   PM2.5\n",
      "100 2020-11-09  528.92\n"
     ]
    }
   ],
   "source": [
    "print('pollutant median',afterlock2020['PM2.5'].median())\n",
    "print('pollutant mean',afterlock2020['PM2.5'].mean())\n",
    "print('pollutant min',afterlock2020['PM2.5'].min())\n",
    "print('pollutant max',afterlock2020['PM2.5'].max())\n",
    "print(afterlock2020[['From Date','PM2.5']].loc[afterlock2020['PM2.5']==afterlock2020['PM2.5'].min()])\n",
    "print(afterlock2020[['From Date','PM2.5']].loc[afterlock2020['PM2.5']==afterlock2020['PM2.5'].max()])"
   ]
  },
  {
   "cell_type": "markdown",
   "metadata": {},
   "source": [
    "PM2.5 concentration reached its lowest ever on 22 july 2020 . This was the lowest recored PM2.5 value in past 8 years in this given range of time."
   ]
  },
  {
   "cell_type": "markdown",
   "metadata": {},
   "source": [
    "# PM10"
   ]
  },
  {
   "cell_type": "code",
   "execution_count": 57,
   "metadata": {
    "scrolled": true
   },
   "outputs": [
    {
     "name": "stdout",
     "output_type": "stream",
     "text": [
      "pollutant median 200.045\n",
      "pollutant mean 212.7714065934062\n",
      "pollutant min 34.62\n",
      "pollutant max 763.48\n",
      "     From Date    PM1\n",
      "645 2017-07-27  34.62\n",
      "775 2018-07-27  34.62\n",
      "     From Date     PM1\n",
      "65  2013-05-28  763.48\n",
      "195 2014-05-28  763.48\n",
      "325 2015-05-28  763.48\n"
     ]
    }
   ],
   "source": [
    "print('previous years statistical data')\n",
    "print('pollutant median',noLock_data['PM1'].median())\n",
    "print('pollutant mean',noLock_data['PM1'].mean())\n",
    "print('pollutant min',noLock_data['PM1'].min())\n",
    "print('pollutant max',noLock_data['PM1'].max())\n",
    "print(noLock_data[['From Date','PM1']].loc[noLock_data['PM1']==noLock_data['PM1'].min()])\n",
    "print(noLock_data[['From Date','PM1']].loc[noLock_data['PM1']==noLock_data['PM1'].max()])"
   ]
  },
  {
   "cell_type": "code",
   "execution_count": 60,
   "metadata": {
    "scrolled": true
   },
   "outputs": [
    {
     "name": "stdout",
     "output_type": "stream",
     "text": [
      "statistics during lockdown\n",
      "pollutant median 82.47\n",
      "pollutant mean 88.98746153846155\n",
      "pollutant min 29.67\n",
      "pollutant max 260.5\n",
      "     From Date    PM1\n",
      "105 2020-07-07  29.67\n",
      "    From Date    PM1\n",
      "96 2020-06-28  260.5\n"
     ]
    }
   ],
   "source": [
    "print('statistics during lockdown')\n",
    "print('pollutant median',lock2020['PM1'].median())\n",
    "print('pollutant mean',lock2020['PM1'].mean())\n",
    "print('pollutant min',lock2020['PM1'].min())\n",
    "print('pollutant max',lock2020['PM1'].max())\n",
    "print(lock2020[['From Date','PM1']].loc[lock2020['PM1']==lock2020['PM1'].min()])\n",
    "print(lock2020[['From Date','PM1']].loc[lock2020['PM1']==lock2020['PM1'].max()])"
   ]
  },
  {
   "cell_type": "code",
   "execution_count": 82,
   "metadata": {},
   "outputs": [
    {
     "name": "stdout",
     "output_type": "stream",
     "text": [
      "pollutant median 184.46\n",
      "pollutant mean 200.56032679738558\n",
      "pollutant min 20.88\n",
      "pollutant max 698.85\n",
      "    From Date    PM1\n",
      "12 2020-08-13  20.88\n",
      "     From Date     PM1\n",
      "100 2020-11-09  698.85\n"
     ]
    }
   ],
   "source": [
    "print('pollutant median',afterlock2020['PM1'].median())\n",
    "print('pollutant mean',afterlock2020['PM1'].mean())\n",
    "print('pollutant min',afterlock2020['PM1'].min())\n",
    "print('pollutant max',afterlock2020['PM1'].max())\n",
    "print(afterlock2020[['From Date','PM1']].loc[afterlock2020['PM1']==afterlock2020['PM1'].min()])\n",
    "print(afterlock2020[['From Date','PM1']].loc[afterlock2020['PM1']==afterlock2020['PM1'].max()])"
   ]
  },
  {
   "cell_type": "markdown",
   "metadata": {},
   "source": [
    "# NO"
   ]
  },
  {
   "cell_type": "code",
   "execution_count": 61,
   "metadata": {},
   "outputs": [
    {
     "name": "stdout",
     "output_type": "stream",
     "text": [
      "previous years statistical data\n",
      "pollutant median 10.754999999999999\n",
      "pollutant mean 26.692868131868117\n",
      "pollutant min 0.45\n",
      "pollutant max 285.66\n",
      "     From Date    NO\n",
      "567 2017-05-10  0.45\n",
      "     From Date      NO\n",
      "424 2016-04-27  285.66\n"
     ]
    }
   ],
   "source": [
    "print('previous years statistical data')\n",
    "print('pollutant median',noLock_data['NO'].median())\n",
    "print('pollutant mean',noLock_data['NO'].mean())\n",
    "print('pollutant min',noLock_data['NO'].min())\n",
    "print('pollutant max',noLock_data['NO'].max())\n",
    "print(noLock_data[['From Date','NO']].loc[noLock_data['NO']==noLock_data['NO'].min()])\n",
    "print(noLock_data[['From Date','NO']].loc[noLock_data['NO']==noLock_data['NO'].max()])"
   ]
  },
  {
   "cell_type": "code",
   "execution_count": 62,
   "metadata": {},
   "outputs": [
    {
     "name": "stdout",
     "output_type": "stream",
     "text": [
      "statistics during lockdown\n",
      "pollutant median 2.935\n",
      "pollutant mean 4.597653846153848\n",
      "pollutant min 1.4\n",
      "pollutant max 48.62\n",
      "    From Date   NO\n",
      "46 2020-05-09  1.4\n",
      "     From Date     NO\n",
      "121 2020-07-23  48.62\n"
     ]
    }
   ],
   "source": [
    "print('statistics during lockdown')\n",
    "print('pollutant median',lock2020['NO'].median())\n",
    "print('pollutant mean',lock2020['NO'].mean())\n",
    "print('pollutant min',lock2020['NO'].min())\n",
    "print('pollutant max',lock2020['NO'].max())\n",
    "print(lock2020[['From Date','NO']].loc[lock2020['NO']==lock2020['NO'].min()])\n",
    "print(lock2020[['From Date','NO']].loc[lock2020['NO']==lock2020['NO'].max()])"
   ]
  },
  {
   "cell_type": "code",
   "execution_count": 83,
   "metadata": {},
   "outputs": [
    {
     "name": "stdout",
     "output_type": "stream",
     "text": [
      "pollutant median 30.7\n",
      "pollutant mean 50.35477124183009\n",
      "pollutant min 1.92\n",
      "pollutant max 277.32\n",
      "    From Date    NO\n",
      "35 2020-09-05  1.92\n",
      "    From Date      NO\n",
      "97 2020-11-06  277.32\n"
     ]
    }
   ],
   "source": [
    "print('pollutant median',afterlock2020['NO'].median())\n",
    "print('pollutant mean',afterlock2020['NO'].mean())\n",
    "print('pollutant min',afterlock2020['NO'].min())\n",
    "print('pollutant max',afterlock2020['NO'].max())\n",
    "print(afterlock2020[['From Date','NO']].loc[afterlock2020['NO']==afterlock2020['NO'].min()])\n",
    "print(afterlock2020[['From Date','NO']].loc[afterlock2020['NO']==afterlock2020['NO'].max()])"
   ]
  },
  {
   "cell_type": "markdown",
   "metadata": {},
   "source": [
    "# NO2"
   ]
  },
  {
   "cell_type": "code",
   "execution_count": 84,
   "metadata": {},
   "outputs": [
    {
     "name": "stdout",
     "output_type": "stream",
     "text": [
      "previous years statistical data\n",
      "pollutant median 62.135\n",
      "pollutant mean 64.87863186813192\n",
      "pollutant min 3.88\n",
      "pollutant max 197.78\n",
      "     From Date   NO2\n",
      "643 2017-07-25  3.88\n",
      "773 2018-07-25  3.88\n",
      "     From Date     NO2\n",
      "42  2013-05-05  197.78\n",
      "172 2014-05-05  197.78\n",
      "302 2015-05-05  197.78\n"
     ]
    }
   ],
   "source": [
    "print('previous years statistical data')\n",
    "print('pollutant median',noLock_data['NO2'].median())\n",
    "print('pollutant mean',noLock_data['NO2'].mean())\n",
    "print('pollutant min',noLock_data['NO2'].min())\n",
    "print('pollutant max',noLock_data['NO2'].max())\n",
    "print(noLock_data[['From Date','NO2']].loc[noLock_data['NO2']==noLock_data['NO2'].min()])\n",
    "print(noLock_data[['From Date','NO2']].loc[noLock_data['NO2']==noLock_data['NO2'].max()])"
   ]
  },
  {
   "cell_type": "code",
   "execution_count": 85,
   "metadata": {},
   "outputs": [
    {
     "name": "stdout",
     "output_type": "stream",
     "text": [
      "statistics during lockdown\n",
      "pollutant median 26.134999999999998\n",
      "pollutant mean 27.38746153846153\n",
      "pollutant min 7.05\n",
      "pollutant max 61.67\n",
      "     From Date   NO2\n",
      "102 2020-07-04  7.05\n",
      "    From Date    NO2\n",
      "59 2020-05-22  61.67\n"
     ]
    }
   ],
   "source": [
    "print('statistics during lockdown')\n",
    "print('pollutant median',lock2020['NO2'].median())\n",
    "print('pollutant mean',lock2020['NO2'].mean())\n",
    "print('pollutant min',lock2020['NO2'].min())\n",
    "print('pollutant max',lock2020['NO2'].max())\n",
    "print(lock2020[['From Date','NO2']].loc[lock2020['NO2']==lock2020['NO2'].min()])\n",
    "print(lock2020[['From Date','NO2']].loc[lock2020['NO2']==lock2020['NO2'].max()])"
   ]
  },
  {
   "cell_type": "code",
   "execution_count": 87,
   "metadata": {},
   "outputs": [
    {
     "name": "stdout",
     "output_type": "stream",
     "text": [
      "pollutant median 67.55\n",
      "pollutant mean 68.33136788048563\n",
      "pollutant min 0.27\n",
      "pollutant max 213.78\n",
      "     From Date   NO2\n",
      "980 2019-10-02  0.27\n",
      "     From Date     NO2\n",
      "715 2017-11-12  213.78\n"
     ]
    }
   ],
   "source": [
    "print('pollutant median',afterlockprev['NO2'].median())\n",
    "print('pollutant mean',afterlockprev['NO2'].mean())\n",
    "print('pollutant min',afterlockprev['NO2'].min())\n",
    "print('pollutant max',afterlockprev['NO2'].max())\n",
    "print(afterlockprev[['From Date','NO2']].loc[afterlockprev['NO2']==afterlockprev['NO2'].min()])\n",
    "print(afterlockprev[['From Date','NO2']].loc[afterlockprev['NO2']==afterlockprev['NO2'].max()])"
   ]
  },
  {
   "cell_type": "code",
   "execution_count": 86,
   "metadata": {},
   "outputs": [
    {
     "name": "stdout",
     "output_type": "stream",
     "text": [
      "pollutant median 44.06\n",
      "pollutant mean 47.65071895424835\n",
      "pollutant min 2.48\n",
      "pollutant max 186.44\n",
      "    From Date   NO2\n",
      "16 2020-08-17  2.48\n",
      "    From Date     NO2\n",
      "97 2020-11-06  186.44\n"
     ]
    }
   ],
   "source": [
    "print('pollutant median',afterlock2020['NO2'].median())\n",
    "print('pollutant mean',afterlock2020['NO2'].mean())\n",
    "print('pollutant min',afterlock2020['NO2'].min())\n",
    "print('pollutant max',afterlock2020['NO2'].max())\n",
    "print(afterlock2020[['From Date','NO2']].loc[afterlock2020['NO2']==afterlock2020['NO2'].min()])\n",
    "print(afterlock2020[['From Date','NO2']].loc[afterlock2020['NO2']==afterlock2020['NO2'].max()])"
   ]
  },
  {
   "cell_type": "code",
   "execution_count": null,
   "metadata": {},
   "outputs": [],
   "source": []
  }
 ],
 "metadata": {
  "kernelspec": {
   "display_name": "Python 3",
   "language": "python",
   "name": "python3"
  },
  "language_info": {
   "codemirror_mode": {
    "name": "ipython",
    "version": 3
   },
   "file_extension": ".py",
   "mimetype": "text/x-python",
   "name": "python",
   "nbconvert_exporter": "python",
   "pygments_lexer": "ipython3",
   "version": "3.8.5"
  }
 },
 "nbformat": 4,
 "nbformat_minor": 4
}
