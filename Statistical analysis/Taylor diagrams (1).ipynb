{
 "cells": [
  {
   "cell_type": "markdown",
   "metadata": {},
   "source": [
    "# PM2.5"
   ]
  },
  {
   "cell_type": "code",
   "execution_count": 1,
   "metadata": {},
   "outputs": [],
   "source": [
    "import pandas as pd\n",
    "df=pd.read_excel(r\"C:\\Users\\Kira\\Desktop\\Internship\\Data\\Delhi_Data-20210529T043217Z-001\\Delhi_Data\\Taylor_comp\\PM2.5\\taylor_PM25.xlsx\")\n",
    "dft=pd.read_excel(r\"C:\\Users\\Kira\\Desktop\\Internship\\Data\\Delhi_Data-20210529T043217Z-001\\Delhi_Data\\Taylor_comp\\PM2.5\\taylortime_PM25.xlsx\")"
   ]
  },
  {
   "cell_type": "code",
   "execution_count": 2,
   "metadata": {
    "scrolled": true
   },
   "outputs": [
    {
     "data": {
      "text/plain": [
       "Index(['Unnamed: 0', 'decision_tree', 'testdt', 'gbpred', 'forest_pred'], dtype='object')"
      ]
     },
     "execution_count": 2,
     "metadata": {},
     "output_type": "execute_result"
    }
   ],
   "source": [
    "df.columns"
   ]
  },
  {
   "cell_type": "code",
   "execution_count": 3,
   "metadata": {},
   "outputs": [
    {
     "data": {
      "text/plain": [
       "82.0596906295026"
      ]
     },
     "execution_count": 3,
     "metadata": {},
     "output_type": "execute_result"
    }
   ],
   "source": [
    "df['decision_tree'].std()"
   ]
  },
  {
   "cell_type": "code",
   "execution_count": 4,
   "metadata": {},
   "outputs": [
    {
     "data": {
      "text/plain": [
       "Index(['Unnamed: 0', 'holts', 'timetest', 'prophetpred'], dtype='object')"
      ]
     },
     "execution_count": 4,
     "metadata": {},
     "output_type": "execute_result"
    }
   ],
   "source": [
    "dft.columns"
   ]
  },
  {
   "cell_type": "code",
   "execution_count": 5,
   "metadata": {},
   "outputs": [],
   "source": [
    "df=df[['decision_tree', 'gbpred', 'forest_pred','testdt']]\n",
    "dft=dft[['holts', 'prophetpred', 'timetest']]"
   ]
  },
  {
   "cell_type": "code",
   "execution_count": 6,
   "metadata": {},
   "outputs": [
    {
     "data": {
      "text/html": [
       "<div>\n",
       "<style scoped>\n",
       "    .dataframe tbody tr th:only-of-type {\n",
       "        vertical-align: middle;\n",
       "    }\n",
       "\n",
       "    .dataframe tbody tr th {\n",
       "        vertical-align: top;\n",
       "    }\n",
       "\n",
       "    .dataframe thead th {\n",
       "        text-align: right;\n",
       "    }\n",
       "</style>\n",
       "<table border=\"1\" class=\"dataframe\">\n",
       "  <thead>\n",
       "    <tr style=\"text-align: right;\">\n",
       "      <th></th>\n",
       "      <th>holts</th>\n",
       "      <th>prophetpred</th>\n",
       "      <th>timetest</th>\n",
       "    </tr>\n",
       "  </thead>\n",
       "  <tbody>\n",
       "    <tr>\n",
       "      <th>0</th>\n",
       "      <td>231.869705</td>\n",
       "      <td>226.357018</td>\n",
       "      <td>207.205806</td>\n",
       "    </tr>\n",
       "    <tr>\n",
       "      <th>1</th>\n",
       "      <td>237.821852</td>\n",
       "      <td>104.292329</td>\n",
       "      <td>148.574643</td>\n",
       "    </tr>\n",
       "    <tr>\n",
       "      <th>2</th>\n",
       "      <td>265.835119</td>\n",
       "      <td>79.137426</td>\n",
       "      <td>103.335484</td>\n",
       "    </tr>\n",
       "    <tr>\n",
       "      <th>3</th>\n",
       "      <td>236.144255</td>\n",
       "      <td>81.861031</td>\n",
       "      <td>102.489333</td>\n",
       "    </tr>\n",
       "    <tr>\n",
       "      <th>4</th>\n",
       "      <td>246.292470</td>\n",
       "      <td>106.701778</td>\n",
       "      <td>102.255161</td>\n",
       "    </tr>\n",
       "    <tr>\n",
       "      <th>5</th>\n",
       "      <td>252.244618</td>\n",
       "      <td>81.636034</td>\n",
       "      <td>76.771000</td>\n",
       "    </tr>\n",
       "    <tr>\n",
       "      <th>6</th>\n",
       "      <td>280.257884</td>\n",
       "      <td>44.784271</td>\n",
       "      <td>45.430323</td>\n",
       "    </tr>\n",
       "    <tr>\n",
       "      <th>7</th>\n",
       "      <td>250.567020</td>\n",
       "      <td>43.218479</td>\n",
       "      <td>48.106129</td>\n",
       "    </tr>\n",
       "    <tr>\n",
       "      <th>8</th>\n",
       "      <td>260.715235</td>\n",
       "      <td>50.015716</td>\n",
       "      <td>51.802667</td>\n",
       "    </tr>\n",
       "    <tr>\n",
       "      <th>9</th>\n",
       "      <td>266.667383</td>\n",
       "      <td>99.327277</td>\n",
       "      <td>145.899032</td>\n",
       "    </tr>\n",
       "    <tr>\n",
       "      <th>10</th>\n",
       "      <td>294.680650</td>\n",
       "      <td>232.842380</td>\n",
       "      <td>201.939333</td>\n",
       "    </tr>\n",
       "    <tr>\n",
       "      <th>11</th>\n",
       "      <td>264.989786</td>\n",
       "      <td>227.914960</td>\n",
       "      <td>255.242903</td>\n",
       "    </tr>\n",
       "    <tr>\n",
       "      <th>12</th>\n",
       "      <td>275.138001</td>\n",
       "      <td>239.633296</td>\n",
       "      <td>223.311935</td>\n",
       "    </tr>\n",
       "    <tr>\n",
       "      <th>13</th>\n",
       "      <td>281.090148</td>\n",
       "      <td>125.013530</td>\n",
       "      <td>143.792857</td>\n",
       "    </tr>\n",
       "    <tr>\n",
       "      <th>14</th>\n",
       "      <td>309.103415</td>\n",
       "      <td>88.688793</td>\n",
       "      <td>97.162419</td>\n",
       "    </tr>\n",
       "    <tr>\n",
       "      <th>15</th>\n",
       "      <td>279.412551</td>\n",
       "      <td>109.891056</td>\n",
       "      <td>60.641333</td>\n",
       "    </tr>\n",
       "    <tr>\n",
       "      <th>16</th>\n",
       "      <td>289.560766</td>\n",
       "      <td>96.053731</td>\n",
       "      <td>64.126774</td>\n",
       "    </tr>\n",
       "    <tr>\n",
       "      <th>17</th>\n",
       "      <td>295.512914</td>\n",
       "      <td>57.476554</td>\n",
       "      <td>61.534000</td>\n",
       "    </tr>\n",
       "    <tr>\n",
       "      <th>18</th>\n",
       "      <td>323.526180</td>\n",
       "      <td>24.218062</td>\n",
       "      <td>51.434839</td>\n",
       "    </tr>\n",
       "    <tr>\n",
       "      <th>19</th>\n",
       "      <td>293.835317</td>\n",
       "      <td>28.223852</td>\n",
       "      <td>34.308387</td>\n",
       "    </tr>\n",
       "    <tr>\n",
       "      <th>20</th>\n",
       "      <td>303.983532</td>\n",
       "      <td>51.303019</td>\n",
       "      <td>41.096000</td>\n",
       "    </tr>\n",
       "    <tr>\n",
       "      <th>21</th>\n",
       "      <td>309.935679</td>\n",
       "      <td>137.841980</td>\n",
       "      <td>91.420000</td>\n",
       "    </tr>\n",
       "    <tr>\n",
       "      <th>22</th>\n",
       "      <td>337.948946</td>\n",
       "      <td>261.197659</td>\n",
       "      <td>176.233000</td>\n",
       "    </tr>\n",
       "    <tr>\n",
       "      <th>23</th>\n",
       "      <td>308.258082</td>\n",
       "      <td>184.503900</td>\n",
       "      <td>169.625806</td>\n",
       "    </tr>\n",
       "  </tbody>\n",
       "</table>\n",
       "</div>"
      ],
      "text/plain": [
       "         holts  prophetpred    timetest\n",
       "0   231.869705   226.357018  207.205806\n",
       "1   237.821852   104.292329  148.574643\n",
       "2   265.835119    79.137426  103.335484\n",
       "3   236.144255    81.861031  102.489333\n",
       "4   246.292470   106.701778  102.255161\n",
       "5   252.244618    81.636034   76.771000\n",
       "6   280.257884    44.784271   45.430323\n",
       "7   250.567020    43.218479   48.106129\n",
       "8   260.715235    50.015716   51.802667\n",
       "9   266.667383    99.327277  145.899032\n",
       "10  294.680650   232.842380  201.939333\n",
       "11  264.989786   227.914960  255.242903\n",
       "12  275.138001   239.633296  223.311935\n",
       "13  281.090148   125.013530  143.792857\n",
       "14  309.103415    88.688793   97.162419\n",
       "15  279.412551   109.891056   60.641333\n",
       "16  289.560766    96.053731   64.126774\n",
       "17  295.512914    57.476554   61.534000\n",
       "18  323.526180    24.218062   51.434839\n",
       "19  293.835317    28.223852   34.308387\n",
       "20  303.983532    51.303019   41.096000\n",
       "21  309.935679   137.841980   91.420000\n",
       "22  337.948946   261.197659  176.233000\n",
       "23  308.258082   184.503900  169.625806"
      ]
     },
     "execution_count": 6,
     "metadata": {},
     "output_type": "execute_result"
    }
   ],
   "source": [
    "dft"
   ]
  },
  {
   "cell_type": "code",
   "execution_count": 7,
   "metadata": {},
   "outputs": [],
   "source": [
    "df.to_pickle(\"Taylor_PM2.5.pkl\")\n",
    "dft.to_pickle(\"Taylort_PM2.5.pkl\")\n"
   ]
  },
  {
   "cell_type": "code",
   "execution_count": 8,
   "metadata": {},
   "outputs": [],
   "source": [
    "import skill_metrics as sm\n",
    "from fbprophet import Prophet"
   ]
  },
  {
   "cell_type": "code",
   "execution_count": 9,
   "metadata": {},
   "outputs": [
    {
     "data": {
      "image/png": "[encoded data removed]",
      "text/plain": [
       "<Figure size 432x288 with 1 Axes>"
      ]
     },
     "metadata": {
      "needs_background": "light"
     },
     "output_type": "display_data"
    }
   ],
   "source": [
    "import matplotlib.pyplot as plt\n",
    "import numpy as np\n",
    "import pickle\n",
    "import skill_metrics as sm\n",
    "from sys import version_info\n",
    "\n",
    "def load_obj(name):\n",
    "    # Load object from file in pickle format\n",
    "    if version_info[0] == 2:\n",
    "        suffix = 'pkl'\n",
    "    else:\n",
    "        suffix = 'pkl'\n",
    "\n",
    "    with open(name + '.' + suffix, 'rb') as f:\n",
    "        return pickle.load(f) # Python2 succeeds\n",
    "\n",
    "class Container(object): \n",
    "    \n",
    "    def __init__(self, pred1, pred2, ref):\n",
    "        self.pred1 = pred1\n",
    "        self.pred2 = pred2\n",
    "        self.ref = ref\n",
    "        \n",
    "if __name__ == '__main__':\n",
    "    \n",
    "    # Close any previously open graphics windows\n",
    "    # ToDo: fails to work within Eclipse\n",
    "    plt.close('all')\n",
    "        \n",
    "    # Read data from pickle file\n",
    "    data = load_obj('Taylor_PM2.5')\n",
    "    datat = load_obj('Taylort_PM2.5')\n",
    "    # Calculate statistics for Taylor diagram\n",
    "    # The first array element (e.g. taylor_stats1[0]) corresponds to the \n",
    "    # reference series while the second and subsequent elements\n",
    "    # (e.g. taylor_stats1[1:]) are those for the predicted series.\n",
    "    taylor_stats1 = sm.taylor_statistics(data.decision_tree,data.testdt,'data')\n",
    "    taylor_stats2 = sm.taylor_statistics(data.gbpred,data.testdt,'data')\n",
    "    taylor_stats3 = sm.taylor_statistics(data.forest_pred,data.testdt,'data')\n",
    "    taylor_stats4 = sm.taylor_statistics(datat.holts,datat.timetest,'datat')\n",
    "    taylor_stats5 = sm.taylor_statistics(datat.prophetpred,datat.timetest,'datat')\n",
    "    \n",
    "    \n",
    "    # Store statistics in arrays\n",
    "    sdev = np.array([taylor_stats1['sdev'][0], taylor_stats1['sdev'][1], \n",
    "                     taylor_stats2['sdev'][1],taylor_stats3['sdev'][1],taylor_stats4['sdev'][1],taylor_stats5['sdev'][1]])\n",
    "    crmsd = np.array([taylor_stats1['crmsd'][0], taylor_stats1['crmsd'][1], \n",
    "                      taylor_stats2['crmsd'][1],taylor_stats3['crmsd'][1],taylor_stats4['crmsd'][1],taylor_stats5['crmsd'][1]])\n",
    "    ccoef = np.array([taylor_stats1['ccoef'][0], taylor_stats1['ccoef'][1], \n",
    "                      taylor_stats2['ccoef'][1],taylor_stats3['ccoef'][1],taylor_stats4['ccoef'][1],taylor_stats5['ccoef'][1]])\n",
    "    # Specify labels for points in a cell array (M1 for model prediction 1,\n",
    "    # etc.). Note that a label needs to be specified for the reference even\n",
    "    # though it is not used.\n",
    "    \n",
    "    label = ['Observation', 'Decision', 'GBoost','Forest','Holts','Prophet']\n",
    "    \n",
    "    '''\n",
    "    Produce the Taylor diagram\n",
    "    Label the points and change the axis options for SDEV, CRMSD, and CCOEF.\n",
    "    Increase the upper limit for the SDEV axis and rotate the CRMSD contour\n",
    "    labels (counter-clockwise from x-axis). Exchange color and line style\n",
    "    choices for SDEV, CRMSD, and CCOEFF variables to show effect. Increase\n",
    "    the line width of all lines.\n",
    "    For an exhaustive list of options to customize your diagram, \n",
    "    please call the function at a Python command line:\n",
    "    >> taylor_diagram\n",
    "    '''\n",
    "    sm.taylor_diagram(sdev,crmsd,ccoef, markerLabel = label,\n",
    "                      markerLabelColor = 'r',markerColor = 'r',markerLegend = 'on',colRMS = 'r',styleRMS = ':',titleRMS = 'on',widthRMS = 2.0,titleRMSDangle = 40.0,\n",
    "                     colSTD = 'b', styleSTD = '-.',titleSTD = 'on',colCOR = 'k', styleCOR = '--',titleCOR = 'on',widthCOR = 2.0,markerSize = 10)\n",
    "\n",
    "    # Write plot to file\n",
    "    plt.savefig('taylorPM2.5.png')\n",
    "\n",
    "    # Show plot\n",
    "    plt.show()"
   ]
  },
  {
   "cell_type": "markdown",
   "metadata": {},
   "source": [
    "# PM10"
   ]
  },
  {
   "cell_type": "code",
   "execution_count": 10,
   "metadata": {},
   "outputs": [],
   "source": [
    "import pandas as pd\n",
    "df=pd.read_excel(r\"C:\\Users\\Kira\\Desktop\\Internship\\Data\\Delhi_Data-20210529T043217Z-001\\Delhi_Data\\Taylor_comp\\PM10\\taylor_PM10.xlsx\")\n",
    "dft=pd.read_excel(r\"C:\\Users\\Kira\\Desktop\\Internship\\Data\\Delhi_Data-20210529T043217Z-001\\Delhi_Data\\Taylor_comp\\PM10\\taylortime_PM10 (1).xlsx\")"
   ]
  },
  {
   "cell_type": "code",
   "execution_count": 11,
   "metadata": {
    "scrolled": true
   },
   "outputs": [
    {
     "data": {
      "text/plain": [
       "Index(['Unnamed: 0', 'decision_tree', 'testdt', 'gbpred', 'forest_pred'], dtype='object')"
      ]
     },
     "execution_count": 11,
     "metadata": {},
     "output_type": "execute_result"
    }
   ],
   "source": [
    "df.columns"
   ]
  },
  {
   "cell_type": "code",
   "execution_count": 12,
   "metadata": {},
   "outputs": [
    {
     "data": {
      "text/plain": [
       "113.71187195789308"
      ]
     },
     "execution_count": 12,
     "metadata": {},
     "output_type": "execute_result"
    }
   ],
   "source": [
    "df['decision_tree'].std()"
   ]
  },
  {
   "cell_type": "code",
   "execution_count": 13,
   "metadata": {},
   "outputs": [
    {
     "data": {
      "text/plain": [
       "Index(['Unnamed: 0', 'holts', 'timetest', 'prophetpred'], dtype='object')"
      ]
     },
     "execution_count": 13,
     "metadata": {},
     "output_type": "execute_result"
    }
   ],
   "source": [
    "dft.columns"
   ]
  },
  {
   "cell_type": "code",
   "execution_count": 14,
   "metadata": {},
   "outputs": [],
   "source": [
    "df=df[['decision_tree', 'gbpred', 'forest_pred','testdt']]\n",
    "dft=dft[['holts', 'prophetpred', 'timetest']]"
   ]
  },
  {
   "cell_type": "code",
   "execution_count": 15,
   "metadata": {},
   "outputs": [
    {
     "data": {
      "text/html": [
       "<div>\n",
       "<style scoped>\n",
       "    .dataframe tbody tr th:only-of-type {\n",
       "        vertical-align: middle;\n",
       "    }\n",
       "\n",
       "    .dataframe tbody tr th {\n",
       "        vertical-align: top;\n",
       "    }\n",
       "\n",
       "    .dataframe thead th {\n",
       "        text-align: right;\n",
       "    }\n",
       "</style>\n",
       "<table border=\"1\" class=\"dataframe\">\n",
       "  <thead>\n",
       "    <tr style=\"text-align: right;\">\n",
       "      <th></th>\n",
       "      <th>holts</th>\n",
       "      <th>prophetpred</th>\n",
       "      <th>timetest</th>\n",
       "    </tr>\n",
       "  </thead>\n",
       "  <tbody>\n",
       "    <tr>\n",
       "      <th>0</th>\n",
       "      <td>389.155079</td>\n",
       "      <td>147.003893</td>\n",
       "      <td>358.559355</td>\n",
       "    </tr>\n",
       "    <tr>\n",
       "      <th>1</th>\n",
       "      <td>433.637441</td>\n",
       "      <td>110.705538</td>\n",
       "      <td>280.915000</td>\n",
       "    </tr>\n",
       "    <tr>\n",
       "      <th>2</th>\n",
       "      <td>430.292371</td>\n",
       "      <td>95.405002</td>\n",
       "      <td>223.457097</td>\n",
       "    </tr>\n",
       "    <tr>\n",
       "      <th>3</th>\n",
       "      <td>402.949965</td>\n",
       "      <td>23.307748</td>\n",
       "      <td>254.871000</td>\n",
       "    </tr>\n",
       "    <tr>\n",
       "      <th>4</th>\n",
       "      <td>412.650266</td>\n",
       "      <td>40.723895</td>\n",
       "      <td>220.050968</td>\n",
       "    </tr>\n",
       "    <tr>\n",
       "      <th>5</th>\n",
       "      <td>457.132628</td>\n",
       "      <td>25.797252</td>\n",
       "      <td>216.719000</td>\n",
       "    </tr>\n",
       "    <tr>\n",
       "      <th>6</th>\n",
       "      <td>453.787558</td>\n",
       "      <td>25.288063</td>\n",
       "      <td>102.755806</td>\n",
       "    </tr>\n",
       "    <tr>\n",
       "      <th>7</th>\n",
       "      <td>426.445152</td>\n",
       "      <td>38.100402</td>\n",
       "      <td>121.732903</td>\n",
       "    </tr>\n",
       "    <tr>\n",
       "      <th>8</th>\n",
       "      <td>436.145453</td>\n",
       "      <td>39.307227</td>\n",
       "      <td>123.900333</td>\n",
       "    </tr>\n",
       "    <tr>\n",
       "      <th>9</th>\n",
       "      <td>480.627815</td>\n",
       "      <td>70.821136</td>\n",
       "      <td>321.148065</td>\n",
       "    </tr>\n",
       "    <tr>\n",
       "      <th>10</th>\n",
       "      <td>477.282745</td>\n",
       "      <td>120.752017</td>\n",
       "      <td>346.668333</td>\n",
       "    </tr>\n",
       "    <tr>\n",
       "      <th>11</th>\n",
       "      <td>449.940339</td>\n",
       "      <td>109.333141</td>\n",
       "      <td>402.981290</td>\n",
       "    </tr>\n",
       "    <tr>\n",
       "      <th>12</th>\n",
       "      <td>459.640640</td>\n",
       "      <td>167.438273</td>\n",
       "      <td>334.285261</td>\n",
       "    </tr>\n",
       "    <tr>\n",
       "      <th>13</th>\n",
       "      <td>504.123002</td>\n",
       "      <td>100.760124</td>\n",
       "      <td>226.100962</td>\n",
       "    </tr>\n",
       "    <tr>\n",
       "      <th>14</th>\n",
       "      <td>500.777932</td>\n",
       "      <td>99.879462</td>\n",
       "      <td>189.104677</td>\n",
       "    </tr>\n",
       "    <tr>\n",
       "      <th>15</th>\n",
       "      <td>473.435526</td>\n",
       "      <td>82.000208</td>\n",
       "      <td>236.084000</td>\n",
       "    </tr>\n",
       "    <tr>\n",
       "      <th>16</th>\n",
       "      <td>483.135827</td>\n",
       "      <td>37.481414</td>\n",
       "      <td>233.138710</td>\n",
       "    </tr>\n",
       "    <tr>\n",
       "      <th>17</th>\n",
       "      <td>527.618188</td>\n",
       "      <td>20.044919</td>\n",
       "      <td>196.594667</td>\n",
       "    </tr>\n",
       "    <tr>\n",
       "      <th>18</th>\n",
       "      <td>524.273118</td>\n",
       "      <td>18.876607</td>\n",
       "      <td>144.430000</td>\n",
       "    </tr>\n",
       "    <tr>\n",
       "      <th>19</th>\n",
       "      <td>496.930712</td>\n",
       "      <td>15.103339</td>\n",
       "      <td>75.835161</td>\n",
       "    </tr>\n",
       "    <tr>\n",
       "      <th>20</th>\n",
       "      <td>506.631014</td>\n",
       "      <td>23.661931</td>\n",
       "      <td>96.535000</td>\n",
       "    </tr>\n",
       "    <tr>\n",
       "      <th>21</th>\n",
       "      <td>551.113375</td>\n",
       "      <td>113.327583</td>\n",
       "      <td>236.527097</td>\n",
       "    </tr>\n",
       "    <tr>\n",
       "      <th>22</th>\n",
       "      <td>547.768305</td>\n",
       "      <td>158.832133</td>\n",
       "      <td>296.634333</td>\n",
       "    </tr>\n",
       "    <tr>\n",
       "      <th>23</th>\n",
       "      <td>520.425899</td>\n",
       "      <td>119.916202</td>\n",
       "      <td>305.448387</td>\n",
       "    </tr>\n",
       "  </tbody>\n",
       "</table>\n",
       "</div>"
      ],
      "text/plain": [
       "         holts  prophetpred    timetest\n",
       "0   389.155079   147.003893  358.559355\n",
       "1   433.637441   110.705538  280.915000\n",
       "2   430.292371    95.405002  223.457097\n",
       "3   402.949965    23.307748  254.871000\n",
       "4   412.650266    40.723895  220.050968\n",
       "5   457.132628    25.797252  216.719000\n",
       "6   453.787558    25.288063  102.755806\n",
       "7   426.445152    38.100402  121.732903\n",
       "8   436.145453    39.307227  123.900333\n",
       "9   480.627815    70.821136  321.148065\n",
       "10  477.282745   120.752017  346.668333\n",
       "11  449.940339   109.333141  402.981290\n",
       "12  459.640640   167.438273  334.285261\n",
       "13  504.123002   100.760124  226.100962\n",
       "14  500.777932    99.879462  189.104677\n",
       "15  473.435526    82.000208  236.084000\n",
       "16  483.135827    37.481414  233.138710\n",
       "17  527.618188    20.044919  196.594667\n",
       "18  524.273118    18.876607  144.430000\n",
       "19  496.930712    15.103339   75.835161\n",
       "20  506.631014    23.661931   96.535000\n",
       "21  551.113375   113.327583  236.527097\n",
       "22  547.768305   158.832133  296.634333\n",
       "23  520.425899   119.916202  305.448387"
      ]
     },
     "execution_count": 15,
     "metadata": {},
     "output_type": "execute_result"
    }
   ],
   "source": [
    "dft"
   ]
  },
  {
   "cell_type": "code",
   "execution_count": 16,
   "metadata": {},
   "outputs": [],
   "source": [
    "df.to_pickle(\"Taylor_PM10.pkl\")\n",
    "dft.to_pickle(\"Taylort_PM10.pkl\")\n"
   ]
  },
  {
   "cell_type": "code",
   "execution_count": 17,
   "metadata": {},
   "outputs": [],
   "source": [
    "import skill_metrics as sm\n",
    "from fbprophet import Prophet"
   ]
  },
  {
   "cell_type": "code",
   "execution_count": 18,
   "metadata": {
    "scrolled": true
   },
   "outputs": [
    {
     "data": {
      "image/png": "[encoded data removed]",
      "text/plain": [
       "<Figure size 432x288 with 1 Axes>"
      ]
     },
     "metadata": {
      "needs_background": "light"
     },
     "output_type": "display_data"
    }
   ],
   "source": [
    "import matplotlib.pyplot as plt\n",
    "import numpy as np\n",
    "import pickle\n",
    "import skill_metrics as sm\n",
    "from sys import version_info\n",
    "\n",
    "def load_obj(name):\n",
    "    # Load object from file in pickle format\n",
    "    if version_info[0] == 2:\n",
    "        suffix = 'pkl'\n",
    "    else:\n",
    "        suffix = 'pkl'\n",
    "\n",
    "    with open(name + '.' + suffix, 'rb') as f:\n",
    "        return pickle.load(f) # Python2 succeeds\n",
    "\n",
    "class Container(object): \n",
    "    \n",
    "    def __init__(self, pred1, pred2, ref):\n",
    "        self.pred1 = pred1\n",
    "        self.pred2 = pred2\n",
    "        self.ref = ref\n",
    "        \n",
    "if __name__ == '__main__':\n",
    "    \n",
    "    # Close any previously open graphics windows\n",
    "    # ToDo: fails to work within Eclipse\n",
    "    plt.close('all')\n",
    "        \n",
    "    # Read data from pickle file\n",
    "    data = load_obj('Taylor_PM10')\n",
    "    datat = load_obj('Taylort_PM10')\n",
    "    # Calculate statistics for Taylor diagram\n",
    "    # The first array element (e.g. taylor_stats1[0]) corresponds to the \n",
    "    # reference series while the second and subsequent elements\n",
    "    # (e.g. taylor_stats1[1:]) are those for the predicted series.\n",
    "    taylor_stats1 = sm.taylor_statistics(data.decision_tree,data.testdt,'data')\n",
    "    taylor_stats2 = sm.taylor_statistics(data.gbpred,data.testdt,'data')\n",
    "    taylor_stats3 = sm.taylor_statistics(data.forest_pred,data.testdt,'data')\n",
    "    taylor_stats4 = sm.taylor_statistics(datat.holts,datat.timetest,'datat')\n",
    "    taylor_stats5 = sm.taylor_statistics(datat.prophetpred,datat.timetest,'datat')\n",
    "    \n",
    "    \n",
    "    # Store statistics in arrays\n",
    "    sdev = np.array([taylor_stats1['sdev'][0], taylor_stats1['sdev'][1], \n",
    "                     taylor_stats2['sdev'][1],taylor_stats3['sdev'][1],taylor_stats4['sdev'][1],taylor_stats5['sdev'][1]])\n",
    "    crmsd = np.array([taylor_stats1['crmsd'][0], taylor_stats1['crmsd'][1], \n",
    "                      taylor_stats2['crmsd'][1],taylor_stats3['crmsd'][1],taylor_stats4['crmsd'][1],taylor_stats5['crmsd'][1]])\n",
    "    ccoef = np.array([taylor_stats1['ccoef'][0], taylor_stats1['ccoef'][1], \n",
    "                      taylor_stats2['ccoef'][1],taylor_stats3['ccoef'][1],taylor_stats4['ccoef'][1],taylor_stats5['ccoef'][1]])\n",
    "    # Specify labels for points in a cell array (M1 for model prediction 1,\n",
    "    # etc.). Note that a label needs to be specified for the reference even\n",
    "    # though it is not used.\n",
    "    \n",
    "    label = ['Observation', 'Decision', 'GBoost','Forest','Holts','Prophet']\n",
    "    \n",
    "    '''\n",
    "    Produce the Taylor diagram\n",
    "    Label the points and change the axis options for SDEV, CRMSD, and CCOEF.\n",
    "    Increase the upper limit for the SDEV axis and rotate the CRMSD contour\n",
    "    labels (counter-clockwise from x-axis). Exchange color and line style\n",
    "    choices for SDEV, CRMSD, and CCOEFF variables to show effect. Increase\n",
    "    the line width of all lines.\n",
    "    For an exhaustive list of options to customize your diagram, \n",
    "    please call the function at a Python command line:\n",
    "    >> taylor_diagram\n",
    "    '''\n",
    "    sm.taylor_diagram(sdev,crmsd,ccoef, markerLabel = label,\n",
    "                      markerLabelColor = 'r',markerColor = 'r',markerLegend = 'on',colRMS = 'r',styleRMS = ':',titleRMS = 'on',widthRMS = 2.0,titleRMSDangle = 40.0,\n",
    "                     colSTD = 'b', styleSTD = '-.',titleSTD = 'on',colCOR = 'k', styleCOR = '--',titleCOR = 'on',widthCOR = 2.0,markerSize = 10)\n",
    "\n",
    "    # Write plot to file\n",
    "    plt.savefig('taylorPM10.png')\n",
    "\n",
    "    # Show plot\n",
    "    plt.show()"
   ]
  },
  {
   "cell_type": "markdown",
   "metadata": {},
   "source": [
    "# NO"
   ]
  },
  {
   "cell_type": "code",
   "execution_count": 19,
   "metadata": {},
   "outputs": [],
   "source": [
    "import pandas as pd\n",
    "df=pd.read_excel(r\"C:\\Users\\Kira\\Desktop\\Internship\\Data\\Delhi_Data-20210529T043217Z-001\\Delhi_Data\\Taylor_comp\\NO\\taylor_NO.xlsx\")\n",
    "dft=pd.read_excel(r\"C:\\Users\\Kira\\Desktop\\Internship\\Data\\Delhi_Data-20210529T043217Z-001\\Delhi_Data\\Taylor_comp\\NO\\taylortime_NO.xlsx\")"
   ]
  },
  {
   "cell_type": "code",
   "execution_count": 20,
   "metadata": {
    "scrolled": true
   },
   "outputs": [
    {
     "data": {
      "text/plain": [
       "Index(['Unnamed: 0', 'decision_tree', 'testdt', 'gbpred', 'forest_pred'], dtype='object')"
      ]
     },
     "execution_count": 20,
     "metadata": {},
     "output_type": "execute_result"
    }
   ],
   "source": [
    "df.columns"
   ]
  },
  {
   "cell_type": "code",
   "execution_count": 21,
   "metadata": {},
   "outputs": [
    {
     "data": {
      "text/plain": [
       "56.227985667950975"
      ]
     },
     "execution_count": 21,
     "metadata": {},
     "output_type": "execute_result"
    }
   ],
   "source": [
    "df['decision_tree'].std()"
   ]
  },
  {
   "cell_type": "code",
   "execution_count": 22,
   "metadata": {},
   "outputs": [
    {
     "data": {
      "text/plain": [
       "Index(['Unnamed: 0', 'holts', 'timetest', 'prophetpred'], dtype='object')"
      ]
     },
     "execution_count": 22,
     "metadata": {},
     "output_type": "execute_result"
    }
   ],
   "source": [
    "dft.columns"
   ]
  },
  {
   "cell_type": "code",
   "execution_count": 23,
   "metadata": {},
   "outputs": [],
   "source": [
    "df=df[['decision_tree', 'gbpred', 'forest_pred','testdt']]\n",
    "dft=dft[['holts', 'prophetpred', 'timetest']]"
   ]
  },
  {
   "cell_type": "code",
   "execution_count": 24,
   "metadata": {},
   "outputs": [
    {
     "data": {
      "text/html": [
       "<div>\n",
       "<style scoped>\n",
       "    .dataframe tbody tr th:only-of-type {\n",
       "        vertical-align: middle;\n",
       "    }\n",
       "\n",
       "    .dataframe tbody tr th {\n",
       "        vertical-align: top;\n",
       "    }\n",
       "\n",
       "    .dataframe thead th {\n",
       "        text-align: right;\n",
       "    }\n",
       "</style>\n",
       "<table border=\"1\" class=\"dataframe\">\n",
       "  <thead>\n",
       "    <tr style=\"text-align: right;\">\n",
       "      <th></th>\n",
       "      <th>holts</th>\n",
       "      <th>prophetpred</th>\n",
       "      <th>timetest</th>\n",
       "    </tr>\n",
       "  </thead>\n",
       "  <tbody>\n",
       "    <tr>\n",
       "      <th>0</th>\n",
       "      <td>185.327512</td>\n",
       "      <td>147.003893</td>\n",
       "      <td>68.465806</td>\n",
       "    </tr>\n",
       "    <tr>\n",
       "      <th>1</th>\n",
       "      <td>149.764126</td>\n",
       "      <td>110.705538</td>\n",
       "      <td>78.978214</td>\n",
       "    </tr>\n",
       "    <tr>\n",
       "      <th>2</th>\n",
       "      <td>144.433121</td>\n",
       "      <td>95.405002</td>\n",
       "      <td>57.421290</td>\n",
       "    </tr>\n",
       "    <tr>\n",
       "      <th>3</th>\n",
       "      <td>92.051942</td>\n",
       "      <td>23.307748</td>\n",
       "      <td>47.512333</td>\n",
       "    </tr>\n",
       "    <tr>\n",
       "      <th>4</th>\n",
       "      <td>73.220319</td>\n",
       "      <td>40.723895</td>\n",
       "      <td>59.052903</td>\n",
       "    </tr>\n",
       "    <tr>\n",
       "      <th>5</th>\n",
       "      <td>62.582920</td>\n",
       "      <td>25.797252</td>\n",
       "      <td>15.687000</td>\n",
       "    </tr>\n",
       "    <tr>\n",
       "      <th>6</th>\n",
       "      <td>61.754064</td>\n",
       "      <td>25.288063</td>\n",
       "      <td>14.959032</td>\n",
       "    </tr>\n",
       "    <tr>\n",
       "      <th>7</th>\n",
       "      <td>67.372949</td>\n",
       "      <td>38.100402</td>\n",
       "      <td>14.675161</td>\n",
       "    </tr>\n",
       "    <tr>\n",
       "      <th>8</th>\n",
       "      <td>69.843214</td>\n",
       "      <td>39.307227</td>\n",
       "      <td>32.982000</td>\n",
       "    </tr>\n",
       "    <tr>\n",
       "      <th>9</th>\n",
       "      <td>123.230705</td>\n",
       "      <td>70.821136</td>\n",
       "      <td>129.338065</td>\n",
       "    </tr>\n",
       "    <tr>\n",
       "      <th>10</th>\n",
       "      <td>184.102859</td>\n",
       "      <td>120.752017</td>\n",
       "      <td>109.253000</td>\n",
       "    </tr>\n",
       "    <tr>\n",
       "      <th>11</th>\n",
       "      <td>146.359558</td>\n",
       "      <td>109.333141</td>\n",
       "      <td>145.979355</td>\n",
       "    </tr>\n",
       "    <tr>\n",
       "      <th>12</th>\n",
       "      <td>195.416142</td>\n",
       "      <td>167.438273</td>\n",
       "      <td>80.515161</td>\n",
       "    </tr>\n",
       "    <tr>\n",
       "      <th>13</th>\n",
       "      <td>159.852755</td>\n",
       "      <td>100.760124</td>\n",
       "      <td>64.565000</td>\n",
       "    </tr>\n",
       "    <tr>\n",
       "      <th>14</th>\n",
       "      <td>154.521751</td>\n",
       "      <td>99.879462</td>\n",
       "      <td>59.198548</td>\n",
       "    </tr>\n",
       "    <tr>\n",
       "      <th>15</th>\n",
       "      <td>102.140572</td>\n",
       "      <td>82.000208</td>\n",
       "      <td>53.334000</td>\n",
       "    </tr>\n",
       "    <tr>\n",
       "      <th>16</th>\n",
       "      <td>83.308948</td>\n",
       "      <td>37.481414</td>\n",
       "      <td>44.690000</td>\n",
       "    </tr>\n",
       "    <tr>\n",
       "      <th>17</th>\n",
       "      <td>72.671550</td>\n",
       "      <td>20.044919</td>\n",
       "      <td>20.421667</td>\n",
       "    </tr>\n",
       "    <tr>\n",
       "      <th>18</th>\n",
       "      <td>71.842693</td>\n",
       "      <td>18.876607</td>\n",
       "      <td>12.585484</td>\n",
       "    </tr>\n",
       "    <tr>\n",
       "      <th>19</th>\n",
       "      <td>77.461578</td>\n",
       "      <td>15.103339</td>\n",
       "      <td>16.767097</td>\n",
       "    </tr>\n",
       "    <tr>\n",
       "      <th>20</th>\n",
       "      <td>79.931843</td>\n",
       "      <td>23.661931</td>\n",
       "      <td>3.984500</td>\n",
       "    </tr>\n",
       "    <tr>\n",
       "      <th>21</th>\n",
       "      <td>133.319335</td>\n",
       "      <td>113.327583</td>\n",
       "      <td>69.827419</td>\n",
       "    </tr>\n",
       "    <tr>\n",
       "      <th>22</th>\n",
       "      <td>194.191489</td>\n",
       "      <td>158.832133</td>\n",
       "      <td>49.335333</td>\n",
       "    </tr>\n",
       "    <tr>\n",
       "      <th>23</th>\n",
       "      <td>156.448187</td>\n",
       "      <td>119.916202</td>\n",
       "      <td>55.837419</td>\n",
       "    </tr>\n",
       "  </tbody>\n",
       "</table>\n",
       "</div>"
      ],
      "text/plain": [
       "         holts  prophetpred    timetest\n",
       "0   185.327512   147.003893   68.465806\n",
       "1   149.764126   110.705538   78.978214\n",
       "2   144.433121    95.405002   57.421290\n",
       "3    92.051942    23.307748   47.512333\n",
       "4    73.220319    40.723895   59.052903\n",
       "5    62.582920    25.797252   15.687000\n",
       "6    61.754064    25.288063   14.959032\n",
       "7    67.372949    38.100402   14.675161\n",
       "8    69.843214    39.307227   32.982000\n",
       "9   123.230705    70.821136  129.338065\n",
       "10  184.102859   120.752017  109.253000\n",
       "11  146.359558   109.333141  145.979355\n",
       "12  195.416142   167.438273   80.515161\n",
       "13  159.852755   100.760124   64.565000\n",
       "14  154.521751    99.879462   59.198548\n",
       "15  102.140572    82.000208   53.334000\n",
       "16   83.308948    37.481414   44.690000\n",
       "17   72.671550    20.044919   20.421667\n",
       "18   71.842693    18.876607   12.585484\n",
       "19   77.461578    15.103339   16.767097\n",
       "20   79.931843    23.661931    3.984500\n",
       "21  133.319335   113.327583   69.827419\n",
       "22  194.191489   158.832133   49.335333\n",
       "23  156.448187   119.916202   55.837419"
      ]
     },
     "execution_count": 24,
     "metadata": {},
     "output_type": "execute_result"
    }
   ],
   "source": [
    "dft"
   ]
  },
  {
   "cell_type": "code",
   "execution_count": 25,
   "metadata": {},
   "outputs": [],
   "source": [
    "df.to_pickle(\"Taylor_NO.pkl\")\n",
    "dft.to_pickle(\"Taylort_NO.pkl\")\n"
   ]
  },
  {
   "cell_type": "code",
   "execution_count": 26,
   "metadata": {},
   "outputs": [],
   "source": [
    "import skill_metrics as sm\n",
    "from fbprophet import Prophet"
   ]
  },
  {
   "cell_type": "code",
   "execution_count": 27,
   "metadata": {
    "scrolled": false
   },
   "outputs": [
    {
     "data": {
      "image/png": "[encoded data removed]",
      "text/plain": [
       "<Figure size 432x288 with 1 Axes>"
      ]
     },
     "metadata": {
      "needs_background": "light"
     },
     "output_type": "display_data"
    }
   ],
   "source": [
    "import matplotlib.pyplot as plt\n",
    "import numpy as np\n",
    "import pickle\n",
    "import skill_metrics as sm\n",
    "from sys import version_info\n",
    "\n",
    "def load_obj(name):\n",
    "    # Load object from file in pickle format\n",
    "    if version_info[0] == 2:\n",
    "        suffix = 'pkl'\n",
    "    else:\n",
    "        suffix = 'pkl'\n",
    "\n",
    "    with open(name + '.' + suffix, 'rb') as f:\n",
    "        return pickle.load(f) # Python2 succeeds\n",
    "\n",
    "class Container(object): \n",
    "    \n",
    "    def __init__(self, pred1, pred2, ref):\n",
    "        self.pred1 = pred1\n",
    "        self.pred2 = pred2\n",
    "        self.ref = ref\n",
    "        \n",
    "if __name__ == '__main__':\n",
    "    \n",
    "    # Close any previously open graphics windows\n",
    "    # ToDo: fails to work within Eclipse\n",
    "    plt.close('all')\n",
    "        \n",
    "    # Read data from pickle file\n",
    "    data = load_obj('Taylor_NO')\n",
    "    datat = load_obj('Taylort_NO')\n",
    "    # Calculate statistics for Taylor diagram\n",
    "    # The first array element (e.g. taylor_stats1[0]) corresponds to the \n",
    "    # reference series while the second and subsequent elements\n",
    "    # (e.g. taylor_stats1[1:]) are those for the predicted series.\n",
    "    taylor_stats1 = sm.taylor_statistics(data.decision_tree,data.testdt,'data')\n",
    "    taylor_stats2 = sm.taylor_statistics(data.gbpred,data.testdt,'data')\n",
    "    taylor_stats3 = sm.taylor_statistics(data.forest_pred,data.testdt,'data')\n",
    "    taylor_stats4 = sm.taylor_statistics(datat.holts,datat.timetest,'datat')\n",
    "    taylor_stats5 = sm.taylor_statistics(datat.prophetpred,datat.timetest,'datat')\n",
    "    \n",
    "    \n",
    "    # Store statistics in arrays\n",
    "    sdev = np.array([taylor_stats1['sdev'][0], taylor_stats1['sdev'][1], \n",
    "                     taylor_stats2['sdev'][1],taylor_stats3['sdev'][1],taylor_stats4['sdev'][1],taylor_stats5['sdev'][1]])\n",
    "    crmsd = np.array([taylor_stats1['crmsd'][0], taylor_stats1['crmsd'][1], \n",
    "                      taylor_stats2['crmsd'][1],taylor_stats3['crmsd'][1],taylor_stats4['crmsd'][1],taylor_stats5['crmsd'][1]])\n",
    "    ccoef = np.array([taylor_stats1['ccoef'][0], taylor_stats1['ccoef'][1], \n",
    "                      taylor_stats2['ccoef'][1],taylor_stats3['ccoef'][1],taylor_stats4['ccoef'][1],taylor_stats5['ccoef'][1]])\n",
    "    # Specify labels for points in a cell array (M1 for model prediction 1,\n",
    "    # etc.). Note that a label needs to be specified for the reference even\n",
    "    # though it is not used.\n",
    "    \n",
    "    label = ['Observation', 'Decision', 'GBoost','Forest','Holts','Prophet']\n",
    "    \n",
    "    '''\n",
    "    Produce the Taylor diagram\n",
    "    Label the points and change the axis options for SDEV, CRMSD, and CCOEF.\n",
    "    Increase the upper limit for the SDEV axis and rotate the CRMSD contour\n",
    "    labels (counter-clockwise from x-axis). Exchange color and line style\n",
    "    choices for SDEV, CRMSD, and CCOEFF variables to show effect. Increase\n",
    "    the line width of all lines.\n",
    "    For an exhaustive list of options to customize your diagram, \n",
    "    please call the function at a Python command line:\n",
    "    >> taylor_diagram\n",
    "    '''\n",
    "    sm.taylor_diagram(sdev,crmsd,ccoef, markerLabel = label,\n",
    "                      markerLabelColor = 'r',markerColor = 'r',markerLegend = 'on',colRMS = 'r',styleRMS = ':',titleRMS = 'on',widthRMS = 2.0,titleRMSDangle = 40.0,\n",
    "                     colSTD = 'b', styleSTD = '-.',titleSTD = 'on',colCOR = 'k', styleCOR = '--',titleCOR = 'on',widthCOR = 2.0,markerSize = 10)\n",
    "\n",
    "    # Write plot to file\n",
    "    plt.savefig('taylorNO.png')\n",
    "\n",
    "    # Show plot\n",
    "    from matplotlib.pyplot import figure\n",
    "    plt.show()"
   ]
  },
  {
   "cell_type": "markdown",
   "metadata": {},
   "source": [
    "# NO2"
   ]
  },
  {
   "cell_type": "code",
   "execution_count": 28,
   "metadata": {},
   "outputs": [],
   "source": [
    "import pandas as pd\n",
    "df=pd.read_excel(r\"C:\\Users\\Kira\\Desktop\\Internship\\Data\\Delhi_Data-20210529T043217Z-001\\Delhi_Data\\Taylor_comp\\NO2\\taylor_NO2.xlsx\")\n",
    "dft=pd.read_excel(r\"C:\\Users\\Kira\\Desktop\\Internship\\Data\\Delhi_Data-20210529T043217Z-001\\Delhi_Data\\Taylor_comp\\NO2\\taylortime_NO2.xlsx\")"
   ]
  },
  {
   "cell_type": "code",
   "execution_count": 29,
   "metadata": {
    "scrolled": true
   },
   "outputs": [
    {
     "data": {
      "text/plain": [
       "Index(['Unnamed: 0', 'decision_tree', 'testdt', 'gbpred', 'forest_pred'], dtype='object')"
      ]
     },
     "execution_count": 29,
     "metadata": {},
     "output_type": "execute_result"
    }
   ],
   "source": [
    "df.columns"
   ]
  },
  {
   "cell_type": "code",
   "execution_count": 30,
   "metadata": {},
   "outputs": [
    {
     "data": {
      "text/plain": [
       "23.658886124237135"
      ]
     },
     "execution_count": 30,
     "metadata": {},
     "output_type": "execute_result"
    }
   ],
   "source": [
    "df['decision_tree'].std()"
   ]
  },
  {
   "cell_type": "code",
   "execution_count": 31,
   "metadata": {},
   "outputs": [
    {
     "data": {
      "text/plain": [
       "Index(['Unnamed: 0', 'holts', 'timetest', 'prophetpred'], dtype='object')"
      ]
     },
     "execution_count": 31,
     "metadata": {},
     "output_type": "execute_result"
    }
   ],
   "source": [
    "dft.columns"
   ]
  },
  {
   "cell_type": "code",
   "execution_count": 32,
   "metadata": {},
   "outputs": [],
   "source": [
    "df=df[['decision_tree', 'gbpred', 'forest_pred','testdt']]\n",
    "dft=dft[['holts', 'prophetpred', 'timetest']]"
   ]
  },
  {
   "cell_type": "code",
   "execution_count": 33,
   "metadata": {},
   "outputs": [
    {
     "data": {
      "text/html": [
       "<div>\n",
       "<style scoped>\n",
       "    .dataframe tbody tr th:only-of-type {\n",
       "        vertical-align: middle;\n",
       "    }\n",
       "\n",
       "    .dataframe tbody tr th {\n",
       "        vertical-align: top;\n",
       "    }\n",
       "\n",
       "    .dataframe thead th {\n",
       "        text-align: right;\n",
       "    }\n",
       "</style>\n",
       "<table border=\"1\" class=\"dataframe\">\n",
       "  <thead>\n",
       "    <tr style=\"text-align: right;\">\n",
       "      <th></th>\n",
       "      <th>holts</th>\n",
       "      <th>prophetpred</th>\n",
       "      <th>timetest</th>\n",
       "    </tr>\n",
       "  </thead>\n",
       "  <tbody>\n",
       "    <tr>\n",
       "      <th>0</th>\n",
       "      <td>81.209733</td>\n",
       "      <td>75.107511</td>\n",
       "      <td>76.134194</td>\n",
       "    </tr>\n",
       "    <tr>\n",
       "      <th>1</th>\n",
       "      <td>83.360259</td>\n",
       "      <td>67.963174</td>\n",
       "      <td>76.348214</td>\n",
       "    </tr>\n",
       "    <tr>\n",
       "      <th>2</th>\n",
       "      <td>67.978877</td>\n",
       "      <td>56.164159</td>\n",
       "      <td>75.439355</td>\n",
       "    </tr>\n",
       "    <tr>\n",
       "      <th>3</th>\n",
       "      <td>74.158550</td>\n",
       "      <td>66.035263</td>\n",
       "      <td>83.948000</td>\n",
       "    </tr>\n",
       "    <tr>\n",
       "      <th>4</th>\n",
       "      <td>76.358555</td>\n",
       "      <td>69.406201</td>\n",
       "      <td>79.742258</td>\n",
       "    </tr>\n",
       "    <tr>\n",
       "      <th>5</th>\n",
       "      <td>63.177862</td>\n",
       "      <td>56.832134</td>\n",
       "      <td>60.003333</td>\n",
       "    </tr>\n",
       "    <tr>\n",
       "      <th>6</th>\n",
       "      <td>46.454038</td>\n",
       "      <td>36.958911</td>\n",
       "      <td>41.429839</td>\n",
       "    </tr>\n",
       "    <tr>\n",
       "      <th>7</th>\n",
       "      <td>42.007975</td>\n",
       "      <td>33.266717</td>\n",
       "      <td>22.096129</td>\n",
       "    </tr>\n",
       "    <tr>\n",
       "      <th>8</th>\n",
       "      <td>41.503608</td>\n",
       "      <td>29.058316</td>\n",
       "      <td>26.636000</td>\n",
       "    </tr>\n",
       "    <tr>\n",
       "      <th>9</th>\n",
       "      <td>76.480085</td>\n",
       "      <td>72.393939</td>\n",
       "      <td>82.012581</td>\n",
       "    </tr>\n",
       "    <tr>\n",
       "      <th>10</th>\n",
       "      <td>104.049227</td>\n",
       "      <td>94.498794</td>\n",
       "      <td>92.169000</td>\n",
       "    </tr>\n",
       "    <tr>\n",
       "      <th>11</th>\n",
       "      <td>88.048951</td>\n",
       "      <td>90.111398</td>\n",
       "      <td>91.513548</td>\n",
       "    </tr>\n",
       "    <tr>\n",
       "      <th>12</th>\n",
       "      <td>76.224849</td>\n",
       "      <td>77.547785</td>\n",
       "      <td>53.463871</td>\n",
       "    </tr>\n",
       "    <tr>\n",
       "      <th>13</th>\n",
       "      <td>78.243369</td>\n",
       "      <td>75.396966</td>\n",
       "      <td>66.297857</td>\n",
       "    </tr>\n",
       "    <tr>\n",
       "      <th>14</th>\n",
       "      <td>63.806140</td>\n",
       "      <td>61.089772</td>\n",
       "      <td>76.797742</td>\n",
       "    </tr>\n",
       "    <tr>\n",
       "      <th>15</th>\n",
       "      <td>69.606487</td>\n",
       "      <td>63.594002</td>\n",
       "      <td>72.536667</td>\n",
       "    </tr>\n",
       "    <tr>\n",
       "      <th>16</th>\n",
       "      <td>71.671449</td>\n",
       "      <td>61.982586</td>\n",
       "      <td>68.370323</td>\n",
       "    </tr>\n",
       "    <tr>\n",
       "      <th>17</th>\n",
       "      <td>59.299825</td>\n",
       "      <td>51.149741</td>\n",
       "      <td>51.939667</td>\n",
       "    </tr>\n",
       "    <tr>\n",
       "      <th>18</th>\n",
       "      <td>43.602558</td>\n",
       "      <td>36.402684</td>\n",
       "      <td>41.045161</td>\n",
       "    </tr>\n",
       "    <tr>\n",
       "      <th>19</th>\n",
       "      <td>39.429406</td>\n",
       "      <td>24.964635</td>\n",
       "      <td>35.753871</td>\n",
       "    </tr>\n",
       "    <tr>\n",
       "      <th>20</th>\n",
       "      <td>38.955999</td>\n",
       "      <td>31.617504</td>\n",
       "      <td>35.409333</td>\n",
       "    </tr>\n",
       "    <tr>\n",
       "      <th>21</th>\n",
       "      <td>71.785520</td>\n",
       "      <td>71.487440</td>\n",
       "      <td>48.489677</td>\n",
       "    </tr>\n",
       "    <tr>\n",
       "      <th>22</th>\n",
       "      <td>97.662389</td>\n",
       "      <td>103.172256</td>\n",
       "      <td>36.850000</td>\n",
       "    </tr>\n",
       "    <tr>\n",
       "      <th>23</th>\n",
       "      <td>82.644256</td>\n",
       "      <td>78.798786</td>\n",
       "      <td>39.118065</td>\n",
       "    </tr>\n",
       "  </tbody>\n",
       "</table>\n",
       "</div>"
      ],
      "text/plain": [
       "         holts  prophetpred   timetest\n",
       "0    81.209733    75.107511  76.134194\n",
       "1    83.360259    67.963174  76.348214\n",
       "2    67.978877    56.164159  75.439355\n",
       "3    74.158550    66.035263  83.948000\n",
       "4    76.358555    69.406201  79.742258\n",
       "5    63.177862    56.832134  60.003333\n",
       "6    46.454038    36.958911  41.429839\n",
       "7    42.007975    33.266717  22.096129\n",
       "8    41.503608    29.058316  26.636000\n",
       "9    76.480085    72.393939  82.012581\n",
       "10  104.049227    94.498794  92.169000\n",
       "11   88.048951    90.111398  91.513548\n",
       "12   76.224849    77.547785  53.463871\n",
       "13   78.243369    75.396966  66.297857\n",
       "14   63.806140    61.089772  76.797742\n",
       "15   69.606487    63.594002  72.536667\n",
       "16   71.671449    61.982586  68.370323\n",
       "17   59.299825    51.149741  51.939667\n",
       "18   43.602558    36.402684  41.045161\n",
       "19   39.429406    24.964635  35.753871\n",
       "20   38.955999    31.617504  35.409333\n",
       "21   71.785520    71.487440  48.489677\n",
       "22   97.662389   103.172256  36.850000\n",
       "23   82.644256    78.798786  39.118065"
      ]
     },
     "execution_count": 33,
     "metadata": {},
     "output_type": "execute_result"
    }
   ],
   "source": [
    "dft"
   ]
  },
  {
   "cell_type": "code",
   "execution_count": 34,
   "metadata": {},
   "outputs": [],
   "source": [
    "df.to_pickle(\"Taylor_NO2.pkl\")\n",
    "dft.to_pickle(\"Taylort_NO2.pkl\")\n"
   ]
  },
  {
   "cell_type": "code",
   "execution_count": 35,
   "metadata": {},
   "outputs": [],
   "source": [
    "import skill_metrics as sm\n",
    "from fbprophet import Prophet"
   ]
  },
  {
   "cell_type": "code",
   "execution_count": 36,
   "metadata": {
    "scrolled": true
   },
   "outputs": [
    {
     "data": {
      "image/png": "[encoded data removed]",
      "text/plain": [
       "<Figure size 432x288 with 1 Axes>"
      ]
     },
     "metadata": {
      "needs_background": "light"
     },
     "output_type": "display_data"
    }
   ],
   "source": [
    "import matplotlib.pyplot as plt\n",
    "import numpy as np\n",
    "import pickle\n",
    "import skill_metrics as sm\n",
    "from sys import version_info\n",
    "\n",
    "def load_obj(name):\n",
    "    # Load object from file in pickle format\n",
    "    if version_info[0] == 2:\n",
    "        suffix = 'pkl'\n",
    "    else:\n",
    "        suffix = 'pkl'\n",
    "\n",
    "    with open(name + '.' + suffix, 'rb') as f:\n",
    "        return pickle.load(f) # Python2 succeeds\n",
    "\n",
    "class Container(object): \n",
    "    \n",
    "    def __init__(self, pred1, pred2, ref):\n",
    "        self.pred1 = pred1\n",
    "        self.pred2 = pred2\n",
    "        self.ref = ref\n",
    "        \n",
    "if __name__ == '__main__':\n",
    "    \n",
    "    # Close any previously open graphics windows\n",
    "    # ToDo: fails to work within Eclipse\n",
    "    plt.close('all')\n",
    "        \n",
    "    # Read data from pickle file\n",
    "    data = load_obj('Taylor_NO2')\n",
    "    datat = load_obj('Taylort_NO2')\n",
    "    # Calculate statistics for Taylor diagram\n",
    "    # The first array element (e.g. taylor_stats1[0]) corresponds to the \n",
    "    # reference series while the second and subsequent elements\n",
    "    # (e.g. taylor_stats1[1:]) are those for the predicted series.\n",
    "    taylor_stats1 = sm.taylor_statistics(data.decision_tree,data.testdt,'data')\n",
    "    taylor_stats2 = sm.taylor_statistics(data.gbpred,data.testdt,'data')\n",
    "    taylor_stats3 = sm.taylor_statistics(data.forest_pred,data.testdt,'data')\n",
    "    taylor_stats4 = sm.taylor_statistics(datat.holts,datat.timetest,'datat')\n",
    "    taylor_stats5 = sm.taylor_statistics(datat.prophetpred,datat.timetest,'datat')\n",
    "    \n",
    "    \n",
    "    # Store statistics in arrays\n",
    "    sdev = np.array([taylor_stats1['sdev'][0], taylor_stats1['sdev'][1], \n",
    "                     taylor_stats2['sdev'][1],taylor_stats3['sdev'][1],taylor_stats4['sdev'][1],taylor_stats5['sdev'][1]])\n",
    "    crmsd = np.array([taylor_stats1['crmsd'][0], taylor_stats1['crmsd'][1], \n",
    "                      taylor_stats2['crmsd'][1],taylor_stats3['crmsd'][1],taylor_stats4['crmsd'][1],taylor_stats5['crmsd'][1]])\n",
    "    ccoef = np.array([taylor_stats1['ccoef'][0], taylor_stats1['ccoef'][1], \n",
    "                      taylor_stats2['ccoef'][1],taylor_stats3['ccoef'][1],taylor_stats4['ccoef'][1],taylor_stats5['ccoef'][1]])\n",
    "    # Specify labels for points in a cell array (M1 for model prediction 1,\n",
    "    # etc.). Note that a label needs to be specified for the reference even\n",
    "    # though it is not used.\n",
    "    \n",
    "    label = ['Observation', 'Decision', 'GBoost','Forest','Holts','Prophet']\n",
    "    \n",
    "    '''\n",
    "    Produce the Taylor diagram\n",
    "    Label the points and change the axis options for SDEV, CRMSD, and CCOEF.\n",
    "    Increase the upper limit for the SDEV axis and rotate the CRMSD contour\n",
    "    labels (counter-clockwise from x-axis). Exchange color and line style\n",
    "    choices for SDEV, CRMSD, and CCOEFF variables to show effect. Increase\n",
    "    the line width of all lines.\n",
    "    For an exhaustive list of options to customize your diagram, \n",
    "    please call the function at a Python command line:\n",
    "    >> taylor_diagram\n",
    "    '''\n",
    "    sm.taylor_diagram(sdev,crmsd,ccoef, markerLabel = label,\n",
    "                      markerLabelColor = 'r',markerColor = 'r',markerLegend = 'on',colRMS = 'r',styleRMS = ':',titleRMS = 'on',widthRMS = 2.0,titleRMSDangle = 40.0,\n",
    "                     colSTD = 'b', styleSTD = '-.',titleSTD = 'on',colCOR = 'k', styleCOR = '--',titleCOR = 'on',widthCOR = 2.0,markerSize = 10)\n",
    "\n",
    "    # Write plot to file\n",
    "    plt.savefig('taylorPM10.png')\n",
    "\n",
    "    # Show plot\n",
    "    plt.show()"
   ]
  },
  {
   "cell_type": "markdown",
   "metadata": {},
   "source": [
    "# NOx"
   ]
  },
  {
   "cell_type": "code",
   "execution_count": 37,
   "metadata": {},
   "outputs": [],
   "source": [
    "import pandas as pd\n",
    "df=pd.read_excel(r\"C:\\Users\\Kira\\Desktop\\Internship\\Data\\Delhi_Data-20210529T043217Z-001\\Delhi_Data\\Taylor_comp\\NOx\\taylor_NOx.xlsx\")\n",
    "dft=pd.read_excel(r\"C:\\Users\\Kira\\Desktop\\Internship\\Data\\Delhi_Data-20210529T043217Z-001\\Delhi_Data\\Taylor_comp\\NOx\\taylortime_NOx.xlsx\")"
   ]
  },
  {
   "cell_type": "code",
   "execution_count": 38,
   "metadata": {
    "scrolled": true
   },
   "outputs": [
    {
     "data": {
      "text/plain": [
       "Index(['Unnamed: 0', 'decision_tree', 'testdt', 'gbpred', 'forest_pred'], dtype='object')"
      ]
     },
     "execution_count": 38,
     "metadata": {},
     "output_type": "execute_result"
    }
   ],
   "source": [
    "df.columns"
   ]
  },
  {
   "cell_type": "code",
   "execution_count": 39,
   "metadata": {},
   "outputs": [
    {
     "data": {
      "text/plain": [
       "89.88929132893759"
      ]
     },
     "execution_count": 39,
     "metadata": {},
     "output_type": "execute_result"
    }
   ],
   "source": [
    "df['decision_tree'].std()"
   ]
  },
  {
   "cell_type": "code",
   "execution_count": 40,
   "metadata": {},
   "outputs": [
    {
     "data": {
      "text/plain": [
       "Index(['Unnamed: 0', 'holts', 'timetest', 'prophetpred'], dtype='object')"
      ]
     },
     "execution_count": 40,
     "metadata": {},
     "output_type": "execute_result"
    }
   ],
   "source": [
    "dft.columns"
   ]
  },
  {
   "cell_type": "code",
   "execution_count": 41,
   "metadata": {},
   "outputs": [],
   "source": [
    "df=df[['decision_tree', 'gbpred', 'forest_pred','testdt']]\n",
    "dft=dft[['holts', 'prophetpred', 'timetest']]"
   ]
  },
  {
   "cell_type": "code",
   "execution_count": 42,
   "metadata": {},
   "outputs": [
    {
     "data": {
      "text/html": [
       "<div>\n",
       "<style scoped>\n",
       "    .dataframe tbody tr th:only-of-type {\n",
       "        vertical-align: middle;\n",
       "    }\n",
       "\n",
       "    .dataframe tbody tr th {\n",
       "        vertical-align: top;\n",
       "    }\n",
       "\n",
       "    .dataframe thead th {\n",
       "        text-align: right;\n",
       "    }\n",
       "</style>\n",
       "<table border=\"1\" class=\"dataframe\">\n",
       "  <thead>\n",
       "    <tr style=\"text-align: right;\">\n",
       "      <th></th>\n",
       "      <th>holts</th>\n",
       "      <th>prophetpred</th>\n",
       "      <th>timetest</th>\n",
       "    </tr>\n",
       "  </thead>\n",
       "  <tbody>\n",
       "    <tr>\n",
       "      <th>0</th>\n",
       "      <td>342.041335</td>\n",
       "      <td>237.153643</td>\n",
       "      <td>167.502258</td>\n",
       "    </tr>\n",
       "    <tr>\n",
       "      <th>1</th>\n",
       "      <td>286.083680</td>\n",
       "      <td>167.238450</td>\n",
       "      <td>119.950000</td>\n",
       "    </tr>\n",
       "    <tr>\n",
       "      <th>2</th>\n",
       "      <td>266.498443</td>\n",
       "      <td>136.489536</td>\n",
       "      <td>119.842903</td>\n",
       "    </tr>\n",
       "    <tr>\n",
       "      <th>3</th>\n",
       "      <td>173.075415</td>\n",
       "      <td>32.528755</td>\n",
       "      <td>94.122333</td>\n",
       "    </tr>\n",
       "    <tr>\n",
       "      <th>4</th>\n",
       "      <td>139.761902</td>\n",
       "      <td>54.719067</td>\n",
       "      <td>114.114839</td>\n",
       "    </tr>\n",
       "    <tr>\n",
       "      <th>5</th>\n",
       "      <td>117.464987</td>\n",
       "      <td>36.338022</td>\n",
       "      <td>59.023000</td>\n",
       "    </tr>\n",
       "    <tr>\n",
       "      <th>6</th>\n",
       "      <td>173.490176</td>\n",
       "      <td>86.614698</td>\n",
       "      <td>34.447097</td>\n",
       "    </tr>\n",
       "    <tr>\n",
       "      <th>7</th>\n",
       "      <td>199.099916</td>\n",
       "      <td>112.312594</td>\n",
       "      <td>23.734194</td>\n",
       "    </tr>\n",
       "    <tr>\n",
       "      <th>8</th>\n",
       "      <td>72.071748</td>\n",
       "      <td>16.978653</td>\n",
       "      <td>42.938333</td>\n",
       "    </tr>\n",
       "    <tr>\n",
       "      <th>9</th>\n",
       "      <td>198.982099</td>\n",
       "      <td>85.701974</td>\n",
       "      <td>155.128387</td>\n",
       "    </tr>\n",
       "    <tr>\n",
       "      <th>10</th>\n",
       "      <td>336.137855</td>\n",
       "      <td>184.976001</td>\n",
       "      <td>140.321333</td>\n",
       "    </tr>\n",
       "    <tr>\n",
       "      <th>11</th>\n",
       "      <td>256.306766</td>\n",
       "      <td>167.830864</td>\n",
       "      <td>174.761935</td>\n",
       "    </tr>\n",
       "    <tr>\n",
       "      <th>12</th>\n",
       "      <td>313.892990</td>\n",
       "      <td>266.088726</td>\n",
       "      <td>94.080000</td>\n",
       "    </tr>\n",
       "    <tr>\n",
       "      <th>13</th>\n",
       "      <td>262.540379</td>\n",
       "      <td>136.049488</td>\n",
       "      <td>88.088929</td>\n",
       "    </tr>\n",
       "    <tr>\n",
       "      <th>14</th>\n",
       "      <td>244.566913</td>\n",
       "      <td>128.955591</td>\n",
       "      <td>88.881935</td>\n",
       "    </tr>\n",
       "    <tr>\n",
       "      <th>15</th>\n",
       "      <td>158.832147</td>\n",
       "      <td>114.576930</td>\n",
       "      <td>82.105667</td>\n",
       "    </tr>\n",
       "    <tr>\n",
       "      <th>16</th>\n",
       "      <td>128.260175</td>\n",
       "      <td>63.281481</td>\n",
       "      <td>72.998387</td>\n",
       "    </tr>\n",
       "    <tr>\n",
       "      <th>17</th>\n",
       "      <td>107.798188</td>\n",
       "      <td>33.474982</td>\n",
       "      <td>44.212333</td>\n",
       "    </tr>\n",
       "    <tr>\n",
       "      <th>18</th>\n",
       "      <td>159.212775</td>\n",
       "      <td>24.622706</td>\n",
       "      <td>32.081613</td>\n",
       "    </tr>\n",
       "    <tr>\n",
       "      <th>19</th>\n",
       "      <td>182.714957</td>\n",
       "      <td>10.783555</td>\n",
       "      <td>32.672258</td>\n",
       "    </tr>\n",
       "    <tr>\n",
       "      <th>20</th>\n",
       "      <td>66.140593</td>\n",
       "      <td>10.108625</td>\n",
       "      <td>21.616000</td>\n",
       "    </tr>\n",
       "    <tr>\n",
       "      <th>21</th>\n",
       "      <td>182.606836</td>\n",
       "      <td>152.320709</td>\n",
       "      <td>84.275484</td>\n",
       "    </tr>\n",
       "    <tr>\n",
       "      <th>22</th>\n",
       "      <td>308.475339</td>\n",
       "      <td>251.867552</td>\n",
       "      <td>58.888667</td>\n",
       "    </tr>\n",
       "    <tr>\n",
       "      <th>23</th>\n",
       "      <td>235.213961</td>\n",
       "      <td>172.325951</td>\n",
       "      <td>66.250323</td>\n",
       "    </tr>\n",
       "  </tbody>\n",
       "</table>\n",
       "</div>"
      ],
      "text/plain": [
       "         holts  prophetpred    timetest\n",
       "0   342.041335   237.153643  167.502258\n",
       "1   286.083680   167.238450  119.950000\n",
       "2   266.498443   136.489536  119.842903\n",
       "3   173.075415    32.528755   94.122333\n",
       "4   139.761902    54.719067  114.114839\n",
       "5   117.464987    36.338022   59.023000\n",
       "6   173.490176    86.614698   34.447097\n",
       "7   199.099916   112.312594   23.734194\n",
       "8    72.071748    16.978653   42.938333\n",
       "9   198.982099    85.701974  155.128387\n",
       "10  336.137855   184.976001  140.321333\n",
       "11  256.306766   167.830864  174.761935\n",
       "12  313.892990   266.088726   94.080000\n",
       "13  262.540379   136.049488   88.088929\n",
       "14  244.566913   128.955591   88.881935\n",
       "15  158.832147   114.576930   82.105667\n",
       "16  128.260175    63.281481   72.998387\n",
       "17  107.798188    33.474982   44.212333\n",
       "18  159.212775    24.622706   32.081613\n",
       "19  182.714957    10.783555   32.672258\n",
       "20   66.140593    10.108625   21.616000\n",
       "21  182.606836   152.320709   84.275484\n",
       "22  308.475339   251.867552   58.888667\n",
       "23  235.213961   172.325951   66.250323"
      ]
     },
     "execution_count": 42,
     "metadata": {},
     "output_type": "execute_result"
    }
   ],
   "source": [
    "dft"
   ]
  },
  {
   "cell_type": "code",
   "execution_count": 43,
   "metadata": {},
   "outputs": [],
   "source": [
    "df.to_pickle(\"Taylor_NOx.pkl\")\n",
    "dft.to_pickle(\"Taylort_NOx.pkl\")\n"
   ]
  },
  {
   "cell_type": "code",
   "execution_count": 44,
   "metadata": {},
   "outputs": [],
   "source": [
    "import skill_metrics as sm\n",
    "from fbprophet import Prophet"
   ]
  },
  {
   "cell_type": "code",
   "execution_count": 46,
   "metadata": {
    "scrolled": true
   },
   "outputs": [
    {
     "data": {
      "image/png": "[encoded data removed]",
      "text/plain": [
       "<Figure size 432x288 with 1 Axes>"
      ]
     },
     "metadata": {
      "needs_background": "light"
     },
     "output_type": "display_data"
    }
   ],
   "source": [
    "import matplotlib.pyplot as plt\n",
    "import numpy as np\n",
    "import pickle\n",
    "import skill_metrics as sm\n",
    "from sys import version_info\n",
    "\n",
    "def load_obj(name):\n",
    "    # Load object from file in pickle format\n",
    "    if version_info[0] == 2:\n",
    "        suffix = 'pkl'\n",
    "    else:\n",
    "        suffix = 'pkl'\n",
    "\n",
    "    with open(name + '.' + suffix, 'rb') as f:\n",
    "        return pickle.load(f) # Python2 succeeds\n",
    "\n",
    "class Container(object): \n",
    "    \n",
    "    def __init__(self, pred1, pred2, ref):\n",
    "        self.pred1 = pred1\n",
    "        self.pred2 = pred2\n",
    "        self.ref = ref\n",
    "        \n",
    "if __name__ == '__main__':\n",
    "    \n",
    "    # Close any previously open graphics windows\n",
    "    # ToDo: fails to work within Eclipse\n",
    "    plt.close('all')\n",
    "        \n",
    "    # Read data from pickle file\n",
    "    data = load_obj('Taylor_NOx')\n",
    "    datat = load_obj('Taylort_NOx')\n",
    "    # Calculate statistics for Taylor diagram\n",
    "    # The first array element (e.g. taylor_stats1[0]) corresponds to the \n",
    "    # reference series while the second and subsequent elements\n",
    "    # (e.g. taylor_stats1[1:]) are those for the predicted series.\n",
    "    taylor_stats1 = sm.taylor_statistics(data.decision_tree,data.testdt,'data')\n",
    "    taylor_stats2 = sm.taylor_statistics(data.gbpred,data.testdt,'data')\n",
    "    taylor_stats3 = sm.taylor_statistics(data.forest_pred,data.testdt,'data')\n",
    "    taylor_stats4 = sm.taylor_statistics(datat.holts,datat.timetest,'datat')\n",
    "    taylor_stats5 = sm.taylor_statistics(datat.prophetpred,datat.timetest,'datat')\n",
    "    \n",
    "    \n",
    "    # Store statistics in arrays\n",
    "    sdev = np.array([taylor_stats1['sdev'][0], taylor_stats1['sdev'][1], \n",
    "                     taylor_stats2['sdev'][1],taylor_stats3['sdev'][1],taylor_stats4['sdev'][1],taylor_stats5['sdev'][1]])\n",
    "    crmsd = np.array([taylor_stats1['crmsd'][0], taylor_stats1['crmsd'][1], \n",
    "                      taylor_stats2['crmsd'][1],taylor_stats3['crmsd'][1],taylor_stats4['crmsd'][1],taylor_stats5['crmsd'][1]])\n",
    "    ccoef = np.array([taylor_stats1['ccoef'][0], taylor_stats1['ccoef'][1], \n",
    "                      taylor_stats2['ccoef'][1],taylor_stats3['ccoef'][1],taylor_stats4['ccoef'][1],taylor_stats5['ccoef'][1]])\n",
    "    # Specify labels for points in a cell array (M1 for model prediction 1,\n",
    "    # etc.). Note that a label needs to be specified for the reference even\n",
    "    # though it is not used.\n",
    "    \n",
    "    label = ['Observation', 'Decision', 'GBoost','Forest','Holts','Prophet']\n",
    "    \n",
    "    '''\n",
    "    Produce the Taylor diagram\n",
    "    Label the points and change the axis options for SDEV, CRMSD, and CCOEF.\n",
    "    Increase the upper limit for the SDEV axis and rotate the CRMSD contour\n",
    "    labels (counter-clockwise from x-axis). Exchange color and line style\n",
    "    choices for SDEV, CRMSD, and CCOEFF variables to show effect. Increase\n",
    "    the line width of all lines.\n",
    "    For an exhaustive list of options to customize your diagram, \n",
    "    please call the function at a Python command line:\n",
    "    >> taylor_diagram\n",
    "    '''\n",
    "    sm.taylor_diagram(sdev,crmsd,ccoef, markerLabel = label,\n",
    "                      markerLabelColor = 'r',markerColor = 'r',markerLegend = 'on',colRMS = 'r',styleRMS = ':',titleRMS = 'on',widthRMS = 2.0,titleRMSDangle = 40.0,\n",
    "                     colSTD = 'b', styleSTD = '-.',titleSTD = 'on',colCOR = 'k', styleCOR = '--',titleCOR = 'on',widthCOR = 2.0,markerSize = 10)\n",
    "\n",
    "    # Write plot to file\n",
    "    plt.savefig('taylorPM10.png')\n",
    "\n",
    "    # Show plot\n",
    "    plt.show()"
   ]
  },
  {
   "cell_type": "markdown",
   "metadata": {},
   "source": [
    "# NH3"
   ]
  },
  {
   "cell_type": "code",
   "execution_count": 47,
   "metadata": {},
   "outputs": [],
   "source": [
    "import pandas as pd\n",
    "df=pd.read_excel(r\"C:\\Users\\Kira\\Desktop\\Internship\\Data\\Delhi_Data-20210529T043217Z-001\\Delhi_Data\\Taylor_comp\\NH3\\taylor_NH3.xlsx\")\n",
    "dft=pd.read_excel(r\"C:\\Users\\Kira\\Desktop\\Internship\\Data\\Delhi_Data-20210529T043217Z-001\\Delhi_Data\\Taylor_comp\\NH3\\taylortime_NH3.xlsx\")"
   ]
  },
  {
   "cell_type": "code",
   "execution_count": 48,
   "metadata": {
    "scrolled": true
   },
   "outputs": [
    {
     "data": {
      "text/plain": [
       "Index(['Unnamed: 0', 'decision_tree', 'testdt', 'gbpred', 'forest_pred'], dtype='object')"
      ]
     },
     "execution_count": 48,
     "metadata": {},
     "output_type": "execute_result"
    }
   ],
   "source": [
    "df.columns"
   ]
  },
  {
   "cell_type": "code",
   "execution_count": 49,
   "metadata": {},
   "outputs": [
    {
     "data": {
      "text/plain": [
       "12.312964189564392"
      ]
     },
     "execution_count": 49,
     "metadata": {},
     "output_type": "execute_result"
    }
   ],
   "source": [
    "df['decision_tree'].std()"
   ]
  },
  {
   "cell_type": "code",
   "execution_count": 50,
   "metadata": {},
   "outputs": [
    {
     "data": {
      "text/plain": [
       "Index(['Unnamed: 0', 'holts', 'timetest', 'prophetpred'], dtype='object')"
      ]
     },
     "execution_count": 50,
     "metadata": {},
     "output_type": "execute_result"
    }
   ],
   "source": [
    "dft.columns"
   ]
  },
  {
   "cell_type": "code",
   "execution_count": 51,
   "metadata": {},
   "outputs": [],
   "source": [
    "df=df[['decision_tree', 'gbpred', 'forest_pred','testdt']]\n",
    "dft=dft[['holts', 'prophetpred', 'timetest']]"
   ]
  },
  {
   "cell_type": "code",
   "execution_count": 52,
   "metadata": {},
   "outputs": [
    {
     "data": {
      "text/html": [
       "<div>\n",
       "<style scoped>\n",
       "    .dataframe tbody tr th:only-of-type {\n",
       "        vertical-align: middle;\n",
       "    }\n",
       "\n",
       "    .dataframe tbody tr th {\n",
       "        vertical-align: top;\n",
       "    }\n",
       "\n",
       "    .dataframe thead th {\n",
       "        text-align: right;\n",
       "    }\n",
       "</style>\n",
       "<table border=\"1\" class=\"dataframe\">\n",
       "  <thead>\n",
       "    <tr style=\"text-align: right;\">\n",
       "      <th></th>\n",
       "      <th>holts</th>\n",
       "      <th>prophetpred</th>\n",
       "      <th>timetest</th>\n",
       "    </tr>\n",
       "  </thead>\n",
       "  <tbody>\n",
       "    <tr>\n",
       "      <th>0</th>\n",
       "      <td>58.895620</td>\n",
       "      <td>61.317368</td>\n",
       "      <td>37.217097</td>\n",
       "    </tr>\n",
       "    <tr>\n",
       "      <th>1</th>\n",
       "      <td>35.939939</td>\n",
       "      <td>31.339674</td>\n",
       "      <td>33.922857</td>\n",
       "    </tr>\n",
       "    <tr>\n",
       "      <th>2</th>\n",
       "      <td>29.201773</td>\n",
       "      <td>24.284167</td>\n",
       "      <td>32.269355</td>\n",
       "    </tr>\n",
       "    <tr>\n",
       "      <th>3</th>\n",
       "      <td>27.537910</td>\n",
       "      <td>27.500663</td>\n",
       "      <td>35.495000</td>\n",
       "    </tr>\n",
       "    <tr>\n",
       "      <th>4</th>\n",
       "      <td>32.872665</td>\n",
       "      <td>29.971939</td>\n",
       "      <td>37.711290</td>\n",
       "    </tr>\n",
       "    <tr>\n",
       "      <th>5</th>\n",
       "      <td>32.069378</td>\n",
       "      <td>31.501222</td>\n",
       "      <td>40.974333</td>\n",
       "    </tr>\n",
       "    <tr>\n",
       "      <th>6</th>\n",
       "      <td>27.464499</td>\n",
       "      <td>24.145304</td>\n",
       "      <td>30.787742</td>\n",
       "    </tr>\n",
       "    <tr>\n",
       "      <th>7</th>\n",
       "      <td>21.889262</td>\n",
       "      <td>19.620196</td>\n",
       "      <td>17.701613</td>\n",
       "    </tr>\n",
       "    <tr>\n",
       "      <th>8</th>\n",
       "      <td>19.363286</td>\n",
       "      <td>17.055958</td>\n",
       "      <td>15.631000</td>\n",
       "    </tr>\n",
       "    <tr>\n",
       "      <th>9</th>\n",
       "      <td>29.170282</td>\n",
       "      <td>26.135856</td>\n",
       "      <td>39.484516</td>\n",
       "    </tr>\n",
       "    <tr>\n",
       "      <th>10</th>\n",
       "      <td>39.039813</td>\n",
       "      <td>34.683414</td>\n",
       "      <td>41.336333</td>\n",
       "    </tr>\n",
       "    <tr>\n",
       "      <th>11</th>\n",
       "      <td>38.697446</td>\n",
       "      <td>35.778946</td>\n",
       "      <td>37.941935</td>\n",
       "    </tr>\n",
       "    <tr>\n",
       "      <th>12</th>\n",
       "      <td>55.724340</td>\n",
       "      <td>64.643935</td>\n",
       "      <td>27.261290</td>\n",
       "    </tr>\n",
       "    <tr>\n",
       "      <th>13</th>\n",
       "      <td>34.004725</td>\n",
       "      <td>34.247803</td>\n",
       "      <td>25.955714</td>\n",
       "    </tr>\n",
       "    <tr>\n",
       "      <th>14</th>\n",
       "      <td>27.629380</td>\n",
       "      <td>27.506289</td>\n",
       "      <td>24.359677</td>\n",
       "    </tr>\n",
       "    <tr>\n",
       "      <th>15</th>\n",
       "      <td>26.055109</td>\n",
       "      <td>21.966544</td>\n",
       "      <td>26.171000</td>\n",
       "    </tr>\n",
       "    <tr>\n",
       "      <th>16</th>\n",
       "      <td>31.102611</td>\n",
       "      <td>30.340475</td>\n",
       "      <td>29.573226</td>\n",
       "    </tr>\n",
       "    <tr>\n",
       "      <th>17</th>\n",
       "      <td>30.342577</td>\n",
       "      <td>29.167659</td>\n",
       "      <td>26.890333</td>\n",
       "    </tr>\n",
       "    <tr>\n",
       "      <th>18</th>\n",
       "      <td>25.985651</td>\n",
       "      <td>24.140065</td>\n",
       "      <td>24.750323</td>\n",
       "    </tr>\n",
       "    <tr>\n",
       "      <th>19</th>\n",
       "      <td>20.710618</td>\n",
       "      <td>12.831194</td>\n",
       "      <td>22.573548</td>\n",
       "    </tr>\n",
       "    <tr>\n",
       "      <th>20</th>\n",
       "      <td>18.320655</td>\n",
       "      <td>9.719994</td>\n",
       "      <td>18.993667</td>\n",
       "    </tr>\n",
       "    <tr>\n",
       "      <th>21</th>\n",
       "      <td>27.599585</td>\n",
       "      <td>28.869649</td>\n",
       "      <td>19.477097</td>\n",
       "    </tr>\n",
       "    <tr>\n",
       "      <th>22</th>\n",
       "      <td>36.937684</td>\n",
       "      <td>40.516409</td>\n",
       "      <td>18.331333</td>\n",
       "    </tr>\n",
       "    <tr>\n",
       "      <th>23</th>\n",
       "      <td>36.613752</td>\n",
       "      <td>37.463209</td>\n",
       "      <td>27.598387</td>\n",
       "    </tr>\n",
       "  </tbody>\n",
       "</table>\n",
       "</div>"
      ],
      "text/plain": [
       "        holts  prophetpred   timetest\n",
       "0   58.895620    61.317368  37.217097\n",
       "1   35.939939    31.339674  33.922857\n",
       "2   29.201773    24.284167  32.269355\n",
       "3   27.537910    27.500663  35.495000\n",
       "4   32.872665    29.971939  37.711290\n",
       "5   32.069378    31.501222  40.974333\n",
       "6   27.464499    24.145304  30.787742\n",
       "7   21.889262    19.620196  17.701613\n",
       "8   19.363286    17.055958  15.631000\n",
       "9   29.170282    26.135856  39.484516\n",
       "10  39.039813    34.683414  41.336333\n",
       "11  38.697446    35.778946  37.941935\n",
       "12  55.724340    64.643935  27.261290\n",
       "13  34.004725    34.247803  25.955714\n",
       "14  27.629380    27.506289  24.359677\n",
       "15  26.055109    21.966544  26.171000\n",
       "16  31.102611    30.340475  29.573226\n",
       "17  30.342577    29.167659  26.890333\n",
       "18  25.985651    24.140065  24.750323\n",
       "19  20.710618    12.831194  22.573548\n",
       "20  18.320655     9.719994  18.993667\n",
       "21  27.599585    28.869649  19.477097\n",
       "22  36.937684    40.516409  18.331333\n",
       "23  36.613752    37.463209  27.598387"
      ]
     },
     "execution_count": 52,
     "metadata": {},
     "output_type": "execute_result"
    }
   ],
   "source": [
    "dft"
   ]
  },
  {
   "cell_type": "code",
   "execution_count": 63,
   "metadata": {},
   "outputs": [],
   "source": [
    "df.to_pickle(\"Taylor_NH3.pkl\")\n",
    "dft.to_pickle(\"Taylort_NH3.pkl\")\n"
   ]
  },
  {
   "cell_type": "code",
   "execution_count": 54,
   "metadata": {},
   "outputs": [],
   "source": [
    "import skill_metrics as sm\n",
    "from fbprophet import Prophet"
   ]
  },
  {
   "cell_type": "code",
   "execution_count": 55,
   "metadata": {
    "scrolled": false
   },
   "outputs": [
    {
     "data": {
      "image/png": "[encoded data removed]",
      "text/plain": [
       "<Figure size 432x288 with 1 Axes>"
      ]
     },
     "metadata": {
      "needs_background": "light"
     },
     "output_type": "display_data"
    }
   ],
   "source": [
    "import matplotlib.pyplot as plt\n",
    "import numpy as np\n",
    "import pickle\n",
    "import skill_metrics as sm\n",
    "from sys import version_info\n",
    "\n",
    "def load_obj(name):\n",
    "    # Load object from file in pickle format\n",
    "    if version_info[0] == 2:\n",
    "        suffix = 'pkl'\n",
    "    else:\n",
    "        suffix = 'pkl'\n",
    "\n",
    "    with open(name + '.' + suffix, 'rb') as f:\n",
    "        return pickle.load(f) # Python2 succeeds\n",
    "\n",
    "class Container(object): \n",
    "    \n",
    "    def __init__(self, pred1, pred2, ref):\n",
    "        self.pred1 = pred1\n",
    "        self.pred2 = pred2\n",
    "        self.ref = ref\n",
    "        \n",
    "if __name__ == '__main__':\n",
    "    \n",
    "    # Close any previously open graphics windows\n",
    "    # ToDo: fails to work within Eclipse\n",
    "    plt.close('all')\n",
    "        \n",
    "    # Read data from pickle file\n",
    "    data = load_obj('Taylor_NH3')\n",
    "    datat = load_obj('Taylort_NH3')\n",
    "    # Calculate statistics for Taylor diagram\n",
    "    # The first array element (e.g. taylor_stats1[0]) corresponds to the \n",
    "    # reference series while the second and subsequent elements\n",
    "    # (e.g. taylor_stats1[1:]) are those for the predicted series.\n",
    "    taylor_stats1 = sm.taylor_statistics(data.decision_tree,data.testdt,'data')\n",
    "    taylor_stats2 = sm.taylor_statistics(data.gbpred,data.testdt,'data')\n",
    "    taylor_stats3 = sm.taylor_statistics(data.forest_pred,data.testdt,'data')\n",
    "    taylor_stats4 = sm.taylor_statistics(datat.holts,datat.timetest,'datat')\n",
    "    taylor_stats5 = sm.taylor_statistics(datat.prophetpred,datat.timetest,'datat')\n",
    "    \n",
    "    \n",
    "    # Store statistics in arrays\n",
    "    sdev = np.array([taylor_stats1['sdev'][0], taylor_stats1['sdev'][1], \n",
    "                     taylor_stats2['sdev'][1],taylor_stats3['sdev'][1],taylor_stats4['sdev'][1],taylor_stats5['sdev'][1]])\n",
    "    crmsd = np.array([taylor_stats1['crmsd'][0], taylor_stats1['crmsd'][1], \n",
    "                      taylor_stats2['crmsd'][1],taylor_stats3['crmsd'][1],taylor_stats4['crmsd'][1],taylor_stats5['crmsd'][1]])\n",
    "    ccoef = np.array([taylor_stats1['ccoef'][0], taylor_stats1['ccoef'][1], \n",
    "                      taylor_stats2['ccoef'][1],taylor_stats3['ccoef'][1],taylor_stats4['ccoef'][1],taylor_stats5['ccoef'][1]])\n",
    "    # Specify labels for points in a cell array (M1 for model prediction 1,\n",
    "    # etc.). Note that a label needs to be specified for the reference even\n",
    "    # though it is not used.\n",
    "    \n",
    "    label = ['Observation', 'Decision', 'GBoost','Forest','Holts','Prophet']\n",
    "    \n",
    "    '''\n",
    "    Produce the Taylor diagram\n",
    "    Label the points and change the axis options for SDEV, CRMSD, and CCOEF.\n",
    "    Increase the upper limit for the SDEV axis and rotate the CRMSD contour\n",
    "    labels (counter-clockwise from x-axis). Exchange color and line style\n",
    "    choices for SDEV, CRMSD, and CCOEFF variables to show effect. Increase\n",
    "    the line width of all lines.\n",
    "    For an exhaustive list of options to customize your diagram, \n",
    "    please call the function at a Python command line:\n",
    "    >> taylor_diagram\n",
    "    '''\n",
    "    sm.taylor_diagram(sdev,crmsd,ccoef, markerLabel = label,\n",
    "                      markerLabelColor = 'r',markerColor = 'r',markerLegend = 'on',colRMS = 'r',styleRMS = ':',titleRMS = 'on',widthRMS = 2.0,titleRMSDangle = 40.0,\n",
    "                     colSTD = 'b', styleSTD = '-.',titleSTD = 'on',colCOR = 'k', styleCOR = '--',titleCOR = 'on',widthCOR = 2.0,markerSize = 10)\n",
    "\n",
    "    # Write plot to file\n",
    "    plt.savefig('taylorPM10.png')\n",
    "\n",
    "    # Show plot\n",
    "    plt.show()"
   ]
  },
  {
   "cell_type": "markdown",
   "metadata": {},
   "source": [
    "# Ozone"
   ]
  },
  {
   "cell_type": "code",
   "execution_count": 56,
   "metadata": {},
   "outputs": [],
   "source": [
    "import pandas as pd\n",
    "df=pd.read_excel(r\"C:\\Users\\Kira\\Desktop\\Internship\\Data\\Delhi_Data-20210529T043217Z-001\\Delhi_Data\\Taylor_comp\\Ozone\\taylor_Ozone.xlsx\")\n",
    "dft=pd.read_excel(r\"C:\\Users\\Kira\\Desktop\\Internship\\Data\\Delhi_Data-20210529T043217Z-001\\Delhi_Data\\Taylor_comp\\Ozone\\taylortime_Ozone.xlsx\")"
   ]
  },
  {
   "cell_type": "code",
   "execution_count": 57,
   "metadata": {
    "scrolled": true
   },
   "outputs": [
    {
     "data": {
      "text/plain": [
       "Index(['Unnamed: 0', 'decision_tree', 'testdt', 'gbpred', 'forest_pred'], dtype='object')"
      ]
     },
     "execution_count": 57,
     "metadata": {},
     "output_type": "execute_result"
    }
   ],
   "source": [
    "df.columns"
   ]
  },
  {
   "cell_type": "code",
   "execution_count": 58,
   "metadata": {},
   "outputs": [
    {
     "data": {
      "text/plain": [
       "19.222019346118504"
      ]
     },
     "execution_count": 58,
     "metadata": {},
     "output_type": "execute_result"
    }
   ],
   "source": [
    "df['decision_tree'].std()"
   ]
  },
  {
   "cell_type": "code",
   "execution_count": 59,
   "metadata": {},
   "outputs": [
    {
     "data": {
      "text/plain": [
       "Index(['Unnamed: 0', 'holts', 'timetest', 'prophetpred'], dtype='object')"
      ]
     },
     "execution_count": 59,
     "metadata": {},
     "output_type": "execute_result"
    }
   ],
   "source": [
    "dft.columns"
   ]
  },
  {
   "cell_type": "code",
   "execution_count": 60,
   "metadata": {},
   "outputs": [],
   "source": [
    "df=df[['decision_tree', 'gbpred', 'forest_pred','testdt']]\n",
    "dft=dft[['holts', 'prophetpred', 'timetest']]"
   ]
  },
  {
   "cell_type": "code",
   "execution_count": 61,
   "metadata": {},
   "outputs": [
    {
     "data": {
      "text/html": [
       "<div>\n",
       "<style scoped>\n",
       "    .dataframe tbody tr th:only-of-type {\n",
       "        vertical-align: middle;\n",
       "    }\n",
       "\n",
       "    .dataframe tbody tr th {\n",
       "        vertical-align: top;\n",
       "    }\n",
       "\n",
       "    .dataframe thead th {\n",
       "        text-align: right;\n",
       "    }\n",
       "</style>\n",
       "<table border=\"1\" class=\"dataframe\">\n",
       "  <thead>\n",
       "    <tr style=\"text-align: right;\">\n",
       "      <th></th>\n",
       "      <th>holts</th>\n",
       "      <th>prophetpred</th>\n",
       "      <th>timetest</th>\n",
       "    </tr>\n",
       "  </thead>\n",
       "  <tbody>\n",
       "    <tr>\n",
       "      <th>0</th>\n",
       "      <td>22.364747</td>\n",
       "      <td>28.063974</td>\n",
       "      <td>28.810792</td>\n",
       "    </tr>\n",
       "    <tr>\n",
       "      <th>1</th>\n",
       "      <td>31.088682</td>\n",
       "      <td>28.765259</td>\n",
       "      <td>35.948766</td>\n",
       "    </tr>\n",
       "    <tr>\n",
       "      <th>2</th>\n",
       "      <td>50.442876</td>\n",
       "      <td>54.294606</td>\n",
       "      <td>52.314194</td>\n",
       "    </tr>\n",
       "    <tr>\n",
       "      <th>3</th>\n",
       "      <td>49.886085</td>\n",
       "      <td>45.109209</td>\n",
       "      <td>52.861333</td>\n",
       "    </tr>\n",
       "    <tr>\n",
       "      <th>4</th>\n",
       "      <td>57.639811</td>\n",
       "      <td>62.904259</td>\n",
       "      <td>60.491935</td>\n",
       "    </tr>\n",
       "    <tr>\n",
       "      <th>5</th>\n",
       "      <td>28.550058</td>\n",
       "      <td>40.994837</td>\n",
       "      <td>39.936667</td>\n",
       "    </tr>\n",
       "    <tr>\n",
       "      <th>6</th>\n",
       "      <td>9.241282</td>\n",
       "      <td>12.657590</td>\n",
       "      <td>23.020323</td>\n",
       "    </tr>\n",
       "    <tr>\n",
       "      <th>7</th>\n",
       "      <td>11.826420</td>\n",
       "      <td>12.937185</td>\n",
       "      <td>23.598065</td>\n",
       "    </tr>\n",
       "    <tr>\n",
       "      <th>8</th>\n",
       "      <td>21.029502</td>\n",
       "      <td>22.801520</td>\n",
       "      <td>27.082000</td>\n",
       "    </tr>\n",
       "    <tr>\n",
       "      <th>9</th>\n",
       "      <td>40.655691</td>\n",
       "      <td>39.124788</td>\n",
       "      <td>40.730323</td>\n",
       "    </tr>\n",
       "    <tr>\n",
       "      <th>10</th>\n",
       "      <td>46.065854</td>\n",
       "      <td>47.416565</td>\n",
       "      <td>35.970333</td>\n",
       "    </tr>\n",
       "    <tr>\n",
       "      <th>11</th>\n",
       "      <td>19.156208</td>\n",
       "      <td>31.666598</td>\n",
       "      <td>58.898065</td>\n",
       "    </tr>\n",
       "    <tr>\n",
       "      <th>12</th>\n",
       "      <td>20.891751</td>\n",
       "      <td>26.178131</td>\n",
       "      <td>21.646452</td>\n",
       "    </tr>\n",
       "    <tr>\n",
       "      <th>13</th>\n",
       "      <td>29.615687</td>\n",
       "      <td>34.617704</td>\n",
       "      <td>13.678571</td>\n",
       "    </tr>\n",
       "    <tr>\n",
       "      <th>14</th>\n",
       "      <td>48.969881</td>\n",
       "      <td>46.804729</td>\n",
       "      <td>36.840968</td>\n",
       "    </tr>\n",
       "    <tr>\n",
       "      <th>15</th>\n",
       "      <td>48.413090</td>\n",
       "      <td>55.324732</td>\n",
       "      <td>55.584000</td>\n",
       "    </tr>\n",
       "    <tr>\n",
       "      <th>16</th>\n",
       "      <td>56.166816</td>\n",
       "      <td>53.073629</td>\n",
       "      <td>58.292258</td>\n",
       "    </tr>\n",
       "    <tr>\n",
       "      <th>17</th>\n",
       "      <td>27.077063</td>\n",
       "      <td>19.390887</td>\n",
       "      <td>59.143333</td>\n",
       "    </tr>\n",
       "    <tr>\n",
       "      <th>18</th>\n",
       "      <td>7.768287</td>\n",
       "      <td>9.755439</td>\n",
       "      <td>29.255484</td>\n",
       "    </tr>\n",
       "    <tr>\n",
       "      <th>19</th>\n",
       "      <td>10.353425</td>\n",
       "      <td>14.043560</td>\n",
       "      <td>24.117097</td>\n",
       "    </tr>\n",
       "    <tr>\n",
       "      <th>20</th>\n",
       "      <td>19.556506</td>\n",
       "      <td>20.669102</td>\n",
       "      <td>38.044333</td>\n",
       "    </tr>\n",
       "    <tr>\n",
       "      <th>21</th>\n",
       "      <td>39.182696</td>\n",
       "      <td>41.619119</td>\n",
       "      <td>44.520000</td>\n",
       "    </tr>\n",
       "    <tr>\n",
       "      <th>22</th>\n",
       "      <td>44.592859</td>\n",
       "      <td>40.719878</td>\n",
       "      <td>32.085667</td>\n",
       "    </tr>\n",
       "    <tr>\n",
       "      <th>23</th>\n",
       "      <td>17.683213</td>\n",
       "      <td>19.151684</td>\n",
       "      <td>25.950323</td>\n",
       "    </tr>\n",
       "  </tbody>\n",
       "</table>\n",
       "</div>"
      ],
      "text/plain": [
       "        holts  prophetpred   timetest\n",
       "0   22.364747    28.063974  28.810792\n",
       "1   31.088682    28.765259  35.948766\n",
       "2   50.442876    54.294606  52.314194\n",
       "3   49.886085    45.109209  52.861333\n",
       "4   57.639811    62.904259  60.491935\n",
       "5   28.550058    40.994837  39.936667\n",
       "6    9.241282    12.657590  23.020323\n",
       "7   11.826420    12.937185  23.598065\n",
       "8   21.029502    22.801520  27.082000\n",
       "9   40.655691    39.124788  40.730323\n",
       "10  46.065854    47.416565  35.970333\n",
       "11  19.156208    31.666598  58.898065\n",
       "12  20.891751    26.178131  21.646452\n",
       "13  29.615687    34.617704  13.678571\n",
       "14  48.969881    46.804729  36.840968\n",
       "15  48.413090    55.324732  55.584000\n",
       "16  56.166816    53.073629  58.292258\n",
       "17  27.077063    19.390887  59.143333\n",
       "18   7.768287     9.755439  29.255484\n",
       "19  10.353425    14.043560  24.117097\n",
       "20  19.556506    20.669102  38.044333\n",
       "21  39.182696    41.619119  44.520000\n",
       "22  44.592859    40.719878  32.085667\n",
       "23  17.683213    19.151684  25.950323"
      ]
     },
     "execution_count": 61,
     "metadata": {},
     "output_type": "execute_result"
    }
   ],
   "source": [
    "dft"
   ]
  },
  {
   "cell_type": "code",
   "execution_count": 66,
   "metadata": {},
   "outputs": [],
   "source": [
    "df.to_pickle(\"Taylor_Ozone.pkl\")\n",
    "dft.to_pickle(\"Taylort_Ozone.pkl\")\n"
   ]
  },
  {
   "cell_type": "code",
   "execution_count": 64,
   "metadata": {},
   "outputs": [],
   "source": [
    "import skill_metrics as sm\n",
    "from fbprophet import Prophet"
   ]
  },
  {
   "cell_type": "code",
   "execution_count": 67,
   "metadata": {
    "scrolled": true
   },
   "outputs": [
    {
     "data": {
      "image/png": "[encoded data removed]",
      "text/plain": [
       "<Figure size 432x288 with 1 Axes>"
      ]
     },
     "metadata": {
      "needs_background": "light"
     },
     "output_type": "display_data"
    }
   ],
   "source": [
    "import matplotlib.pyplot as plt\n",
    "import numpy as np\n",
    "import pickle\n",
    "import skill_metrics as sm\n",
    "from sys import version_info\n",
    "\n",
    "def load_obj(name):\n",
    "    # Load object from file in pickle format\n",
    "    if version_info[0] == 2:\n",
    "        suffix = 'pkl'\n",
    "    else:\n",
    "        suffix = 'pkl'\n",
    "\n",
    "    with open(name + '.' + suffix, 'rb') as f:\n",
    "        return pickle.load(f) # Python2 succeeds\n",
    "\n",
    "class Container(object): \n",
    "    \n",
    "    def __init__(self, pred1, pred2, ref):\n",
    "        self.pred1 = pred1\n",
    "        self.pred2 = pred2\n",
    "        self.ref = ref\n",
    "        \n",
    "if __name__ == '__main__':\n",
    "    \n",
    "    # Close any previously open graphics windows\n",
    "    # ToDo: fails to work within Eclipse\n",
    "    plt.close('all')\n",
    "        \n",
    "    # Read data from pickle file\n",
    "    data = load_obj('Taylor_Ozone')\n",
    "    datat = load_obj('Taylort_Ozone')\n",
    "    # Calculate statistics for Taylor diagram\n",
    "    # The first array element (e.g. taylor_stats1[0]) corresponds to the \n",
    "    # reference series while the second and subsequent elements\n",
    "    # (e.g. taylor_stats1[1:]) are those for the predicted series.\n",
    "    taylor_stats1 = sm.taylor_statistics(data.decision_tree,data.testdt,'data')\n",
    "    taylor_stats2 = sm.taylor_statistics(data.gbpred,data.testdt,'data')\n",
    "    taylor_stats3 = sm.taylor_statistics(data.forest_pred,data.testdt,'data')\n",
    "    taylor_stats4 = sm.taylor_statistics(datat.holts,datat.timetest,'datat')\n",
    "    taylor_stats5 = sm.taylor_statistics(datat.prophetpred,datat.timetest,'datat')\n",
    "    \n",
    "    \n",
    "    # Store statistics in arrays\n",
    "    sdev = np.array([taylor_stats1['sdev'][0], taylor_stats1['sdev'][1], \n",
    "                     taylor_stats2['sdev'][1],taylor_stats3['sdev'][1],taylor_stats4['sdev'][1],taylor_stats5['sdev'][1]])\n",
    "    crmsd = np.array([taylor_stats1['crmsd'][0], taylor_stats1['crmsd'][1], \n",
    "                      taylor_stats2['crmsd'][1],taylor_stats3['crmsd'][1],taylor_stats4['crmsd'][1],taylor_stats5['crmsd'][1]])\n",
    "    ccoef = np.array([taylor_stats1['ccoef'][0], taylor_stats1['ccoef'][1], \n",
    "                      taylor_stats2['ccoef'][1],taylor_stats3['ccoef'][1],taylor_stats4['ccoef'][1],taylor_stats5['ccoef'][1]])\n",
    "    # Specify labels for points in a cell array (M1 for model prediction 1,\n",
    "    # etc.). Note that a label needs to be specified for the reference even\n",
    "    # though it is not used.\n",
    "    \n",
    "    label = ['Observation', 'Decision', 'GBoost','Forest','Holts','Prophet']\n",
    "    \n",
    "    '''\n",
    "    Produce the Taylor diagram\n",
    "    Label the points and change the axis options for SDEV, CRMSD, and CCOEF.\n",
    "    Increase the upper limit for the SDEV axis and rotate the CRMSD contour\n",
    "    labels (counter-clockwise from x-axis). Exchange color and line style\n",
    "    choices for SDEV, CRMSD, and CCOEFF variables to show effect. Increase\n",
    "    the line width of all lines.\n",
    "    For an exhaustive list of options to customize your diagram, \n",
    "    please call the function at a Python command line:\n",
    "    >> taylor_diagram\n",
    "    '''\n",
    "    sm.taylor_diagram(sdev,crmsd,ccoef, markerLabel = label,\n",
    "                      markerLabelColor = 'r',markerColor = 'r',markerLegend = 'on',colRMS = 'r',styleRMS = ':',titleRMS = 'on',widthRMS = 2.0,titleRMSDangle = 40.0,\n",
    "                     colSTD = 'b', styleSTD = '-.',titleSTD = 'on',colCOR = 'k', styleCOR = '--',titleCOR = 'on',widthCOR = 2.0,markerSize = 10)\n",
    "\n",
    "    # Write plot to file\n",
    "    plt.savefig('taylorPM10.png')\n",
    "\n",
    "    # Show plot\n",
    "    plt.show()"
   ]
  },
  {
   "cell_type": "code",
   "execution_count": null,
   "metadata": {},
   "outputs": [],
   "source": [
    "import pandas as pd\n",
    "df=pd.read_excel(r\"C:\\Users\\Kira\\Desktop\\Internship\\Data\\Delhi_Data-20210529T043217Z-001\\Delhi_Data\\Taylor_comp\\NH3\\taylor_NH3.xlsx\")\n",
    "dft=pd.read_excel(r\"C:\\Users\\Kira\\Desktop\\Internship\\Data\\Delhi_Data-20210529T043217Z-001\\Delhi_Data\\Taylor_comp\\NH3\\taylortime_NH3.xlsx\")\n",
    "\n",
    "df.columns\n",
    "\n",
    "df['decision_tree'].std()\n",
    "\n",
    "dft.columns\n",
    "\n",
    "df=df[['decision_tree', 'gbpred', 'forest_pred','testdt']]\n",
    "dft=dft[['holts', 'prophetpred', 'timetest']]\n",
    "\n",
    "dft\n",
    "\n",
    "df.to_pickle(\"Taylor_NH3.pkl\")\n",
    "dft.to_pickle(\"Taylort_NH3.pkl\")\n",
    "\n",
    "\n",
    "import skill_metrics as sm\n",
    "from fbprophet import Prophet\n",
    "\n",
    "import matplotlib.pyplot as plt\n",
    "import numpy as np\n",
    "import pickle\n",
    "import skill_metrics as sm\n",
    "from sys import version_info\n",
    "\n",
    "def load_obj(name):\n",
    "    # Load object from file in pickle format\n",
    "    if version_info[0] == 2:\n",
    "        suffix = 'pkl'\n",
    "    else:\n",
    "        suffix = 'pkl'\n",
    "\n",
    "    with open(name + '.' + suffix, 'rb') as f:\n",
    "        return pickle.load(f) # Python2 succeeds\n",
    "\n",
    "class Container(object): \n",
    "    \n",
    "    def __init__(self, pred1, pred2, ref):\n",
    "        self.pred1 = pred1\n",
    "        self.pred2 = pred2\n",
    "        self.ref = ref\n",
    "        \n",
    "if __name__ == '__main__':\n",
    "    \n",
    "    # Close any previously open graphics windows\n",
    "    # ToDo: fails to work within Eclipse\n",
    "    plt.close('all')\n",
    "        \n",
    "    # Read data from pickle file\n",
    "    data = load_obj('Taylor_NH3')\n",
    "    datat = load_obj('Taylort_NH3')\n",
    "    # Calculate statistics for Taylor diagram\n",
    "    # The first array element (e.g. taylor_stats1[0]) corresponds to the \n",
    "    # reference series while the second and subsequent elements\n",
    "    # (e.g. taylor_stats1[1:]) are those for the predicted series.\n",
    "    taylor_stats1 = sm.taylor_statistics(data.decision_tree,data.testdt,'data')\n",
    "    taylor_stats2 = sm.taylor_statistics(data.gbpred,data.testdt,'data')\n",
    "    taylor_stats3 = sm.taylor_statistics(data.forest_pred,data.testdt,'data')\n",
    "    taylor_stats4 = sm.taylor_statistics(datat.holts,datat.timetest,'datat')\n",
    "    taylor_stats5 = sm.taylor_statistics(datat.prophetpred,datat.timetest,'datat')\n",
    "    \n",
    "    \n",
    "    # Store statistics in arrays\n",
    "    sdev = np.array([taylor_stats1['sdev'][0], taylor_stats1['sdev'][1], \n",
    "                     taylor_stats2['sdev'][1],taylor_stats3['sdev'][1],taylor_stats4['sdev'][1],taylor_stats5['sdev'][1]])\n",
    "    crmsd = np.array([taylor_stats1['crmsd'][0], taylor_stats1['crmsd'][1], \n",
    "                      taylor_stats2['crmsd'][1],taylor_stats3['crmsd'][1],taylor_stats4['crmsd'][1],taylor_stats5['crmsd'][1]])\n",
    "    ccoef = np.array([taylor_stats1['ccoef'][0], taylor_stats1['ccoef'][1], \n",
    "                      taylor_stats2['ccoef'][1],taylor_stats3['ccoef'][1],taylor_stats4['ccoef'][1],taylor_stats5['ccoef'][1]])\n",
    "    # Specify labels for points in a cell array (M1 for model prediction 1,\n",
    "    # etc.). Note that a label needs to be specified for the reference even\n",
    "    # though it is not used.\n",
    "    \n",
    "    label = ['Observation', 'Decision', 'GBoost','Forest','Holts','Prophet']\n",
    "    \n",
    "    '''\n",
    "    Produce the Taylor diagram\n",
    "    Label the points and change the axis options for SDEV, CRMSD, and CCOEF.\n",
    "    Increase the upper limit for the SDEV axis and rotate the CRMSD contour\n",
    "    labels (counter-clockwise from x-axis). Exchange color and line style\n",
    "    choices for SDEV, CRMSD, and CCOEFF variables to show effect. Increase\n",
    "    the line width of all lines.\n",
    "    For an exhaustive list of options to customize your diagram, \n",
    "    please call the function at a Python command line:\n",
    "    >> taylor_diagram\n",
    "    '''\n",
    "    sm.taylor_diagram(sdev,crmsd,ccoef, markerLabel = label,\n",
    "                      markerLabelColor = 'r',markerColor = 'r',markerLegend = 'on',colRMS = 'r',styleRMS = ':',titleRMS = 'on',widthRMS = 2.0,titleRMSDangle = 40.0,\n",
    "                     colSTD = 'b', styleSTD = '-.',titleSTD = 'on',colCOR = 'k', styleCOR = '--',titleCOR = 'on',widthCOR = 2.0,markerSize = 10)\n",
    "\n",
    "    # Write plot to file\n",
    "    plt.savefig('taylorPM10.png')\n",
    "\n",
    "    # Show plot\n",
    "    plt.show()"
   ]
  }
 ],
 "metadata": {
  "kernelspec": {
   "display_name": "Python 3",
   "language": "python",
   "name": "python3"
  },
  "language_info": {
   "codemirror_mode": {
    "name": "ipython",
    "version": 3
   },
   "file_extension": ".py",
   "mimetype": "text/x-python",
   "name": "python",
   "nbconvert_exporter": "python",
   "pygments_lexer": "ipython3",
   "version": "3.8.5"
  }
 },
 "nbformat": 4,
 "nbformat_minor": 4
}
