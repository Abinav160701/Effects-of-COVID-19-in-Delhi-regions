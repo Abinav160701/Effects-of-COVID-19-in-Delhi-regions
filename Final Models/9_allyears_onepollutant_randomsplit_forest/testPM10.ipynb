{
 "cells": [
  {
   "cell_type": "code",
   "execution_count": 83,
   "metadata": {},
   "outputs": [],
   "source": [
    "import pandas as pd\n",
    "import numpy as np\n",
    "import matplotlib.pyplot as plt\n",
    "import seaborn as sns\n",
    "sns.set()\n",
    "import warnings\n",
    "warnings.filterwarnings(action='ignore')\n",
    "from statsmodels.tsa.seasonal import seasonal_decompose\n",
    "import statsmodels.formula.api as formula\n",
    "from statsmodels.stats.outliers_influence import variance_inflation_factor\n",
    "import statsmodels as sm\n",
    "from sklearn import preprocessing\n",
    "from sklearn.model_selection import train_test_split,GridSearchCV,RandomizedSearchCV\n",
    "from sklearn.linear_model import LinearRegression,Lasso,Ridge\n",
    "#from sklearn.externals import joblib\n",
    "from sklearn.metrics import r2_score,mean_squared_error\n",
    "from sklearn.ensemble import RandomForestRegressor,GradientBoostingRegressor\n",
    "from sklearn.tree import DecisionTreeRegressor\n",
    "from IPython.display import display\n",
    "from sklearn import metrics"
   ]
  },
  {
   "cell_type": "code",
   "execution_count": 84,
   "metadata": {},
   "outputs": [],
   "source": [
    "data = pd.read_excel (r'D:\\Downloads\\rk_month.xlsx')\n",
    "data['From Date']=pd.to_datetime(data['From Date'])\n",
    "data['year'] = data['From Date'].dt.year\n",
    "data['month'] = data['From Date'].dt.month\n",
    "data['day'] = data['From Date'].dt.day"
   ]
  },
  {
   "cell_type": "code",
   "execution_count": 85,
   "metadata": {},
   "outputs": [],
   "source": [
    "import datetime as dt"
   ]
  },
  {
   "cell_type": "code",
   "execution_count": 86,
   "metadata": {},
   "outputs": [],
   "source": [
    "data['From Date']= data['From Date'].map(dt.datetime.toordinal)"
   ]
  },
  {
   "cell_type": "code",
   "execution_count": 87,
   "metadata": {},
   "outputs": [],
   "source": [
    "df=data.loc['0':'365']"
   ]
  },
  {
   "cell_type": "code",
   "execution_count": 88,
   "metadata": {},
   "outputs": [],
   "source": [
    "X1 = df[['From Date','year', 'month', 'day']]\n",
    "Y1 = df['PM1']"
   ]
  },
  {
   "cell_type": "code",
   "execution_count": 89,
   "metadata": {},
   "outputs": [],
   "source": [
    "xtrain,xtest,ytrain,ytest = train_test_split(X1,Y1,test_size=.2,random_state=3)"
   ]
  },
  {
   "cell_type": "code",
   "execution_count": 90,
   "metadata": {},
   "outputs": [
    {
     "data": {
      "text/plain": [
       "RandomForestRegressor(max_depth=12, min_samples_leaf=3, min_samples_split=6,\n",
       "                      n_estimators=1500, random_state=10)"
      ]
     },
     "execution_count": 90,
     "metadata": {},
     "output_type": "execute_result"
    }
   ],
   "source": [
    "forest = RandomForestRegressor(n_estimators=1500,\n",
    "                              max_depth=12,\n",
    "                              max_features='auto',\n",
    "                              min_samples_split=6,\n",
    "                              min_samples_leaf=3,random_state=10)\n",
    "\n",
    "forest.fit(xtrain,ytrain)"
   ]
  },
  {
   "cell_type": "code",
   "execution_count": 91,
   "metadata": {},
   "outputs": [
    {
     "name": "stdout",
     "output_type": "stream",
     "text": [
      "Score on train data: 0.8955064675230426\n",
      "\n",
      "Score on test data: 0.7792507598021461\n",
      "\n",
      "Root Mean Squared Error: 56.298127852111286\n",
      "\n",
      "Overall model accuracy: 0.7792507598021461\n"
     ]
    }
   ],
   "source": [
    "# we now score the model\n",
    "print('Score on train data: {}\\n'.format(forest.score(xtrain,ytrain)))\n",
    "print('Score on test data: {}\\n'.format(forest.score(xtest,ytest)))\n",
    "\n",
    "forest_pred = forest.predict(xtest)\n",
    "forest_mse = mean_squared_error(ytest,forest_pred)\n",
    "forest_accuracy = r2_score(ytest,forest_pred)\n",
    "\n",
    "print('Root Mean Squared Error: {}\\n'.format(np.sqrt(forest_mse)))\n",
    "print('Overall model accuracy: {}'.format(forest_accuracy))"
   ]
  },
  {
   "cell_type": "code",
   "execution_count": 92,
   "metadata": {},
   "outputs": [
    {
     "data": {
      "text/html": [
       "<div>\n",
       "<style scoped>\n",
       "    .dataframe tbody tr th:only-of-type {\n",
       "        vertical-align: middle;\n",
       "    }\n",
       "\n",
       "    .dataframe tbody tr th {\n",
       "        vertical-align: top;\n",
       "    }\n",
       "\n",
       "    .dataframe thead th {\n",
       "        text-align: right;\n",
       "    }\n",
       "</style>\n",
       "<table border=\"1\" class=\"dataframe\">\n",
       "  <thead>\n",
       "    <tr style=\"text-align: right;\">\n",
       "      <th></th>\n",
       "      <th>From Date</th>\n",
       "      <th>year</th>\n",
       "      <th>month</th>\n",
       "      <th>day</th>\n",
       "    </tr>\n",
       "  </thead>\n",
       "  <tbody>\n",
       "    <tr>\n",
       "      <th>366</th>\n",
       "      <td>737436</td>\n",
       "      <td>2020</td>\n",
       "      <td>1</td>\n",
       "      <td>12</td>\n",
       "    </tr>\n",
       "    <tr>\n",
       "      <th>367</th>\n",
       "      <td>737443</td>\n",
       "      <td>2020</td>\n",
       "      <td>1</td>\n",
       "      <td>19</td>\n",
       "    </tr>\n",
       "    <tr>\n",
       "      <th>368</th>\n",
       "      <td>737450</td>\n",
       "      <td>2020</td>\n",
       "      <td>1</td>\n",
       "      <td>26</td>\n",
       "    </tr>\n",
       "    <tr>\n",
       "      <th>369</th>\n",
       "      <td>737457</td>\n",
       "      <td>2020</td>\n",
       "      <td>2</td>\n",
       "      <td>2</td>\n",
       "    </tr>\n",
       "    <tr>\n",
       "      <th>370</th>\n",
       "      <td>737464</td>\n",
       "      <td>2020</td>\n",
       "      <td>2</td>\n",
       "      <td>9</td>\n",
       "    </tr>\n",
       "    <tr>\n",
       "      <th>371</th>\n",
       "      <td>737471</td>\n",
       "      <td>2020</td>\n",
       "      <td>2</td>\n",
       "      <td>16</td>\n",
       "    </tr>\n",
       "    <tr>\n",
       "      <th>372</th>\n",
       "      <td>737478</td>\n",
       "      <td>2020</td>\n",
       "      <td>2</td>\n",
       "      <td>23</td>\n",
       "    </tr>\n",
       "    <tr>\n",
       "      <th>373</th>\n",
       "      <td>737485</td>\n",
       "      <td>2020</td>\n",
       "      <td>3</td>\n",
       "      <td>1</td>\n",
       "    </tr>\n",
       "    <tr>\n",
       "      <th>374</th>\n",
       "      <td>737492</td>\n",
       "      <td>2020</td>\n",
       "      <td>3</td>\n",
       "      <td>8</td>\n",
       "    </tr>\n",
       "    <tr>\n",
       "      <th>375</th>\n",
       "      <td>737499</td>\n",
       "      <td>2020</td>\n",
       "      <td>3</td>\n",
       "      <td>15</td>\n",
       "    </tr>\n",
       "    <tr>\n",
       "      <th>376</th>\n",
       "      <td>737506</td>\n",
       "      <td>2020</td>\n",
       "      <td>3</td>\n",
       "      <td>22</td>\n",
       "    </tr>\n",
       "    <tr>\n",
       "      <th>377</th>\n",
       "      <td>737513</td>\n",
       "      <td>2020</td>\n",
       "      <td>3</td>\n",
       "      <td>29</td>\n",
       "    </tr>\n",
       "    <tr>\n",
       "      <th>378</th>\n",
       "      <td>737520</td>\n",
       "      <td>2020</td>\n",
       "      <td>4</td>\n",
       "      <td>5</td>\n",
       "    </tr>\n",
       "    <tr>\n",
       "      <th>379</th>\n",
       "      <td>737527</td>\n",
       "      <td>2020</td>\n",
       "      <td>4</td>\n",
       "      <td>12</td>\n",
       "    </tr>\n",
       "    <tr>\n",
       "      <th>380</th>\n",
       "      <td>737534</td>\n",
       "      <td>2020</td>\n",
       "      <td>4</td>\n",
       "      <td>19</td>\n",
       "    </tr>\n",
       "    <tr>\n",
       "      <th>381</th>\n",
       "      <td>737541</td>\n",
       "      <td>2020</td>\n",
       "      <td>4</td>\n",
       "      <td>26</td>\n",
       "    </tr>\n",
       "    <tr>\n",
       "      <th>382</th>\n",
       "      <td>737548</td>\n",
       "      <td>2020</td>\n",
       "      <td>5</td>\n",
       "      <td>3</td>\n",
       "    </tr>\n",
       "    <tr>\n",
       "      <th>383</th>\n",
       "      <td>737555</td>\n",
       "      <td>2020</td>\n",
       "      <td>5</td>\n",
       "      <td>10</td>\n",
       "    </tr>\n",
       "    <tr>\n",
       "      <th>384</th>\n",
       "      <td>737562</td>\n",
       "      <td>2020</td>\n",
       "      <td>5</td>\n",
       "      <td>17</td>\n",
       "    </tr>\n",
       "    <tr>\n",
       "      <th>385</th>\n",
       "      <td>737569</td>\n",
       "      <td>2020</td>\n",
       "      <td>5</td>\n",
       "      <td>24</td>\n",
       "    </tr>\n",
       "    <tr>\n",
       "      <th>386</th>\n",
       "      <td>737576</td>\n",
       "      <td>2020</td>\n",
       "      <td>5</td>\n",
       "      <td>31</td>\n",
       "    </tr>\n",
       "    <tr>\n",
       "      <th>387</th>\n",
       "      <td>737583</td>\n",
       "      <td>2020</td>\n",
       "      <td>6</td>\n",
       "      <td>7</td>\n",
       "    </tr>\n",
       "    <tr>\n",
       "      <th>388</th>\n",
       "      <td>737590</td>\n",
       "      <td>2020</td>\n",
       "      <td>6</td>\n",
       "      <td>14</td>\n",
       "    </tr>\n",
       "    <tr>\n",
       "      <th>389</th>\n",
       "      <td>737597</td>\n",
       "      <td>2020</td>\n",
       "      <td>6</td>\n",
       "      <td>21</td>\n",
       "    </tr>\n",
       "    <tr>\n",
       "      <th>390</th>\n",
       "      <td>737604</td>\n",
       "      <td>2020</td>\n",
       "      <td>6</td>\n",
       "      <td>28</td>\n",
       "    </tr>\n",
       "    <tr>\n",
       "      <th>391</th>\n",
       "      <td>737611</td>\n",
       "      <td>2020</td>\n",
       "      <td>7</td>\n",
       "      <td>5</td>\n",
       "    </tr>\n",
       "    <tr>\n",
       "      <th>392</th>\n",
       "      <td>737618</td>\n",
       "      <td>2020</td>\n",
       "      <td>7</td>\n",
       "      <td>12</td>\n",
       "    </tr>\n",
       "    <tr>\n",
       "      <th>393</th>\n",
       "      <td>737625</td>\n",
       "      <td>2020</td>\n",
       "      <td>7</td>\n",
       "      <td>19</td>\n",
       "    </tr>\n",
       "    <tr>\n",
       "      <th>394</th>\n",
       "      <td>737632</td>\n",
       "      <td>2020</td>\n",
       "      <td>7</td>\n",
       "      <td>26</td>\n",
       "    </tr>\n",
       "    <tr>\n",
       "      <th>395</th>\n",
       "      <td>737639</td>\n",
       "      <td>2020</td>\n",
       "      <td>8</td>\n",
       "      <td>2</td>\n",
       "    </tr>\n",
       "    <tr>\n",
       "      <th>396</th>\n",
       "      <td>737646</td>\n",
       "      <td>2020</td>\n",
       "      <td>8</td>\n",
       "      <td>9</td>\n",
       "    </tr>\n",
       "    <tr>\n",
       "      <th>397</th>\n",
       "      <td>737653</td>\n",
       "      <td>2020</td>\n",
       "      <td>8</td>\n",
       "      <td>16</td>\n",
       "    </tr>\n",
       "    <tr>\n",
       "      <th>398</th>\n",
       "      <td>737660</td>\n",
       "      <td>2020</td>\n",
       "      <td>8</td>\n",
       "      <td>23</td>\n",
       "    </tr>\n",
       "    <tr>\n",
       "      <th>399</th>\n",
       "      <td>737667</td>\n",
       "      <td>2020</td>\n",
       "      <td>8</td>\n",
       "      <td>30</td>\n",
       "    </tr>\n",
       "    <tr>\n",
       "      <th>400</th>\n",
       "      <td>737674</td>\n",
       "      <td>2020</td>\n",
       "      <td>9</td>\n",
       "      <td>6</td>\n",
       "    </tr>\n",
       "    <tr>\n",
       "      <th>401</th>\n",
       "      <td>737681</td>\n",
       "      <td>2020</td>\n",
       "      <td>9</td>\n",
       "      <td>13</td>\n",
       "    </tr>\n",
       "    <tr>\n",
       "      <th>402</th>\n",
       "      <td>737688</td>\n",
       "      <td>2020</td>\n",
       "      <td>9</td>\n",
       "      <td>20</td>\n",
       "    </tr>\n",
       "    <tr>\n",
       "      <th>403</th>\n",
       "      <td>737695</td>\n",
       "      <td>2020</td>\n",
       "      <td>9</td>\n",
       "      <td>27</td>\n",
       "    </tr>\n",
       "    <tr>\n",
       "      <th>404</th>\n",
       "      <td>737702</td>\n",
       "      <td>2020</td>\n",
       "      <td>10</td>\n",
       "      <td>4</td>\n",
       "    </tr>\n",
       "    <tr>\n",
       "      <th>405</th>\n",
       "      <td>737709</td>\n",
       "      <td>2020</td>\n",
       "      <td>10</td>\n",
       "      <td>11</td>\n",
       "    </tr>\n",
       "    <tr>\n",
       "      <th>406</th>\n",
       "      <td>737716</td>\n",
       "      <td>2020</td>\n",
       "      <td>10</td>\n",
       "      <td>18</td>\n",
       "    </tr>\n",
       "    <tr>\n",
       "      <th>407</th>\n",
       "      <td>737723</td>\n",
       "      <td>2020</td>\n",
       "      <td>10</td>\n",
       "      <td>25</td>\n",
       "    </tr>\n",
       "    <tr>\n",
       "      <th>408</th>\n",
       "      <td>737730</td>\n",
       "      <td>2020</td>\n",
       "      <td>11</td>\n",
       "      <td>1</td>\n",
       "    </tr>\n",
       "    <tr>\n",
       "      <th>409</th>\n",
       "      <td>737737</td>\n",
       "      <td>2020</td>\n",
       "      <td>11</td>\n",
       "      <td>8</td>\n",
       "    </tr>\n",
       "    <tr>\n",
       "      <th>410</th>\n",
       "      <td>737744</td>\n",
       "      <td>2020</td>\n",
       "      <td>11</td>\n",
       "      <td>15</td>\n",
       "    </tr>\n",
       "    <tr>\n",
       "      <th>411</th>\n",
       "      <td>737751</td>\n",
       "      <td>2020</td>\n",
       "      <td>11</td>\n",
       "      <td>22</td>\n",
       "    </tr>\n",
       "    <tr>\n",
       "      <th>412</th>\n",
       "      <td>737758</td>\n",
       "      <td>2020</td>\n",
       "      <td>11</td>\n",
       "      <td>29</td>\n",
       "    </tr>\n",
       "    <tr>\n",
       "      <th>413</th>\n",
       "      <td>737765</td>\n",
       "      <td>2020</td>\n",
       "      <td>12</td>\n",
       "      <td>6</td>\n",
       "    </tr>\n",
       "    <tr>\n",
       "      <th>414</th>\n",
       "      <td>737772</td>\n",
       "      <td>2020</td>\n",
       "      <td>12</td>\n",
       "      <td>13</td>\n",
       "    </tr>\n",
       "    <tr>\n",
       "      <th>415</th>\n",
       "      <td>737779</td>\n",
       "      <td>2020</td>\n",
       "      <td>12</td>\n",
       "      <td>20</td>\n",
       "    </tr>\n",
       "    <tr>\n",
       "      <th>416</th>\n",
       "      <td>737786</td>\n",
       "      <td>2020</td>\n",
       "      <td>12</td>\n",
       "      <td>27</td>\n",
       "    </tr>\n",
       "    <tr>\n",
       "      <th>417</th>\n",
       "      <td>737793</td>\n",
       "      <td>2021</td>\n",
       "      <td>1</td>\n",
       "      <td>3</td>\n",
       "    </tr>\n",
       "  </tbody>\n",
       "</table>\n",
       "</div>"
      ],
      "text/plain": [
       "     From Date  year  month  day\n",
       "366     737436  2020      1   12\n",
       "367     737443  2020      1   19\n",
       "368     737450  2020      1   26\n",
       "369     737457  2020      2    2\n",
       "370     737464  2020      2    9\n",
       "371     737471  2020      2   16\n",
       "372     737478  2020      2   23\n",
       "373     737485  2020      3    1\n",
       "374     737492  2020      3    8\n",
       "375     737499  2020      3   15\n",
       "376     737506  2020      3   22\n",
       "377     737513  2020      3   29\n",
       "378     737520  2020      4    5\n",
       "379     737527  2020      4   12\n",
       "380     737534  2020      4   19\n",
       "381     737541  2020      4   26\n",
       "382     737548  2020      5    3\n",
       "383     737555  2020      5   10\n",
       "384     737562  2020      5   17\n",
       "385     737569  2020      5   24\n",
       "386     737576  2020      5   31\n",
       "387     737583  2020      6    7\n",
       "388     737590  2020      6   14\n",
       "389     737597  2020      6   21\n",
       "390     737604  2020      6   28\n",
       "391     737611  2020      7    5\n",
       "392     737618  2020      7   12\n",
       "393     737625  2020      7   19\n",
       "394     737632  2020      7   26\n",
       "395     737639  2020      8    2\n",
       "396     737646  2020      8    9\n",
       "397     737653  2020      8   16\n",
       "398     737660  2020      8   23\n",
       "399     737667  2020      8   30\n",
       "400     737674  2020      9    6\n",
       "401     737681  2020      9   13\n",
       "402     737688  2020      9   20\n",
       "403     737695  2020      9   27\n",
       "404     737702  2020     10    4\n",
       "405     737709  2020     10   11\n",
       "406     737716  2020     10   18\n",
       "407     737723  2020     10   25\n",
       "408     737730  2020     11    1\n",
       "409     737737  2020     11    8\n",
       "410     737744  2020     11   15\n",
       "411     737751  2020     11   22\n",
       "412     737758  2020     11   29\n",
       "413     737765  2020     12    6\n",
       "414     737772  2020     12   13\n",
       "415     737779  2020     12   20\n",
       "416     737786  2020     12   27\n",
       "417     737793  2021      1    3"
      ]
     },
     "execution_count": 92,
     "metadata": {},
     "output_type": "execute_result"
    }
   ],
   "source": [
    "test=data.loc['366':'418']\n",
    "X=test[['From Date','year', 'month', 'day']]\n",
    "X"
   ]
  },
  {
   "cell_type": "code",
   "execution_count": 93,
   "metadata": {},
   "outputs": [],
   "source": [
    "predict=forest.predict(X)"
   ]
  },
  {
   "cell_type": "code",
   "execution_count": 94,
   "metadata": {},
   "outputs": [
    {
     "data": {
      "text/plain": [
       "array([375.75210708, 314.00128404, 292.42832098, 274.12046273,\n",
       "       248.16023275, 245.46338841, 220.14663867, 248.10749872,\n",
       "       208.59937954, 200.67573369, 191.76984767, 195.71996588,\n",
       "       216.30576669, 208.829091  , 202.94060484, 217.78633047,\n",
       "       224.08114585, 214.84022319, 213.50939011, 213.4664286 ,\n",
       "       217.147118  , 210.07800938, 222.51847443, 201.97307241,\n",
       "       187.13826019, 118.55588732,  87.59142089,  82.92245345,\n",
       "        79.47200923,  91.8570951 , 106.38274964,  85.5521198 ,\n",
       "        80.40927304,  79.8589514 , 118.4416987 , 102.26877774,\n",
       "       100.24776035,  97.38039259, 164.0980298 , 216.74813109,\n",
       "       274.1729788 , 290.31401201, 282.70997362, 283.34634074,\n",
       "       271.10424123, 274.35199981, 284.96625164, 283.56057708,\n",
       "       281.72876596, 274.37988623, 288.08585688, 391.06022809])"
      ]
     },
     "execution_count": 94,
     "metadata": {},
     "output_type": "execute_result"
    }
   ],
   "source": [
    "predict"
   ]
  },
  {
   "cell_type": "code",
   "execution_count": 95,
   "metadata": {},
   "outputs": [],
   "source": [
    "X['From Date']= X['From Date'].map(dt.datetime.fromordinal)"
   ]
  },
  {
   "cell_type": "code",
   "execution_count": 96,
   "metadata": {},
   "outputs": [],
   "source": [
    "test['From Date']= test['From Date'].map(dt.datetime.fromordinal)"
   ]
  },
  {
   "cell_type": "code",
   "execution_count": 97,
   "metadata": {},
   "outputs": [],
   "source": [
    "test = test.set_index(['From Date'])\n",
    "X = X.set_index(['From Date'])\n"
   ]
  },
  {
   "cell_type": "code",
   "execution_count": 98,
   "metadata": {},
   "outputs": [],
   "source": [
    "X['pred']=predict"
   ]
  },
  {
   "cell_type": "code",
   "execution_count": 99,
   "metadata": {},
   "outputs": [
    {
     "data": {
      "text/plain": [
       "['Solarize_Light2',\n",
       " '_classic_test_patch',\n",
       " 'bmh',\n",
       " 'classic',\n",
       " 'dark_background',\n",
       " 'fast',\n",
       " 'fivethirtyeight',\n",
       " 'ggplot',\n",
       " 'grayscale',\n",
       " 'seaborn',\n",
       " 'seaborn-bright',\n",
       " 'seaborn-colorblind',\n",
       " 'seaborn-dark',\n",
       " 'seaborn-dark-palette',\n",
       " 'seaborn-darkgrid',\n",
       " 'seaborn-deep',\n",
       " 'seaborn-muted',\n",
       " 'seaborn-notebook',\n",
       " 'seaborn-paper',\n",
       " 'seaborn-pastel',\n",
       " 'seaborn-poster',\n",
       " 'seaborn-talk',\n",
       " 'seaborn-ticks',\n",
       " 'seaborn-white',\n",
       " 'seaborn-whitegrid',\n",
       " 'tableau-colorblind10']"
      ]
     },
     "execution_count": 99,
     "metadata": {},
     "output_type": "execute_result"
    }
   ],
   "source": [
    "from matplotlib import style\n",
    "style.available"
   ]
  },
  {
   "cell_type": "code",
   "execution_count": 100,
   "metadata": {},
   "outputs": [
    {
     "data": {
      "image/png": "[encoded data removed]",
      "text/plain": [
       "<Figure size 720x432 with 1 Axes>"
      ]
     },
     "metadata": {},
     "output_type": "display_data"
    }
   ],
   "source": [
    "test['PM1'].plot(legend=True, label='Actual PM10', figsize=(10,6))\n",
    "X['pred'].plot(legend=True, label='Predicted PM10')\n",
    "plt.style.use('seaborn-white')"
   ]
  },
  {
   "cell_type": "code",
   "execution_count": 101,
   "metadata": {
    "scrolled": true
   },
   "outputs": [
    {
     "name": "stdout",
     "output_type": "stream",
     "text": [
      "Results of sklearn.metrics:\n",
      "MAE: 41.031287529860556\n",
      "MSE: 3169.4791996526687\n",
      "RMSE: 56.298127852111286\n",
      "R-Squared: 0.7792507598021461\n"
     ]
    }
   ],
   "source": [
    "mae = metrics.mean_absolute_error(ytest, forest_pred)\n",
    "mse = metrics.mean_squared_error(ytest, forest_pred)\n",
    "rmsetest = np.sqrt(mse) # or mse**(0.5)  \n",
    "r2 = metrics.r2_score(ytest,forest_pred)\n",
    "\n",
    "print(\"Results of sklearn.metrics:\")\n",
    "print(\"MAE:\",mae)\n",
    "print(\"MSE:\", mse)\n",
    "print(\"RMSE:\", rmsetest)\n",
    "print(\"R-Squared:\", r2)"
   ]
  },
  {
   "cell_type": "code",
   "execution_count": 102,
   "metadata": {},
   "outputs": [
    {
     "name": "stdout",
     "output_type": "stream",
     "text": [
      "Results of sklearn.metrics:\n",
      "MAE: 71.26370108858903\n",
      "MSE: 7183.522943999012\n",
      "RMSE: 84.75566614686602\n",
      "R-Squared: 0.31300421424317104\n"
     ]
    }
   ],
   "source": [
    "mae = metrics.mean_absolute_error(test['PM1'],X['pred'])\n",
    "mse = metrics.mean_squared_error(test['PM1'],X['pred'])\n",
    "rmse = np.sqrt(mse) # or mse**(0.5)  \n",
    "r2 = metrics.r2_score(test['PM1'],X['pred'])\n",
    "\n",
    "print(\"Results of sklearn.metrics:\")\n",
    "print(\"MAE:\",mae)\n",
    "print(\"MSE:\", mse)\n",
    "print(\"RMSE:\", rmse)\n",
    "print(\"R-Squared:\", r2)"
   ]
  },
  {
   "cell_type": "code",
   "execution_count": 103,
   "metadata": {},
   "outputs": [],
   "source": [
    "import pickle\n",
    "filename = 'PM10_model.sav'\n",
    "pickle.dump(forest, open(filename, 'wb'))"
   ]
  },
  {
   "cell_type": "code",
   "execution_count": 104,
   "metadata": {},
   "outputs": [],
   "source": [
    "pred=X.loc[\"2020-03-25\":\"2020-04-14\",'pred']"
   ]
  },
  {
   "cell_type": "code",
   "execution_count": 105,
   "metadata": {},
   "outputs": [
    {
     "data": {
      "text/plain": [
       "208.8290909953821"
      ]
     },
     "execution_count": 105,
     "metadata": {},
     "output_type": "execute_result"
    }
   ],
   "source": [
    "pred.median()"
   ]
  },
  {
   "cell_type": "code",
   "execution_count": 106,
   "metadata": {},
   "outputs": [
    {
     "data": {
      "text/plain": [
       "120.64206826968451"
      ]
     },
     "execution_count": 106,
     "metadata": {},
     "output_type": "execute_result"
    }
   ],
   "source": [
    "ytest.std()"
   ]
  },
  {
   "cell_type": "code",
   "execution_count": 107,
   "metadata": {},
   "outputs": [
    {
     "data": {
      "text/plain": [
       "103.25433378537436"
      ]
     },
     "execution_count": 107,
     "metadata": {},
     "output_type": "execute_result"
    }
   ],
   "source": [
    "test['PM1'].std()"
   ]
  },
  {
   "cell_type": "code",
   "execution_count": 108,
   "metadata": {},
   "outputs": [
    {
     "data": {
      "text/plain": [
       "141.26986425169036"
      ]
     },
     "execution_count": 108,
     "metadata": {},
     "output_type": "execute_result"
    }
   ],
   "source": [
    "pred1=X.loc[\"2020-04-15\":\"2020-05-17\",'pred']\n",
    "pred2=X.loc[\"2020-08-01\":\"2020-11-30\",'pred']\n",
    "pred3=X.loc[\"2020-01-30\":\"2020-03-22\",'pred']\n",
    "pred2.median()"
   ]
  },
  {
   "cell_type": "markdown",
   "metadata": {},
   "source": [
    "# 3rd plot"
   ]
  },
  {
   "cell_type": "code",
   "execution_count": 109,
   "metadata": {},
   "outputs": [],
   "source": [
    "testcase = pd.DataFrame()"
   ]
  },
  {
   "cell_type": "code",
   "execution_count": 110,
   "metadata": {
    "scrolled": true
   },
   "outputs": [],
   "source": [
    "testcase['test']=ytest\n",
    "testcase['pred']=forest_pred"
   ]
  },
  {
   "cell_type": "code",
   "execution_count": 111,
   "metadata": {},
   "outputs": [],
   "source": [
    "testcase[\"Corrected\"] = np.where(testcase[\"pred\"]<testcase[\"test\"],testcase[\"pred\"]+rmsetest ,\n",
    "                   np.where(testcase[\"pred\"]>testcase[\"test\"], testcase[\"pred\"]-rmsetest,\n",
    "                            testcase[\"pred\"]))"
   ]
  },
  {
   "cell_type": "code",
   "execution_count": 112,
   "metadata": {},
   "outputs": [
    {
     "data": {
      "text/html": [
       "<div>\n",
       "<style scoped>\n",
       "    .dataframe tbody tr th:only-of-type {\n",
       "        vertical-align: middle;\n",
       "    }\n",
       "\n",
       "    .dataframe tbody tr th {\n",
       "        vertical-align: top;\n",
       "    }\n",
       "\n",
       "    .dataframe thead th {\n",
       "        text-align: right;\n",
       "    }\n",
       "</style>\n",
       "<table border=\"1\" class=\"dataframe\">\n",
       "  <thead>\n",
       "    <tr style=\"text-align: right;\">\n",
       "      <th></th>\n",
       "      <th>test</th>\n",
       "      <th>pred</th>\n",
       "      <th>Corrected</th>\n",
       "    </tr>\n",
       "  </thead>\n",
       "  <tbody>\n",
       "    <tr>\n",
       "      <th>102</th>\n",
       "      <td>370.661429</td>\n",
       "      <td>444.195970</td>\n",
       "      <td>387.897842</td>\n",
       "    </tr>\n",
       "    <tr>\n",
       "      <th>330</th>\n",
       "      <td>247.807143</td>\n",
       "      <td>216.827764</td>\n",
       "      <td>273.125892</td>\n",
       "    </tr>\n",
       "    <tr>\n",
       "      <th>240</th>\n",
       "      <td>96.570000</td>\n",
       "      <td>106.824401</td>\n",
       "      <td>50.526274</td>\n",
       "    </tr>\n",
       "    <tr>\n",
       "      <th>24</th>\n",
       "      <td>197.755714</td>\n",
       "      <td>204.572947</td>\n",
       "      <td>148.274819</td>\n",
       "    </tr>\n",
       "    <tr>\n",
       "      <th>134</th>\n",
       "      <td>68.220000</td>\n",
       "      <td>124.311233</td>\n",
       "      <td>68.013105</td>\n",
       "    </tr>\n",
       "    <tr>\n",
       "      <th>...</th>\n",
       "      <td>...</td>\n",
       "      <td>...</td>\n",
       "      <td>...</td>\n",
       "    </tr>\n",
       "    <tr>\n",
       "      <th>123</th>\n",
       "      <td>231.584286</td>\n",
       "      <td>274.797691</td>\n",
       "      <td>218.499564</td>\n",
       "    </tr>\n",
       "    <tr>\n",
       "      <th>214</th>\n",
       "      <td>279.338571</td>\n",
       "      <td>309.923566</td>\n",
       "      <td>253.625438</td>\n",
       "    </tr>\n",
       "    <tr>\n",
       "      <th>23</th>\n",
       "      <td>222.228571</td>\n",
       "      <td>257.292061</td>\n",
       "      <td>200.993934</td>\n",
       "    </tr>\n",
       "    <tr>\n",
       "      <th>209</th>\n",
       "      <td>282.434286</td>\n",
       "      <td>393.252550</td>\n",
       "      <td>336.954422</td>\n",
       "    </tr>\n",
       "    <tr>\n",
       "      <th>315</th>\n",
       "      <td>405.144286</td>\n",
       "      <td>313.380363</td>\n",
       "      <td>369.678491</td>\n",
       "    </tr>\n",
       "  </tbody>\n",
       "</table>\n",
       "<p>74 rows × 3 columns</p>\n",
       "</div>"
      ],
      "text/plain": [
       "           test        pred   Corrected\n",
       "102  370.661429  444.195970  387.897842\n",
       "330  247.807143  216.827764  273.125892\n",
       "240   96.570000  106.824401   50.526274\n",
       "24   197.755714  204.572947  148.274819\n",
       "134   68.220000  124.311233   68.013105\n",
       "..          ...         ...         ...\n",
       "123  231.584286  274.797691  218.499564\n",
       "214  279.338571  309.923566  253.625438\n",
       "23   222.228571  257.292061  200.993934\n",
       "209  282.434286  393.252550  336.954422\n",
       "315  405.144286  313.380363  369.678491\n",
       "\n",
       "[74 rows x 3 columns]"
      ]
     },
     "execution_count": 112,
     "metadata": {},
     "output_type": "execute_result"
    }
   ],
   "source": [
    "testcase"
   ]
  },
  {
   "cell_type": "code",
   "execution_count": 113,
   "metadata": {},
   "outputs": [
    {
     "data": {
      "text/plain": [
       "'testcase[\\'test\\'].plot(legend=True, label=\\'Actual PM2.5\\', figsize=(10,6))\\ntestcase[\\'pred\\'].plot(legend=True, label=\\'Predicted PM2.5\\')\\ntestcase[\"Corrected\"].plot(legend=True, label=\\'Corrected PM2.5\\')'"
      ]
     },
     "execution_count": 113,
     "metadata": {},
     "output_type": "execute_result"
    }
   ],
   "source": [
    "'''testcase['test'].plot(legend=True, label='Actual PM2.5', figsize=(10,6))\n",
    "testcase['pred'].plot(legend=True, label='Predicted PM2.5')\n",
    "testcase[\"Corrected\"].plot(legend=True, label='Corrected PM2.5')'''"
   ]
  },
  {
   "cell_type": "code",
   "execution_count": 114,
   "metadata": {
    "scrolled": true
   },
   "outputs": [
    {
     "data": {
      "text/plain": [
       "0.8978229442156382"
      ]
     },
     "execution_count": 114,
     "metadata": {},
     "output_type": "execute_result"
    }
   ],
   "source": [
    "r2 = metrics.r2_score(testcase[\"Corrected\"],testcase['test'])\n",
    "r2"
   ]
  },
  {
   "cell_type": "code",
   "execution_count": 115,
   "metadata": {},
   "outputs": [],
   "source": [
    "test2020=pd.DataFrame()"
   ]
  },
  {
   "cell_type": "code",
   "execution_count": 116,
   "metadata": {},
   "outputs": [],
   "source": [
    "test2020['test']=test['PM1']\n",
    "test2020['pred']=X['pred']"
   ]
  },
  {
   "cell_type": "code",
   "execution_count": 117,
   "metadata": {},
   "outputs": [],
   "source": [
    "test2020.index=test.index"
   ]
  },
  {
   "cell_type": "code",
   "execution_count": 118,
   "metadata": {},
   "outputs": [],
   "source": [
    "test2020[\"Corrected\"] = np.where(test2020[\"pred\"]<test2020[\"test\"],test2020[\"pred\"]+rmsetest ,\n",
    "                   np.where(test2020[\"pred\"]>test2020[\"test\"], test2020[\"pred\"]-rmsetest,\n",
    "                            test2020[\"pred\"]))"
   ]
  },
  {
   "cell_type": "code",
   "execution_count": 119,
   "metadata": {},
   "outputs": [
    {
     "data": {
      "text/plain": [
       "<AxesSubplot:xlabel='From Date'>"
      ]
     },
     "execution_count": 119,
     "metadata": {},
     "output_type": "execute_result"
    },
    {
     "data": {
      "image/png": "[encoded data removed]",
      "text/plain": [
       "<Figure size 720x432 with 1 Axes>"
      ]
     },
     "metadata": {},
     "output_type": "display_data"
    }
   ],
   "source": [
    "test2020['test'].plot(legend=True, label='Actual PM10 2020', figsize=(10,6))\n",
    "test2020['pred'].plot(legend=True, label='Predicted PM10 2020')\n",
    "test2020[\"Corrected\"].plot(legend=True, label='Corrected PM10 2020')"
   ]
  },
  {
   "cell_type": "code",
   "execution_count": 120,
   "metadata": {},
   "outputs": [
    {
     "data": {
      "text/plain": [
       "0.7508879715288294"
      ]
     },
     "execution_count": 120,
     "metadata": {},
     "output_type": "execute_result"
    }
   ],
   "source": [
    "r2020 = metrics.r2_score(test2020[\"Corrected\"],test2020['test'])\n",
    "r2020"
   ]
  },
  {
   "cell_type": "code",
   "execution_count": 121,
   "metadata": {},
   "outputs": [
    {
     "data": {
      "text/plain": [
       "120.64206826968451"
      ]
     },
     "execution_count": 121,
     "metadata": {},
     "output_type": "execute_result"
    }
   ],
   "source": [
    "ytest.std()"
   ]
  },
  {
   "cell_type": "code",
   "execution_count": null,
   "metadata": {},
   "outputs": [],
   "source": []
  },
  {
   "cell_type": "code",
   "execution_count": null,
   "metadata": {},
   "outputs": [],
   "source": []
  },
  {
   "cell_type": "code",
   "execution_count": null,
   "metadata": {},
   "outputs": [],
   "source": []
  }
 ],
 "metadata": {
  "kernelspec": {
   "display_name": "Python 3",
   "language": "python",
   "name": "python3"
  },
  "language_info": {
   "codemirror_mode": {
    "name": "ipython",
    "version": 3
   },
   "file_extension": ".py",
   "mimetype": "text/x-python",
   "name": "python",
   "nbconvert_exporter": "python",
   "pygments_lexer": "ipython3",
   "version": "3.8.5"
  }
 },
 "nbformat": 4,
 "nbformat_minor": 4
}
