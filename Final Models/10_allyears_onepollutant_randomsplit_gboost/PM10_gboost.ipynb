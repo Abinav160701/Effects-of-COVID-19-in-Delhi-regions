{
 "cells": [
  {
   "cell_type": "code",
   "execution_count": 36,
   "metadata": {},
   "outputs": [],
   "source": [
    "import pandas as pd\n",
    "import numpy as np\n",
    "import matplotlib.pyplot as plt\n",
    "import seaborn as sns\n",
    "sns.set()\n",
    "import warnings\n",
    "warnings.filterwarnings(action='ignore')\n",
    "from statsmodels.tsa.seasonal import seasonal_decompose\n",
    "import statsmodels.formula.api as formula\n",
    "from statsmodels.stats.outliers_influence import variance_inflation_factor\n",
    "import statsmodels as sm\n",
    "from sklearn import preprocessing\n",
    "from sklearn.model_selection import train_test_split,GridSearchCV,RandomizedSearchCV\n",
    "from sklearn.linear_model import LinearRegression,Lasso,Ridge\n",
    "#from sklearn.externals import joblib\n",
    "from sklearn.metrics import r2_score,mean_squared_error\n",
    "from sklearn.ensemble import RandomForestRegressor,GradientBoostingRegressor\n",
    "from sklearn.tree import DecisionTreeRegressor\n",
    "from IPython.display import display\n",
    "from sklearn import metrics"
   ]
  },
  {
   "cell_type": "code",
   "execution_count": 37,
   "metadata": {},
   "outputs": [],
   "source": [
    "data = pd.read_excel (r'D:\\Downloads\\rk_month.xlsx')\n",
    "data['From Date']=pd.to_datetime(data['From Date'])\n",
    "data['year'] = data['From Date'].dt.year\n",
    "data['month'] = data['From Date'].dt.month\n",
    "data['day'] = data['From Date'].dt.day"
   ]
  },
  {
   "cell_type": "code",
   "execution_count": 38,
   "metadata": {},
   "outputs": [],
   "source": [
    "import datetime as dt"
   ]
  },
  {
   "cell_type": "code",
   "execution_count": 39,
   "metadata": {},
   "outputs": [],
   "source": [
    "data['From Date']= data['From Date'].map(dt.datetime.toordinal)"
   ]
  },
  {
   "cell_type": "code",
   "execution_count": 40,
   "metadata": {},
   "outputs": [],
   "source": [
    "df=data.loc['0':'365']"
   ]
  },
  {
   "cell_type": "code",
   "execution_count": 41,
   "metadata": {},
   "outputs": [],
   "source": [
    "X1 = df[['From Date','year', 'month', 'day']]\n",
    "Y1 = df['PM1']"
   ]
  },
  {
   "cell_type": "code",
   "execution_count": 42,
   "metadata": {},
   "outputs": [],
   "source": [
    "xtrain,xtest,ytrain,ytest = train_test_split(X1,Y1,test_size=.2,random_state=6)"
   ]
  },
  {
   "cell_type": "code",
   "execution_count": 43,
   "metadata": {},
   "outputs": [
    {
     "data": {
      "text/plain": [
       "GradientBoostingRegressor(max_depth=8, max_features='auto', min_samples_leaf=3,\n",
       "                          min_samples_split=3, n_estimators=1000)"
      ]
     },
     "execution_count": 43,
     "metadata": {},
     "output_type": "execute_result"
    }
   ],
   "source": [
    "grad_boost = GradientBoostingRegressor(n_estimators=1000,\n",
    "                                      max_depth=8,\n",
    "                                      max_features='auto',\n",
    "                                      min_samples_split=3,\n",
    "                                      min_samples_leaf=3,\n",
    "                                      learning_rate=0.1)\n",
    "\n",
    "grad_boost.fit(xtrain,ytrain)"
   ]
  },
  {
   "cell_type": "code",
   "execution_count": 44,
   "metadata": {
    "scrolled": true
   },
   "outputs": [
    {
     "name": "stdout",
     "output_type": "stream",
     "text": [
      "Score on train data: 0.9999999922522298\n",
      "\n",
      "Score on test data: 0.7856782758801027\n",
      "\n",
      "Root Mean Squared Error: 57.40286669317647\n",
      "\n",
      "Overall model accuracy: 0.7856782758801027\n"
     ]
    }
   ],
   "source": [
    "# we now score the model\n",
    "print('Score on train data: {}\\n'.format(grad_boost.score(xtrain,ytrain)))\n",
    "print('Score on test data: {}\\n'.format(grad_boost.score(xtest,ytest)))\n",
    "\n",
    "gboost_pred = grad_boost.predict(xtest)\n",
    "gboost_mse = mean_squared_error(ytest,gboost_pred)\n",
    "gboost_accuracy = r2_score(ytest,gboost_pred)\n",
    "\n",
    "print('Root Mean Squared Error: {}\\n'.format(np.sqrt(gboost_mse)))\n",
    "print('Overall model accuracy: {}'.format(gboost_accuracy))"
   ]
  },
  {
   "cell_type": "code",
   "execution_count": 45,
   "metadata": {
    "scrolled": true
   },
   "outputs": [
    {
     "data": {
      "text/html": [
       "<div>\n",
       "<style scoped>\n",
       "    .dataframe tbody tr th:only-of-type {\n",
       "        vertical-align: middle;\n",
       "    }\n",
       "\n",
       "    .dataframe tbody tr th {\n",
       "        vertical-align: top;\n",
       "    }\n",
       "\n",
       "    .dataframe thead th {\n",
       "        text-align: right;\n",
       "    }\n",
       "</style>\n",
       "<table border=\"1\" class=\"dataframe\">\n",
       "  <thead>\n",
       "    <tr style=\"text-align: right;\">\n",
       "      <th></th>\n",
       "      <th>From Date</th>\n",
       "      <th>year</th>\n",
       "      <th>month</th>\n",
       "      <th>day</th>\n",
       "    </tr>\n",
       "  </thead>\n",
       "  <tbody>\n",
       "    <tr>\n",
       "      <th>366</th>\n",
       "      <td>737436</td>\n",
       "      <td>2020</td>\n",
       "      <td>1</td>\n",
       "      <td>12</td>\n",
       "    </tr>\n",
       "    <tr>\n",
       "      <th>367</th>\n",
       "      <td>737443</td>\n",
       "      <td>2020</td>\n",
       "      <td>1</td>\n",
       "      <td>19</td>\n",
       "    </tr>\n",
       "    <tr>\n",
       "      <th>368</th>\n",
       "      <td>737450</td>\n",
       "      <td>2020</td>\n",
       "      <td>1</td>\n",
       "      <td>26</td>\n",
       "    </tr>\n",
       "    <tr>\n",
       "      <th>369</th>\n",
       "      <td>737457</td>\n",
       "      <td>2020</td>\n",
       "      <td>2</td>\n",
       "      <td>2</td>\n",
       "    </tr>\n",
       "    <tr>\n",
       "      <th>370</th>\n",
       "      <td>737464</td>\n",
       "      <td>2020</td>\n",
       "      <td>2</td>\n",
       "      <td>9</td>\n",
       "    </tr>\n",
       "    <tr>\n",
       "      <th>371</th>\n",
       "      <td>737471</td>\n",
       "      <td>2020</td>\n",
       "      <td>2</td>\n",
       "      <td>16</td>\n",
       "    </tr>\n",
       "    <tr>\n",
       "      <th>372</th>\n",
       "      <td>737478</td>\n",
       "      <td>2020</td>\n",
       "      <td>2</td>\n",
       "      <td>23</td>\n",
       "    </tr>\n",
       "    <tr>\n",
       "      <th>373</th>\n",
       "      <td>737485</td>\n",
       "      <td>2020</td>\n",
       "      <td>3</td>\n",
       "      <td>1</td>\n",
       "    </tr>\n",
       "    <tr>\n",
       "      <th>374</th>\n",
       "      <td>737492</td>\n",
       "      <td>2020</td>\n",
       "      <td>3</td>\n",
       "      <td>8</td>\n",
       "    </tr>\n",
       "    <tr>\n",
       "      <th>375</th>\n",
       "      <td>737499</td>\n",
       "      <td>2020</td>\n",
       "      <td>3</td>\n",
       "      <td>15</td>\n",
       "    </tr>\n",
       "    <tr>\n",
       "      <th>376</th>\n",
       "      <td>737506</td>\n",
       "      <td>2020</td>\n",
       "      <td>3</td>\n",
       "      <td>22</td>\n",
       "    </tr>\n",
       "    <tr>\n",
       "      <th>377</th>\n",
       "      <td>737513</td>\n",
       "      <td>2020</td>\n",
       "      <td>3</td>\n",
       "      <td>29</td>\n",
       "    </tr>\n",
       "    <tr>\n",
       "      <th>378</th>\n",
       "      <td>737520</td>\n",
       "      <td>2020</td>\n",
       "      <td>4</td>\n",
       "      <td>5</td>\n",
       "    </tr>\n",
       "    <tr>\n",
       "      <th>379</th>\n",
       "      <td>737527</td>\n",
       "      <td>2020</td>\n",
       "      <td>4</td>\n",
       "      <td>12</td>\n",
       "    </tr>\n",
       "    <tr>\n",
       "      <th>380</th>\n",
       "      <td>737534</td>\n",
       "      <td>2020</td>\n",
       "      <td>4</td>\n",
       "      <td>19</td>\n",
       "    </tr>\n",
       "    <tr>\n",
       "      <th>381</th>\n",
       "      <td>737541</td>\n",
       "      <td>2020</td>\n",
       "      <td>4</td>\n",
       "      <td>26</td>\n",
       "    </tr>\n",
       "    <tr>\n",
       "      <th>382</th>\n",
       "      <td>737548</td>\n",
       "      <td>2020</td>\n",
       "      <td>5</td>\n",
       "      <td>3</td>\n",
       "    </tr>\n",
       "    <tr>\n",
       "      <th>383</th>\n",
       "      <td>737555</td>\n",
       "      <td>2020</td>\n",
       "      <td>5</td>\n",
       "      <td>10</td>\n",
       "    </tr>\n",
       "    <tr>\n",
       "      <th>384</th>\n",
       "      <td>737562</td>\n",
       "      <td>2020</td>\n",
       "      <td>5</td>\n",
       "      <td>17</td>\n",
       "    </tr>\n",
       "    <tr>\n",
       "      <th>385</th>\n",
       "      <td>737569</td>\n",
       "      <td>2020</td>\n",
       "      <td>5</td>\n",
       "      <td>24</td>\n",
       "    </tr>\n",
       "    <tr>\n",
       "      <th>386</th>\n",
       "      <td>737576</td>\n",
       "      <td>2020</td>\n",
       "      <td>5</td>\n",
       "      <td>31</td>\n",
       "    </tr>\n",
       "    <tr>\n",
       "      <th>387</th>\n",
       "      <td>737583</td>\n",
       "      <td>2020</td>\n",
       "      <td>6</td>\n",
       "      <td>7</td>\n",
       "    </tr>\n",
       "    <tr>\n",
       "      <th>388</th>\n",
       "      <td>737590</td>\n",
       "      <td>2020</td>\n",
       "      <td>6</td>\n",
       "      <td>14</td>\n",
       "    </tr>\n",
       "    <tr>\n",
       "      <th>389</th>\n",
       "      <td>737597</td>\n",
       "      <td>2020</td>\n",
       "      <td>6</td>\n",
       "      <td>21</td>\n",
       "    </tr>\n",
       "    <tr>\n",
       "      <th>390</th>\n",
       "      <td>737604</td>\n",
       "      <td>2020</td>\n",
       "      <td>6</td>\n",
       "      <td>28</td>\n",
       "    </tr>\n",
       "    <tr>\n",
       "      <th>391</th>\n",
       "      <td>737611</td>\n",
       "      <td>2020</td>\n",
       "      <td>7</td>\n",
       "      <td>5</td>\n",
       "    </tr>\n",
       "    <tr>\n",
       "      <th>392</th>\n",
       "      <td>737618</td>\n",
       "      <td>2020</td>\n",
       "      <td>7</td>\n",
       "      <td>12</td>\n",
       "    </tr>\n",
       "    <tr>\n",
       "      <th>393</th>\n",
       "      <td>737625</td>\n",
       "      <td>2020</td>\n",
       "      <td>7</td>\n",
       "      <td>19</td>\n",
       "    </tr>\n",
       "    <tr>\n",
       "      <th>394</th>\n",
       "      <td>737632</td>\n",
       "      <td>2020</td>\n",
       "      <td>7</td>\n",
       "      <td>26</td>\n",
       "    </tr>\n",
       "    <tr>\n",
       "      <th>395</th>\n",
       "      <td>737639</td>\n",
       "      <td>2020</td>\n",
       "      <td>8</td>\n",
       "      <td>2</td>\n",
       "    </tr>\n",
       "    <tr>\n",
       "      <th>396</th>\n",
       "      <td>737646</td>\n",
       "      <td>2020</td>\n",
       "      <td>8</td>\n",
       "      <td>9</td>\n",
       "    </tr>\n",
       "    <tr>\n",
       "      <th>397</th>\n",
       "      <td>737653</td>\n",
       "      <td>2020</td>\n",
       "      <td>8</td>\n",
       "      <td>16</td>\n",
       "    </tr>\n",
       "    <tr>\n",
       "      <th>398</th>\n",
       "      <td>737660</td>\n",
       "      <td>2020</td>\n",
       "      <td>8</td>\n",
       "      <td>23</td>\n",
       "    </tr>\n",
       "    <tr>\n",
       "      <th>399</th>\n",
       "      <td>737667</td>\n",
       "      <td>2020</td>\n",
       "      <td>8</td>\n",
       "      <td>30</td>\n",
       "    </tr>\n",
       "    <tr>\n",
       "      <th>400</th>\n",
       "      <td>737674</td>\n",
       "      <td>2020</td>\n",
       "      <td>9</td>\n",
       "      <td>6</td>\n",
       "    </tr>\n",
       "    <tr>\n",
       "      <th>401</th>\n",
       "      <td>737681</td>\n",
       "      <td>2020</td>\n",
       "      <td>9</td>\n",
       "      <td>13</td>\n",
       "    </tr>\n",
       "    <tr>\n",
       "      <th>402</th>\n",
       "      <td>737688</td>\n",
       "      <td>2020</td>\n",
       "      <td>9</td>\n",
       "      <td>20</td>\n",
       "    </tr>\n",
       "    <tr>\n",
       "      <th>403</th>\n",
       "      <td>737695</td>\n",
       "      <td>2020</td>\n",
       "      <td>9</td>\n",
       "      <td>27</td>\n",
       "    </tr>\n",
       "    <tr>\n",
       "      <th>404</th>\n",
       "      <td>737702</td>\n",
       "      <td>2020</td>\n",
       "      <td>10</td>\n",
       "      <td>4</td>\n",
       "    </tr>\n",
       "    <tr>\n",
       "      <th>405</th>\n",
       "      <td>737709</td>\n",
       "      <td>2020</td>\n",
       "      <td>10</td>\n",
       "      <td>11</td>\n",
       "    </tr>\n",
       "    <tr>\n",
       "      <th>406</th>\n",
       "      <td>737716</td>\n",
       "      <td>2020</td>\n",
       "      <td>10</td>\n",
       "      <td>18</td>\n",
       "    </tr>\n",
       "    <tr>\n",
       "      <th>407</th>\n",
       "      <td>737723</td>\n",
       "      <td>2020</td>\n",
       "      <td>10</td>\n",
       "      <td>25</td>\n",
       "    </tr>\n",
       "    <tr>\n",
       "      <th>408</th>\n",
       "      <td>737730</td>\n",
       "      <td>2020</td>\n",
       "      <td>11</td>\n",
       "      <td>1</td>\n",
       "    </tr>\n",
       "    <tr>\n",
       "      <th>409</th>\n",
       "      <td>737737</td>\n",
       "      <td>2020</td>\n",
       "      <td>11</td>\n",
       "      <td>8</td>\n",
       "    </tr>\n",
       "    <tr>\n",
       "      <th>410</th>\n",
       "      <td>737744</td>\n",
       "      <td>2020</td>\n",
       "      <td>11</td>\n",
       "      <td>15</td>\n",
       "    </tr>\n",
       "    <tr>\n",
       "      <th>411</th>\n",
       "      <td>737751</td>\n",
       "      <td>2020</td>\n",
       "      <td>11</td>\n",
       "      <td>22</td>\n",
       "    </tr>\n",
       "    <tr>\n",
       "      <th>412</th>\n",
       "      <td>737758</td>\n",
       "      <td>2020</td>\n",
       "      <td>11</td>\n",
       "      <td>29</td>\n",
       "    </tr>\n",
       "    <tr>\n",
       "      <th>413</th>\n",
       "      <td>737765</td>\n",
       "      <td>2020</td>\n",
       "      <td>12</td>\n",
       "      <td>6</td>\n",
       "    </tr>\n",
       "    <tr>\n",
       "      <th>414</th>\n",
       "      <td>737772</td>\n",
       "      <td>2020</td>\n",
       "      <td>12</td>\n",
       "      <td>13</td>\n",
       "    </tr>\n",
       "    <tr>\n",
       "      <th>415</th>\n",
       "      <td>737779</td>\n",
       "      <td>2020</td>\n",
       "      <td>12</td>\n",
       "      <td>20</td>\n",
       "    </tr>\n",
       "    <tr>\n",
       "      <th>416</th>\n",
       "      <td>737786</td>\n",
       "      <td>2020</td>\n",
       "      <td>12</td>\n",
       "      <td>27</td>\n",
       "    </tr>\n",
       "    <tr>\n",
       "      <th>417</th>\n",
       "      <td>737793</td>\n",
       "      <td>2021</td>\n",
       "      <td>1</td>\n",
       "      <td>3</td>\n",
       "    </tr>\n",
       "  </tbody>\n",
       "</table>\n",
       "</div>"
      ],
      "text/plain": [
       "     From Date  year  month  day\n",
       "366     737436  2020      1   12\n",
       "367     737443  2020      1   19\n",
       "368     737450  2020      1   26\n",
       "369     737457  2020      2    2\n",
       "370     737464  2020      2    9\n",
       "371     737471  2020      2   16\n",
       "372     737478  2020      2   23\n",
       "373     737485  2020      3    1\n",
       "374     737492  2020      3    8\n",
       "375     737499  2020      3   15\n",
       "376     737506  2020      3   22\n",
       "377     737513  2020      3   29\n",
       "378     737520  2020      4    5\n",
       "379     737527  2020      4   12\n",
       "380     737534  2020      4   19\n",
       "381     737541  2020      4   26\n",
       "382     737548  2020      5    3\n",
       "383     737555  2020      5   10\n",
       "384     737562  2020      5   17\n",
       "385     737569  2020      5   24\n",
       "386     737576  2020      5   31\n",
       "387     737583  2020      6    7\n",
       "388     737590  2020      6   14\n",
       "389     737597  2020      6   21\n",
       "390     737604  2020      6   28\n",
       "391     737611  2020      7    5\n",
       "392     737618  2020      7   12\n",
       "393     737625  2020      7   19\n",
       "394     737632  2020      7   26\n",
       "395     737639  2020      8    2\n",
       "396     737646  2020      8    9\n",
       "397     737653  2020      8   16\n",
       "398     737660  2020      8   23\n",
       "399     737667  2020      8   30\n",
       "400     737674  2020      9    6\n",
       "401     737681  2020      9   13\n",
       "402     737688  2020      9   20\n",
       "403     737695  2020      9   27\n",
       "404     737702  2020     10    4\n",
       "405     737709  2020     10   11\n",
       "406     737716  2020     10   18\n",
       "407     737723  2020     10   25\n",
       "408     737730  2020     11    1\n",
       "409     737737  2020     11    8\n",
       "410     737744  2020     11   15\n",
       "411     737751  2020     11   22\n",
       "412     737758  2020     11   29\n",
       "413     737765  2020     12    6\n",
       "414     737772  2020     12   13\n",
       "415     737779  2020     12   20\n",
       "416     737786  2020     12   27\n",
       "417     737793  2021      1    3"
      ]
     },
     "execution_count": 45,
     "metadata": {},
     "output_type": "execute_result"
    }
   ],
   "source": [
    "test=data.loc['366':'418']\n",
    "X=test[['From Date','year', 'month', 'day']]\n",
    "X"
   ]
  },
  {
   "cell_type": "code",
   "execution_count": 46,
   "metadata": {},
   "outputs": [],
   "source": [
    "predict=grad_boost.predict(X)"
   ]
  },
  {
   "cell_type": "code",
   "execution_count": 47,
   "metadata": {},
   "outputs": [
    {
     "data": {
      "text/plain": [
       "array([340.67158834, 362.09487556, 231.56949958, 195.9108343 ,\n",
       "       226.79287972, 248.29818442, 194.42930553, 223.28911503,\n",
       "       198.32855677, 185.03550537, 130.02056617, 168.79093396,\n",
       "       191.03904249, 206.72737097, 159.39900981, 160.35696952,\n",
       "       171.93500062, 244.16061822, 198.12553496, 147.78179095,\n",
       "       200.45082408, 189.09015061, 217.83012956, 183.11770492,\n",
       "       157.7670761 , 182.49375762,  93.47835292,  95.92816974,\n",
       "        80.12655503,  64.3760511 , 139.61305195,  86.50047615,\n",
       "        72.23890432, 115.65637815,  96.74033074, 130.00793495,\n",
       "       122.18450739, 148.2733846 , 121.74417868, 186.28456724,\n",
       "       232.08763349, 234.80662409, 227.36999865, 338.71084587,\n",
       "       285.45252921, 271.91789826, 371.30585962, 311.96107565,\n",
       "       283.51175907, 274.28801156, 338.05852534, 331.98191727])"
      ]
     },
     "execution_count": 47,
     "metadata": {},
     "output_type": "execute_result"
    }
   ],
   "source": [
    "predict"
   ]
  },
  {
   "cell_type": "code",
   "execution_count": 48,
   "metadata": {},
   "outputs": [],
   "source": [
    "X['From Date']= X['From Date'].map(dt.datetime.fromordinal)"
   ]
  },
  {
   "cell_type": "code",
   "execution_count": 49,
   "metadata": {},
   "outputs": [],
   "source": [
    "test['From Date']= test['From Date'].map(dt.datetime.fromordinal)"
   ]
  },
  {
   "cell_type": "code",
   "execution_count": 50,
   "metadata": {},
   "outputs": [],
   "source": [
    "test = test.set_index(['From Date'])\n",
    "X = X.set_index(['From Date'])\n"
   ]
  },
  {
   "cell_type": "code",
   "execution_count": 51,
   "metadata": {},
   "outputs": [],
   "source": [
    "X['pred']=predict"
   ]
  },
  {
   "cell_type": "code",
   "execution_count": 52,
   "metadata": {
    "scrolled": true
   },
   "outputs": [
    {
     "data": {
      "text/plain": [
       "<AxesSubplot:xlabel='From Date'>"
      ]
     },
     "execution_count": 52,
     "metadata": {},
     "output_type": "execute_result"
    },
    {
     "data": {
      "image/png": "[encoded data removed]",
      "text/plain": [
       "<Figure size 720x432 with 1 Axes>"
      ]
     },
     "metadata": {},
     "output_type": "display_data"
    }
   ],
   "source": [
    "test['PM1'].plot(legend=True, label='Actual PM10', figsize=(10,6))\n",
    "X['pred'].plot(legend=True, label='Predicted PM10')"
   ]
  },
  {
   "cell_type": "code",
   "execution_count": 53,
   "metadata": {},
   "outputs": [
    {
     "data": {
      "text/plain": [
       "76.92879033180228"
      ]
     },
     "execution_count": 53,
     "metadata": {},
     "output_type": "execute_result"
    }
   ],
   "source": [
    "np.sqrt(mean_squared_error(test['PM1'],X['pred']))"
   ]
  },
  {
   "cell_type": "code",
   "execution_count": 54,
   "metadata": {
    "scrolled": false
   },
   "outputs": [
    {
     "name": "stdout",
     "output_type": "stream",
     "text": [
      "Results of sklearn.metrics:\n",
      "MAE: 38.465013173100694\n",
      "MSE: 3295.0891045945887\n",
      "RMSE: 57.40286669317647\n",
      "R-Squared: 0.7856782758801027\n"
     ]
    }
   ],
   "source": [
    "mae = metrics.mean_absolute_error(ytest, gboost_pred)\n",
    "mse = metrics.mean_squared_error(ytest, gboost_pred)\n",
    "rmsetest = np.sqrt(mse) # or mse**(0.5)  \n",
    "r2 = metrics.r2_score(ytest,gboost_pred)\n",
    "\n",
    "print(\"Results of sklearn.metrics:\")\n",
    "print(\"MAE:\",mae)\n",
    "print(\"MSE:\", mse)\n",
    "print(\"RMSE:\", rmsetest)\n",
    "print(\"R-Squared:\", r2)"
   ]
  },
  {
   "cell_type": "code",
   "execution_count": 55,
   "metadata": {},
   "outputs": [
    {
     "name": "stdout",
     "output_type": "stream",
     "text": [
      "Results of sklearn.metrics:\n",
      "MAE: 115.50710443504673\n",
      "MSE: 15898.269341505482\n",
      "RMSE: 126.0883394351178\n",
      "R-Squared: -1.6776943418761676\n"
     ]
    }
   ],
   "source": [
    "mae = metrics.mean_absolute_error(test['PM2.5'],X['pred'])\n",
    "mse = metrics.mean_squared_error(test['PM2.5'],X['pred'])\n",
    "rmse = np.sqrt(mse) # or mse**(0.5)  \n",
    "r2 = metrics.r2_score(test['PM2.5'],X['pred'])\n",
    "\n",
    "print(\"Results of sklearn.metrics:\")\n",
    "print(\"MAE:\",mae)\n",
    "print(\"MSE:\", mse)\n",
    "print(\"RMSE:\", rmse)\n",
    "print(\"R-Squared:\", r2)"
   ]
  },
  {
   "cell_type": "code",
   "execution_count": 56,
   "metadata": {},
   "outputs": [],
   "source": [
    "import pickle\n",
    "filename = 'PM10_gboostmodel.sav'\n",
    "pickle.dump(grad_boost, open(filename, 'wb'))"
   ]
  },
  {
   "cell_type": "code",
   "execution_count": 57,
   "metadata": {},
   "outputs": [
    {
     "name": "stdout",
     "output_type": "stream",
     "text": [
      "0.7856782758801027\n"
     ]
    }
   ],
   "source": [
    "#load model\n",
    "loaded_model = pickle.load(open(filename, 'rb'))\n",
    "result = loaded_model.score(xtest, ytest)\n",
    "print(result)"
   ]
  },
  {
   "cell_type": "markdown",
   "metadata": {},
   "source": [
    "# 3rd plot"
   ]
  },
  {
   "cell_type": "code",
   "execution_count": 58,
   "metadata": {},
   "outputs": [],
   "source": [
    "testcase = pd.DataFrame()"
   ]
  },
  {
   "cell_type": "code",
   "execution_count": 59,
   "metadata": {
    "scrolled": true
   },
   "outputs": [],
   "source": [
    "testcase['test']=ytest\n",
    "testcase['pred']=gboost_pred"
   ]
  },
  {
   "cell_type": "code",
   "execution_count": 60,
   "metadata": {},
   "outputs": [],
   "source": [
    "testcase[\"Corrected\"] = np.where(testcase[\"pred\"]<testcase[\"test\"],testcase[\"pred\"]+rmsetest ,\n",
    "                   np.where(testcase[\"pred\"]>testcase[\"test\"], testcase[\"pred\"]-rmsetest,\n",
    "                            testcase[\"pred\"]))"
   ]
  },
  {
   "cell_type": "code",
   "execution_count": 61,
   "metadata": {},
   "outputs": [
    {
     "data": {
      "text/html": [
       "<div>\n",
       "<style scoped>\n",
       "    .dataframe tbody tr th:only-of-type {\n",
       "        vertical-align: middle;\n",
       "    }\n",
       "\n",
       "    .dataframe tbody tr th {\n",
       "        vertical-align: top;\n",
       "    }\n",
       "\n",
       "    .dataframe thead th {\n",
       "        text-align: right;\n",
       "    }\n",
       "</style>\n",
       "<table border=\"1\" class=\"dataframe\">\n",
       "  <thead>\n",
       "    <tr style=\"text-align: right;\">\n",
       "      <th></th>\n",
       "      <th>test</th>\n",
       "      <th>pred</th>\n",
       "      <th>Corrected</th>\n",
       "    </tr>\n",
       "  </thead>\n",
       "  <tbody>\n",
       "    <tr>\n",
       "      <th>365</th>\n",
       "      <td>378.930000</td>\n",
       "      <td>367.801625</td>\n",
       "      <td>425.204492</td>\n",
       "    </tr>\n",
       "    <tr>\n",
       "      <th>116</th>\n",
       "      <td>193.325714</td>\n",
       "      <td>225.071544</td>\n",
       "      <td>167.668678</td>\n",
       "    </tr>\n",
       "    <tr>\n",
       "      <th>61</th>\n",
       "      <td>205.228571</td>\n",
       "      <td>227.532812</td>\n",
       "      <td>170.129945</td>\n",
       "    </tr>\n",
       "    <tr>\n",
       "      <th>325</th>\n",
       "      <td>195.962857</td>\n",
       "      <td>207.197430</td>\n",
       "      <td>149.794564</td>\n",
       "    </tr>\n",
       "    <tr>\n",
       "      <th>100</th>\n",
       "      <td>442.442857</td>\n",
       "      <td>462.546942</td>\n",
       "      <td>405.144075</td>\n",
       "    </tr>\n",
       "    <tr>\n",
       "      <th>...</th>\n",
       "      <td>...</td>\n",
       "      <td>...</td>\n",
       "      <td>...</td>\n",
       "    </tr>\n",
       "    <tr>\n",
       "      <th>249</th>\n",
       "      <td>280.895714</td>\n",
       "      <td>291.212452</td>\n",
       "      <td>233.809586</td>\n",
       "    </tr>\n",
       "    <tr>\n",
       "      <th>351</th>\n",
       "      <td>61.434286</td>\n",
       "      <td>132.232876</td>\n",
       "      <td>74.830009</td>\n",
       "    </tr>\n",
       "    <tr>\n",
       "      <th>27</th>\n",
       "      <td>81.278571</td>\n",
       "      <td>122.791665</td>\n",
       "      <td>65.388798</td>\n",
       "    </tr>\n",
       "    <tr>\n",
       "      <th>19</th>\n",
       "      <td>197.158571</td>\n",
       "      <td>276.029312</td>\n",
       "      <td>218.626446</td>\n",
       "    </tr>\n",
       "    <tr>\n",
       "      <th>262</th>\n",
       "      <td>344.172857</td>\n",
       "      <td>381.028564</td>\n",
       "      <td>323.625697</td>\n",
       "    </tr>\n",
       "  </tbody>\n",
       "</table>\n",
       "<p>74 rows × 3 columns</p>\n",
       "</div>"
      ],
      "text/plain": [
       "           test        pred   Corrected\n",
       "365  378.930000  367.801625  425.204492\n",
       "116  193.325714  225.071544  167.668678\n",
       "61   205.228571  227.532812  170.129945\n",
       "325  195.962857  207.197430  149.794564\n",
       "100  442.442857  462.546942  405.144075\n",
       "..          ...         ...         ...\n",
       "249  280.895714  291.212452  233.809586\n",
       "351   61.434286  132.232876   74.830009\n",
       "27    81.278571  122.791665   65.388798\n",
       "19   197.158571  276.029312  218.626446\n",
       "262  344.172857  381.028564  323.625697\n",
       "\n",
       "[74 rows x 3 columns]"
      ]
     },
     "execution_count": 61,
     "metadata": {},
     "output_type": "execute_result"
    }
   ],
   "source": [
    "testcase"
   ]
  },
  {
   "cell_type": "code",
   "execution_count": 62,
   "metadata": {},
   "outputs": [
    {
     "data": {
      "text/plain": [
       "'testcase[\\'test\\'].plot(legend=True, label=\\'Actual PM2.5\\', figsize=(10,6))\\ntestcase[\\'pred\\'].plot(legend=True, label=\\'Predicted PM2.5\\')\\ntestcase[\"Corrected\"].plot(legend=True, label=\\'Corrected PM2.5\\')'"
      ]
     },
     "execution_count": 62,
     "metadata": {},
     "output_type": "execute_result"
    }
   ],
   "source": [
    "'''testcase['test'].plot(legend=True, label='Actual PM2.5', figsize=(10,6))\n",
    "testcase['pred'].plot(legend=True, label='Predicted PM2.5')\n",
    "testcase[\"Corrected\"].plot(legend=True, label='Corrected PM2.5')'''"
   ]
  },
  {
   "cell_type": "code",
   "execution_count": 63,
   "metadata": {
    "scrolled": true
   },
   "outputs": [
    {
     "data": {
      "text/plain": [
       "0.8720559684077671"
      ]
     },
     "execution_count": 63,
     "metadata": {},
     "output_type": "execute_result"
    }
   ],
   "source": [
    "r2 = metrics.r2_score(testcase[\"Corrected\"],testcase['test'])\n",
    "r2"
   ]
  },
  {
   "cell_type": "code",
   "execution_count": 64,
   "metadata": {},
   "outputs": [],
   "source": [
    "test2020=pd.DataFrame()"
   ]
  },
  {
   "cell_type": "code",
   "execution_count": 65,
   "metadata": {},
   "outputs": [],
   "source": [
    "test2020['test']=test['PM1']\n",
    "test2020['pred']=X['pred']"
   ]
  },
  {
   "cell_type": "code",
   "execution_count": 66,
   "metadata": {},
   "outputs": [],
   "source": [
    "test2020.index=test.index"
   ]
  },
  {
   "cell_type": "code",
   "execution_count": 67,
   "metadata": {},
   "outputs": [],
   "source": [
    "test2020[\"Corrected\"] = np.where(test2020[\"pred\"]<test2020[\"test\"],test2020[\"pred\"]+rmsetest ,\n",
    "                   np.where(test2020[\"pred\"]>test2020[\"test\"], test2020[\"pred\"]-rmsetest,\n",
    "                            test2020[\"pred\"]))"
   ]
  },
  {
   "cell_type": "code",
   "execution_count": 68,
   "metadata": {},
   "outputs": [
    {
     "data": {
      "text/plain": [
       "<AxesSubplot:xlabel='From Date'>"
      ]
     },
     "execution_count": 68,
     "metadata": {},
     "output_type": "execute_result"
    },
    {
     "data": {
      "image/png": "[encoded data removed]",
      "text/plain": [
       "<Figure size 720x432 with 1 Axes>"
      ]
     },
     "metadata": {},
     "output_type": "display_data"
    }
   ],
   "source": [
    "test2020['test'].plot(legend=True, label='Actual PM10 2020', figsize=(10,6))\n",
    "test2020['pred'].plot(legend=True, label='Predicted PM10 2020')\n",
    "test2020[\"Corrected\"].plot(legend=True, label='Corrected PM10 2020')"
   ]
  },
  {
   "cell_type": "code",
   "execution_count": 69,
   "metadata": {},
   "outputs": [
    {
     "data": {
      "text/plain": [
       "0.8274407498285352"
      ]
     },
     "execution_count": 69,
     "metadata": {},
     "output_type": "execute_result"
    }
   ],
   "source": [
    "r2020 = metrics.r2_score(test2020[\"Corrected\"],test2020['test'])\n",
    "r2020"
   ]
  },
  {
   "cell_type": "code",
   "execution_count": 70,
   "metadata": {},
   "outputs": [
    {
     "data": {
      "text/plain": [
       "174.11630751552354"
      ]
     },
     "execution_count": 70,
     "metadata": {},
     "output_type": "execute_result"
    }
   ],
   "source": [
    "test2020.loc[\"2020-05-18\":\"2020-05-31\",'pred'].median()"
   ]
  },
  {
   "cell_type": "code",
   "execution_count": 71,
   "metadata": {},
   "outputs": [
    {
     "data": {
      "text/plain": [
       "197.11969553376835"
      ]
     },
     "execution_count": 71,
     "metadata": {},
     "output_type": "execute_result"
    }
   ],
   "source": [
    "test2020.loc[\"2020-01-30\":\"2020-03-22\",'pred'].median()"
   ]
  },
  {
   "cell_type": "code",
   "execution_count": null,
   "metadata": {},
   "outputs": [],
   "source": []
  }
 ],
 "metadata": {
  "kernelspec": {
   "display_name": "Python 3",
   "language": "python",
   "name": "python3"
  },
  "language_info": {
   "codemirror_mode": {
    "name": "ipython",
    "version": 3
   },
   "file_extension": ".py",
   "mimetype": "text/x-python",
   "name": "python",
   "nbconvert_exporter": "python",
   "pygments_lexer": "ipython3",
   "version": "3.8.5"
  }
 },
 "nbformat": 4,
 "nbformat_minor": 4
}
