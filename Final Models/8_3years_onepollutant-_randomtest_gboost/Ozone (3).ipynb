{
 "cells": [
  {
   "cell_type": "code",
   "execution_count": 1,
   "metadata": {},
   "outputs": [],
   "source": [
    "import pandas as pd\n",
    "import numpy as np\n",
    "import matplotlib.pyplot as plt\n",
    "import seaborn as sns\n",
    "sns.set()\n",
    "import warnings\n",
    "warnings.filterwarnings(action='ignore')\n",
    "from statsmodels.tsa.seasonal import seasonal_decompose\n",
    "import statsmodels.formula.api as formula\n",
    "from statsmodels.stats.outliers_influence import variance_inflation_factor\n",
    "import statsmodels as sm\n",
    "from sklearn import preprocessing\n",
    "from sklearn.model_selection import train_test_split,GridSearchCV,RandomizedSearchCV\n",
    "from sklearn.linear_model import LinearRegression,Lasso,Ridge\n",
    "#from sklearn.externals import joblib\n",
    "from sklearn.metrics import r2_score,mean_squared_error\n",
    "from sklearn.ensemble import RandomForestRegressor,GradientBoostingRegressor\n",
    "from sklearn.tree import DecisionTreeRegressor\n",
    "from IPython.display import display\n",
    "from sklearn import metrics"
   ]
  },
  {
   "cell_type": "code",
   "execution_count": 2,
   "metadata": {},
   "outputs": [],
   "source": [
    "data = pd.read_excel (r'C:\\Users\\Kira\\Desktop\\Internship\\Data\\Delhi_Data-20210529T043217Z-001\\Delhi_Data\\2013-2020-RK-PURAM-final-dataset\\3y_weekly_RKPURAM.xlsx')\n",
    "data['From Date']=pd.to_datetime(data['From Date'])\n",
    "data['year'] = data['From Date'].dt.year\n",
    "data['month'] = data['From Date'].dt.month\n",
    "data['day'] = data['From Date'].dt.day"
   ]
  },
  {
   "cell_type": "code",
   "execution_count": 3,
   "metadata": {},
   "outputs": [],
   "source": [
    "import datetime as dt"
   ]
  },
  {
   "cell_type": "code",
   "execution_count": 4,
   "metadata": {},
   "outputs": [],
   "source": [
    "data['From Date']= data['From Date'].map(dt.datetime.toordinal)"
   ]
  },
  {
   "cell_type": "code",
   "execution_count": 5,
   "metadata": {},
   "outputs": [],
   "source": [
    "df=data.loc['0':'207']"
   ]
  },
  {
   "cell_type": "code",
   "execution_count": 6,
   "metadata": {},
   "outputs": [
    {
     "data": {
      "text/plain": [
       "Index(['From Date', 'PM2.5y1', 'PM1y1', 'NOy1', 'NO2y1', 'NOxy1', 'NH3y1',\n",
       "       'SO2y1', 'COy1', 'Ozoney1', 'RHy1', 'WSy1', 'WDy1', 'SRy1', 'BPy1',\n",
       "       'ATy1', 'PM2.5y2', 'PM1y2', 'NOy2', 'NO2y2', 'NOxy2', 'NH3y2', 'SO2y2',\n",
       "       'COy2', 'Ozoney2', 'RHy2', 'WSy2', 'WDy2', 'SRy2', 'BPy2', 'ATy2',\n",
       "       'PM2.5y3', 'PM1y3', 'NOy3', 'NO2y3', 'NOxy3', 'NH3y3', 'SO2y3', 'COy3',\n",
       "       'Ozoney3', 'RHy3', 'WSy3', 'WDy3', 'SRy3', 'BPy3', 'ATy3', 'PM2.5',\n",
       "       'PM1', 'NO', 'NO2', 'NOx', 'NH3', 'SO2', 'CO', 'Ozone', 'RH', 'WS',\n",
       "       'WD', 'SR', 'BP', 'AT', 'year', 'month', 'day'],\n",
       "      dtype='object')"
      ]
     },
     "execution_count": 6,
     "metadata": {},
     "output_type": "execute_result"
    }
   ],
   "source": [
    "df.columns"
   ]
  },
  {
   "cell_type": "code",
   "execution_count": 7,
   "metadata": {},
   "outputs": [],
   "source": [
    "X1 = df[['Ozoney1','Ozoney2','Ozoney3','year', 'month', 'day']]\n",
    "Y1 = df['Ozone']"
   ]
  },
  {
   "cell_type": "code",
   "execution_count": 42,
   "metadata": {},
   "outputs": [],
   "source": [
    "xtrain,xtest,ytrain,ytest = train_test_split(X1,Y1,test_size=.2,random_state=6)"
   ]
  },
  {
   "cell_type": "code",
   "execution_count": 43,
   "metadata": {},
   "outputs": [
    {
     "data": {
      "text/plain": [
       "GradientBoostingRegressor(learning_rate=0.001, max_depth=6, max_features='log2',\n",
       "                          min_samples_leaf=5, min_samples_split=3,\n",
       "                          n_estimators=2000)"
      ]
     },
     "execution_count": 43,
     "metadata": {},
     "output_type": "execute_result"
    }
   ],
   "source": [
    "grad_boost = GradientBoostingRegressor(n_estimators=2000,\n",
    "                                      max_depth=6,\n",
    "                                      max_features='log2',\n",
    "                                      min_samples_split=3,\n",
    "                                      min_samples_leaf=5,\n",
    "                                      learning_rate=0.001)\n",
    "\n",
    "grad_boost.fit(xtrain,ytrain)"
   ]
  },
  {
   "cell_type": "code",
   "execution_count": 44,
   "metadata": {
    "scrolled": true
   },
   "outputs": [
    {
     "name": "stdout",
     "output_type": "stream",
     "text": [
      "Score on train data: 0.8140753962850084\n",
      "\n",
      "Score on test data: 0.6172275345951943\n",
      "\n",
      "Root Mean Squared Error: 13.50859831799571\n",
      "\n",
      "Overall model accuracy: 0.6172275345951943\n"
     ]
    }
   ],
   "source": [
    "# we now score the model\n",
    "print('Score on train data: {}\\n'.format(grad_boost.score(xtrain,ytrain)))\n",
    "print('Score on test data: {}\\n'.format(grad_boost.score(xtest,ytest)))\n",
    "\n",
    "gboost_pred = grad_boost.predict(xtest)\n",
    "gboost_mse = mean_squared_error(ytest,gboost_pred)\n",
    "gboost_accuracy = r2_score(ytest,gboost_pred)\n",
    "\n",
    "print('Root Mean Squared Error: {}\\n'.format(np.sqrt(gboost_mse)))\n",
    "print('Overall model accuracy: {}'.format(gboost_accuracy))"
   ]
  },
  {
   "cell_type": "code",
   "execution_count": 45,
   "metadata": {},
   "outputs": [
    {
     "data": {
      "text/html": [
       "<div>\n",
       "<style scoped>\n",
       "    .dataframe tbody tr th:only-of-type {\n",
       "        vertical-align: middle;\n",
       "    }\n",
       "\n",
       "    .dataframe tbody tr th {\n",
       "        vertical-align: top;\n",
       "    }\n",
       "\n",
       "    .dataframe thead th {\n",
       "        text-align: right;\n",
       "    }\n",
       "</style>\n",
       "<table border=\"1\" class=\"dataframe\">\n",
       "  <thead>\n",
       "    <tr style=\"text-align: right;\">\n",
       "      <th></th>\n",
       "      <th>Ozoney1</th>\n",
       "      <th>Ozoney2</th>\n",
       "      <th>Ozoney3</th>\n",
       "      <th>year</th>\n",
       "      <th>month</th>\n",
       "      <th>day</th>\n",
       "    </tr>\n",
       "  </thead>\n",
       "  <tbody>\n",
       "    <tr>\n",
       "      <th>207</th>\n",
       "      <td>81.874286</td>\n",
       "      <td>23.741429</td>\n",
       "      <td>19.008571</td>\n",
       "      <td>2019</td>\n",
       "      <td>12</td>\n",
       "      <td>29</td>\n",
       "    </tr>\n",
       "    <tr>\n",
       "      <th>208</th>\n",
       "      <td>44.231429</td>\n",
       "      <td>24.824286</td>\n",
       "      <td>12.377143</td>\n",
       "      <td>2020</td>\n",
       "      <td>1</td>\n",
       "      <td>5</td>\n",
       "    </tr>\n",
       "    <tr>\n",
       "      <th>209</th>\n",
       "      <td>16.544286</td>\n",
       "      <td>33.828571</td>\n",
       "      <td>26.052857</td>\n",
       "      <td>2020</td>\n",
       "      <td>1</td>\n",
       "      <td>12</td>\n",
       "    </tr>\n",
       "    <tr>\n",
       "      <th>210</th>\n",
       "      <td>16.497143</td>\n",
       "      <td>30.060000</td>\n",
       "      <td>36.645714</td>\n",
       "      <td>2020</td>\n",
       "      <td>1</td>\n",
       "      <td>19</td>\n",
       "    </tr>\n",
       "    <tr>\n",
       "      <th>211</th>\n",
       "      <td>18.280000</td>\n",
       "      <td>31.908701</td>\n",
       "      <td>33.900000</td>\n",
       "      <td>2020</td>\n",
       "      <td>1</td>\n",
       "      <td>26</td>\n",
       "    </tr>\n",
       "    <tr>\n",
       "      <th>212</th>\n",
       "      <td>15.304286</td>\n",
       "      <td>14.922727</td>\n",
       "      <td>28.347143</td>\n",
       "      <td>2020</td>\n",
       "      <td>2</td>\n",
       "      <td>2</td>\n",
       "    </tr>\n",
       "    <tr>\n",
       "      <th>213</th>\n",
       "      <td>13.075714</td>\n",
       "      <td>42.105714</td>\n",
       "      <td>30.995000</td>\n",
       "      <td>2020</td>\n",
       "      <td>2</td>\n",
       "      <td>9</td>\n",
       "    </tr>\n",
       "    <tr>\n",
       "      <th>214</th>\n",
       "      <td>13.350000</td>\n",
       "      <td>47.765714</td>\n",
       "      <td>40.731429</td>\n",
       "      <td>2020</td>\n",
       "      <td>2</td>\n",
       "      <td>16</td>\n",
       "    </tr>\n",
       "    <tr>\n",
       "      <th>215</th>\n",
       "      <td>15.944286</td>\n",
       "      <td>32.580000</td>\n",
       "      <td>52.620000</td>\n",
       "      <td>2020</td>\n",
       "      <td>2</td>\n",
       "      <td>23</td>\n",
       "    </tr>\n",
       "    <tr>\n",
       "      <th>216</th>\n",
       "      <td>12.685714</td>\n",
       "      <td>34.004286</td>\n",
       "      <td>61.414286</td>\n",
       "      <td>2020</td>\n",
       "      <td>3</td>\n",
       "      <td>1</td>\n",
       "    </tr>\n",
       "    <tr>\n",
       "      <th>217</th>\n",
       "      <td>14.062857</td>\n",
       "      <td>49.107143</td>\n",
       "      <td>56.194286</td>\n",
       "      <td>2020</td>\n",
       "      <td>3</td>\n",
       "      <td>8</td>\n",
       "    </tr>\n",
       "    <tr>\n",
       "      <th>218</th>\n",
       "      <td>29.161429</td>\n",
       "      <td>49.267143</td>\n",
       "      <td>67.220000</td>\n",
       "      <td>2020</td>\n",
       "      <td>3</td>\n",
       "      <td>15</td>\n",
       "    </tr>\n",
       "    <tr>\n",
       "      <th>219</th>\n",
       "      <td>61.967143</td>\n",
       "      <td>62.734286</td>\n",
       "      <td>67.400000</td>\n",
       "      <td>2020</td>\n",
       "      <td>3</td>\n",
       "      <td>22</td>\n",
       "    </tr>\n",
       "    <tr>\n",
       "      <th>220</th>\n",
       "      <td>52.700000</td>\n",
       "      <td>63.990000</td>\n",
       "      <td>66.701429</td>\n",
       "      <td>2020</td>\n",
       "      <td>3</td>\n",
       "      <td>29</td>\n",
       "    </tr>\n",
       "    <tr>\n",
       "      <th>221</th>\n",
       "      <td>52.922857</td>\n",
       "      <td>61.754286</td>\n",
       "      <td>64.380000</td>\n",
       "      <td>2020</td>\n",
       "      <td>4</td>\n",
       "      <td>5</td>\n",
       "    </tr>\n",
       "    <tr>\n",
       "      <th>222</th>\n",
       "      <td>50.481429</td>\n",
       "      <td>41.734286</td>\n",
       "      <td>58.730000</td>\n",
       "      <td>2020</td>\n",
       "      <td>4</td>\n",
       "      <td>12</td>\n",
       "    </tr>\n",
       "    <tr>\n",
       "      <th>223</th>\n",
       "      <td>56.131429</td>\n",
       "      <td>38.668571</td>\n",
       "      <td>52.914286</td>\n",
       "      <td>2020</td>\n",
       "      <td>4</td>\n",
       "      <td>19</td>\n",
       "    </tr>\n",
       "    <tr>\n",
       "      <th>224</th>\n",
       "      <td>59.652857</td>\n",
       "      <td>62.137143</td>\n",
       "      <td>59.911429</td>\n",
       "      <td>2020</td>\n",
       "      <td>4</td>\n",
       "      <td>26</td>\n",
       "    </tr>\n",
       "    <tr>\n",
       "      <th>225</th>\n",
       "      <td>64.911429</td>\n",
       "      <td>66.691429</td>\n",
       "      <td>85.962857</td>\n",
       "      <td>2020</td>\n",
       "      <td>5</td>\n",
       "      <td>3</td>\n",
       "    </tr>\n",
       "    <tr>\n",
       "      <th>226</th>\n",
       "      <td>53.348571</td>\n",
       "      <td>66.050000</td>\n",
       "      <td>89.978571</td>\n",
       "      <td>2020</td>\n",
       "      <td>5</td>\n",
       "      <td>10</td>\n",
       "    </tr>\n",
       "    <tr>\n",
       "      <th>227</th>\n",
       "      <td>59.565714</td>\n",
       "      <td>58.722857</td>\n",
       "      <td>95.318571</td>\n",
       "      <td>2020</td>\n",
       "      <td>5</td>\n",
       "      <td>17</td>\n",
       "    </tr>\n",
       "    <tr>\n",
       "      <th>228</th>\n",
       "      <td>54.142857</td>\n",
       "      <td>45.695714</td>\n",
       "      <td>64.072857</td>\n",
       "      <td>2020</td>\n",
       "      <td>5</td>\n",
       "      <td>24</td>\n",
       "    </tr>\n",
       "    <tr>\n",
       "      <th>229</th>\n",
       "      <td>61.628571</td>\n",
       "      <td>76.952857</td>\n",
       "      <td>87.861429</td>\n",
       "      <td>2020</td>\n",
       "      <td>5</td>\n",
       "      <td>31</td>\n",
       "    </tr>\n",
       "    <tr>\n",
       "      <th>230</th>\n",
       "      <td>70.395714</td>\n",
       "      <td>55.088571</td>\n",
       "      <td>73.488571</td>\n",
       "      <td>2020</td>\n",
       "      <td>6</td>\n",
       "      <td>7</td>\n",
       "    </tr>\n",
       "    <tr>\n",
       "      <th>231</th>\n",
       "      <td>56.775714</td>\n",
       "      <td>22.508571</td>\n",
       "      <td>42.080000</td>\n",
       "      <td>2020</td>\n",
       "      <td>6</td>\n",
       "      <td>14</td>\n",
       "    </tr>\n",
       "    <tr>\n",
       "      <th>232</th>\n",
       "      <td>60.030000</td>\n",
       "      <td>37.065714</td>\n",
       "      <td>22.684286</td>\n",
       "      <td>2020</td>\n",
       "      <td>6</td>\n",
       "      <td>21</td>\n",
       "    </tr>\n",
       "    <tr>\n",
       "      <th>233</th>\n",
       "      <td>49.852857</td>\n",
       "      <td>24.297143</td>\n",
       "      <td>37.791429</td>\n",
       "      <td>2020</td>\n",
       "      <td>6</td>\n",
       "      <td>28</td>\n",
       "    </tr>\n",
       "    <tr>\n",
       "      <th>234</th>\n",
       "      <td>41.324286</td>\n",
       "      <td>29.612857</td>\n",
       "      <td>22.952857</td>\n",
       "      <td>2020</td>\n",
       "      <td>7</td>\n",
       "      <td>5</td>\n",
       "    </tr>\n",
       "    <tr>\n",
       "      <th>235</th>\n",
       "      <td>21.821429</td>\n",
       "      <td>26.434286</td>\n",
       "      <td>32.391429</td>\n",
       "      <td>2020</td>\n",
       "      <td>7</td>\n",
       "      <td>12</td>\n",
       "    </tr>\n",
       "    <tr>\n",
       "      <th>236</th>\n",
       "      <td>32.300000</td>\n",
       "      <td>16.085714</td>\n",
       "      <td>21.901429</td>\n",
       "      <td>2020</td>\n",
       "      <td>7</td>\n",
       "      <td>19</td>\n",
       "    </tr>\n",
       "    <tr>\n",
       "      <th>237</th>\n",
       "      <td>25.004286</td>\n",
       "      <td>18.998571</td>\n",
       "      <td>16.492857</td>\n",
       "      <td>2020</td>\n",
       "      <td>7</td>\n",
       "      <td>26</td>\n",
       "    </tr>\n",
       "    <tr>\n",
       "      <th>238</th>\n",
       "      <td>23.301429</td>\n",
       "      <td>22.034286</td>\n",
       "      <td>20.351429</td>\n",
       "      <td>2020</td>\n",
       "      <td>8</td>\n",
       "      <td>2</td>\n",
       "    </tr>\n",
       "    <tr>\n",
       "      <th>239</th>\n",
       "      <td>20.015714</td>\n",
       "      <td>23.337143</td>\n",
       "      <td>20.480000</td>\n",
       "      <td>2020</td>\n",
       "      <td>8</td>\n",
       "      <td>9</td>\n",
       "    </tr>\n",
       "    <tr>\n",
       "      <th>240</th>\n",
       "      <td>18.864286</td>\n",
       "      <td>28.562857</td>\n",
       "      <td>24.952857</td>\n",
       "      <td>2020</td>\n",
       "      <td>8</td>\n",
       "      <td>16</td>\n",
       "    </tr>\n",
       "    <tr>\n",
       "      <th>241</th>\n",
       "      <td>27.877143</td>\n",
       "      <td>25.711429</td>\n",
       "      <td>30.658571</td>\n",
       "      <td>2020</td>\n",
       "      <td>8</td>\n",
       "      <td>23</td>\n",
       "    </tr>\n",
       "    <tr>\n",
       "      <th>242</th>\n",
       "      <td>30.228571</td>\n",
       "      <td>18.304286</td>\n",
       "      <td>22.830000</td>\n",
       "      <td>2020</td>\n",
       "      <td>8</td>\n",
       "      <td>30</td>\n",
       "    </tr>\n",
       "    <tr>\n",
       "      <th>243</th>\n",
       "      <td>37.864286</td>\n",
       "      <td>21.307143</td>\n",
       "      <td>20.717143</td>\n",
       "      <td>2020</td>\n",
       "      <td>9</td>\n",
       "      <td>6</td>\n",
       "    </tr>\n",
       "    <tr>\n",
       "      <th>244</th>\n",
       "      <td>41.045714</td>\n",
       "      <td>21.212857</td>\n",
       "      <td>21.268571</td>\n",
       "      <td>2020</td>\n",
       "      <td>9</td>\n",
       "      <td>13</td>\n",
       "    </tr>\n",
       "    <tr>\n",
       "      <th>245</th>\n",
       "      <td>42.962857</td>\n",
       "      <td>35.238571</td>\n",
       "      <td>23.250000</td>\n",
       "      <td>2020</td>\n",
       "      <td>9</td>\n",
       "      <td>20</td>\n",
       "    </tr>\n",
       "    <tr>\n",
       "      <th>246</th>\n",
       "      <td>31.645714</td>\n",
       "      <td>32.027143</td>\n",
       "      <td>32.028571</td>\n",
       "      <td>2020</td>\n",
       "      <td>9</td>\n",
       "      <td>27</td>\n",
       "    </tr>\n",
       "    <tr>\n",
       "      <th>247</th>\n",
       "      <td>50.242857</td>\n",
       "      <td>33.791429</td>\n",
       "      <td>35.758571</td>\n",
       "      <td>2020</td>\n",
       "      <td>10</td>\n",
       "      <td>4</td>\n",
       "    </tr>\n",
       "    <tr>\n",
       "      <th>248</th>\n",
       "      <td>60.008571</td>\n",
       "      <td>45.767143</td>\n",
       "      <td>34.948571</td>\n",
       "      <td>2020</td>\n",
       "      <td>10</td>\n",
       "      <td>11</td>\n",
       "    </tr>\n",
       "    <tr>\n",
       "      <th>249</th>\n",
       "      <td>51.294286</td>\n",
       "      <td>45.032857</td>\n",
       "      <td>45.662857</td>\n",
       "      <td>2020</td>\n",
       "      <td>10</td>\n",
       "      <td>18</td>\n",
       "    </tr>\n",
       "    <tr>\n",
       "      <th>250</th>\n",
       "      <td>27.384286</td>\n",
       "      <td>40.094286</td>\n",
       "      <td>34.560000</td>\n",
       "      <td>2020</td>\n",
       "      <td>10</td>\n",
       "      <td>25</td>\n",
       "    </tr>\n",
       "    <tr>\n",
       "      <th>251</th>\n",
       "      <td>23.318571</td>\n",
       "      <td>31.104286</td>\n",
       "      <td>33.321429</td>\n",
       "      <td>2020</td>\n",
       "      <td>11</td>\n",
       "      <td>1</td>\n",
       "    </tr>\n",
       "    <tr>\n",
       "      <th>252</th>\n",
       "      <td>25.744286</td>\n",
       "      <td>43.018571</td>\n",
       "      <td>29.248571</td>\n",
       "      <td>2020</td>\n",
       "      <td>11</td>\n",
       "      <td>8</td>\n",
       "    </tr>\n",
       "    <tr>\n",
       "      <th>253</th>\n",
       "      <td>33.041429</td>\n",
       "      <td>43.658571</td>\n",
       "      <td>31.574286</td>\n",
       "      <td>2020</td>\n",
       "      <td>11</td>\n",
       "      <td>15</td>\n",
       "    </tr>\n",
       "    <tr>\n",
       "      <th>254</th>\n",
       "      <td>39.452857</td>\n",
       "      <td>32.045714</td>\n",
       "      <td>27.775714</td>\n",
       "      <td>2020</td>\n",
       "      <td>11</td>\n",
       "      <td>22</td>\n",
       "    </tr>\n",
       "    <tr>\n",
       "      <th>255</th>\n",
       "      <td>33.955714</td>\n",
       "      <td>27.704286</td>\n",
       "      <td>38.187143</td>\n",
       "      <td>2020</td>\n",
       "      <td>11</td>\n",
       "      <td>29</td>\n",
       "    </tr>\n",
       "    <tr>\n",
       "      <th>256</th>\n",
       "      <td>30.771429</td>\n",
       "      <td>25.794286</td>\n",
       "      <td>25.477143</td>\n",
       "      <td>2020</td>\n",
       "      <td>12</td>\n",
       "      <td>6</td>\n",
       "    </tr>\n",
       "    <tr>\n",
       "      <th>257</th>\n",
       "      <td>29.844286</td>\n",
       "      <td>34.307143</td>\n",
       "      <td>26.037143</td>\n",
       "      <td>2020</td>\n",
       "      <td>12</td>\n",
       "      <td>13</td>\n",
       "    </tr>\n",
       "    <tr>\n",
       "      <th>258</th>\n",
       "      <td>21.508571</td>\n",
       "      <td>101.102857</td>\n",
       "      <td>24.200714</td>\n",
       "      <td>2020</td>\n",
       "      <td>12</td>\n",
       "      <td>20</td>\n",
       "    </tr>\n",
       "    <tr>\n",
       "      <th>259</th>\n",
       "      <td>23.017143</td>\n",
       "      <td>81.874286</td>\n",
       "      <td>23.741429</td>\n",
       "      <td>2020</td>\n",
       "      <td>12</td>\n",
       "      <td>27</td>\n",
       "    </tr>\n",
       "  </tbody>\n",
       "</table>\n",
       "</div>"
      ],
      "text/plain": [
       "       Ozoney1     Ozoney2    Ozoney3  year  month  day\n",
       "207  81.874286   23.741429  19.008571  2019     12   29\n",
       "208  44.231429   24.824286  12.377143  2020      1    5\n",
       "209  16.544286   33.828571  26.052857  2020      1   12\n",
       "210  16.497143   30.060000  36.645714  2020      1   19\n",
       "211  18.280000   31.908701  33.900000  2020      1   26\n",
       "212  15.304286   14.922727  28.347143  2020      2    2\n",
       "213  13.075714   42.105714  30.995000  2020      2    9\n",
       "214  13.350000   47.765714  40.731429  2020      2   16\n",
       "215  15.944286   32.580000  52.620000  2020      2   23\n",
       "216  12.685714   34.004286  61.414286  2020      3    1\n",
       "217  14.062857   49.107143  56.194286  2020      3    8\n",
       "218  29.161429   49.267143  67.220000  2020      3   15\n",
       "219  61.967143   62.734286  67.400000  2020      3   22\n",
       "220  52.700000   63.990000  66.701429  2020      3   29\n",
       "221  52.922857   61.754286  64.380000  2020      4    5\n",
       "222  50.481429   41.734286  58.730000  2020      4   12\n",
       "223  56.131429   38.668571  52.914286  2020      4   19\n",
       "224  59.652857   62.137143  59.911429  2020      4   26\n",
       "225  64.911429   66.691429  85.962857  2020      5    3\n",
       "226  53.348571   66.050000  89.978571  2020      5   10\n",
       "227  59.565714   58.722857  95.318571  2020      5   17\n",
       "228  54.142857   45.695714  64.072857  2020      5   24\n",
       "229  61.628571   76.952857  87.861429  2020      5   31\n",
       "230  70.395714   55.088571  73.488571  2020      6    7\n",
       "231  56.775714   22.508571  42.080000  2020      6   14\n",
       "232  60.030000   37.065714  22.684286  2020      6   21\n",
       "233  49.852857   24.297143  37.791429  2020      6   28\n",
       "234  41.324286   29.612857  22.952857  2020      7    5\n",
       "235  21.821429   26.434286  32.391429  2020      7   12\n",
       "236  32.300000   16.085714  21.901429  2020      7   19\n",
       "237  25.004286   18.998571  16.492857  2020      7   26\n",
       "238  23.301429   22.034286  20.351429  2020      8    2\n",
       "239  20.015714   23.337143  20.480000  2020      8    9\n",
       "240  18.864286   28.562857  24.952857  2020      8   16\n",
       "241  27.877143   25.711429  30.658571  2020      8   23\n",
       "242  30.228571   18.304286  22.830000  2020      8   30\n",
       "243  37.864286   21.307143  20.717143  2020      9    6\n",
       "244  41.045714   21.212857  21.268571  2020      9   13\n",
       "245  42.962857   35.238571  23.250000  2020      9   20\n",
       "246  31.645714   32.027143  32.028571  2020      9   27\n",
       "247  50.242857   33.791429  35.758571  2020     10    4\n",
       "248  60.008571   45.767143  34.948571  2020     10   11\n",
       "249  51.294286   45.032857  45.662857  2020     10   18\n",
       "250  27.384286   40.094286  34.560000  2020     10   25\n",
       "251  23.318571   31.104286  33.321429  2020     11    1\n",
       "252  25.744286   43.018571  29.248571  2020     11    8\n",
       "253  33.041429   43.658571  31.574286  2020     11   15\n",
       "254  39.452857   32.045714  27.775714  2020     11   22\n",
       "255  33.955714   27.704286  38.187143  2020     11   29\n",
       "256  30.771429   25.794286  25.477143  2020     12    6\n",
       "257  29.844286   34.307143  26.037143  2020     12   13\n",
       "258  21.508571  101.102857  24.200714  2020     12   20\n",
       "259  23.017143   81.874286  23.741429  2020     12   27"
      ]
     },
     "execution_count": 45,
     "metadata": {},
     "output_type": "execute_result"
    }
   ],
   "source": [
    "test=data.loc['207':'259']\n",
    "X=test[['Ozoney1','Ozoney2','Ozoney3','year', 'month', 'day']]\n",
    "X"
   ]
  },
  {
   "cell_type": "code",
   "execution_count": 46,
   "metadata": {},
   "outputs": [],
   "source": [
    "predict=grad_boost.predict(X)"
   ]
  },
  {
   "cell_type": "code",
   "execution_count": 47,
   "metadata": {
    "scrolled": false
   },
   "outputs": [
    {
     "data": {
      "text/plain": [
       "array([36.05930081, 30.55420783, 33.60619673, 30.56644557, 32.58837886,\n",
       "       31.04734713, 32.42733473, 30.27827706, 26.44587608, 28.15794443,\n",
       "       27.44860936, 33.74303832, 51.7659207 , 53.06386603, 53.77641547,\n",
       "       39.15997526, 37.99908038, 55.25498477, 61.92401653, 56.90316451,\n",
       "       52.74835975, 45.21977139, 62.03051448, 47.06182835, 40.78627282,\n",
       "       42.49804001, 39.56647485, 29.80072874, 30.17575766, 32.82195219,\n",
       "       34.29734572, 32.28476886, 32.48789025, 30.26934776, 31.86129527,\n",
       "       36.12878483, 36.23903677, 36.243992  , 35.31976719, 33.92311534,\n",
       "       33.41019342, 35.46992211, 39.25150155, 42.04388982, 39.5375117 ,\n",
       "       39.90197496, 41.06733376, 36.72177267, 42.5302705 , 33.40867495,\n",
       "       35.26403446, 41.74568271, 45.52485906])"
      ]
     },
     "execution_count": 47,
     "metadata": {},
     "output_type": "execute_result"
    }
   ],
   "source": [
    "predict"
   ]
  },
  {
   "cell_type": "code",
   "execution_count": 48,
   "metadata": {},
   "outputs": [],
   "source": [
    "dates=data.loc['207':'259','From Date']"
   ]
  },
  {
   "cell_type": "code",
   "execution_count": 49,
   "metadata": {},
   "outputs": [],
   "source": [
    "X['From Date']=dates.values"
   ]
  },
  {
   "cell_type": "code",
   "execution_count": 50,
   "metadata": {},
   "outputs": [
    {
     "data": {
      "text/plain": [
       "Index(['Ozoney1', 'Ozoney2', 'Ozoney3', 'year', 'month', 'day', 'From Date'], dtype='object')"
      ]
     },
     "execution_count": 50,
     "metadata": {},
     "output_type": "execute_result"
    }
   ],
   "source": [
    "X.columns"
   ]
  },
  {
   "cell_type": "code",
   "execution_count": 51,
   "metadata": {},
   "outputs": [],
   "source": [
    "X['From Date']= X['From Date'].map(dt.datetime.fromordinal)"
   ]
  },
  {
   "cell_type": "code",
   "execution_count": 52,
   "metadata": {},
   "outputs": [],
   "source": [
    "test['From Date']= test['From Date'].map(dt.datetime.fromordinal)"
   ]
  },
  {
   "cell_type": "code",
   "execution_count": 53,
   "metadata": {},
   "outputs": [],
   "source": [
    "test = test.set_index(['From Date'])\n",
    "X = X.set_index(['From Date'])\n"
   ]
  },
  {
   "cell_type": "code",
   "execution_count": 54,
   "metadata": {},
   "outputs": [],
   "source": [
    "X['pred']=predict"
   ]
  },
  {
   "cell_type": "code",
   "execution_count": 55,
   "metadata": {
    "scrolled": true
   },
   "outputs": [
    {
     "data": {
      "text/plain": [
       "<AxesSubplot:xlabel='From Date'>"
      ]
     },
     "execution_count": 55,
     "metadata": {},
     "output_type": "execute_result"
    },
    {
     "data": {
      "image/png": "[encoded data removed]",
      "text/plain": [
       "<Figure size 720x432 with 1 Axes>"
      ]
     },
     "metadata": {},
     "output_type": "display_data"
    }
   ],
   "source": [
    "test['Ozone'].plot(legend=True, label='Actual Ozone', figsize=(10,6))\n",
    "X['pred'].plot(legend=True, label='Predicted Ozone')"
   ]
  },
  {
   "cell_type": "code",
   "execution_count": 56,
   "metadata": {},
   "outputs": [
    {
     "data": {
      "text/plain": [
       "14.262929998232675"
      ]
     },
     "execution_count": 56,
     "metadata": {},
     "output_type": "execute_result"
    }
   ],
   "source": [
    "np.sqrt(mean_squared_error(test['Ozone'],X['pred']))"
   ]
  },
  {
   "cell_type": "code",
   "execution_count": 57,
   "metadata": {
    "scrolled": false
   },
   "outputs": [
    {
     "name": "stdout",
     "output_type": "stream",
     "text": [
      "Results of sklearn.metrics:\n",
      "MAE: 10.772256466085324\n",
      "MSE: 182.48222851695652\n",
      "RMSE: 13.50859831799571\n",
      "R-Squared: 0.6172275345951943\n"
     ]
    }
   ],
   "source": [
    "mae = metrics.mean_absolute_error(ytest, gboost_pred)\n",
    "mse = metrics.mean_squared_error(ytest, gboost_pred)\n",
    "rmsetest = np.sqrt(mse) # or mse**(0.5)  \n",
    "r2 = metrics.r2_score(ytest,gboost_pred)\n",
    "\n",
    "print(\"Results of sklearn.metrics:\")\n",
    "print(\"MAE:\",mae)\n",
    "print(\"MSE:\", mse)\n",
    "print(\"RMSE:\", rmsetest)\n",
    "print(\"R-Squared:\", r2)"
   ]
  },
  {
   "cell_type": "code",
   "execution_count": 58,
   "metadata": {},
   "outputs": [
    {
     "name": "stdout",
     "output_type": "stream",
     "text": [
      "Results of sklearn.metrics:\n",
      "MAE: 12.164022515359054\n",
      "MSE: 203.43117213448554\n",
      "RMSE: 14.262929998232675\n",
      "R-Squared: 0.3360270936939027\n"
     ]
    }
   ],
   "source": [
    "mae = metrics.mean_absolute_error(test['Ozone'],X['pred'])\n",
    "mse = metrics.mean_squared_error(test['Ozone'],X['pred'])\n",
    "rmse = np.sqrt(mse) # or mse**(0.5)  \n",
    "r2 = metrics.r2_score(test['Ozone'],X['pred'])\n",
    "\n",
    "print(\"Results of sklearn.metrics:\")\n",
    "print(\"MAE:\",mae)\n",
    "print(\"MSE:\", mse)\n",
    "print(\"RMSE:\", rmse)\n",
    "print(\"R-Squared:\", r2)"
   ]
  },
  {
   "cell_type": "code",
   "execution_count": 59,
   "metadata": {},
   "outputs": [],
   "source": [
    "import pickle\n",
    "filename = 'Ozone_gboost3y.sav'\n",
    "pickle.dump(grad_boost, open(filename, 'wb'))"
   ]
  },
  {
   "cell_type": "code",
   "execution_count": 60,
   "metadata": {},
   "outputs": [
    {
     "name": "stdout",
     "output_type": "stream",
     "text": [
      "0.6172275345951943\n"
     ]
    }
   ],
   "source": [
    "#load model\n",
    "loaded_model = pickle.load(open(filename, 'rb'))\n",
    "result = loaded_model.score(xtest, ytest)\n",
    "print(result)"
   ]
  },
  {
   "cell_type": "markdown",
   "metadata": {},
   "source": [
    "# 3rd plot"
   ]
  },
  {
   "cell_type": "code",
   "execution_count": 61,
   "metadata": {},
   "outputs": [],
   "source": [
    "testcase = pd.DataFrame()"
   ]
  },
  {
   "cell_type": "code",
   "execution_count": 62,
   "metadata": {
    "scrolled": true
   },
   "outputs": [],
   "source": [
    "testcase['test']=ytest\n",
    "testcase['pred']=gboost_pred"
   ]
  },
  {
   "cell_type": "code",
   "execution_count": 63,
   "metadata": {},
   "outputs": [],
   "source": [
    "testcase[\"Corrected\"] = np.where(testcase[\"pred\"]<testcase[\"test\"],testcase[\"pred\"]+rmsetest ,\n",
    "                   np.where(testcase[\"pred\"]>testcase[\"test\"], testcase[\"pred\"]-rmsetest,\n",
    "                            testcase[\"pred\"]))"
   ]
  },
  {
   "cell_type": "code",
   "execution_count": 64,
   "metadata": {},
   "outputs": [
    {
     "data": {
      "text/html": [
       "<div>\n",
       "<style scoped>\n",
       "    .dataframe tbody tr th:only-of-type {\n",
       "        vertical-align: middle;\n",
       "    }\n",
       "\n",
       "    .dataframe tbody tr th {\n",
       "        vertical-align: top;\n",
       "    }\n",
       "\n",
       "    .dataframe thead th {\n",
       "        text-align: right;\n",
       "    }\n",
       "</style>\n",
       "<table border=\"1\" class=\"dataframe\">\n",
       "  <thead>\n",
       "    <tr style=\"text-align: right;\">\n",
       "      <th></th>\n",
       "      <th>test</th>\n",
       "      <th>pred</th>\n",
       "      <th>Corrected</th>\n",
       "    </tr>\n",
       "  </thead>\n",
       "  <tbody>\n",
       "    <tr>\n",
       "      <th>99</th>\n",
       "      <td>38.187143</td>\n",
       "      <td>39.890372</td>\n",
       "      <td>26.381774</td>\n",
       "    </tr>\n",
       "    <tr>\n",
       "      <th>207</th>\n",
       "      <td>23.017143</td>\n",
       "      <td>36.059301</td>\n",
       "      <td>22.550702</td>\n",
       "    </tr>\n",
       "    <tr>\n",
       "      <th>164</th>\n",
       "      <td>12.685714</td>\n",
       "      <td>49.061300</td>\n",
       "      <td>35.552702</td>\n",
       "    </tr>\n",
       "    <tr>\n",
       "      <th>157</th>\n",
       "      <td>16.544286</td>\n",
       "      <td>32.105034</td>\n",
       "      <td>18.596435</td>\n",
       "    </tr>\n",
       "    <tr>\n",
       "      <th>84</th>\n",
       "      <td>24.952857</td>\n",
       "      <td>27.821926</td>\n",
       "      <td>14.313327</td>\n",
       "    </tr>\n",
       "    <tr>\n",
       "      <th>158</th>\n",
       "      <td>16.497143</td>\n",
       "      <td>28.734429</td>\n",
       "      <td>15.225831</td>\n",
       "    </tr>\n",
       "    <tr>\n",
       "      <th>61</th>\n",
       "      <td>56.194286</td>\n",
       "      <td>63.071178</td>\n",
       "      <td>49.562580</td>\n",
       "    </tr>\n",
       "    <tr>\n",
       "      <th>134</th>\n",
       "      <td>22.034286</td>\n",
       "      <td>29.447737</td>\n",
       "      <td>15.939139</td>\n",
       "    </tr>\n",
       "    <tr>\n",
       "      <th>30</th>\n",
       "      <td>44.411429</td>\n",
       "      <td>32.482473</td>\n",
       "      <td>45.991071</td>\n",
       "    </tr>\n",
       "    <tr>\n",
       "      <th>4</th>\n",
       "      <td>49.721429</td>\n",
       "      <td>42.300225</td>\n",
       "      <td>55.808823</td>\n",
       "    </tr>\n",
       "    <tr>\n",
       "      <th>6</th>\n",
       "      <td>58.344286</td>\n",
       "      <td>55.628640</td>\n",
       "      <td>69.137239</td>\n",
       "    </tr>\n",
       "    <tr>\n",
       "      <th>11</th>\n",
       "      <td>73.434286</td>\n",
       "      <td>65.787511</td>\n",
       "      <td>79.296109</td>\n",
       "    </tr>\n",
       "    <tr>\n",
       "      <th>121</th>\n",
       "      <td>66.691429</td>\n",
       "      <td>63.198296</td>\n",
       "      <td>76.706895</td>\n",
       "    </tr>\n",
       "    <tr>\n",
       "      <th>53</th>\n",
       "      <td>26.052857</td>\n",
       "      <td>29.294391</td>\n",
       "      <td>15.785793</td>\n",
       "    </tr>\n",
       "    <tr>\n",
       "      <th>19</th>\n",
       "      <td>92.052857</td>\n",
       "      <td>69.926431</td>\n",
       "      <td>83.435029</td>\n",
       "    </tr>\n",
       "    <tr>\n",
       "      <th>144</th>\n",
       "      <td>45.767143</td>\n",
       "      <td>35.468836</td>\n",
       "      <td>48.977434</td>\n",
       "    </tr>\n",
       "    <tr>\n",
       "      <th>142</th>\n",
       "      <td>32.027143</td>\n",
       "      <td>34.862676</td>\n",
       "      <td>21.354078</td>\n",
       "    </tr>\n",
       "    <tr>\n",
       "      <th>98</th>\n",
       "      <td>27.775714</td>\n",
       "      <td>39.712337</td>\n",
       "      <td>26.203738</td>\n",
       "    </tr>\n",
       "    <tr>\n",
       "      <th>89</th>\n",
       "      <td>23.250000</td>\n",
       "      <td>29.468566</td>\n",
       "      <td>15.959967</td>\n",
       "    </tr>\n",
       "    <tr>\n",
       "      <th>65</th>\n",
       "      <td>64.380000</td>\n",
       "      <td>75.616691</td>\n",
       "      <td>62.108093</td>\n",
       "    </tr>\n",
       "    <tr>\n",
       "      <th>96</th>\n",
       "      <td>29.248571</td>\n",
       "      <td>36.294261</td>\n",
       "      <td>22.785663</td>\n",
       "    </tr>\n",
       "    <tr>\n",
       "      <th>13</th>\n",
       "      <td>87.679048</td>\n",
       "      <td>58.118201</td>\n",
       "      <td>71.626799</td>\n",
       "    </tr>\n",
       "    <tr>\n",
       "      <th>12</th>\n",
       "      <td>87.045714</td>\n",
       "      <td>73.694522</td>\n",
       "      <td>87.203120</td>\n",
       "    </tr>\n",
       "    <tr>\n",
       "      <th>108</th>\n",
       "      <td>14.922727</td>\n",
       "      <td>27.136058</td>\n",
       "      <td>13.627460</td>\n",
       "    </tr>\n",
       "    <tr>\n",
       "      <th>72</th>\n",
       "      <td>64.072857</td>\n",
       "      <td>64.987822</td>\n",
       "      <td>51.479224</td>\n",
       "    </tr>\n",
       "    <tr>\n",
       "      <th>104</th>\n",
       "      <td>22.671429</td>\n",
       "      <td>29.920644</td>\n",
       "      <td>16.412046</td>\n",
       "    </tr>\n",
       "    <tr>\n",
       "      <th>88</th>\n",
       "      <td>21.268571</td>\n",
       "      <td>35.042009</td>\n",
       "      <td>21.533411</td>\n",
       "    </tr>\n",
       "    <tr>\n",
       "      <th>182</th>\n",
       "      <td>41.324286</td>\n",
       "      <td>34.573462</td>\n",
       "      <td>48.082061</td>\n",
       "    </tr>\n",
       "    <tr>\n",
       "      <th>100</th>\n",
       "      <td>25.477143</td>\n",
       "      <td>36.082078</td>\n",
       "      <td>22.573479</td>\n",
       "    </tr>\n",
       "    <tr>\n",
       "      <th>87</th>\n",
       "      <td>20.717143</td>\n",
       "      <td>24.337278</td>\n",
       "      <td>10.828679</td>\n",
       "    </tr>\n",
       "    <tr>\n",
       "      <th>111</th>\n",
       "      <td>32.580000</td>\n",
       "      <td>37.057547</td>\n",
       "      <td>23.548949</td>\n",
       "    </tr>\n",
       "    <tr>\n",
       "      <th>146</th>\n",
       "      <td>40.094286</td>\n",
       "      <td>41.154455</td>\n",
       "      <td>27.645857</td>\n",
       "    </tr>\n",
       "    <tr>\n",
       "      <th>112</th>\n",
       "      <td>34.004286</td>\n",
       "      <td>59.111093</td>\n",
       "      <td>45.602495</td>\n",
       "    </tr>\n",
       "    <tr>\n",
       "      <th>38</th>\n",
       "      <td>33.431429</td>\n",
       "      <td>28.380014</td>\n",
       "      <td>41.888612</td>\n",
       "    </tr>\n",
       "    <tr>\n",
       "      <th>126</th>\n",
       "      <td>55.088571</td>\n",
       "      <td>58.246678</td>\n",
       "      <td>44.738079</td>\n",
       "    </tr>\n",
       "    <tr>\n",
       "      <th>166</th>\n",
       "      <td>29.161429</td>\n",
       "      <td>49.938319</td>\n",
       "      <td>36.429720</td>\n",
       "    </tr>\n",
       "    <tr>\n",
       "      <th>18</th>\n",
       "      <td>88.464643</td>\n",
       "      <td>69.069041</td>\n",
       "      <td>82.577640</td>\n",
       "    </tr>\n",
       "    <tr>\n",
       "      <th>168</th>\n",
       "      <td>52.700000</td>\n",
       "      <td>57.456927</td>\n",
       "      <td>43.948328</td>\n",
       "    </tr>\n",
       "    <tr>\n",
       "      <th>179</th>\n",
       "      <td>56.775714</td>\n",
       "      <td>33.146455</td>\n",
       "      <td>46.655053</td>\n",
       "    </tr>\n",
       "    <tr>\n",
       "      <th>0</th>\n",
       "      <td>55.380000</td>\n",
       "      <td>34.397171</td>\n",
       "      <td>47.905769</td>\n",
       "    </tr>\n",
       "    <tr>\n",
       "      <th>120</th>\n",
       "      <td>62.137143</td>\n",
       "      <td>56.262998</td>\n",
       "      <td>69.771596</td>\n",
       "    </tr>\n",
       "    <tr>\n",
       "      <th>107</th>\n",
       "      <td>31.908701</td>\n",
       "      <td>47.811395</td>\n",
       "      <td>34.302797</td>\n",
       "    </tr>\n",
       "  </tbody>\n",
       "</table>\n",
       "</div>"
      ],
      "text/plain": [
       "          test       pred  Corrected\n",
       "99   38.187143  39.890372  26.381774\n",
       "207  23.017143  36.059301  22.550702\n",
       "164  12.685714  49.061300  35.552702\n",
       "157  16.544286  32.105034  18.596435\n",
       "84   24.952857  27.821926  14.313327\n",
       "158  16.497143  28.734429  15.225831\n",
       "61   56.194286  63.071178  49.562580\n",
       "134  22.034286  29.447737  15.939139\n",
       "30   44.411429  32.482473  45.991071\n",
       "4    49.721429  42.300225  55.808823\n",
       "6    58.344286  55.628640  69.137239\n",
       "11   73.434286  65.787511  79.296109\n",
       "121  66.691429  63.198296  76.706895\n",
       "53   26.052857  29.294391  15.785793\n",
       "19   92.052857  69.926431  83.435029\n",
       "144  45.767143  35.468836  48.977434\n",
       "142  32.027143  34.862676  21.354078\n",
       "98   27.775714  39.712337  26.203738\n",
       "89   23.250000  29.468566  15.959967\n",
       "65   64.380000  75.616691  62.108093\n",
       "96   29.248571  36.294261  22.785663\n",
       "13   87.679048  58.118201  71.626799\n",
       "12   87.045714  73.694522  87.203120\n",
       "108  14.922727  27.136058  13.627460\n",
       "72   64.072857  64.987822  51.479224\n",
       "104  22.671429  29.920644  16.412046\n",
       "88   21.268571  35.042009  21.533411\n",
       "182  41.324286  34.573462  48.082061\n",
       "100  25.477143  36.082078  22.573479\n",
       "87   20.717143  24.337278  10.828679\n",
       "111  32.580000  37.057547  23.548949\n",
       "146  40.094286  41.154455  27.645857\n",
       "112  34.004286  59.111093  45.602495\n",
       "38   33.431429  28.380014  41.888612\n",
       "126  55.088571  58.246678  44.738079\n",
       "166  29.161429  49.938319  36.429720\n",
       "18   88.464643  69.069041  82.577640\n",
       "168  52.700000  57.456927  43.948328\n",
       "179  56.775714  33.146455  46.655053\n",
       "0    55.380000  34.397171  47.905769\n",
       "120  62.137143  56.262998  69.771596\n",
       "107  31.908701  47.811395  34.302797"
      ]
     },
     "execution_count": 64,
     "metadata": {},
     "output_type": "execute_result"
    }
   ],
   "source": [
    "testcase"
   ]
  },
  {
   "cell_type": "code",
   "execution_count": 65,
   "metadata": {},
   "outputs": [
    {
     "data": {
      "text/plain": [
       "'testcase[\\'test\\'].plot(legend=True, label=\\'Actual PM2.5\\', figsize=(10,6))\\ntestcase[\\'pred\\'].plot(legend=True, label=\\'Predicted PM2.5\\')\\ntestcase[\"Corrected\"].plot(legend=True, label=\\'Corrected PM2.5\\')'"
      ]
     },
     "execution_count": 65,
     "metadata": {},
     "output_type": "execute_result"
    }
   ],
   "source": [
    "'''testcase['test'].plot(legend=True, label='Actual PM2.5', figsize=(10,6))\n",
    "testcase['pred'].plot(legend=True, label='Predicted PM2.5')\n",
    "testcase[\"Corrected\"].plot(legend=True, label='Corrected PM2.5')'''"
   ]
  },
  {
   "cell_type": "code",
   "execution_count": 66,
   "metadata": {
    "scrolled": true
   },
   "outputs": [
    {
     "data": {
      "text/plain": [
       "0.8513768282999715"
      ]
     },
     "execution_count": 66,
     "metadata": {},
     "output_type": "execute_result"
    }
   ],
   "source": [
    "r2 = metrics.r2_score(testcase[\"Corrected\"],testcase['test'])\n",
    "r2"
   ]
  },
  {
   "cell_type": "code",
   "execution_count": 67,
   "metadata": {},
   "outputs": [],
   "source": [
    "test2020=pd.DataFrame()"
   ]
  },
  {
   "cell_type": "code",
   "execution_count": 68,
   "metadata": {},
   "outputs": [],
   "source": [
    "test2020['test']=test['Ozone']\n",
    "test2020['pred']=X['pred']"
   ]
  },
  {
   "cell_type": "code",
   "execution_count": 69,
   "metadata": {},
   "outputs": [],
   "source": [
    "test2020.index=test.index"
   ]
  },
  {
   "cell_type": "code",
   "execution_count": 70,
   "metadata": {},
   "outputs": [],
   "source": [
    "test2020[\"Corrected\"] = np.where(test2020[\"pred\"]<test2020[\"test\"],test2020[\"pred\"]+rmsetest ,\n",
    "                   np.where(test2020[\"pred\"]>test2020[\"test\"], test2020[\"pred\"]-rmsetest,\n",
    "                            test2020[\"pred\"]))"
   ]
  },
  {
   "cell_type": "code",
   "execution_count": 71,
   "metadata": {},
   "outputs": [
    {
     "data": {
      "text/plain": [
       "<AxesSubplot:xlabel='From Date'>"
      ]
     },
     "execution_count": 71,
     "metadata": {},
     "output_type": "execute_result"
    },
    {
     "data": {
      "image/png": "[encoded data removed]",
      "text/plain": [
       "<Figure size 720x432 with 1 Axes>"
      ]
     },
     "metadata": {},
     "output_type": "display_data"
    }
   ],
   "source": [
    "test2020['test'].plot(legend=True, label='Actual Ozone 2020', figsize=(10,6))\n",
    "test2020['pred'].plot(legend=True, label='Predicted Ozone 2020')\n",
    "test2020[\"Corrected\"].plot(legend=True, label='Corrected Ozone 2020')"
   ]
  },
  {
   "cell_type": "code",
   "execution_count": 72,
   "metadata": {},
   "outputs": [
    {
     "data": {
      "text/plain": [
       "0.8148176456812767"
      ]
     },
     "execution_count": 72,
     "metadata": {},
     "output_type": "execute_result"
    }
   ],
   "source": [
    "r2020 = metrics.r2_score(test2020[\"Corrected\"],test2020['test'])\n",
    "r2020"
   ]
  },
  {
   "cell_type": "code",
   "execution_count": null,
   "metadata": {},
   "outputs": [],
   "source": []
  }
 ],
 "metadata": {
  "kernelspec": {
   "display_name": "Python 3",
   "language": "python",
   "name": "python3"
  },
  "language_info": {
   "codemirror_mode": {
    "name": "ipython",
    "version": 3
   },
   "file_extension": ".py",
   "mimetype": "text/x-python",
   "name": "python",
   "nbconvert_exporter": "python",
   "pygments_lexer": "ipython3",
   "version": "3.8.5"
  }
 },
 "nbformat": 4,
 "nbformat_minor": 4
}
