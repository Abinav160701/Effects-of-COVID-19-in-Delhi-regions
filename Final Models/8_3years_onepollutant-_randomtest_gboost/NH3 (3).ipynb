{
 "cells": [
  {
   "cell_type": "code",
   "execution_count": 1,
   "metadata": {},
   "outputs": [],
   "source": [
    "import pandas as pd\n",
    "import numpy as np\n",
    "import matplotlib.pyplot as plt\n",
    "import seaborn as sns\n",
    "sns.set()\n",
    "import warnings\n",
    "warnings.filterwarnings(action='ignore')\n",
    "from statsmodels.tsa.seasonal import seasonal_decompose\n",
    "import statsmodels.formula.api as formula\n",
    "from statsmodels.stats.outliers_influence import variance_inflation_factor\n",
    "import statsmodels as sm\n",
    "from sklearn import preprocessing\n",
    "from sklearn.model_selection import train_test_split,GridSearchCV,RandomizedSearchCV\n",
    "from sklearn.linear_model import LinearRegression,Lasso,Ridge\n",
    "#from sklearn.externals import joblib\n",
    "from sklearn.metrics import r2_score,mean_squared_error\n",
    "from sklearn.ensemble import RandomForestRegressor,GradientBoostingRegressor\n",
    "from sklearn.tree import DecisionTreeRegressor\n",
    "from IPython.display import display\n",
    "from sklearn import metrics"
   ]
  },
  {
   "cell_type": "code",
   "execution_count": 2,
   "metadata": {},
   "outputs": [],
   "source": [
    "data = pd.read_excel (r'C:\\Users\\Kira\\Desktop\\Internship\\Data\\Delhi_Data-20210529T043217Z-001\\Delhi_Data\\2013-2020-RK-PURAM-final-dataset\\3y_weekly_RKPURAM.xlsx')\n",
    "data['From Date']=pd.to_datetime(data['From Date'])\n",
    "data['year'] = data['From Date'].dt.year\n",
    "data['month'] = data['From Date'].dt.month\n",
    "data['day'] = data['From Date'].dt.day"
   ]
  },
  {
   "cell_type": "code",
   "execution_count": 3,
   "metadata": {},
   "outputs": [],
   "source": [
    "import datetime as dt"
   ]
  },
  {
   "cell_type": "code",
   "execution_count": 4,
   "metadata": {},
   "outputs": [],
   "source": [
    "data['From Date']= data['From Date'].map(dt.datetime.toordinal)"
   ]
  },
  {
   "cell_type": "code",
   "execution_count": 5,
   "metadata": {},
   "outputs": [],
   "source": [
    "df=data.loc['0':'207']"
   ]
  },
  {
   "cell_type": "code",
   "execution_count": 6,
   "metadata": {
    "scrolled": true
   },
   "outputs": [
    {
     "data": {
      "text/plain": [
       "Index(['From Date', 'PM2.5y1', 'PM1y1', 'NOy1', 'NO2y1', 'NOxy1', 'NH3y1',\n",
       "       'SO2y1', 'COy1', 'Ozoney1', 'RHy1', 'WSy1', 'WDy1', 'SRy1', 'BPy1',\n",
       "       'ATy1', 'PM2.5y2', 'PM1y2', 'NOy2', 'NO2y2', 'NOxy2', 'NH3y2', 'SO2y2',\n",
       "       'COy2', 'Ozoney2', 'RHy2', 'WSy2', 'WDy2', 'SRy2', 'BPy2', 'ATy2',\n",
       "       'PM2.5y3', 'PM1y3', 'NOy3', 'NO2y3', 'NOxy3', 'NH3y3', 'SO2y3', 'COy3',\n",
       "       'Ozoney3', 'RHy3', 'WSy3', 'WDy3', 'SRy3', 'BPy3', 'ATy3', 'PM2.5',\n",
       "       'PM1', 'NO', 'NO2', 'NOx', 'NH3', 'SO2', 'CO', 'Ozone', 'RH', 'WS',\n",
       "       'WD', 'SR', 'BP', 'AT', 'year', 'month', 'day'],\n",
       "      dtype='object')"
      ]
     },
     "execution_count": 6,
     "metadata": {},
     "output_type": "execute_result"
    }
   ],
   "source": [
    "df.columns"
   ]
  },
  {
   "cell_type": "code",
   "execution_count": 7,
   "metadata": {},
   "outputs": [],
   "source": [
    "X1 = df[['NH3y1', 'NH3y2', 'NH3y3','year', 'month', 'day']]\n",
    "Y1 = df['NH3']"
   ]
  },
  {
   "cell_type": "code",
   "execution_count": 79,
   "metadata": {},
   "outputs": [],
   "source": [
    "xtrain,xtest,ytrain,ytest = train_test_split(X1,Y1,test_size=.2,random_state=4)"
   ]
  },
  {
   "cell_type": "code",
   "execution_count": 80,
   "metadata": {},
   "outputs": [
    {
     "data": {
      "text/plain": [
       "GradientBoostingRegressor(learning_rate=0.01, max_depth=6, max_features='sqrt',\n",
       "                          min_samples_leaf=3, min_samples_split=4,\n",
       "                          n_estimators=1500)"
      ]
     },
     "execution_count": 80,
     "metadata": {},
     "output_type": "execute_result"
    }
   ],
   "source": [
    "grad_boost = GradientBoostingRegressor(n_estimators=1500,\n",
    "                                      max_depth=6,\n",
    "                                      max_features='sqrt',\n",
    "                                      min_samples_split=4,\n",
    "                                      min_samples_leaf=3,\n",
    "                                      learning_rate=0.01)\n",
    "\n",
    "grad_boost.fit(xtrain,ytrain)"
   ]
  },
  {
   "cell_type": "code",
   "execution_count": 81,
   "metadata": {
    "scrolled": true
   },
   "outputs": [
    {
     "name": "stdout",
     "output_type": "stream",
     "text": [
      "Score on train data: 0.9995713575272175\n",
      "\n",
      "Score on test data: 0.5858115316289347\n",
      "\n",
      "Root Mean Squared Error: 10.702082012588109\n",
      "\n",
      "Overall model accuracy: 0.5858115316289347\n"
     ]
    }
   ],
   "source": [
    "# we now score the model\n",
    "print('Score on train data: {}\\n'.format(grad_boost.score(xtrain,ytrain)))\n",
    "print('Score on test data: {}\\n'.format(grad_boost.score(xtest,ytest)))\n",
    "\n",
    "gboost_pred = grad_boost.predict(xtest)\n",
    "gboost_mse = mean_squared_error(ytest,gboost_pred)\n",
    "gboost_accuracy = r2_score(ytest,gboost_pred)\n",
    "\n",
    "print('Root Mean Squared Error: {}\\n'.format(np.sqrt(gboost_mse)))\n",
    "print('Overall model accuracy: {}'.format(gboost_accuracy))"
   ]
  },
  {
   "cell_type": "code",
   "execution_count": 82,
   "metadata": {},
   "outputs": [
    {
     "data": {
      "text/html": [
       "<div>\n",
       "<style scoped>\n",
       "    .dataframe tbody tr th:only-of-type {\n",
       "        vertical-align: middle;\n",
       "    }\n",
       "\n",
       "    .dataframe tbody tr th {\n",
       "        vertical-align: top;\n",
       "    }\n",
       "\n",
       "    .dataframe thead th {\n",
       "        text-align: right;\n",
       "    }\n",
       "</style>\n",
       "<table border=\"1\" class=\"dataframe\">\n",
       "  <thead>\n",
       "    <tr style=\"text-align: right;\">\n",
       "      <th></th>\n",
       "      <th>NH3y1</th>\n",
       "      <th>NH3y2</th>\n",
       "      <th>NH3y3</th>\n",
       "      <th>year</th>\n",
       "      <th>month</th>\n",
       "      <th>day</th>\n",
       "    </tr>\n",
       "  </thead>\n",
       "  <tbody>\n",
       "    <tr>\n",
       "      <th>207</th>\n",
       "      <td>32.607143</td>\n",
       "      <td>42.882857</td>\n",
       "      <td>56.007143</td>\n",
       "      <td>2019</td>\n",
       "      <td>12</td>\n",
       "      <td>29</td>\n",
       "    </tr>\n",
       "    <tr>\n",
       "      <th>208</th>\n",
       "      <td>29.011429</td>\n",
       "      <td>43.077143</td>\n",
       "      <td>57.234286</td>\n",
       "      <td>2020</td>\n",
       "      <td>1</td>\n",
       "      <td>5</td>\n",
       "    </tr>\n",
       "    <tr>\n",
       "      <th>209</th>\n",
       "      <td>31.015714</td>\n",
       "      <td>35.634286</td>\n",
       "      <td>48.108571</td>\n",
       "      <td>2020</td>\n",
       "      <td>1</td>\n",
       "      <td>12</td>\n",
       "    </tr>\n",
       "    <tr>\n",
       "      <th>210</th>\n",
       "      <td>28.408571</td>\n",
       "      <td>38.150000</td>\n",
       "      <td>43.388571</td>\n",
       "      <td>2020</td>\n",
       "      <td>1</td>\n",
       "      <td>19</td>\n",
       "    </tr>\n",
       "    <tr>\n",
       "      <th>211</th>\n",
       "      <td>23.565714</td>\n",
       "      <td>34.502857</td>\n",
       "      <td>44.487143</td>\n",
       "      <td>2020</td>\n",
       "      <td>1</td>\n",
       "      <td>26</td>\n",
       "    </tr>\n",
       "    <tr>\n",
       "      <th>212</th>\n",
       "      <td>23.558571</td>\n",
       "      <td>19.232857</td>\n",
       "      <td>42.347143</td>\n",
       "      <td>2020</td>\n",
       "      <td>2</td>\n",
       "      <td>2</td>\n",
       "    </tr>\n",
       "    <tr>\n",
       "      <th>213</th>\n",
       "      <td>22.507143</td>\n",
       "      <td>38.404286</td>\n",
       "      <td>39.584286</td>\n",
       "      <td>2020</td>\n",
       "      <td>2</td>\n",
       "      <td>9</td>\n",
       "    </tr>\n",
       "    <tr>\n",
       "      <th>214</th>\n",
       "      <td>27.225714</td>\n",
       "      <td>33.808571</td>\n",
       "      <td>30.340000</td>\n",
       "      <td>2020</td>\n",
       "      <td>2</td>\n",
       "      <td>16</td>\n",
       "    </tr>\n",
       "    <tr>\n",
       "      <th>215</th>\n",
       "      <td>27.742857</td>\n",
       "      <td>39.555714</td>\n",
       "      <td>37.265714</td>\n",
       "      <td>2020</td>\n",
       "      <td>2</td>\n",
       "      <td>23</td>\n",
       "    </tr>\n",
       "    <tr>\n",
       "      <th>216</th>\n",
       "      <td>27.334286</td>\n",
       "      <td>38.014286</td>\n",
       "      <td>26.370000</td>\n",
       "      <td>2020</td>\n",
       "      <td>3</td>\n",
       "      <td>1</td>\n",
       "    </tr>\n",
       "    <tr>\n",
       "      <th>217</th>\n",
       "      <td>25.917143</td>\n",
       "      <td>32.258571</td>\n",
       "      <td>23.787143</td>\n",
       "      <td>2020</td>\n",
       "      <td>3</td>\n",
       "      <td>8</td>\n",
       "    </tr>\n",
       "    <tr>\n",
       "      <th>218</th>\n",
       "      <td>25.497143</td>\n",
       "      <td>31.635714</td>\n",
       "      <td>17.301429</td>\n",
       "      <td>2020</td>\n",
       "      <td>3</td>\n",
       "      <td>15</td>\n",
       "    </tr>\n",
       "    <tr>\n",
       "      <th>219</th>\n",
       "      <td>21.360000</td>\n",
       "      <td>30.988571</td>\n",
       "      <td>16.492857</td>\n",
       "      <td>2020</td>\n",
       "      <td>3</td>\n",
       "      <td>22</td>\n",
       "    </tr>\n",
       "    <tr>\n",
       "      <th>220</th>\n",
       "      <td>22.554286</td>\n",
       "      <td>31.171429</td>\n",
       "      <td>25.394286</td>\n",
       "      <td>2020</td>\n",
       "      <td>3</td>\n",
       "      <td>29</td>\n",
       "    </tr>\n",
       "    <tr>\n",
       "      <th>221</th>\n",
       "      <td>23.711429</td>\n",
       "      <td>37.747143</td>\n",
       "      <td>32.894286</td>\n",
       "      <td>2020</td>\n",
       "      <td>4</td>\n",
       "      <td>5</td>\n",
       "    </tr>\n",
       "    <tr>\n",
       "      <th>222</th>\n",
       "      <td>25.988571</td>\n",
       "      <td>35.204286</td>\n",
       "      <td>37.142857</td>\n",
       "      <td>2020</td>\n",
       "      <td>4</td>\n",
       "      <td>12</td>\n",
       "    </tr>\n",
       "    <tr>\n",
       "      <th>223</th>\n",
       "      <td>24.082857</td>\n",
       "      <td>30.742857</td>\n",
       "      <td>15.192857</td>\n",
       "      <td>2020</td>\n",
       "      <td>4</td>\n",
       "      <td>19</td>\n",
       "    </tr>\n",
       "    <tr>\n",
       "      <th>224</th>\n",
       "      <td>31.290000</td>\n",
       "      <td>35.092857</td>\n",
       "      <td>13.947143</td>\n",
       "      <td>2020</td>\n",
       "      <td>4</td>\n",
       "      <td>26</td>\n",
       "    </tr>\n",
       "    <tr>\n",
       "      <th>225</th>\n",
       "      <td>31.235714</td>\n",
       "      <td>39.265714</td>\n",
       "      <td>10.232857</td>\n",
       "      <td>2020</td>\n",
       "      <td>5</td>\n",
       "      <td>3</td>\n",
       "    </tr>\n",
       "    <tr>\n",
       "      <th>226</th>\n",
       "      <td>30.282857</td>\n",
       "      <td>37.304286</td>\n",
       "      <td>14.847143</td>\n",
       "      <td>2020</td>\n",
       "      <td>5</td>\n",
       "      <td>10</td>\n",
       "    </tr>\n",
       "    <tr>\n",
       "      <th>227</th>\n",
       "      <td>31.914286</td>\n",
       "      <td>35.010000</td>\n",
       "      <td>14.505714</td>\n",
       "      <td>2020</td>\n",
       "      <td>5</td>\n",
       "      <td>17</td>\n",
       "    </tr>\n",
       "    <tr>\n",
       "      <th>228</th>\n",
       "      <td>28.241429</td>\n",
       "      <td>35.450000</td>\n",
       "      <td>12.684286</td>\n",
       "      <td>2020</td>\n",
       "      <td>5</td>\n",
       "      <td>24</td>\n",
       "    </tr>\n",
       "    <tr>\n",
       "      <th>229</th>\n",
       "      <td>25.448571</td>\n",
       "      <td>49.055714</td>\n",
       "      <td>15.700000</td>\n",
       "      <td>2020</td>\n",
       "      <td>5</td>\n",
       "      <td>31</td>\n",
       "    </tr>\n",
       "    <tr>\n",
       "      <th>230</th>\n",
       "      <td>31.080000</td>\n",
       "      <td>49.998571</td>\n",
       "      <td>32.351429</td>\n",
       "      <td>2020</td>\n",
       "      <td>6</td>\n",
       "      <td>7</td>\n",
       "    </tr>\n",
       "    <tr>\n",
       "      <th>231</th>\n",
       "      <td>25.444286</td>\n",
       "      <td>33.334286</td>\n",
       "      <td>40.082857</td>\n",
       "      <td>2020</td>\n",
       "      <td>6</td>\n",
       "      <td>14</td>\n",
       "    </tr>\n",
       "    <tr>\n",
       "      <th>232</th>\n",
       "      <td>26.021429</td>\n",
       "      <td>29.692857</td>\n",
       "      <td>30.481429</td>\n",
       "      <td>2020</td>\n",
       "      <td>6</td>\n",
       "      <td>21</td>\n",
       "    </tr>\n",
       "    <tr>\n",
       "      <th>233</th>\n",
       "      <td>23.631429</td>\n",
       "      <td>47.255714</td>\n",
       "      <td>31.965714</td>\n",
       "      <td>2020</td>\n",
       "      <td>6</td>\n",
       "      <td>28</td>\n",
       "    </tr>\n",
       "    <tr>\n",
       "      <th>234</th>\n",
       "      <td>24.550000</td>\n",
       "      <td>44.368571</td>\n",
       "      <td>46.795714</td>\n",
       "      <td>2020</td>\n",
       "      <td>7</td>\n",
       "      <td>5</td>\n",
       "    </tr>\n",
       "    <tr>\n",
       "      <th>235</th>\n",
       "      <td>21.988571</td>\n",
       "      <td>37.865714</td>\n",
       "      <td>49.227143</td>\n",
       "      <td>2020</td>\n",
       "      <td>7</td>\n",
       "      <td>12</td>\n",
       "    </tr>\n",
       "    <tr>\n",
       "      <th>236</th>\n",
       "      <td>22.572857</td>\n",
       "      <td>30.662857</td>\n",
       "      <td>31.728571</td>\n",
       "      <td>2020</td>\n",
       "      <td>7</td>\n",
       "      <td>19</td>\n",
       "    </tr>\n",
       "    <tr>\n",
       "      <th>237</th>\n",
       "      <td>28.398571</td>\n",
       "      <td>15.161429</td>\n",
       "      <td>32.050000</td>\n",
       "      <td>2020</td>\n",
       "      <td>7</td>\n",
       "      <td>26</td>\n",
       "    </tr>\n",
       "    <tr>\n",
       "      <th>238</th>\n",
       "      <td>26.962857</td>\n",
       "      <td>13.777143</td>\n",
       "      <td>12.360000</td>\n",
       "      <td>2020</td>\n",
       "      <td>8</td>\n",
       "      <td>2</td>\n",
       "    </tr>\n",
       "    <tr>\n",
       "      <th>239</th>\n",
       "      <td>24.322857</td>\n",
       "      <td>14.408571</td>\n",
       "      <td>14.372857</td>\n",
       "      <td>2020</td>\n",
       "      <td>8</td>\n",
       "      <td>9</td>\n",
       "    </tr>\n",
       "    <tr>\n",
       "      <th>240</th>\n",
       "      <td>21.521429</td>\n",
       "      <td>30.641429</td>\n",
       "      <td>17.894286</td>\n",
       "      <td>2020</td>\n",
       "      <td>8</td>\n",
       "      <td>16</td>\n",
       "    </tr>\n",
       "    <tr>\n",
       "      <th>241</th>\n",
       "      <td>21.280000</td>\n",
       "      <td>14.278571</td>\n",
       "      <td>28.517143</td>\n",
       "      <td>2020</td>\n",
       "      <td>8</td>\n",
       "      <td>23</td>\n",
       "    </tr>\n",
       "    <tr>\n",
       "      <th>242</th>\n",
       "      <td>21.628571</td>\n",
       "      <td>10.180000</td>\n",
       "      <td>12.650000</td>\n",
       "      <td>2020</td>\n",
       "      <td>8</td>\n",
       "      <td>30</td>\n",
       "    </tr>\n",
       "    <tr>\n",
       "      <th>243</th>\n",
       "      <td>25.132857</td>\n",
       "      <td>7.915714</td>\n",
       "      <td>10.240000</td>\n",
       "      <td>2020</td>\n",
       "      <td>9</td>\n",
       "      <td>6</td>\n",
       "    </tr>\n",
       "    <tr>\n",
       "      <th>244</th>\n",
       "      <td>22.691429</td>\n",
       "      <td>7.135714</td>\n",
       "      <td>7.374286</td>\n",
       "      <td>2020</td>\n",
       "      <td>9</td>\n",
       "      <td>13</td>\n",
       "    </tr>\n",
       "    <tr>\n",
       "      <th>245</th>\n",
       "      <td>18.264286</td>\n",
       "      <td>16.048571</td>\n",
       "      <td>7.208571</td>\n",
       "      <td>2020</td>\n",
       "      <td>9</td>\n",
       "      <td>20</td>\n",
       "    </tr>\n",
       "    <tr>\n",
       "      <th>246</th>\n",
       "      <td>10.905714</td>\n",
       "      <td>33.008571</td>\n",
       "      <td>20.857143</td>\n",
       "      <td>2020</td>\n",
       "      <td>9</td>\n",
       "      <td>27</td>\n",
       "    </tr>\n",
       "    <tr>\n",
       "      <th>247</th>\n",
       "      <td>8.712857</td>\n",
       "      <td>42.747143</td>\n",
       "      <td>32.250000</td>\n",
       "      <td>2020</td>\n",
       "      <td>10</td>\n",
       "      <td>4</td>\n",
       "    </tr>\n",
       "    <tr>\n",
       "      <th>248</th>\n",
       "      <td>23.551429</td>\n",
       "      <td>38.767143</td>\n",
       "      <td>44.998571</td>\n",
       "      <td>2020</td>\n",
       "      <td>10</td>\n",
       "      <td>11</td>\n",
       "    </tr>\n",
       "    <tr>\n",
       "      <th>249</th>\n",
       "      <td>25.430000</td>\n",
       "      <td>42.285714</td>\n",
       "      <td>36.072857</td>\n",
       "      <td>2020</td>\n",
       "      <td>10</td>\n",
       "      <td>18</td>\n",
       "    </tr>\n",
       "    <tr>\n",
       "      <th>250</th>\n",
       "      <td>17.520000</td>\n",
       "      <td>37.975714</td>\n",
       "      <td>38.071429</td>\n",
       "      <td>2020</td>\n",
       "      <td>10</td>\n",
       "      <td>25</td>\n",
       "    </tr>\n",
       "    <tr>\n",
       "      <th>251</th>\n",
       "      <td>23.642857</td>\n",
       "      <td>33.081429</td>\n",
       "      <td>38.545714</td>\n",
       "      <td>2020</td>\n",
       "      <td>11</td>\n",
       "      <td>1</td>\n",
       "    </tr>\n",
       "    <tr>\n",
       "      <th>252</th>\n",
       "      <td>13.642857</td>\n",
       "      <td>37.248571</td>\n",
       "      <td>38.360000</td>\n",
       "      <td>2020</td>\n",
       "      <td>11</td>\n",
       "      <td>8</td>\n",
       "    </tr>\n",
       "    <tr>\n",
       "      <th>253</th>\n",
       "      <td>26.545714</td>\n",
       "      <td>49.400000</td>\n",
       "      <td>52.310000</td>\n",
       "      <td>2020</td>\n",
       "      <td>11</td>\n",
       "      <td>15</td>\n",
       "    </tr>\n",
       "    <tr>\n",
       "      <th>254</th>\n",
       "      <td>12.265714</td>\n",
       "      <td>39.484286</td>\n",
       "      <td>48.667143</td>\n",
       "      <td>2020</td>\n",
       "      <td>11</td>\n",
       "      <td>22</td>\n",
       "    </tr>\n",
       "    <tr>\n",
       "      <th>255</th>\n",
       "      <td>16.817143</td>\n",
       "      <td>41.087143</td>\n",
       "      <td>32.084286</td>\n",
       "      <td>2020</td>\n",
       "      <td>11</td>\n",
       "      <td>29</td>\n",
       "    </tr>\n",
       "    <tr>\n",
       "      <th>256</th>\n",
       "      <td>26.545714</td>\n",
       "      <td>40.914286</td>\n",
       "      <td>42.735714</td>\n",
       "      <td>2020</td>\n",
       "      <td>12</td>\n",
       "      <td>6</td>\n",
       "    </tr>\n",
       "    <tr>\n",
       "      <th>257</th>\n",
       "      <td>23.760000</td>\n",
       "      <td>39.132857</td>\n",
       "      <td>43.305714</td>\n",
       "      <td>2020</td>\n",
       "      <td>12</td>\n",
       "      <td>13</td>\n",
       "    </tr>\n",
       "    <tr>\n",
       "      <th>258</th>\n",
       "      <td>28.432857</td>\n",
       "      <td>42.044286</td>\n",
       "      <td>42.075000</td>\n",
       "      <td>2020</td>\n",
       "      <td>12</td>\n",
       "      <td>20</td>\n",
       "    </tr>\n",
       "    <tr>\n",
       "      <th>259</th>\n",
       "      <td>28.827143</td>\n",
       "      <td>32.607143</td>\n",
       "      <td>42.882857</td>\n",
       "      <td>2020</td>\n",
       "      <td>12</td>\n",
       "      <td>27</td>\n",
       "    </tr>\n",
       "  </tbody>\n",
       "</table>\n",
       "</div>"
      ],
      "text/plain": [
       "         NH3y1      NH3y2      NH3y3  year  month  day\n",
       "207  32.607143  42.882857  56.007143  2019     12   29\n",
       "208  29.011429  43.077143  57.234286  2020      1    5\n",
       "209  31.015714  35.634286  48.108571  2020      1   12\n",
       "210  28.408571  38.150000  43.388571  2020      1   19\n",
       "211  23.565714  34.502857  44.487143  2020      1   26\n",
       "212  23.558571  19.232857  42.347143  2020      2    2\n",
       "213  22.507143  38.404286  39.584286  2020      2    9\n",
       "214  27.225714  33.808571  30.340000  2020      2   16\n",
       "215  27.742857  39.555714  37.265714  2020      2   23\n",
       "216  27.334286  38.014286  26.370000  2020      3    1\n",
       "217  25.917143  32.258571  23.787143  2020      3    8\n",
       "218  25.497143  31.635714  17.301429  2020      3   15\n",
       "219  21.360000  30.988571  16.492857  2020      3   22\n",
       "220  22.554286  31.171429  25.394286  2020      3   29\n",
       "221  23.711429  37.747143  32.894286  2020      4    5\n",
       "222  25.988571  35.204286  37.142857  2020      4   12\n",
       "223  24.082857  30.742857  15.192857  2020      4   19\n",
       "224  31.290000  35.092857  13.947143  2020      4   26\n",
       "225  31.235714  39.265714  10.232857  2020      5    3\n",
       "226  30.282857  37.304286  14.847143  2020      5   10\n",
       "227  31.914286  35.010000  14.505714  2020      5   17\n",
       "228  28.241429  35.450000  12.684286  2020      5   24\n",
       "229  25.448571  49.055714  15.700000  2020      5   31\n",
       "230  31.080000  49.998571  32.351429  2020      6    7\n",
       "231  25.444286  33.334286  40.082857  2020      6   14\n",
       "232  26.021429  29.692857  30.481429  2020      6   21\n",
       "233  23.631429  47.255714  31.965714  2020      6   28\n",
       "234  24.550000  44.368571  46.795714  2020      7    5\n",
       "235  21.988571  37.865714  49.227143  2020      7   12\n",
       "236  22.572857  30.662857  31.728571  2020      7   19\n",
       "237  28.398571  15.161429  32.050000  2020      7   26\n",
       "238  26.962857  13.777143  12.360000  2020      8    2\n",
       "239  24.322857  14.408571  14.372857  2020      8    9\n",
       "240  21.521429  30.641429  17.894286  2020      8   16\n",
       "241  21.280000  14.278571  28.517143  2020      8   23\n",
       "242  21.628571  10.180000  12.650000  2020      8   30\n",
       "243  25.132857   7.915714  10.240000  2020      9    6\n",
       "244  22.691429   7.135714   7.374286  2020      9   13\n",
       "245  18.264286  16.048571   7.208571  2020      9   20\n",
       "246  10.905714  33.008571  20.857143  2020      9   27\n",
       "247   8.712857  42.747143  32.250000  2020     10    4\n",
       "248  23.551429  38.767143  44.998571  2020     10   11\n",
       "249  25.430000  42.285714  36.072857  2020     10   18\n",
       "250  17.520000  37.975714  38.071429  2020     10   25\n",
       "251  23.642857  33.081429  38.545714  2020     11    1\n",
       "252  13.642857  37.248571  38.360000  2020     11    8\n",
       "253  26.545714  49.400000  52.310000  2020     11   15\n",
       "254  12.265714  39.484286  48.667143  2020     11   22\n",
       "255  16.817143  41.087143  32.084286  2020     11   29\n",
       "256  26.545714  40.914286  42.735714  2020     12    6\n",
       "257  23.760000  39.132857  43.305714  2020     12   13\n",
       "258  28.432857  42.044286  42.075000  2020     12   20\n",
       "259  28.827143  32.607143  42.882857  2020     12   27"
      ]
     },
     "execution_count": 82,
     "metadata": {},
     "output_type": "execute_result"
    }
   ],
   "source": [
    "test=data.loc['207':'259']\n",
    "X=test[['NH3y1', 'NH3y2', 'NH3y3','year', 'month', 'day']]\n",
    "X"
   ]
  },
  {
   "cell_type": "code",
   "execution_count": 83,
   "metadata": {},
   "outputs": [],
   "source": [
    "predict=grad_boost.predict(X)"
   ]
  },
  {
   "cell_type": "code",
   "execution_count": 84,
   "metadata": {
    "scrolled": false
   },
   "outputs": [
    {
     "data": {
      "text/plain": [
       "array([28.70382661, 31.36216145, 32.16139505, 25.83345102, 27.70367433,\n",
       "       30.09162658, 29.63275877, 25.56836637, 22.17419626, 29.4452597 ,\n",
       "       28.98915664, 25.07193705, 26.08211746, 26.67999874, 28.63690213,\n",
       "       27.41234784, 24.3644888 , 22.81070534, 30.69331969, 28.97504142,\n",
       "       24.57021976, 23.62777032, 26.6770859 , 30.48723893, 28.56720534,\n",
       "       28.2239458 , 24.64652105, 30.06571477, 30.92391337, 27.00332223,\n",
       "       21.99057616, 21.03236078, 20.18083103, 22.80716259, 23.63766663,\n",
       "       24.44396737, 20.56465394, 19.31486686, 20.16248106, 19.4843539 ,\n",
       "       23.2234235 , 26.01348278, 24.76996961, 23.09211867, 20.73903807,\n",
       "       22.87954811, 25.13187983, 25.12917536, 26.82204382, 27.99397111,\n",
       "       26.56731861, 27.69072333, 24.86364229])"
      ]
     },
     "execution_count": 84,
     "metadata": {},
     "output_type": "execute_result"
    }
   ],
   "source": [
    "predict"
   ]
  },
  {
   "cell_type": "code",
   "execution_count": 85,
   "metadata": {},
   "outputs": [],
   "source": [
    "dates=data.loc['207':'259','From Date']"
   ]
  },
  {
   "cell_type": "code",
   "execution_count": 86,
   "metadata": {},
   "outputs": [],
   "source": [
    "X['From Date']=dates.values"
   ]
  },
  {
   "cell_type": "code",
   "execution_count": 87,
   "metadata": {},
   "outputs": [
    {
     "data": {
      "text/plain": [
       "Index(['NH3y1', 'NH3y2', 'NH3y3', 'year', 'month', 'day', 'From Date'], dtype='object')"
      ]
     },
     "execution_count": 87,
     "metadata": {},
     "output_type": "execute_result"
    }
   ],
   "source": [
    "X.columns"
   ]
  },
  {
   "cell_type": "code",
   "execution_count": 88,
   "metadata": {},
   "outputs": [],
   "source": [
    "X['From Date']= X['From Date'].map(dt.datetime.fromordinal)"
   ]
  },
  {
   "cell_type": "code",
   "execution_count": 89,
   "metadata": {},
   "outputs": [],
   "source": [
    "test['From Date']= test['From Date'].map(dt.datetime.fromordinal)"
   ]
  },
  {
   "cell_type": "code",
   "execution_count": 90,
   "metadata": {},
   "outputs": [],
   "source": [
    "test = test.set_index(['From Date'])\n",
    "X = X.set_index(['From Date'])\n"
   ]
  },
  {
   "cell_type": "code",
   "execution_count": 91,
   "metadata": {},
   "outputs": [],
   "source": [
    "X['pred']=predict"
   ]
  },
  {
   "cell_type": "code",
   "execution_count": 92,
   "metadata": {
    "scrolled": true
   },
   "outputs": [
    {
     "data": {
      "text/plain": [
       "<AxesSubplot:xlabel='From Date'>"
      ]
     },
     "execution_count": 92,
     "metadata": {},
     "output_type": "execute_result"
    },
    {
     "data": {
      "image/png": "[encoded data removed]",
      "text/plain": [
       "<Figure size 720x432 with 1 Axes>"
      ]
     },
     "metadata": {},
     "output_type": "display_data"
    }
   ],
   "source": [
    "test['NH3'].plot(legend=True, label='Actual NH3', figsize=(10,6))\n",
    "X['pred'].plot(legend=True, label='Predicted NH3')"
   ]
  },
  {
   "cell_type": "code",
   "execution_count": 93,
   "metadata": {},
   "outputs": [
    {
     "data": {
      "text/plain": [
       "9.432817293238536"
      ]
     },
     "execution_count": 93,
     "metadata": {},
     "output_type": "execute_result"
    }
   ],
   "source": [
    "np.sqrt(mean_squared_error(test['NH3'],X['pred']))"
   ]
  },
  {
   "cell_type": "code",
   "execution_count": 94,
   "metadata": {
    "scrolled": false
   },
   "outputs": [
    {
     "name": "stdout",
     "output_type": "stream",
     "text": [
      "Results of sklearn.metrics:\n",
      "MAE: 7.43983137959983\n",
      "MSE: 114.53455940416197\n",
      "RMSE: 10.702082012588109\n",
      "R-Squared: 0.5858115316289347\n"
     ]
    }
   ],
   "source": [
    "mae = metrics.mean_absolute_error(ytest, gboost_pred)\n",
    "mse = metrics.mean_squared_error(ytest, gboost_pred)\n",
    "rmsetest = np.sqrt(mse) # or mse**(0.5)  \n",
    "r2 = metrics.r2_score(ytest,gboost_pred)\n",
    "\n",
    "print(\"Results of sklearn.metrics:\")\n",
    "print(\"MAE:\",mae)\n",
    "print(\"MSE:\", mse)\n",
    "print(\"RMSE:\", rmsetest)\n",
    "print(\"R-Squared:\", r2)"
   ]
  },
  {
   "cell_type": "code",
   "execution_count": 95,
   "metadata": {},
   "outputs": [
    {
     "name": "stdout",
     "output_type": "stream",
     "text": [
      "Results of sklearn.metrics:\n",
      "MAE: 7.449317534006036\n",
      "MSE: 88.97804208761998\n",
      "RMSE: 9.432817293238536\n",
      "R-Squared: -0.4014788055856062\n"
     ]
    }
   ],
   "source": [
    "mae = metrics.mean_absolute_error(test['NH3'],X['pred'])\n",
    "mse = metrics.mean_squared_error(test['NH3'],X['pred'])\n",
    "rmse = np.sqrt(mse) # or mse**(0.5)  \n",
    "r2 = metrics.r2_score(test['NH3'],X['pred'])\n",
    "\n",
    "print(\"Results of sklearn.metrics:\")\n",
    "print(\"MAE:\",mae)\n",
    "print(\"MSE:\", mse)\n",
    "print(\"RMSE:\", rmse)\n",
    "print(\"R-Squared:\", r2)"
   ]
  },
  {
   "cell_type": "code",
   "execution_count": 96,
   "metadata": {},
   "outputs": [],
   "source": [
    "import pickle\n",
    "filename = 'NH3_gboost3y.sav'\n",
    "pickle.dump(grad_boost, open(filename, 'wb'))"
   ]
  },
  {
   "cell_type": "code",
   "execution_count": 97,
   "metadata": {},
   "outputs": [
    {
     "name": "stdout",
     "output_type": "stream",
     "text": [
      "0.5858115316289347\n"
     ]
    }
   ],
   "source": [
    "#load model\n",
    "loaded_model = pickle.load(open(filename, 'rb'))\n",
    "result = loaded_model.score(xtest, ytest)\n",
    "print(result)"
   ]
  },
  {
   "cell_type": "markdown",
   "metadata": {},
   "source": [
    "# 3rd plot"
   ]
  },
  {
   "cell_type": "code",
   "execution_count": 98,
   "metadata": {},
   "outputs": [],
   "source": [
    "testcase = pd.DataFrame()"
   ]
  },
  {
   "cell_type": "code",
   "execution_count": 99,
   "metadata": {
    "scrolled": true
   },
   "outputs": [],
   "source": [
    "testcase['test']=ytest\n",
    "testcase['pred']=gboost_pred"
   ]
  },
  {
   "cell_type": "code",
   "execution_count": 100,
   "metadata": {},
   "outputs": [],
   "source": [
    "testcase[\"Corrected\"] = np.where(testcase[\"pred\"]<testcase[\"test\"],testcase[\"pred\"]+rmsetest ,\n",
    "                   np.where(testcase[\"pred\"]>testcase[\"test\"], testcase[\"pred\"]-rmsetest,\n",
    "                            testcase[\"pred\"]))"
   ]
  },
  {
   "cell_type": "code",
   "execution_count": 101,
   "metadata": {},
   "outputs": [
    {
     "data": {
      "text/html": [
       "<div>\n",
       "<style scoped>\n",
       "    .dataframe tbody tr th:only-of-type {\n",
       "        vertical-align: middle;\n",
       "    }\n",
       "\n",
       "    .dataframe tbody tr th {\n",
       "        vertical-align: top;\n",
       "    }\n",
       "\n",
       "    .dataframe thead th {\n",
       "        text-align: right;\n",
       "    }\n",
       "</style>\n",
       "<table border=\"1\" class=\"dataframe\">\n",
       "  <thead>\n",
       "    <tr style=\"text-align: right;\">\n",
       "      <th></th>\n",
       "      <th>test</th>\n",
       "      <th>pred</th>\n",
       "      <th>Corrected</th>\n",
       "    </tr>\n",
       "  </thead>\n",
       "  <tbody>\n",
       "    <tr>\n",
       "      <th>33</th>\n",
       "      <td>20.965714</td>\n",
       "      <td>24.355414</td>\n",
       "      <td>13.653332</td>\n",
       "    </tr>\n",
       "    <tr>\n",
       "      <th>176</th>\n",
       "      <td>28.241429</td>\n",
       "      <td>28.325957</td>\n",
       "      <td>17.623875</td>\n",
       "    </tr>\n",
       "    <tr>\n",
       "      <th>105</th>\n",
       "      <td>35.634286</td>\n",
       "      <td>38.605725</td>\n",
       "      <td>27.903643</td>\n",
       "    </tr>\n",
       "    <tr>\n",
       "      <th>18</th>\n",
       "      <td>44.838214</td>\n",
       "      <td>32.191818</td>\n",
       "      <td>42.893900</td>\n",
       "    </tr>\n",
       "    <tr>\n",
       "      <th>90</th>\n",
       "      <td>20.857143</td>\n",
       "      <td>21.392943</td>\n",
       "      <td>10.690861</td>\n",
       "    </tr>\n",
       "    <tr>\n",
       "      <th>1</th>\n",
       "      <td>98.364286</td>\n",
       "      <td>58.768410</td>\n",
       "      <td>69.470492</td>\n",
       "    </tr>\n",
       "    <tr>\n",
       "      <th>187</th>\n",
       "      <td>24.322857</td>\n",
       "      <td>16.862655</td>\n",
       "      <td>27.564737</td>\n",
       "    </tr>\n",
       "    <tr>\n",
       "      <th>89</th>\n",
       "      <td>7.208571</td>\n",
       "      <td>18.167894</td>\n",
       "      <td>7.465812</td>\n",
       "    </tr>\n",
       "    <tr>\n",
       "      <th>191</th>\n",
       "      <td>25.132857</td>\n",
       "      <td>15.667499</td>\n",
       "      <td>26.369581</td>\n",
       "    </tr>\n",
       "    <tr>\n",
       "      <th>81</th>\n",
       "      <td>32.050000</td>\n",
       "      <td>29.329919</td>\n",
       "      <td>40.032001</td>\n",
       "    </tr>\n",
       "    <tr>\n",
       "      <th>48</th>\n",
       "      <td>52.100000</td>\n",
       "      <td>55.482596</td>\n",
       "      <td>44.780514</td>\n",
       "    </tr>\n",
       "    <tr>\n",
       "      <th>11</th>\n",
       "      <td>37.731429</td>\n",
       "      <td>32.269083</td>\n",
       "      <td>42.971165</td>\n",
       "    </tr>\n",
       "    <tr>\n",
       "      <th>100</th>\n",
       "      <td>42.735714</td>\n",
       "      <td>43.101364</td>\n",
       "      <td>32.399282</td>\n",
       "    </tr>\n",
       "    <tr>\n",
       "      <th>138</th>\n",
       "      <td>10.180000</td>\n",
       "      <td>15.727647</td>\n",
       "      <td>5.025565</td>\n",
       "    </tr>\n",
       "    <tr>\n",
       "      <th>62</th>\n",
       "      <td>17.301429</td>\n",
       "      <td>27.880441</td>\n",
       "      <td>17.178359</td>\n",
       "    </tr>\n",
       "    <tr>\n",
       "      <th>180</th>\n",
       "      <td>26.021429</td>\n",
       "      <td>25.580419</td>\n",
       "      <td>36.282501</td>\n",
       "    </tr>\n",
       "    <tr>\n",
       "      <th>135</th>\n",
       "      <td>14.408571</td>\n",
       "      <td>20.674333</td>\n",
       "      <td>9.972251</td>\n",
       "    </tr>\n",
       "    <tr>\n",
       "      <th>165</th>\n",
       "      <td>25.917143</td>\n",
       "      <td>31.114845</td>\n",
       "      <td>20.412763</td>\n",
       "    </tr>\n",
       "    <tr>\n",
       "      <th>193</th>\n",
       "      <td>18.264286</td>\n",
       "      <td>22.185208</td>\n",
       "      <td>11.483126</td>\n",
       "    </tr>\n",
       "    <tr>\n",
       "      <th>172</th>\n",
       "      <td>31.290000</td>\n",
       "      <td>22.233767</td>\n",
       "      <td>32.935849</td>\n",
       "    </tr>\n",
       "    <tr>\n",
       "      <th>14</th>\n",
       "      <td>31.377143</td>\n",
       "      <td>32.075947</td>\n",
       "      <td>21.373865</td>\n",
       "    </tr>\n",
       "    <tr>\n",
       "      <th>192</th>\n",
       "      <td>22.691429</td>\n",
       "      <td>15.252681</td>\n",
       "      <td>25.954763</td>\n",
       "    </tr>\n",
       "    <tr>\n",
       "      <th>92</th>\n",
       "      <td>44.998571</td>\n",
       "      <td>33.163857</td>\n",
       "      <td>43.865939</td>\n",
       "    </tr>\n",
       "    <tr>\n",
       "      <th>177</th>\n",
       "      <td>25.448571</td>\n",
       "      <td>33.366982</td>\n",
       "      <td>22.664900</td>\n",
       "    </tr>\n",
       "    <tr>\n",
       "      <th>102</th>\n",
       "      <td>42.075000</td>\n",
       "      <td>39.656806</td>\n",
       "      <td>50.358888</td>\n",
       "    </tr>\n",
       "    <tr>\n",
       "      <th>181</th>\n",
       "      <td>23.631429</td>\n",
       "      <td>29.760431</td>\n",
       "      <td>19.058349</td>\n",
       "    </tr>\n",
       "    <tr>\n",
       "      <th>195</th>\n",
       "      <td>8.712857</td>\n",
       "      <td>23.522651</td>\n",
       "      <td>12.820569</td>\n",
       "    </tr>\n",
       "    <tr>\n",
       "      <th>47</th>\n",
       "      <td>32.228571</td>\n",
       "      <td>46.088986</td>\n",
       "      <td>35.386904</td>\n",
       "    </tr>\n",
       "    <tr>\n",
       "      <th>194</th>\n",
       "      <td>10.905714</td>\n",
       "      <td>18.321583</td>\n",
       "      <td>7.619501</td>\n",
       "    </tr>\n",
       "    <tr>\n",
       "      <th>110</th>\n",
       "      <td>33.808571</td>\n",
       "      <td>33.718262</td>\n",
       "      <td>44.420344</td>\n",
       "    </tr>\n",
       "    <tr>\n",
       "      <th>124</th>\n",
       "      <td>35.450000</td>\n",
       "      <td>31.561524</td>\n",
       "      <td>42.263606</td>\n",
       "    </tr>\n",
       "    <tr>\n",
       "      <th>119</th>\n",
       "      <td>30.742857</td>\n",
       "      <td>34.381496</td>\n",
       "      <td>23.679414</td>\n",
       "    </tr>\n",
       "    <tr>\n",
       "      <th>170</th>\n",
       "      <td>25.988571</td>\n",
       "      <td>27.349609</td>\n",
       "      <td>16.647527</td>\n",
       "    </tr>\n",
       "    <tr>\n",
       "      <th>34</th>\n",
       "      <td>24.311429</td>\n",
       "      <td>27.269775</td>\n",
       "      <td>16.567693</td>\n",
       "    </tr>\n",
       "    <tr>\n",
       "      <th>113</th>\n",
       "      <td>32.258571</td>\n",
       "      <td>36.750317</td>\n",
       "      <td>26.048235</td>\n",
       "    </tr>\n",
       "    <tr>\n",
       "      <th>6</th>\n",
       "      <td>40.244286</td>\n",
       "      <td>34.446556</td>\n",
       "      <td>45.148638</td>\n",
       "    </tr>\n",
       "    <tr>\n",
       "      <th>45</th>\n",
       "      <td>76.191429</td>\n",
       "      <td>46.006133</td>\n",
       "      <td>56.708215</td>\n",
       "    </tr>\n",
       "    <tr>\n",
       "      <th>69</th>\n",
       "      <td>10.232857</td>\n",
       "      <td>32.772269</td>\n",
       "      <td>22.070187</td>\n",
       "    </tr>\n",
       "    <tr>\n",
       "      <th>159</th>\n",
       "      <td>23.565714</td>\n",
       "      <td>31.315696</td>\n",
       "      <td>20.613614</td>\n",
       "    </tr>\n",
       "    <tr>\n",
       "      <th>77</th>\n",
       "      <td>31.965714</td>\n",
       "      <td>25.007728</td>\n",
       "      <td>35.709810</td>\n",
       "    </tr>\n",
       "    <tr>\n",
       "      <th>130</th>\n",
       "      <td>44.368571</td>\n",
       "      <td>39.083367</td>\n",
       "      <td>49.785449</td>\n",
       "    </tr>\n",
       "    <tr>\n",
       "      <th>128</th>\n",
       "      <td>29.692857</td>\n",
       "      <td>34.650079</td>\n",
       "      <td>23.947997</td>\n",
       "    </tr>\n",
       "  </tbody>\n",
       "</table>\n",
       "</div>"
      ],
      "text/plain": [
       "          test       pred  Corrected\n",
       "33   20.965714  24.355414  13.653332\n",
       "176  28.241429  28.325957  17.623875\n",
       "105  35.634286  38.605725  27.903643\n",
       "18   44.838214  32.191818  42.893900\n",
       "90   20.857143  21.392943  10.690861\n",
       "1    98.364286  58.768410  69.470492\n",
       "187  24.322857  16.862655  27.564737\n",
       "89    7.208571  18.167894   7.465812\n",
       "191  25.132857  15.667499  26.369581\n",
       "81   32.050000  29.329919  40.032001\n",
       "48   52.100000  55.482596  44.780514\n",
       "11   37.731429  32.269083  42.971165\n",
       "100  42.735714  43.101364  32.399282\n",
       "138  10.180000  15.727647   5.025565\n",
       "62   17.301429  27.880441  17.178359\n",
       "180  26.021429  25.580419  36.282501\n",
       "135  14.408571  20.674333   9.972251\n",
       "165  25.917143  31.114845  20.412763\n",
       "193  18.264286  22.185208  11.483126\n",
       "172  31.290000  22.233767  32.935849\n",
       "14   31.377143  32.075947  21.373865\n",
       "192  22.691429  15.252681  25.954763\n",
       "92   44.998571  33.163857  43.865939\n",
       "177  25.448571  33.366982  22.664900\n",
       "102  42.075000  39.656806  50.358888\n",
       "181  23.631429  29.760431  19.058349\n",
       "195   8.712857  23.522651  12.820569\n",
       "47   32.228571  46.088986  35.386904\n",
       "194  10.905714  18.321583   7.619501\n",
       "110  33.808571  33.718262  44.420344\n",
       "124  35.450000  31.561524  42.263606\n",
       "119  30.742857  34.381496  23.679414\n",
       "170  25.988571  27.349609  16.647527\n",
       "34   24.311429  27.269775  16.567693\n",
       "113  32.258571  36.750317  26.048235\n",
       "6    40.244286  34.446556  45.148638\n",
       "45   76.191429  46.006133  56.708215\n",
       "69   10.232857  32.772269  22.070187\n",
       "159  23.565714  31.315696  20.613614\n",
       "77   31.965714  25.007728  35.709810\n",
       "130  44.368571  39.083367  49.785449\n",
       "128  29.692857  34.650079  23.947997"
      ]
     },
     "execution_count": 101,
     "metadata": {},
     "output_type": "execute_result"
    }
   ],
   "source": [
    "testcase"
   ]
  },
  {
   "cell_type": "code",
   "execution_count": 102,
   "metadata": {},
   "outputs": [
    {
     "data": {
      "text/plain": [
       "'testcase[\\'test\\'].plot(legend=True, label=\\'Actual PM2.5\\', figsize=(10,6))\\ntestcase[\\'pred\\'].plot(legend=True, label=\\'Predicted PM2.5\\')\\ntestcase[\"Corrected\"].plot(legend=True, label=\\'Corrected PM2.5\\')'"
      ]
     },
     "execution_count": 102,
     "metadata": {},
     "output_type": "execute_result"
    }
   ],
   "source": [
    "'''testcase['test'].plot(legend=True, label='Actual PM2.5', figsize=(10,6))\n",
    "testcase['pred'].plot(legend=True, label='Predicted PM2.5')\n",
    "testcase[\"Corrected\"].plot(legend=True, label='Corrected PM2.5')'''"
   ]
  },
  {
   "cell_type": "code",
   "execution_count": 103,
   "metadata": {
    "scrolled": true
   },
   "outputs": [
    {
     "data": {
      "text/plain": [
       "0.6795195502783735"
      ]
     },
     "execution_count": 103,
     "metadata": {},
     "output_type": "execute_result"
    }
   ],
   "source": [
    "r2 = metrics.r2_score(testcase[\"Corrected\"],testcase['test'])\n",
    "r2"
   ]
  },
  {
   "cell_type": "code",
   "execution_count": 104,
   "metadata": {},
   "outputs": [],
   "source": [
    "test2020=pd.DataFrame()"
   ]
  },
  {
   "cell_type": "code",
   "execution_count": 105,
   "metadata": {},
   "outputs": [],
   "source": [
    "test2020['test']=test['NH3']\n",
    "test2020['pred']=X['pred']"
   ]
  },
  {
   "cell_type": "code",
   "execution_count": 106,
   "metadata": {},
   "outputs": [],
   "source": [
    "test2020.index=test.index"
   ]
  },
  {
   "cell_type": "code",
   "execution_count": 107,
   "metadata": {},
   "outputs": [],
   "source": [
    "test2020[\"Corrected\"] = np.where(test2020[\"pred\"]<test2020[\"test\"],test2020[\"pred\"]+rmsetest ,\n",
    "                   np.where(test2020[\"pred\"]>test2020[\"test\"], test2020[\"pred\"]-rmsetest,\n",
    "                            test2020[\"pred\"]))"
   ]
  },
  {
   "cell_type": "code",
   "execution_count": 108,
   "metadata": {},
   "outputs": [
    {
     "data": {
      "text/plain": [
       "<AxesSubplot:xlabel='From Date'>"
      ]
     },
     "execution_count": 108,
     "metadata": {},
     "output_type": "execute_result"
    },
    {
     "data": {
      "image/png": "[encoded data removed]",
      "text/plain": [
       "<Figure size 720x432 with 1 Axes>"
      ]
     },
     "metadata": {},
     "output_type": "display_data"
    }
   ],
   "source": [
    "test2020['test'].plot(legend=True, label='Actual NH3 2020', figsize=(10,6))\n",
    "test2020['pred'].plot(legend=True, label='Predicted NH3 2020')\n",
    "test2020[\"Corrected\"].plot(legend=True, label='Corrected NH3 2020')"
   ]
  },
  {
   "cell_type": "code",
   "execution_count": 109,
   "metadata": {},
   "outputs": [
    {
     "data": {
      "text/plain": [
       "0.5351208900992172"
      ]
     },
     "execution_count": 109,
     "metadata": {},
     "output_type": "execute_result"
    }
   ],
   "source": [
    "r2020 = metrics.r2_score(test2020[\"Corrected\"],test2020['test'])\n",
    "r2020"
   ]
  },
  {
   "cell_type": "code",
   "execution_count": null,
   "metadata": {},
   "outputs": [],
   "source": []
  }
 ],
 "metadata": {
  "kernelspec": {
   "display_name": "Python 3",
   "language": "python",
   "name": "python3"
  },
  "language_info": {
   "codemirror_mode": {
    "name": "ipython",
    "version": 3
   },
   "file_extension": ".py",
   "mimetype": "text/x-python",
   "name": "python",
   "nbconvert_exporter": "python",
   "pygments_lexer": "ipython3",
   "version": "3.8.5"
  }
 },
 "nbformat": 4,
 "nbformat_minor": 4
}
