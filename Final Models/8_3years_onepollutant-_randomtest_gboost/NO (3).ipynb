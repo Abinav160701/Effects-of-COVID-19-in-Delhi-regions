{
 "cells": [
  {
   "cell_type": "code",
   "execution_count": 1,
   "metadata": {},
   "outputs": [],
   "source": [
    "import pandas as pd\n",
    "import numpy as np\n",
    "import matplotlib.pyplot as plt\n",
    "import seaborn as sns\n",
    "sns.set()\n",
    "import warnings\n",
    "warnings.filterwarnings(action='ignore')\n",
    "from statsmodels.tsa.seasonal import seasonal_decompose\n",
    "import statsmodels.formula.api as formula\n",
    "from statsmodels.stats.outliers_influence import variance_inflation_factor\n",
    "import statsmodels as sm\n",
    "from sklearn import preprocessing\n",
    "from sklearn.model_selection import train_test_split,GridSearchCV,RandomizedSearchCV\n",
    "from sklearn.linear_model import LinearRegression,Lasso,Ridge\n",
    "#from sklearn.externals import joblib\n",
    "from sklearn.metrics import r2_score,mean_squared_error\n",
    "from sklearn.ensemble import RandomForestRegressor,GradientBoostingRegressor\n",
    "from sklearn.tree import DecisionTreeRegressor\n",
    "from IPython.display import display\n",
    "from sklearn import metrics"
   ]
  },
  {
   "cell_type": "code",
   "execution_count": 2,
   "metadata": {},
   "outputs": [],
   "source": [
    "data = pd.read_excel (r'C:\\Users\\Kira\\Desktop\\Internship\\Data\\Delhi_Data-20210529T043217Z-001\\Delhi_Data\\2013-2020-RK-PURAM-final-dataset\\3y_weekly_RKPURAM.xlsx')\n",
    "data['From Date']=pd.to_datetime(data['From Date'])\n",
    "data['year'] = data['From Date'].dt.year\n",
    "data['month'] = data['From Date'].dt.month\n",
    "data['day'] = data['From Date'].dt.day"
   ]
  },
  {
   "cell_type": "code",
   "execution_count": 3,
   "metadata": {},
   "outputs": [],
   "source": [
    "import datetime as dt"
   ]
  },
  {
   "cell_type": "code",
   "execution_count": 4,
   "metadata": {},
   "outputs": [],
   "source": [
    "data['From Date']= data['From Date'].map(dt.datetime.toordinal)"
   ]
  },
  {
   "cell_type": "code",
   "execution_count": 5,
   "metadata": {},
   "outputs": [],
   "source": [
    "df=data.loc['0':'207']"
   ]
  },
  {
   "cell_type": "code",
   "execution_count": 6,
   "metadata": {},
   "outputs": [
    {
     "data": {
      "text/plain": [
       "Index(['From Date', 'PM2.5y1', 'PM1y1', 'NOy1', 'NO2y1', 'NOxy1', 'NH3y1',\n",
       "       'SO2y1', 'COy1', 'Ozoney1', 'RHy1', 'WSy1', 'WDy1', 'SRy1', 'BPy1',\n",
       "       'ATy1', 'PM2.5y2', 'PM1y2', 'NOy2', 'NO2y2', 'NOxy2', 'NH3y2', 'SO2y2',\n",
       "       'COy2', 'Ozoney2', 'RHy2', 'WSy2', 'WDy2', 'SRy2', 'BPy2', 'ATy2',\n",
       "       'PM2.5y3', 'PM1y3', 'NOy3', 'NO2y3', 'NOxy3', 'NH3y3', 'SO2y3', 'COy3',\n",
       "       'Ozoney3', 'RHy3', 'WSy3', 'WDy3', 'SRy3', 'BPy3', 'ATy3', 'PM2.5',\n",
       "       'PM1', 'NO', 'NO2', 'NOx', 'NH3', 'SO2', 'CO', 'Ozone', 'RH', 'WS',\n",
       "       'WD', 'SR', 'BP', 'AT', 'year', 'month', 'day'],\n",
       "      dtype='object')"
      ]
     },
     "execution_count": 6,
     "metadata": {},
     "output_type": "execute_result"
    }
   ],
   "source": [
    "df.columns"
   ]
  },
  {
   "cell_type": "code",
   "execution_count": 7,
   "metadata": {},
   "outputs": [],
   "source": [
    "X1 = df[['NOy1','NOy2','NOy3','year', 'month', 'day']]\n",
    "Y1 = df['NO']"
   ]
  },
  {
   "cell_type": "code",
   "execution_count": 41,
   "metadata": {},
   "outputs": [],
   "source": [
    "xtrain,xtest,ytrain,ytest = train_test_split(X1,Y1,test_size=.2,random_state=2)"
   ]
  },
  {
   "cell_type": "code",
   "execution_count": 62,
   "metadata": {},
   "outputs": [
    {
     "data": {
      "text/plain": [
       "GradientBoostingRegressor(learning_rate=0.01, max_depth=12, max_features='log2',\n",
       "                          min_samples_leaf=4, n_estimators=1500)"
      ]
     },
     "execution_count": 62,
     "metadata": {},
     "output_type": "execute_result"
    }
   ],
   "source": [
    "grad_boost = GradientBoostingRegressor(n_estimators=1500,\n",
    "                                      max_depth=12,\n",
    "                                      max_features='log2',\n",
    "                                      min_samples_split=2,\n",
    "                                      min_samples_leaf=4,\n",
    "                                      learning_rate=0.01)\n",
    "\n",
    "grad_boost.fit(xtrain,ytrain)"
   ]
  },
  {
   "cell_type": "code",
   "execution_count": 63,
   "metadata": {
    "scrolled": true
   },
   "outputs": [
    {
     "name": "stdout",
     "output_type": "stream",
     "text": [
      "Score on train data: 0.999659218723817\n",
      "\n",
      "Score on test data: 0.7117645967047124\n",
      "\n",
      "Root Mean Squared Error: 26.391580054160574\n",
      "\n",
      "Overall model accuracy: 0.7117645967047124\n"
     ]
    }
   ],
   "source": [
    "# we now score the model\n",
    "print('Score on train data: {}\\n'.format(grad_boost.score(xtrain,ytrain)))\n",
    "print('Score on test data: {}\\n'.format(grad_boost.score(xtest,ytest)))\n",
    "\n",
    "gboost_pred = grad_boost.predict(xtest)\n",
    "gboost_mse = mean_squared_error(ytest,gboost_pred)\n",
    "gboost_accuracy = r2_score(ytest,gboost_pred)\n",
    "\n",
    "print('Root Mean Squared Error: {}\\n'.format(np.sqrt(gboost_mse)))\n",
    "print('Overall model accuracy: {}'.format(gboost_accuracy))"
   ]
  },
  {
   "cell_type": "code",
   "execution_count": 64,
   "metadata": {},
   "outputs": [
    {
     "data": {
      "text/html": [
       "<div>\n",
       "<style scoped>\n",
       "    .dataframe tbody tr th:only-of-type {\n",
       "        vertical-align: middle;\n",
       "    }\n",
       "\n",
       "    .dataframe tbody tr th {\n",
       "        vertical-align: top;\n",
       "    }\n",
       "\n",
       "    .dataframe thead th {\n",
       "        text-align: right;\n",
       "    }\n",
       "</style>\n",
       "<table border=\"1\" class=\"dataframe\">\n",
       "  <thead>\n",
       "    <tr style=\"text-align: right;\">\n",
       "      <th></th>\n",
       "      <th>NOy1</th>\n",
       "      <th>NOy2</th>\n",
       "      <th>NOy3</th>\n",
       "      <th>year</th>\n",
       "      <th>month</th>\n",
       "      <th>day</th>\n",
       "    </tr>\n",
       "  </thead>\n",
       "  <tbody>\n",
       "    <tr>\n",
       "      <th>207</th>\n",
       "      <td>125.535714</td>\n",
       "      <td>80.651429</td>\n",
       "      <td>100.627143</td>\n",
       "      <td>2019</td>\n",
       "      <td>12</td>\n",
       "      <td>29</td>\n",
       "    </tr>\n",
       "    <tr>\n",
       "      <th>208</th>\n",
       "      <td>109.870000</td>\n",
       "      <td>174.377143</td>\n",
       "      <td>98.832857</td>\n",
       "      <td>2020</td>\n",
       "      <td>1</td>\n",
       "      <td>5</td>\n",
       "    </tr>\n",
       "    <tr>\n",
       "      <th>209</th>\n",
       "      <td>84.832857</td>\n",
       "      <td>75.938571</td>\n",
       "      <td>101.944286</td>\n",
       "      <td>2020</td>\n",
       "      <td>1</td>\n",
       "      <td>12</td>\n",
       "    </tr>\n",
       "    <tr>\n",
       "      <th>210</th>\n",
       "      <td>117.140000</td>\n",
       "      <td>71.592857</td>\n",
       "      <td>94.412857</td>\n",
       "      <td>2020</td>\n",
       "      <td>1</td>\n",
       "      <td>19</td>\n",
       "    </tr>\n",
       "    <tr>\n",
       "      <th>211</th>\n",
       "      <td>34.865714</td>\n",
       "      <td>74.328571</td>\n",
       "      <td>49.015714</td>\n",
       "      <td>2020</td>\n",
       "      <td>1</td>\n",
       "      <td>26</td>\n",
       "    </tr>\n",
       "    <tr>\n",
       "      <th>212</th>\n",
       "      <td>47.905714</td>\n",
       "      <td>32.171429</td>\n",
       "      <td>74.012857</td>\n",
       "      <td>2020</td>\n",
       "      <td>2</td>\n",
       "      <td>2</td>\n",
       "    </tr>\n",
       "    <tr>\n",
       "      <th>213</th>\n",
       "      <td>65.595714</td>\n",
       "      <td>112.367143</td>\n",
       "      <td>153.021429</td>\n",
       "      <td>2020</td>\n",
       "      <td>2</td>\n",
       "      <td>9</td>\n",
       "    </tr>\n",
       "    <tr>\n",
       "      <th>214</th>\n",
       "      <td>73.142857</td>\n",
       "      <td>35.207143</td>\n",
       "      <td>50.672857</td>\n",
       "      <td>2020</td>\n",
       "      <td>2</td>\n",
       "      <td>16</td>\n",
       "    </tr>\n",
       "    <tr>\n",
       "      <th>215</th>\n",
       "      <td>68.825714</td>\n",
       "      <td>122.750000</td>\n",
       "      <td>34.234286</td>\n",
       "      <td>2020</td>\n",
       "      <td>2</td>\n",
       "      <td>23</td>\n",
       "    </tr>\n",
       "    <tr>\n",
       "      <th>216</th>\n",
       "      <td>86.743571</td>\n",
       "      <td>79.125714</td>\n",
       "      <td>38.925714</td>\n",
       "      <td>2020</td>\n",
       "      <td>3</td>\n",
       "      <td>1</td>\n",
       "    </tr>\n",
       "    <tr>\n",
       "      <th>217</th>\n",
       "      <td>59.944286</td>\n",
       "      <td>47.381429</td>\n",
       "      <td>69.487143</td>\n",
       "      <td>2020</td>\n",
       "      <td>3</td>\n",
       "      <td>8</td>\n",
       "    </tr>\n",
       "    <tr>\n",
       "      <th>218</th>\n",
       "      <td>53.702857</td>\n",
       "      <td>67.081429</td>\n",
       "      <td>18.790000</td>\n",
       "      <td>2020</td>\n",
       "      <td>3</td>\n",
       "      <td>15</td>\n",
       "    </tr>\n",
       "    <tr>\n",
       "      <th>219</th>\n",
       "      <td>38.950000</td>\n",
       "      <td>38.617143</td>\n",
       "      <td>32.984286</td>\n",
       "      <td>2020</td>\n",
       "      <td>3</td>\n",
       "      <td>22</td>\n",
       "    </tr>\n",
       "    <tr>\n",
       "      <th>220</th>\n",
       "      <td>64.037143</td>\n",
       "      <td>49.992857</td>\n",
       "      <td>28.890000</td>\n",
       "      <td>2020</td>\n",
       "      <td>3</td>\n",
       "      <td>29</td>\n",
       "    </tr>\n",
       "    <tr>\n",
       "      <th>221</th>\n",
       "      <td>77.810000</td>\n",
       "      <td>38.562857</td>\n",
       "      <td>47.714286</td>\n",
       "      <td>2020</td>\n",
       "      <td>4</td>\n",
       "      <td>5</td>\n",
       "    </tr>\n",
       "    <tr>\n",
       "      <th>222</th>\n",
       "      <td>42.257143</td>\n",
       "      <td>57.878571</td>\n",
       "      <td>42.300000</td>\n",
       "      <td>2020</td>\n",
       "      <td>4</td>\n",
       "      <td>12</td>\n",
       "    </tr>\n",
       "    <tr>\n",
       "      <th>223</th>\n",
       "      <td>37.904286</td>\n",
       "      <td>49.808571</td>\n",
       "      <td>48.222857</td>\n",
       "      <td>2020</td>\n",
       "      <td>4</td>\n",
       "      <td>19</td>\n",
       "    </tr>\n",
       "    <tr>\n",
       "      <th>224</th>\n",
       "      <td>55.262857</td>\n",
       "      <td>52.375714</td>\n",
       "      <td>31.445714</td>\n",
       "      <td>2020</td>\n",
       "      <td>4</td>\n",
       "      <td>26</td>\n",
       "    </tr>\n",
       "    <tr>\n",
       "      <th>225</th>\n",
       "      <td>44.565714</td>\n",
       "      <td>32.215714</td>\n",
       "      <td>11.490000</td>\n",
       "      <td>2020</td>\n",
       "      <td>5</td>\n",
       "      <td>3</td>\n",
       "    </tr>\n",
       "    <tr>\n",
       "      <th>226</th>\n",
       "      <td>64.420000</td>\n",
       "      <td>55.505714</td>\n",
       "      <td>59.411429</td>\n",
       "      <td>2020</td>\n",
       "      <td>5</td>\n",
       "      <td>10</td>\n",
       "    </tr>\n",
       "    <tr>\n",
       "      <th>227</th>\n",
       "      <td>29.864286</td>\n",
       "      <td>38.992857</td>\n",
       "      <td>16.555714</td>\n",
       "      <td>2020</td>\n",
       "      <td>5</td>\n",
       "      <td>17</td>\n",
       "    </tr>\n",
       "    <tr>\n",
       "      <th>228</th>\n",
       "      <td>26.341429</td>\n",
       "      <td>103.000000</td>\n",
       "      <td>16.502857</td>\n",
       "      <td>2020</td>\n",
       "      <td>5</td>\n",
       "      <td>24</td>\n",
       "    </tr>\n",
       "    <tr>\n",
       "      <th>229</th>\n",
       "      <td>55.604286</td>\n",
       "      <td>37.828571</td>\n",
       "      <td>13.248571</td>\n",
       "      <td>2020</td>\n",
       "      <td>5</td>\n",
       "      <td>31</td>\n",
       "    </tr>\n",
       "    <tr>\n",
       "      <th>230</th>\n",
       "      <td>24.530000</td>\n",
       "      <td>17.901429</td>\n",
       "      <td>21.048571</td>\n",
       "      <td>2020</td>\n",
       "      <td>6</td>\n",
       "      <td>7</td>\n",
       "    </tr>\n",
       "    <tr>\n",
       "      <th>231</th>\n",
       "      <td>34.607143</td>\n",
       "      <td>11.655714</td>\n",
       "      <td>14.078571</td>\n",
       "      <td>2020</td>\n",
       "      <td>6</td>\n",
       "      <td>14</td>\n",
       "    </tr>\n",
       "    <tr>\n",
       "      <th>232</th>\n",
       "      <td>9.401429</td>\n",
       "      <td>30.405714</td>\n",
       "      <td>10.541429</td>\n",
       "      <td>2020</td>\n",
       "      <td>6</td>\n",
       "      <td>21</td>\n",
       "    </tr>\n",
       "    <tr>\n",
       "      <th>233</th>\n",
       "      <td>11.440000</td>\n",
       "      <td>5.085714</td>\n",
       "      <td>29.300000</td>\n",
       "      <td>2020</td>\n",
       "      <td>6</td>\n",
       "      <td>28</td>\n",
       "    </tr>\n",
       "    <tr>\n",
       "      <th>234</th>\n",
       "      <td>5.980000</td>\n",
       "      <td>21.225714</td>\n",
       "      <td>5.368571</td>\n",
       "      <td>2020</td>\n",
       "      <td>7</td>\n",
       "      <td>5</td>\n",
       "    </tr>\n",
       "    <tr>\n",
       "      <th>235</th>\n",
       "      <td>6.657143</td>\n",
       "      <td>10.748571</td>\n",
       "      <td>21.264286</td>\n",
       "      <td>2020</td>\n",
       "      <td>7</td>\n",
       "      <td>12</td>\n",
       "    </tr>\n",
       "    <tr>\n",
       "      <th>236</th>\n",
       "      <td>21.648571</td>\n",
       "      <td>18.112857</td>\n",
       "      <td>12.617143</td>\n",
       "      <td>2020</td>\n",
       "      <td>7</td>\n",
       "      <td>19</td>\n",
       "    </tr>\n",
       "    <tr>\n",
       "      <th>237</th>\n",
       "      <td>17.920000</td>\n",
       "      <td>13.767143</td>\n",
       "      <td>20.988571</td>\n",
       "      <td>2020</td>\n",
       "      <td>7</td>\n",
       "      <td>26</td>\n",
       "    </tr>\n",
       "    <tr>\n",
       "      <th>238</th>\n",
       "      <td>10.147143</td>\n",
       "      <td>10.772857</td>\n",
       "      <td>7.647143</td>\n",
       "      <td>2020</td>\n",
       "      <td>8</td>\n",
       "      <td>2</td>\n",
       "    </tr>\n",
       "    <tr>\n",
       "      <th>239</th>\n",
       "      <td>15.458571</td>\n",
       "      <td>13.640000</td>\n",
       "      <td>11.461429</td>\n",
       "      <td>2020</td>\n",
       "      <td>8</td>\n",
       "      <td>9</td>\n",
       "    </tr>\n",
       "    <tr>\n",
       "      <th>240</th>\n",
       "      <td>14.022857</td>\n",
       "      <td>25.222857</td>\n",
       "      <td>14.001429</td>\n",
       "      <td>2020</td>\n",
       "      <td>8</td>\n",
       "      <td>16</td>\n",
       "    </tr>\n",
       "    <tr>\n",
       "      <th>241</th>\n",
       "      <td>28.090000</td>\n",
       "      <td>8.988571</td>\n",
       "      <td>25.720000</td>\n",
       "      <td>2020</td>\n",
       "      <td>8</td>\n",
       "      <td>23</td>\n",
       "    </tr>\n",
       "    <tr>\n",
       "      <th>242</th>\n",
       "      <td>11.471429</td>\n",
       "      <td>11.947143</td>\n",
       "      <td>7.628571</td>\n",
       "      <td>2020</td>\n",
       "      <td>8</td>\n",
       "      <td>30</td>\n",
       "    </tr>\n",
       "    <tr>\n",
       "      <th>243</th>\n",
       "      <td>4.372857</td>\n",
       "      <td>13.411429</td>\n",
       "      <td>13.367143</td>\n",
       "      <td>2020</td>\n",
       "      <td>9</td>\n",
       "      <td>6</td>\n",
       "    </tr>\n",
       "    <tr>\n",
       "      <th>244</th>\n",
       "      <td>1.497143</td>\n",
       "      <td>11.560000</td>\n",
       "      <td>11.204286</td>\n",
       "      <td>2020</td>\n",
       "      <td>9</td>\n",
       "      <td>13</td>\n",
       "    </tr>\n",
       "    <tr>\n",
       "      <th>245</th>\n",
       "      <td>1.510000</td>\n",
       "      <td>17.315714</td>\n",
       "      <td>12.794286</td>\n",
       "      <td>2020</td>\n",
       "      <td>9</td>\n",
       "      <td>20</td>\n",
       "    </tr>\n",
       "    <tr>\n",
       "      <th>246</th>\n",
       "      <td>7.626429</td>\n",
       "      <td>94.998571</td>\n",
       "      <td>19.702857</td>\n",
       "      <td>2020</td>\n",
       "      <td>9</td>\n",
       "      <td>27</td>\n",
       "    </tr>\n",
       "    <tr>\n",
       "      <th>247</th>\n",
       "      <td>15.932857</td>\n",
       "      <td>134.697143</td>\n",
       "      <td>105.615714</td>\n",
       "      <td>2020</td>\n",
       "      <td>10</td>\n",
       "      <td>4</td>\n",
       "    </tr>\n",
       "    <tr>\n",
       "      <th>248</th>\n",
       "      <td>78.252857</td>\n",
       "      <td>81.015714</td>\n",
       "      <td>139.961429</td>\n",
       "      <td>2020</td>\n",
       "      <td>10</td>\n",
       "      <td>11</td>\n",
       "    </tr>\n",
       "    <tr>\n",
       "      <th>249</th>\n",
       "      <td>84.694286</td>\n",
       "      <td>138.125714</td>\n",
       "      <td>78.572857</td>\n",
       "      <td>2020</td>\n",
       "      <td>10</td>\n",
       "      <td>18</td>\n",
       "    </tr>\n",
       "    <tr>\n",
       "      <th>250</th>\n",
       "      <td>80.394286</td>\n",
       "      <td>153.602857</td>\n",
       "      <td>124.270000</td>\n",
       "      <td>2020</td>\n",
       "      <td>10</td>\n",
       "      <td>25</td>\n",
       "    </tr>\n",
       "    <tr>\n",
       "      <th>251</th>\n",
       "      <td>68.687143</td>\n",
       "      <td>109.642857</td>\n",
       "      <td>117.312857</td>\n",
       "      <td>2020</td>\n",
       "      <td>11</td>\n",
       "      <td>1</td>\n",
       "    </tr>\n",
       "    <tr>\n",
       "      <th>252</th>\n",
       "      <td>30.632857</td>\n",
       "      <td>111.845714</td>\n",
       "      <td>195.964286</td>\n",
       "      <td>2020</td>\n",
       "      <td>11</td>\n",
       "      <td>8</td>\n",
       "    </tr>\n",
       "    <tr>\n",
       "      <th>253</th>\n",
       "      <td>61.157143</td>\n",
       "      <td>108.850000</td>\n",
       "      <td>328.145714</td>\n",
       "      <td>2020</td>\n",
       "      <td>11</td>\n",
       "      <td>15</td>\n",
       "    </tr>\n",
       "    <tr>\n",
       "      <th>254</th>\n",
       "      <td>63.307143</td>\n",
       "      <td>94.437143</td>\n",
       "      <td>132.608571</td>\n",
       "      <td>2020</td>\n",
       "      <td>11</td>\n",
       "      <td>22</td>\n",
       "    </tr>\n",
       "    <tr>\n",
       "      <th>255</th>\n",
       "      <td>45.270000</td>\n",
       "      <td>150.995714</td>\n",
       "      <td>104.675714</td>\n",
       "      <td>2020</td>\n",
       "      <td>11</td>\n",
       "      <td>29</td>\n",
       "    </tr>\n",
       "    <tr>\n",
       "      <th>256</th>\n",
       "      <td>112.037143</td>\n",
       "      <td>185.720000</td>\n",
       "      <td>324.268571</td>\n",
       "      <td>2020</td>\n",
       "      <td>12</td>\n",
       "      <td>6</td>\n",
       "    </tr>\n",
       "    <tr>\n",
       "      <th>257</th>\n",
       "      <td>64.480000</td>\n",
       "      <td>115.980000</td>\n",
       "      <td>119.221429</td>\n",
       "      <td>2020</td>\n",
       "      <td>12</td>\n",
       "      <td>13</td>\n",
       "    </tr>\n",
       "    <tr>\n",
       "      <th>258</th>\n",
       "      <td>28.385714</td>\n",
       "      <td>148.477143</td>\n",
       "      <td>35.408571</td>\n",
       "      <td>2020</td>\n",
       "      <td>12</td>\n",
       "      <td>20</td>\n",
       "    </tr>\n",
       "    <tr>\n",
       "      <th>259</th>\n",
       "      <td>31.267143</td>\n",
       "      <td>125.535714</td>\n",
       "      <td>80.651429</td>\n",
       "      <td>2020</td>\n",
       "      <td>12</td>\n",
       "      <td>27</td>\n",
       "    </tr>\n",
       "  </tbody>\n",
       "</table>\n",
       "</div>"
      ],
      "text/plain": [
       "           NOy1        NOy2        NOy3  year  month  day\n",
       "207  125.535714   80.651429  100.627143  2019     12   29\n",
       "208  109.870000  174.377143   98.832857  2020      1    5\n",
       "209   84.832857   75.938571  101.944286  2020      1   12\n",
       "210  117.140000   71.592857   94.412857  2020      1   19\n",
       "211   34.865714   74.328571   49.015714  2020      1   26\n",
       "212   47.905714   32.171429   74.012857  2020      2    2\n",
       "213   65.595714  112.367143  153.021429  2020      2    9\n",
       "214   73.142857   35.207143   50.672857  2020      2   16\n",
       "215   68.825714  122.750000   34.234286  2020      2   23\n",
       "216   86.743571   79.125714   38.925714  2020      3    1\n",
       "217   59.944286   47.381429   69.487143  2020      3    8\n",
       "218   53.702857   67.081429   18.790000  2020      3   15\n",
       "219   38.950000   38.617143   32.984286  2020      3   22\n",
       "220   64.037143   49.992857   28.890000  2020      3   29\n",
       "221   77.810000   38.562857   47.714286  2020      4    5\n",
       "222   42.257143   57.878571   42.300000  2020      4   12\n",
       "223   37.904286   49.808571   48.222857  2020      4   19\n",
       "224   55.262857   52.375714   31.445714  2020      4   26\n",
       "225   44.565714   32.215714   11.490000  2020      5    3\n",
       "226   64.420000   55.505714   59.411429  2020      5   10\n",
       "227   29.864286   38.992857   16.555714  2020      5   17\n",
       "228   26.341429  103.000000   16.502857  2020      5   24\n",
       "229   55.604286   37.828571   13.248571  2020      5   31\n",
       "230   24.530000   17.901429   21.048571  2020      6    7\n",
       "231   34.607143   11.655714   14.078571  2020      6   14\n",
       "232    9.401429   30.405714   10.541429  2020      6   21\n",
       "233   11.440000    5.085714   29.300000  2020      6   28\n",
       "234    5.980000   21.225714    5.368571  2020      7    5\n",
       "235    6.657143   10.748571   21.264286  2020      7   12\n",
       "236   21.648571   18.112857   12.617143  2020      7   19\n",
       "237   17.920000   13.767143   20.988571  2020      7   26\n",
       "238   10.147143   10.772857    7.647143  2020      8    2\n",
       "239   15.458571   13.640000   11.461429  2020      8    9\n",
       "240   14.022857   25.222857   14.001429  2020      8   16\n",
       "241   28.090000    8.988571   25.720000  2020      8   23\n",
       "242   11.471429   11.947143    7.628571  2020      8   30\n",
       "243    4.372857   13.411429   13.367143  2020      9    6\n",
       "244    1.497143   11.560000   11.204286  2020      9   13\n",
       "245    1.510000   17.315714   12.794286  2020      9   20\n",
       "246    7.626429   94.998571   19.702857  2020      9   27\n",
       "247   15.932857  134.697143  105.615714  2020     10    4\n",
       "248   78.252857   81.015714  139.961429  2020     10   11\n",
       "249   84.694286  138.125714   78.572857  2020     10   18\n",
       "250   80.394286  153.602857  124.270000  2020     10   25\n",
       "251   68.687143  109.642857  117.312857  2020     11    1\n",
       "252   30.632857  111.845714  195.964286  2020     11    8\n",
       "253   61.157143  108.850000  328.145714  2020     11   15\n",
       "254   63.307143   94.437143  132.608571  2020     11   22\n",
       "255   45.270000  150.995714  104.675714  2020     11   29\n",
       "256  112.037143  185.720000  324.268571  2020     12    6\n",
       "257   64.480000  115.980000  119.221429  2020     12   13\n",
       "258   28.385714  148.477143   35.408571  2020     12   20\n",
       "259   31.267143  125.535714   80.651429  2020     12   27"
      ]
     },
     "execution_count": 64,
     "metadata": {},
     "output_type": "execute_result"
    }
   ],
   "source": [
    "test=data.loc['207':'259']\n",
    "X=test[['NOy1','NOy2','NOy3','year', 'month', 'day']]\n",
    "\n",
    "X"
   ]
  },
  {
   "cell_type": "code",
   "execution_count": 65,
   "metadata": {},
   "outputs": [],
   "source": [
    "predict=grad_boost.predict(X)"
   ]
  },
  {
   "cell_type": "code",
   "execution_count": 66,
   "metadata": {
    "scrolled": false
   },
   "outputs": [
    {
     "data": {
      "text/plain": [
       "array([31.44986318, 86.5308726 , 90.12739575, 83.58578649, 85.08169036,\n",
       "       58.91516761, 63.41134346, 52.75761139, 77.04863439, 76.5396227 ,\n",
       "       57.47778254, 55.51305401, 59.57176992, 69.57728177, 78.73687937,\n",
       "       60.795235  , 53.19030697, 68.81092567, 57.97823333, 58.77684062,\n",
       "       61.98682137, 74.44116239, 63.35985032, 25.82024547, 28.84646634,\n",
       "       28.17348588, 29.00735613,  5.86034035, 20.80636534, 13.6723244 ,\n",
       "       25.11187874, 15.57414549, 10.07945654, 16.55787082, 18.43936298,\n",
       "       20.93053196,  7.39578434, 10.38840134, 11.77566386, 77.92211108,\n",
       "       73.53279065, 84.56637625, 87.91086502, 81.74716142, 80.33768772,\n",
       "       71.05056928, 66.56570517, 83.22726665, 76.67039839, 51.97107843,\n",
       "       82.66742817, 85.89326294, 91.41039999])"
      ]
     },
     "execution_count": 66,
     "metadata": {},
     "output_type": "execute_result"
    }
   ],
   "source": [
    "predict"
   ]
  },
  {
   "cell_type": "code",
   "execution_count": 67,
   "metadata": {},
   "outputs": [],
   "source": [
    "dates=data.loc['207':'259','From Date']"
   ]
  },
  {
   "cell_type": "code",
   "execution_count": 68,
   "metadata": {},
   "outputs": [],
   "source": [
    "X['From Date']=dates.values"
   ]
  },
  {
   "cell_type": "code",
   "execution_count": 69,
   "metadata": {},
   "outputs": [
    {
     "data": {
      "text/plain": [
       "Index(['NOy1', 'NOy2', 'NOy3', 'year', 'month', 'day', 'From Date'], dtype='object')"
      ]
     },
     "execution_count": 69,
     "metadata": {},
     "output_type": "execute_result"
    }
   ],
   "source": [
    "X.columns"
   ]
  },
  {
   "cell_type": "code",
   "execution_count": 70,
   "metadata": {},
   "outputs": [],
   "source": [
    "X['From Date']= X['From Date'].map(dt.datetime.fromordinal)"
   ]
  },
  {
   "cell_type": "code",
   "execution_count": 71,
   "metadata": {},
   "outputs": [],
   "source": [
    "test['From Date']= test['From Date'].map(dt.datetime.fromordinal)"
   ]
  },
  {
   "cell_type": "code",
   "execution_count": 72,
   "metadata": {},
   "outputs": [],
   "source": [
    "test = test.set_index(['From Date'])\n",
    "X = X.set_index(['From Date'])\n"
   ]
  },
  {
   "cell_type": "code",
   "execution_count": 73,
   "metadata": {},
   "outputs": [],
   "source": [
    "X['pred']=predict"
   ]
  },
  {
   "cell_type": "code",
   "execution_count": 74,
   "metadata": {
    "scrolled": true
   },
   "outputs": [
    {
     "data": {
      "text/plain": [
       "<AxesSubplot:xlabel='From Date'>"
      ]
     },
     "execution_count": 74,
     "metadata": {},
     "output_type": "execute_result"
    },
    {
     "data": {
      "image/png": "[encoded data removed]",
      "text/plain": [
       "<Figure size 720x432 with 1 Axes>"
      ]
     },
     "metadata": {},
     "output_type": "display_data"
    }
   ],
   "source": [
    "test['NO'].plot(legend=True, label='Actual NO', figsize=(10,6))\n",
    "X['pred'].plot(legend=True, label='Predicted NO')"
   ]
  },
  {
   "cell_type": "code",
   "execution_count": 75,
   "metadata": {},
   "outputs": [
    {
     "data": {
      "text/plain": [
       "39.64531156243617"
      ]
     },
     "execution_count": 75,
     "metadata": {},
     "output_type": "execute_result"
    }
   ],
   "source": [
    "np.sqrt(mean_squared_error(test['NO'],X['pred']))"
   ]
  },
  {
   "cell_type": "code",
   "execution_count": 76,
   "metadata": {
    "scrolled": false
   },
   "outputs": [
    {
     "name": "stdout",
     "output_type": "stream",
     "text": [
      "Results of sklearn.metrics:\n",
      "MAE: 20.378146458384464\n",
      "MSE: 696.5154977551663\n",
      "RMSE: 26.391580054160574\n",
      "R-Squared: 0.7117645967047124\n"
     ]
    }
   ],
   "source": [
    "mae = metrics.mean_absolute_error(ytest, gboost_pred)\n",
    "mse = metrics.mean_squared_error(ytest, gboost_pred)\n",
    "rmsetest = np.sqrt(mse) # or mse**(0.5)  \n",
    "r2 = metrics.r2_score(ytest,gboost_pred)\n",
    "\n",
    "print(\"Results of sklearn.metrics:\")\n",
    "print(\"MAE:\",mae)\n",
    "print(\"MSE:\", mse)\n",
    "print(\"RMSE:\", rmsetest)\n",
    "print(\"R-Squared:\", r2)"
   ]
  },
  {
   "cell_type": "code",
   "execution_count": 77,
   "metadata": {},
   "outputs": [
    {
     "name": "stdout",
     "output_type": "stream",
     "text": [
      "Results of sklearn.metrics:\n",
      "MAE: 31.852279149027996\n",
      "MSE: 1571.7507288826353\n",
      "RMSE: 39.64531156243617\n",
      "R-Squared: -0.36461903791861605\n"
     ]
    }
   ],
   "source": [
    "mae = metrics.mean_absolute_error(test['NO'],X['pred'])\n",
    "mse = metrics.mean_squared_error(test['NO'],X['pred'])\n",
    "rmse = np.sqrt(mse) # or mse**(0.5)  \n",
    "r2 = metrics.r2_score(test['NO'],X['pred'])\n",
    "\n",
    "print(\"Results of sklearn.metrics:\")\n",
    "print(\"MAE:\",mae)\n",
    "print(\"MSE:\", mse)\n",
    "print(\"RMSE:\", rmse)\n",
    "print(\"R-Squared:\", r2)"
   ]
  },
  {
   "cell_type": "code",
   "execution_count": 78,
   "metadata": {},
   "outputs": [],
   "source": [
    "import pickle\n",
    "filename = 'NO_gboost3y.sav'\n",
    "pickle.dump(grad_boost, open(filename, 'wb'))"
   ]
  },
  {
   "cell_type": "code",
   "execution_count": 79,
   "metadata": {},
   "outputs": [
    {
     "name": "stdout",
     "output_type": "stream",
     "text": [
      "0.7117645967047124\n"
     ]
    }
   ],
   "source": [
    "#load model\n",
    "loaded_model = pickle.load(open(filename, 'rb'))\n",
    "result = loaded_model.score(xtest, ytest)\n",
    "print(result)"
   ]
  },
  {
   "cell_type": "markdown",
   "metadata": {},
   "source": [
    "# 3rd plot"
   ]
  },
  {
   "cell_type": "code",
   "execution_count": 80,
   "metadata": {},
   "outputs": [],
   "source": [
    "testcase = pd.DataFrame()"
   ]
  },
  {
   "cell_type": "code",
   "execution_count": 81,
   "metadata": {
    "scrolled": true
   },
   "outputs": [],
   "source": [
    "testcase['test']=ytest\n",
    "testcase['pred']=gboost_pred"
   ]
  },
  {
   "cell_type": "code",
   "execution_count": 82,
   "metadata": {},
   "outputs": [],
   "source": [
    "testcase[\"Corrected\"] = np.where(testcase[\"pred\"]<testcase[\"test\"],testcase[\"pred\"]+rmsetest ,\n",
    "                   np.where(testcase[\"pred\"]>testcase[\"test\"], testcase[\"pred\"]-rmsetest,\n",
    "                            testcase[\"pred\"]))"
   ]
  },
  {
   "cell_type": "code",
   "execution_count": 83,
   "metadata": {},
   "outputs": [
    {
     "data": {
      "text/html": [
       "<div>\n",
       "<style scoped>\n",
       "    .dataframe tbody tr th:only-of-type {\n",
       "        vertical-align: middle;\n",
       "    }\n",
       "\n",
       "    .dataframe tbody tr th {\n",
       "        vertical-align: top;\n",
       "    }\n",
       "\n",
       "    .dataframe thead th {\n",
       "        text-align: right;\n",
       "    }\n",
       "</style>\n",
       "<table border=\"1\" class=\"dataframe\">\n",
       "  <thead>\n",
       "    <tr style=\"text-align: right;\">\n",
       "      <th></th>\n",
       "      <th>test</th>\n",
       "      <th>pred</th>\n",
       "      <th>Corrected</th>\n",
       "    </tr>\n",
       "  </thead>\n",
       "  <tbody>\n",
       "    <tr>\n",
       "      <th>154</th>\n",
       "      <td>148.477143</td>\n",
       "      <td>104.182967</td>\n",
       "      <td>130.574547</td>\n",
       "    </tr>\n",
       "    <tr>\n",
       "      <th>192</th>\n",
       "      <td>1.497143</td>\n",
       "      <td>13.719535</td>\n",
       "      <td>-12.672045</td>\n",
       "    </tr>\n",
       "    <tr>\n",
       "      <th>135</th>\n",
       "      <td>13.640000</td>\n",
       "      <td>20.008241</td>\n",
       "      <td>-6.383339</td>\n",
       "    </tr>\n",
       "    <tr>\n",
       "      <th>10</th>\n",
       "      <td>191.662857</td>\n",
       "      <td>137.715718</td>\n",
       "      <td>164.107298</td>\n",
       "    </tr>\n",
       "    <tr>\n",
       "      <th>13</th>\n",
       "      <td>82.768571</td>\n",
       "      <td>99.505602</td>\n",
       "      <td>73.114022</td>\n",
       "    </tr>\n",
       "    <tr>\n",
       "      <th>173</th>\n",
       "      <td>44.565714</td>\n",
       "      <td>51.947185</td>\n",
       "      <td>25.555605</td>\n",
       "    </tr>\n",
       "    <tr>\n",
       "      <th>205</th>\n",
       "      <td>64.480000</td>\n",
       "      <td>70.405819</td>\n",
       "      <td>44.014239</td>\n",
       "    </tr>\n",
       "    <tr>\n",
       "      <th>23</th>\n",
       "      <td>6.577143</td>\n",
       "      <td>12.032678</td>\n",
       "      <td>-14.358902</td>\n",
       "    </tr>\n",
       "    <tr>\n",
       "      <th>71</th>\n",
       "      <td>16.555714</td>\n",
       "      <td>41.470456</td>\n",
       "      <td>15.078876</td>\n",
       "    </tr>\n",
       "    <tr>\n",
       "      <th>28</th>\n",
       "      <td>26.344286</td>\n",
       "      <td>8.692550</td>\n",
       "      <td>35.084131</td>\n",
       "    </tr>\n",
       "    <tr>\n",
       "      <th>41</th>\n",
       "      <td>95.208571</td>\n",
       "      <td>118.257259</td>\n",
       "      <td>91.865679</td>\n",
       "    </tr>\n",
       "    <tr>\n",
       "      <th>182</th>\n",
       "      <td>5.980000</td>\n",
       "      <td>6.885470</td>\n",
       "      <td>-19.506110</td>\n",
       "    </tr>\n",
       "    <tr>\n",
       "      <th>25</th>\n",
       "      <td>6.276429</td>\n",
       "      <td>23.377972</td>\n",
       "      <td>-3.013608</td>\n",
       "    </tr>\n",
       "    <tr>\n",
       "      <th>91</th>\n",
       "      <td>105.615714</td>\n",
       "      <td>67.797655</td>\n",
       "      <td>94.189235</td>\n",
       "    </tr>\n",
       "    <tr>\n",
       "      <th>24</th>\n",
       "      <td>6.874286</td>\n",
       "      <td>12.431174</td>\n",
       "      <td>-13.960406</td>\n",
       "    </tr>\n",
       "    <tr>\n",
       "      <th>180</th>\n",
       "      <td>9.401429</td>\n",
       "      <td>24.437152</td>\n",
       "      <td>-1.954428</td>\n",
       "    </tr>\n",
       "    <tr>\n",
       "      <th>186</th>\n",
       "      <td>10.147143</td>\n",
       "      <td>15.365782</td>\n",
       "      <td>-11.025799</td>\n",
       "    </tr>\n",
       "    <tr>\n",
       "      <th>109</th>\n",
       "      <td>112.367143</td>\n",
       "      <td>86.799960</td>\n",
       "      <td>113.191540</td>\n",
       "    </tr>\n",
       "    <tr>\n",
       "      <th>66</th>\n",
       "      <td>42.300000</td>\n",
       "      <td>49.350245</td>\n",
       "      <td>22.958665</td>\n",
       "    </tr>\n",
       "    <tr>\n",
       "      <th>44</th>\n",
       "      <td>168.255714</td>\n",
       "      <td>155.121573</td>\n",
       "      <td>181.513153</td>\n",
       "    </tr>\n",
       "    <tr>\n",
       "      <th>54</th>\n",
       "      <td>94.412857</td>\n",
       "      <td>60.685131</td>\n",
       "      <td>87.076711</td>\n",
       "    </tr>\n",
       "    <tr>\n",
       "      <th>144</th>\n",
       "      <td>81.015714</td>\n",
       "      <td>141.608047</td>\n",
       "      <td>115.216467</td>\n",
       "    </tr>\n",
       "    <tr>\n",
       "      <th>35</th>\n",
       "      <td>13.277143</td>\n",
       "      <td>9.030202</td>\n",
       "      <td>35.421782</td>\n",
       "    </tr>\n",
       "    <tr>\n",
       "      <th>143</th>\n",
       "      <td>134.697143</td>\n",
       "      <td>102.647417</td>\n",
       "      <td>129.038997</td>\n",
       "    </tr>\n",
       "    <tr>\n",
       "      <th>53</th>\n",
       "      <td>101.944286</td>\n",
       "      <td>114.869166</td>\n",
       "      <td>88.477586</td>\n",
       "    </tr>\n",
       "    <tr>\n",
       "      <th>6</th>\n",
       "      <td>100.864286</td>\n",
       "      <td>124.773431</td>\n",
       "      <td>98.381851</td>\n",
       "    </tr>\n",
       "    <tr>\n",
       "      <th>12</th>\n",
       "      <td>48.902857</td>\n",
       "      <td>67.846309</td>\n",
       "      <td>41.454729</td>\n",
       "    </tr>\n",
       "    <tr>\n",
       "      <th>29</th>\n",
       "      <td>15.165714</td>\n",
       "      <td>24.766303</td>\n",
       "      <td>-1.625277</td>\n",
       "    </tr>\n",
       "    <tr>\n",
       "      <th>18</th>\n",
       "      <td>22.473214</td>\n",
       "      <td>59.262504</td>\n",
       "      <td>32.870924</td>\n",
       "    </tr>\n",
       "    <tr>\n",
       "      <th>115</th>\n",
       "      <td>38.617143</td>\n",
       "      <td>78.443448</td>\n",
       "      <td>52.051868</td>\n",
       "    </tr>\n",
       "    <tr>\n",
       "      <th>5</th>\n",
       "      <td>112.951429</td>\n",
       "      <td>128.735655</td>\n",
       "      <td>102.344075</td>\n",
       "    </tr>\n",
       "    <tr>\n",
       "      <th>139</th>\n",
       "      <td>13.411429</td>\n",
       "      <td>8.606596</td>\n",
       "      <td>34.998176</td>\n",
       "    </tr>\n",
       "    <tr>\n",
       "      <th>2</th>\n",
       "      <td>102.572857</td>\n",
       "      <td>103.327119</td>\n",
       "      <td>76.935539</td>\n",
       "    </tr>\n",
       "    <tr>\n",
       "      <th>190</th>\n",
       "      <td>11.471429</td>\n",
       "      <td>28.708934</td>\n",
       "      <td>2.317353</td>\n",
       "    </tr>\n",
       "    <tr>\n",
       "      <th>3</th>\n",
       "      <td>87.181429</td>\n",
       "      <td>123.981618</td>\n",
       "      <td>97.590037</td>\n",
       "    </tr>\n",
       "    <tr>\n",
       "      <th>201</th>\n",
       "      <td>61.157143</td>\n",
       "      <td>62.990070</td>\n",
       "      <td>36.598490</td>\n",
       "    </tr>\n",
       "    <tr>\n",
       "      <th>14</th>\n",
       "      <td>52.567143</td>\n",
       "      <td>62.185559</td>\n",
       "      <td>35.793978</td>\n",
       "    </tr>\n",
       "    <tr>\n",
       "      <th>120</th>\n",
       "      <td>52.375714</td>\n",
       "      <td>72.801508</td>\n",
       "      <td>46.409928</td>\n",
       "    </tr>\n",
       "    <tr>\n",
       "      <th>172</th>\n",
       "      <td>55.262857</td>\n",
       "      <td>49.672542</td>\n",
       "      <td>76.064123</td>\n",
       "    </tr>\n",
       "    <tr>\n",
       "      <th>181</th>\n",
       "      <td>11.440000</td>\n",
       "      <td>41.045171</td>\n",
       "      <td>14.653591</td>\n",
       "    </tr>\n",
       "    <tr>\n",
       "      <th>130</th>\n",
       "      <td>21.225714</td>\n",
       "      <td>1.392635</td>\n",
       "      <td>27.784215</td>\n",
       "    </tr>\n",
       "    <tr>\n",
       "      <th>195</th>\n",
       "      <td>15.932857</td>\n",
       "      <td>91.583042</td>\n",
       "      <td>65.191462</td>\n",
       "    </tr>\n",
       "  </tbody>\n",
       "</table>\n",
       "</div>"
      ],
      "text/plain": [
       "           test        pred   Corrected\n",
       "154  148.477143  104.182967  130.574547\n",
       "192    1.497143   13.719535  -12.672045\n",
       "135   13.640000   20.008241   -6.383339\n",
       "10   191.662857  137.715718  164.107298\n",
       "13    82.768571   99.505602   73.114022\n",
       "173   44.565714   51.947185   25.555605\n",
       "205   64.480000   70.405819   44.014239\n",
       "23     6.577143   12.032678  -14.358902\n",
       "71    16.555714   41.470456   15.078876\n",
       "28    26.344286    8.692550   35.084131\n",
       "41    95.208571  118.257259   91.865679\n",
       "182    5.980000    6.885470  -19.506110\n",
       "25     6.276429   23.377972   -3.013608\n",
       "91   105.615714   67.797655   94.189235\n",
       "24     6.874286   12.431174  -13.960406\n",
       "180    9.401429   24.437152   -1.954428\n",
       "186   10.147143   15.365782  -11.025799\n",
       "109  112.367143   86.799960  113.191540\n",
       "66    42.300000   49.350245   22.958665\n",
       "44   168.255714  155.121573  181.513153\n",
       "54    94.412857   60.685131   87.076711\n",
       "144   81.015714  141.608047  115.216467\n",
       "35    13.277143    9.030202   35.421782\n",
       "143  134.697143  102.647417  129.038997\n",
       "53   101.944286  114.869166   88.477586\n",
       "6    100.864286  124.773431   98.381851\n",
       "12    48.902857   67.846309   41.454729\n",
       "29    15.165714   24.766303   -1.625277\n",
       "18    22.473214   59.262504   32.870924\n",
       "115   38.617143   78.443448   52.051868\n",
       "5    112.951429  128.735655  102.344075\n",
       "139   13.411429    8.606596   34.998176\n",
       "2    102.572857  103.327119   76.935539\n",
       "190   11.471429   28.708934    2.317353\n",
       "3     87.181429  123.981618   97.590037\n",
       "201   61.157143   62.990070   36.598490\n",
       "14    52.567143   62.185559   35.793978\n",
       "120   52.375714   72.801508   46.409928\n",
       "172   55.262857   49.672542   76.064123\n",
       "181   11.440000   41.045171   14.653591\n",
       "130   21.225714    1.392635   27.784215\n",
       "195   15.932857   91.583042   65.191462"
      ]
     },
     "execution_count": 83,
     "metadata": {},
     "output_type": "execute_result"
    }
   ],
   "source": [
    "testcase"
   ]
  },
  {
   "cell_type": "code",
   "execution_count": 84,
   "metadata": {},
   "outputs": [
    {
     "data": {
      "text/plain": [
       "'testcase[\\'test\\'].plot(legend=True, label=\\'Actual PM2.5\\', figsize=(10,6))\\ntestcase[\\'pred\\'].plot(legend=True, label=\\'Predicted PM2.5\\')\\ntestcase[\"Corrected\"].plot(legend=True, label=\\'Corrected PM2.5\\')'"
      ]
     },
     "execution_count": 84,
     "metadata": {},
     "output_type": "execute_result"
    }
   ],
   "source": [
    "'''testcase['test'].plot(legend=True, label='Actual PM2.5', figsize=(10,6))\n",
    "testcase['pred'].plot(legend=True, label='Predicted PM2.5')\n",
    "testcase[\"Corrected\"].plot(legend=True, label='Corrected PM2.5')'''"
   ]
  },
  {
   "cell_type": "code",
   "execution_count": 85,
   "metadata": {
    "scrolled": true
   },
   "outputs": [
    {
     "data": {
      "text/plain": [
       "0.8756643770613793"
      ]
     },
     "execution_count": 85,
     "metadata": {},
     "output_type": "execute_result"
    }
   ],
   "source": [
    "r2 = metrics.r2_score(testcase[\"Corrected\"],testcase['test'])\n",
    "r2"
   ]
  },
  {
   "cell_type": "code",
   "execution_count": 86,
   "metadata": {},
   "outputs": [],
   "source": [
    "test2020=pd.DataFrame()"
   ]
  },
  {
   "cell_type": "code",
   "execution_count": 87,
   "metadata": {},
   "outputs": [],
   "source": [
    "test2020['test']=test['NO']\n",
    "test2020['pred']=X['pred']"
   ]
  },
  {
   "cell_type": "code",
   "execution_count": 88,
   "metadata": {},
   "outputs": [],
   "source": [
    "test2020.index=test.index"
   ]
  },
  {
   "cell_type": "code",
   "execution_count": 89,
   "metadata": {},
   "outputs": [],
   "source": [
    "test2020[\"Corrected\"] = np.where(test2020[\"pred\"]<test2020[\"test\"],test2020[\"pred\"]+rmsetest ,\n",
    "                   np.where(test2020[\"pred\"]>test2020[\"test\"], test2020[\"pred\"]-rmsetest,\n",
    "                            test2020[\"pred\"]))"
   ]
  },
  {
   "cell_type": "code",
   "execution_count": 90,
   "metadata": {},
   "outputs": [
    {
     "data": {
      "text/plain": [
       "<AxesSubplot:xlabel='From Date'>"
      ]
     },
     "execution_count": 90,
     "metadata": {},
     "output_type": "execute_result"
    },
    {
     "data": {
      "image/png": "[encoded data removed]",
      "text/plain": [
       "<Figure size 720x432 with 1 Axes>"
      ]
     },
     "metadata": {},
     "output_type": "display_data"
    }
   ],
   "source": [
    "test2020['test'].plot(legend=True, label='Actual NO 2020', figsize=(10,6))\n",
    "test2020['pred'].plot(legend=True, label='Predicted NO 2020')\n",
    "test2020[\"Corrected\"].plot(legend=True, label='Corrected NO 2020')"
   ]
  },
  {
   "cell_type": "code",
   "execution_count": 91,
   "metadata": {},
   "outputs": [
    {
     "data": {
      "text/plain": [
       "0.3331122325611937"
      ]
     },
     "execution_count": 91,
     "metadata": {},
     "output_type": "execute_result"
    }
   ],
   "source": [
    "r2020 = metrics.r2_score(test2020[\"Corrected\"],test2020['test'])\n",
    "r2020"
   ]
  },
  {
   "cell_type": "code",
   "execution_count": null,
   "metadata": {},
   "outputs": [],
   "source": []
  }
 ],
 "metadata": {
  "kernelspec": {
   "display_name": "Python 3",
   "language": "python",
   "name": "python3"
  },
  "language_info": {
   "codemirror_mode": {
    "name": "ipython",
    "version": 3
   },
   "file_extension": ".py",
   "mimetype": "text/x-python",
   "name": "python",
   "nbconvert_exporter": "python",
   "pygments_lexer": "ipython3",
   "version": "3.8.5"
  }
 },
 "nbformat": 4,
 "nbformat_minor": 4
}
