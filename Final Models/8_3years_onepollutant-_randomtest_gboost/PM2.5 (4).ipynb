{
 "cells": [
  {
   "cell_type": "code",
   "execution_count": 1,
   "metadata": {},
   "outputs": [],
   "source": [
    "import pandas as pd\n",
    "import numpy as np\n",
    "import matplotlib.pyplot as plt\n",
    "import seaborn as sns\n",
    "sns.set()\n",
    "import warnings\n",
    "warnings.filterwarnings(action='ignore')\n",
    "from statsmodels.tsa.seasonal import seasonal_decompose\n",
    "import statsmodels.formula.api as formula\n",
    "from statsmodels.stats.outliers_influence import variance_inflation_factor\n",
    "import statsmodels as sm\n",
    "from sklearn import preprocessing\n",
    "from sklearn.model_selection import train_test_split,GridSearchCV,RandomizedSearchCV\n",
    "from sklearn.linear_model import LinearRegression,Lasso,Ridge\n",
    "#from sklearn.externals import joblib\n",
    "from sklearn.metrics import r2_score,mean_squared_error\n",
    "from sklearn.ensemble import RandomForestRegressor,GradientBoostingRegressor\n",
    "from sklearn.tree import DecisionTreeRegressor\n",
    "from IPython.display import display\n",
    "from sklearn import metrics"
   ]
  },
  {
   "cell_type": "code",
   "execution_count": 2,
   "metadata": {},
   "outputs": [],
   "source": [
    "data = pd.read_excel (r'C:\\Users\\Kira\\Desktop\\Internship\\Data\\Delhi_Data-20210529T043217Z-001\\Delhi_Data\\2013-2020-RK-PURAM-final-dataset\\3y_weekly_RKPURAM.xlsx')\n",
    "data['From Date']=pd.to_datetime(data['From Date'])\n",
    "data['year'] = data['From Date'].dt.year\n",
    "data['month'] = data['From Date'].dt.month\n",
    "data['day'] = data['From Date'].dt.day"
   ]
  },
  {
   "cell_type": "code",
   "execution_count": 3,
   "metadata": {},
   "outputs": [],
   "source": [
    "import datetime as dt"
   ]
  },
  {
   "cell_type": "code",
   "execution_count": 4,
   "metadata": {},
   "outputs": [
    {
     "data": {
      "text/plain": [
       "Index(['From Date', 'PM2.5y1', 'PM1y1', 'NOy1', 'NO2y1', 'NOxy1', 'NH3y1',\n",
       "       'SO2y1', 'COy1', 'Ozoney1', 'RHy1', 'WSy1', 'WDy1', 'SRy1', 'BPy1',\n",
       "       'ATy1', 'PM2.5y2', 'PM1y2', 'NOy2', 'NO2y2', 'NOxy2', 'NH3y2', 'SO2y2',\n",
       "       'COy2', 'Ozoney2', 'RHy2', 'WSy2', 'WDy2', 'SRy2', 'BPy2', 'ATy2',\n",
       "       'PM2.5y3', 'PM1y3', 'NOy3', 'NO2y3', 'NOxy3', 'NH3y3', 'SO2y3', 'COy3',\n",
       "       'Ozoney3', 'RHy3', 'WSy3', 'WDy3', 'SRy3', 'BPy3', 'ATy3', 'PM2.5',\n",
       "       'PM1', 'NO', 'NO2', 'NOx', 'NH3', 'SO2', 'CO', 'Ozone', 'RH', 'WS',\n",
       "       'WD', 'SR', 'BP', 'AT', 'year', 'month', 'day'],\n",
       "      dtype='object')"
      ]
     },
     "execution_count": 4,
     "metadata": {},
     "output_type": "execute_result"
    }
   ],
   "source": [
    "data.columns"
   ]
  },
  {
   "cell_type": "code",
   "execution_count": 5,
   "metadata": {},
   "outputs": [],
   "source": [
    "data['From Date']= data['From Date'].map(dt.datetime.toordinal)"
   ]
  },
  {
   "cell_type": "code",
   "execution_count": 6,
   "metadata": {},
   "outputs": [],
   "source": [
    "df=data.loc['0':'207']"
   ]
  },
  {
   "cell_type": "code",
   "execution_count": 7,
   "metadata": {},
   "outputs": [
    {
     "data": {
      "text/plain": [
       "Index(['From Date', 'PM2.5y1', 'PM1y1', 'NOy1', 'NO2y1', 'NOxy1', 'NH3y1',\n",
       "       'SO2y1', 'COy1', 'Ozoney1', 'RHy1', 'WSy1', 'WDy1', 'SRy1', 'BPy1',\n",
       "       'ATy1', 'PM2.5y2', 'PM1y2', 'NOy2', 'NO2y2', 'NOxy2', 'NH3y2', 'SO2y2',\n",
       "       'COy2', 'Ozoney2', 'RHy2', 'WSy2', 'WDy2', 'SRy2', 'BPy2', 'ATy2',\n",
       "       'PM2.5y3', 'PM1y3', 'NOy3', 'NO2y3', 'NOxy3', 'NH3y3', 'SO2y3', 'COy3',\n",
       "       'Ozoney3', 'RHy3', 'WSy3', 'WDy3', 'SRy3', 'BPy3', 'ATy3', 'PM2.5',\n",
       "       'PM1', 'NO', 'NO2', 'NOx', 'NH3', 'SO2', 'CO', 'Ozone', 'RH', 'WS',\n",
       "       'WD', 'SR', 'BP', 'AT', 'year', 'month', 'day'],\n",
       "      dtype='object')"
      ]
     },
     "execution_count": 7,
     "metadata": {},
     "output_type": "execute_result"
    }
   ],
   "source": [
    "df.columns"
   ]
  },
  {
   "cell_type": "code",
   "execution_count": 8,
   "metadata": {},
   "outputs": [],
   "source": [
    "X1 = df[['PM2.5y1','PM2.5y2','PM2.5y3','year', 'month', 'day']]\n",
    "Y1 = df['PM2.5']"
   ]
  },
  {
   "cell_type": "code",
   "execution_count": 45,
   "metadata": {},
   "outputs": [],
   "source": [
    "xtrain,xtest,ytrain,ytest = train_test_split(X1,Y1,test_size=.2,random_state=24)"
   ]
  },
  {
   "cell_type": "code",
   "execution_count": 46,
   "metadata": {},
   "outputs": [
    {
     "data": {
      "text/plain": [
       "GradientBoostingRegressor(learning_rate=0.001, max_depth=7, max_features=0.1,\n",
       "                          min_samples_leaf=5, min_samples_split=4,\n",
       "                          n_estimators=2000)"
      ]
     },
     "execution_count": 46,
     "metadata": {},
     "output_type": "execute_result"
    }
   ],
   "source": [
    "grad_boost = GradientBoostingRegressor(n_estimators=2000,\n",
    "                                      max_depth=7,\n",
    "                                      max_features=0.1,\n",
    "                                      min_samples_split=4,\n",
    "                                      min_samples_leaf=5,\n",
    "                                      learning_rate=0.001)\n",
    "\n",
    "grad_boost.fit(xtrain,ytrain)"
   ]
  },
  {
   "cell_type": "code",
   "execution_count": 47,
   "metadata": {
    "scrolled": true
   },
   "outputs": [
    {
     "name": "stdout",
     "output_type": "stream",
     "text": [
      "Score on train data: 0.8186342229194442\n",
      "\n",
      "Score on test data: 0.751151751444322\n",
      "\n",
      "Root Mean Squared Error: 32.643112792418584\n",
      "\n",
      "Overall model accuracy: 0.751151751444322\n"
     ]
    }
   ],
   "source": [
    "# we now score the model\n",
    "print('Score on train data: {}\\n'.format(grad_boost.score(xtrain,ytrain)))\n",
    "print('Score on test data: {}\\n'.format(grad_boost.score(xtest,ytest)))\n",
    "\n",
    "gboost_pred = grad_boost.predict(xtest)\n",
    "gboost_mse = mean_squared_error(ytest,gboost_pred)\n",
    "gboost_accuracy = r2_score(ytest,gboost_pred)\n",
    "\n",
    "print('Root Mean Squared Error: {}\\n'.format(np.sqrt(gboost_mse)))\n",
    "print('Overall model accuracy: {}'.format(gboost_accuracy))"
   ]
  },
  {
   "cell_type": "code",
   "execution_count": 48,
   "metadata": {},
   "outputs": [
    {
     "data": {
      "text/html": [
       "<div>\n",
       "<style scoped>\n",
       "    .dataframe tbody tr th:only-of-type {\n",
       "        vertical-align: middle;\n",
       "    }\n",
       "\n",
       "    .dataframe tbody tr th {\n",
       "        vertical-align: top;\n",
       "    }\n",
       "\n",
       "    .dataframe thead th {\n",
       "        text-align: right;\n",
       "    }\n",
       "</style>\n",
       "<table border=\"1\" class=\"dataframe\">\n",
       "  <thead>\n",
       "    <tr style=\"text-align: right;\">\n",
       "      <th></th>\n",
       "      <th>PM2.5y1</th>\n",
       "      <th>PM2.5y2</th>\n",
       "      <th>PM2.5y3</th>\n",
       "      <th>year</th>\n",
       "      <th>month</th>\n",
       "      <th>day</th>\n",
       "    </tr>\n",
       "  </thead>\n",
       "  <tbody>\n",
       "    <tr>\n",
       "      <th>207</th>\n",
       "      <td>302.818571</td>\n",
       "      <td>217.428571</td>\n",
       "      <td>106.245714</td>\n",
       "      <td>2019</td>\n",
       "      <td>12</td>\n",
       "      <td>29</td>\n",
       "    </tr>\n",
       "    <tr>\n",
       "      <th>208</th>\n",
       "      <td>316.292857</td>\n",
       "      <td>264.292857</td>\n",
       "      <td>32.319143</td>\n",
       "      <td>2020</td>\n",
       "      <td>1</td>\n",
       "      <td>5</td>\n",
       "    </tr>\n",
       "    <tr>\n",
       "      <th>209</th>\n",
       "      <td>241.932857</td>\n",
       "      <td>191.864286</td>\n",
       "      <td>95.229429</td>\n",
       "      <td>2020</td>\n",
       "      <td>1</td>\n",
       "      <td>12</td>\n",
       "    </tr>\n",
       "    <tr>\n",
       "      <th>210</th>\n",
       "      <td>253.915714</td>\n",
       "      <td>237.660000</td>\n",
       "      <td>216.040000</td>\n",
       "      <td>2020</td>\n",
       "      <td>1</td>\n",
       "      <td>19</td>\n",
       "    </tr>\n",
       "    <tr>\n",
       "      <th>211</th>\n",
       "      <td>128.998571</td>\n",
       "      <td>173.172857</td>\n",
       "      <td>134.044286</td>\n",
       "      <td>2020</td>\n",
       "      <td>1</td>\n",
       "      <td>26</td>\n",
       "    </tr>\n",
       "    <tr>\n",
       "      <th>212</th>\n",
       "      <td>187.365714</td>\n",
       "      <td>143.550000</td>\n",
       "      <td>138.318571</td>\n",
       "      <td>2020</td>\n",
       "      <td>2</td>\n",
       "      <td>2</td>\n",
       "    </tr>\n",
       "    <tr>\n",
       "      <th>213</th>\n",
       "      <td>146.527143</td>\n",
       "      <td>193.068571</td>\n",
       "      <td>160.888571</td>\n",
       "      <td>2020</td>\n",
       "      <td>2</td>\n",
       "      <td>9</td>\n",
       "    </tr>\n",
       "    <tr>\n",
       "      <th>214</th>\n",
       "      <td>193.267143</td>\n",
       "      <td>109.957143</td>\n",
       "      <td>97.521429</td>\n",
       "      <td>2020</td>\n",
       "      <td>2</td>\n",
       "      <td>16</td>\n",
       "    </tr>\n",
       "    <tr>\n",
       "      <th>215</th>\n",
       "      <td>110.288571</td>\n",
       "      <td>166.732857</td>\n",
       "      <td>99.651429</td>\n",
       "      <td>2020</td>\n",
       "      <td>2</td>\n",
       "      <td>23</td>\n",
       "    </tr>\n",
       "    <tr>\n",
       "      <th>216</th>\n",
       "      <td>108.875000</td>\n",
       "      <td>109.975714</td>\n",
       "      <td>89.537143</td>\n",
       "      <td>2020</td>\n",
       "      <td>3</td>\n",
       "      <td>1</td>\n",
       "    </tr>\n",
       "    <tr>\n",
       "      <th>217</th>\n",
       "      <td>96.880000</td>\n",
       "      <td>103.091429</td>\n",
       "      <td>108.011429</td>\n",
       "      <td>2020</td>\n",
       "      <td>3</td>\n",
       "      <td>8</td>\n",
       "    </tr>\n",
       "    <tr>\n",
       "      <th>218</th>\n",
       "      <td>83.152857</td>\n",
       "      <td>108.335714</td>\n",
       "      <td>66.547143</td>\n",
       "      <td>2020</td>\n",
       "      <td>3</td>\n",
       "      <td>15</td>\n",
       "    </tr>\n",
       "    <tr>\n",
       "      <th>219</th>\n",
       "      <td>93.895714</td>\n",
       "      <td>92.430000</td>\n",
       "      <td>90.432857</td>\n",
       "      <td>2020</td>\n",
       "      <td>3</td>\n",
       "      <td>22</td>\n",
       "    </tr>\n",
       "    <tr>\n",
       "      <th>220</th>\n",
       "      <td>95.400000</td>\n",
       "      <td>99.011429</td>\n",
       "      <td>104.524286</td>\n",
       "      <td>2020</td>\n",
       "      <td>3</td>\n",
       "      <td>29</td>\n",
       "    </tr>\n",
       "    <tr>\n",
       "      <th>221</th>\n",
       "      <td>57.655714</td>\n",
       "      <td>94.004286</td>\n",
       "      <td>94.532857</td>\n",
       "      <td>2020</td>\n",
       "      <td>4</td>\n",
       "      <td>5</td>\n",
       "    </tr>\n",
       "    <tr>\n",
       "      <th>222</th>\n",
       "      <td>62.221429</td>\n",
       "      <td>85.587143</td>\n",
       "      <td>94.988571</td>\n",
       "      <td>2020</td>\n",
       "      <td>4</td>\n",
       "      <td>12</td>\n",
       "    </tr>\n",
       "    <tr>\n",
       "      <th>223</th>\n",
       "      <td>50.068571</td>\n",
       "      <td>111.272857</td>\n",
       "      <td>143.827143</td>\n",
       "      <td>2020</td>\n",
       "      <td>4</td>\n",
       "      <td>19</td>\n",
       "    </tr>\n",
       "    <tr>\n",
       "      <th>224</th>\n",
       "      <td>68.088571</td>\n",
       "      <td>127.708571</td>\n",
       "      <td>142.377143</td>\n",
       "      <td>2020</td>\n",
       "      <td>4</td>\n",
       "      <td>26</td>\n",
       "    </tr>\n",
       "    <tr>\n",
       "      <th>225</th>\n",
       "      <td>71.528571</td>\n",
       "      <td>72.604286</td>\n",
       "      <td>84.711429</td>\n",
       "      <td>2020</td>\n",
       "      <td>5</td>\n",
       "      <td>3</td>\n",
       "    </tr>\n",
       "    <tr>\n",
       "      <th>226</th>\n",
       "      <td>70.897143</td>\n",
       "      <td>118.565714</td>\n",
       "      <td>143.684286</td>\n",
       "      <td>2020</td>\n",
       "      <td>5</td>\n",
       "      <td>10</td>\n",
       "    </tr>\n",
       "    <tr>\n",
       "      <th>227</th>\n",
       "      <td>61.621429</td>\n",
       "      <td>93.398571</td>\n",
       "      <td>140.031429</td>\n",
       "      <td>2020</td>\n",
       "      <td>5</td>\n",
       "      <td>17</td>\n",
       "    </tr>\n",
       "    <tr>\n",
       "      <th>228</th>\n",
       "      <td>58.565714</td>\n",
       "      <td>118.961429</td>\n",
       "      <td>113.588571</td>\n",
       "      <td>2020</td>\n",
       "      <td>5</td>\n",
       "      <td>24</td>\n",
       "    </tr>\n",
       "    <tr>\n",
       "      <th>229</th>\n",
       "      <td>64.767143</td>\n",
       "      <td>110.651429</td>\n",
       "      <td>101.721429</td>\n",
       "      <td>2020</td>\n",
       "      <td>5</td>\n",
       "      <td>31</td>\n",
       "    </tr>\n",
       "    <tr>\n",
       "      <th>230</th>\n",
       "      <td>68.010000</td>\n",
       "      <td>74.388571</td>\n",
       "      <td>100.005714</td>\n",
       "      <td>2020</td>\n",
       "      <td>6</td>\n",
       "      <td>7</td>\n",
       "    </tr>\n",
       "    <tr>\n",
       "      <th>231</th>\n",
       "      <td>61.508571</td>\n",
       "      <td>106.337143</td>\n",
       "      <td>71.341429</td>\n",
       "      <td>2020</td>\n",
       "      <td>6</td>\n",
       "      <td>14</td>\n",
       "    </tr>\n",
       "    <tr>\n",
       "      <th>232</th>\n",
       "      <td>53.668571</td>\n",
       "      <td>65.135714</td>\n",
       "      <td>105.477143</td>\n",
       "      <td>2020</td>\n",
       "      <td>6</td>\n",
       "      <td>21</td>\n",
       "    </tr>\n",
       "    <tr>\n",
       "      <th>233</th>\n",
       "      <td>58.997143</td>\n",
       "      <td>38.131429</td>\n",
       "      <td>62.025714</td>\n",
       "      <td>2020</td>\n",
       "      <td>6</td>\n",
       "      <td>28</td>\n",
       "    </tr>\n",
       "    <tr>\n",
       "      <th>234</th>\n",
       "      <td>53.727143</td>\n",
       "      <td>52.878571</td>\n",
       "      <td>37.668571</td>\n",
       "      <td>2020</td>\n",
       "      <td>7</td>\n",
       "      <td>5</td>\n",
       "    </tr>\n",
       "    <tr>\n",
       "      <th>235</th>\n",
       "      <td>68.270000</td>\n",
       "      <td>45.192857</td>\n",
       "      <td>58.851429</td>\n",
       "      <td>2020</td>\n",
       "      <td>7</td>\n",
       "      <td>12</td>\n",
       "    </tr>\n",
       "    <tr>\n",
       "      <th>236</th>\n",
       "      <td>46.394286</td>\n",
       "      <td>44.031429</td>\n",
       "      <td>41.427143</td>\n",
       "      <td>2020</td>\n",
       "      <td>7</td>\n",
       "      <td>19</td>\n",
       "    </tr>\n",
       "    <tr>\n",
       "      <th>237</th>\n",
       "      <td>43.674286</td>\n",
       "      <td>40.025714</td>\n",
       "      <td>42.334286</td>\n",
       "      <td>2020</td>\n",
       "      <td>7</td>\n",
       "      <td>26</td>\n",
       "    </tr>\n",
       "    <tr>\n",
       "      <th>238</th>\n",
       "      <td>40.480000</td>\n",
       "      <td>65.310000</td>\n",
       "      <td>41.181429</td>\n",
       "      <td>2020</td>\n",
       "      <td>8</td>\n",
       "      <td>2</td>\n",
       "    </tr>\n",
       "    <tr>\n",
       "      <th>239</th>\n",
       "      <td>32.235714</td>\n",
       "      <td>46.290000</td>\n",
       "      <td>67.970000</td>\n",
       "      <td>2020</td>\n",
       "      <td>8</td>\n",
       "      <td>9</td>\n",
       "    </tr>\n",
       "    <tr>\n",
       "      <th>240</th>\n",
       "      <td>20.505714</td>\n",
       "      <td>44.018571</td>\n",
       "      <td>42.341429</td>\n",
       "      <td>2020</td>\n",
       "      <td>8</td>\n",
       "      <td>16</td>\n",
       "    </tr>\n",
       "    <tr>\n",
       "      <th>241</th>\n",
       "      <td>44.624286</td>\n",
       "      <td>38.091429</td>\n",
       "      <td>49.847143</td>\n",
       "      <td>2020</td>\n",
       "      <td>8</td>\n",
       "      <td>23</td>\n",
       "    </tr>\n",
       "    <tr>\n",
       "      <th>242</th>\n",
       "      <td>34.542857</td>\n",
       "      <td>48.141429</td>\n",
       "      <td>32.405714</td>\n",
       "      <td>2020</td>\n",
       "      <td>8</td>\n",
       "      <td>30</td>\n",
       "    </tr>\n",
       "    <tr>\n",
       "      <th>243</th>\n",
       "      <td>51.194286</td>\n",
       "      <td>50.091429</td>\n",
       "      <td>51.045714</td>\n",
       "      <td>2020</td>\n",
       "      <td>9</td>\n",
       "      <td>6</td>\n",
       "    </tr>\n",
       "    <tr>\n",
       "      <th>244</th>\n",
       "      <td>52.770000</td>\n",
       "      <td>39.708571</td>\n",
       "      <td>47.178571</td>\n",
       "      <td>2020</td>\n",
       "      <td>9</td>\n",
       "      <td>13</td>\n",
       "    </tr>\n",
       "    <tr>\n",
       "      <th>245</th>\n",
       "      <td>40.677143</td>\n",
       "      <td>54.127143</td>\n",
       "      <td>43.005714</td>\n",
       "      <td>2020</td>\n",
       "      <td>9</td>\n",
       "      <td>20</td>\n",
       "    </tr>\n",
       "    <tr>\n",
       "      <th>246</th>\n",
       "      <td>23.621429</td>\n",
       "      <td>62.865714</td>\n",
       "      <td>48.780000</td>\n",
       "      <td>2020</td>\n",
       "      <td>9</td>\n",
       "      <td>27</td>\n",
       "    </tr>\n",
       "    <tr>\n",
       "      <th>247</th>\n",
       "      <td>39.772857</td>\n",
       "      <td>95.711429</td>\n",
       "      <td>72.185714</td>\n",
       "      <td>2020</td>\n",
       "      <td>10</td>\n",
       "      <td>4</td>\n",
       "    </tr>\n",
       "    <tr>\n",
       "      <th>248</th>\n",
       "      <td>65.545714</td>\n",
       "      <td>108.597143</td>\n",
       "      <td>103.871429</td>\n",
       "      <td>2020</td>\n",
       "      <td>10</td>\n",
       "      <td>11</td>\n",
       "    </tr>\n",
       "    <tr>\n",
       "      <th>249</th>\n",
       "      <td>73.564286</td>\n",
       "      <td>147.091429</td>\n",
       "      <td>107.424286</td>\n",
       "      <td>2020</td>\n",
       "      <td>10</td>\n",
       "      <td>18</td>\n",
       "    </tr>\n",
       "    <tr>\n",
       "      <th>250</th>\n",
       "      <td>92.970000</td>\n",
       "      <td>182.675714</td>\n",
       "      <td>145.367143</td>\n",
       "      <td>2020</td>\n",
       "      <td>10</td>\n",
       "      <td>25</td>\n",
       "    </tr>\n",
       "    <tr>\n",
       "      <th>251</th>\n",
       "      <td>284.735714</td>\n",
       "      <td>213.264286</td>\n",
       "      <td>109.937143</td>\n",
       "      <td>2020</td>\n",
       "      <td>11</td>\n",
       "      <td>1</td>\n",
       "    </tr>\n",
       "    <tr>\n",
       "      <th>252</th>\n",
       "      <td>147.151429</td>\n",
       "      <td>287.314286</td>\n",
       "      <td>156.110000</td>\n",
       "      <td>2020</td>\n",
       "      <td>11</td>\n",
       "      <td>8</td>\n",
       "    </tr>\n",
       "    <tr>\n",
       "      <th>253</th>\n",
       "      <td>269.590000</td>\n",
       "      <td>173.791429</td>\n",
       "      <td>422.554286</td>\n",
       "      <td>2020</td>\n",
       "      <td>11</td>\n",
       "      <td>15</td>\n",
       "    </tr>\n",
       "    <tr>\n",
       "      <th>254</th>\n",
       "      <td>129.254286</td>\n",
       "      <td>163.437143</td>\n",
       "      <td>219.294286</td>\n",
       "      <td>2020</td>\n",
       "      <td>11</td>\n",
       "      <td>22</td>\n",
       "    </tr>\n",
       "    <tr>\n",
       "      <th>255</th>\n",
       "      <td>75.910000</td>\n",
       "      <td>190.887143</td>\n",
       "      <td>215.644286</td>\n",
       "      <td>2020</td>\n",
       "      <td>11</td>\n",
       "      <td>29</td>\n",
       "    </tr>\n",
       "    <tr>\n",
       "      <th>256</th>\n",
       "      <td>169.597143</td>\n",
       "      <td>234.834286</td>\n",
       "      <td>268.005714</td>\n",
       "      <td>2020</td>\n",
       "      <td>12</td>\n",
       "      <td>6</td>\n",
       "    </tr>\n",
       "    <tr>\n",
       "      <th>257</th>\n",
       "      <td>158.444286</td>\n",
       "      <td>198.044286</td>\n",
       "      <td>221.065714</td>\n",
       "      <td>2020</td>\n",
       "      <td>12</td>\n",
       "      <td>13</td>\n",
       "    </tr>\n",
       "    <tr>\n",
       "      <th>258</th>\n",
       "      <td>151.114286</td>\n",
       "      <td>281.095714</td>\n",
       "      <td>148.317857</td>\n",
       "      <td>2020</td>\n",
       "      <td>12</td>\n",
       "      <td>20</td>\n",
       "    </tr>\n",
       "    <tr>\n",
       "      <th>259</th>\n",
       "      <td>199.317143</td>\n",
       "      <td>302.818571</td>\n",
       "      <td>217.428571</td>\n",
       "      <td>2020</td>\n",
       "      <td>12</td>\n",
       "      <td>27</td>\n",
       "    </tr>\n",
       "  </tbody>\n",
       "</table>\n",
       "</div>"
      ],
      "text/plain": [
       "        PM2.5y1     PM2.5y2     PM2.5y3  year  month  day\n",
       "207  302.818571  217.428571  106.245714  2019     12   29\n",
       "208  316.292857  264.292857   32.319143  2020      1    5\n",
       "209  241.932857  191.864286   95.229429  2020      1   12\n",
       "210  253.915714  237.660000  216.040000  2020      1   19\n",
       "211  128.998571  173.172857  134.044286  2020      1   26\n",
       "212  187.365714  143.550000  138.318571  2020      2    2\n",
       "213  146.527143  193.068571  160.888571  2020      2    9\n",
       "214  193.267143  109.957143   97.521429  2020      2   16\n",
       "215  110.288571  166.732857   99.651429  2020      2   23\n",
       "216  108.875000  109.975714   89.537143  2020      3    1\n",
       "217   96.880000  103.091429  108.011429  2020      3    8\n",
       "218   83.152857  108.335714   66.547143  2020      3   15\n",
       "219   93.895714   92.430000   90.432857  2020      3   22\n",
       "220   95.400000   99.011429  104.524286  2020      3   29\n",
       "221   57.655714   94.004286   94.532857  2020      4    5\n",
       "222   62.221429   85.587143   94.988571  2020      4   12\n",
       "223   50.068571  111.272857  143.827143  2020      4   19\n",
       "224   68.088571  127.708571  142.377143  2020      4   26\n",
       "225   71.528571   72.604286   84.711429  2020      5    3\n",
       "226   70.897143  118.565714  143.684286  2020      5   10\n",
       "227   61.621429   93.398571  140.031429  2020      5   17\n",
       "228   58.565714  118.961429  113.588571  2020      5   24\n",
       "229   64.767143  110.651429  101.721429  2020      5   31\n",
       "230   68.010000   74.388571  100.005714  2020      6    7\n",
       "231   61.508571  106.337143   71.341429  2020      6   14\n",
       "232   53.668571   65.135714  105.477143  2020      6   21\n",
       "233   58.997143   38.131429   62.025714  2020      6   28\n",
       "234   53.727143   52.878571   37.668571  2020      7    5\n",
       "235   68.270000   45.192857   58.851429  2020      7   12\n",
       "236   46.394286   44.031429   41.427143  2020      7   19\n",
       "237   43.674286   40.025714   42.334286  2020      7   26\n",
       "238   40.480000   65.310000   41.181429  2020      8    2\n",
       "239   32.235714   46.290000   67.970000  2020      8    9\n",
       "240   20.505714   44.018571   42.341429  2020      8   16\n",
       "241   44.624286   38.091429   49.847143  2020      8   23\n",
       "242   34.542857   48.141429   32.405714  2020      8   30\n",
       "243   51.194286   50.091429   51.045714  2020      9    6\n",
       "244   52.770000   39.708571   47.178571  2020      9   13\n",
       "245   40.677143   54.127143   43.005714  2020      9   20\n",
       "246   23.621429   62.865714   48.780000  2020      9   27\n",
       "247   39.772857   95.711429   72.185714  2020     10    4\n",
       "248   65.545714  108.597143  103.871429  2020     10   11\n",
       "249   73.564286  147.091429  107.424286  2020     10   18\n",
       "250   92.970000  182.675714  145.367143  2020     10   25\n",
       "251  284.735714  213.264286  109.937143  2020     11    1\n",
       "252  147.151429  287.314286  156.110000  2020     11    8\n",
       "253  269.590000  173.791429  422.554286  2020     11   15\n",
       "254  129.254286  163.437143  219.294286  2020     11   22\n",
       "255   75.910000  190.887143  215.644286  2020     11   29\n",
       "256  169.597143  234.834286  268.005714  2020     12    6\n",
       "257  158.444286  198.044286  221.065714  2020     12   13\n",
       "258  151.114286  281.095714  148.317857  2020     12   20\n",
       "259  199.317143  302.818571  217.428571  2020     12   27"
      ]
     },
     "execution_count": 48,
     "metadata": {},
     "output_type": "execute_result"
    }
   ],
   "source": [
    "test=data.loc['207':'259']\n",
    "X=test[['PM2.5y1','PM2.5y2','PM2.5y3','year', 'month', 'day']]\n",
    "X"
   ]
  },
  {
   "cell_type": "code",
   "execution_count": 49,
   "metadata": {},
   "outputs": [],
   "source": [
    "predict=grad_boost.predict(X)"
   ]
  },
  {
   "cell_type": "code",
   "execution_count": 50,
   "metadata": {
    "scrolled": false
   },
   "outputs": [
    {
     "data": {
      "text/plain": [
       "array([159.18931706, 153.50417073, 148.66941663, 189.94167093,\n",
       "       134.58479153, 117.48381964, 152.3374288 , 121.41274415,\n",
       "       115.51268195,  90.55379773,  89.52972315,  92.84870643,\n",
       "        89.81252331,  89.66561804,  81.24744236,  76.63582058,\n",
       "       109.1776246 , 110.40024764,  71.71621908, 111.02367241,\n",
       "        88.33022425,  84.66807223,  85.86988234,  64.27888567,\n",
       "        75.96964816,  64.2800112 ,  57.53229534,  56.6366748 ,\n",
       "        57.79427392,  54.3683289 ,  55.11829895,  56.07142791,\n",
       "        55.58161541,  53.11879665,  54.67041796,  52.22004949,\n",
       "        58.71010524,  56.03913949,  54.60921466,  57.606896  ,\n",
       "        72.27828389,  79.75402263,  80.02516361, 130.76069326,\n",
       "       126.90362687, 177.27583217, 198.96324154, 176.15533978,\n",
       "       176.07848982, 203.13888851, 200.30939968, 177.29566441,\n",
       "       207.23469357])"
      ]
     },
     "execution_count": 50,
     "metadata": {},
     "output_type": "execute_result"
    }
   ],
   "source": [
    "predict"
   ]
  },
  {
   "cell_type": "code",
   "execution_count": 51,
   "metadata": {},
   "outputs": [],
   "source": [
    "dates=data.loc['207':'259','From Date']"
   ]
  },
  {
   "cell_type": "code",
   "execution_count": 52,
   "metadata": {},
   "outputs": [],
   "source": [
    "X['From Date']=dates.values"
   ]
  },
  {
   "cell_type": "code",
   "execution_count": 53,
   "metadata": {},
   "outputs": [
    {
     "data": {
      "text/plain": [
       "Index(['PM2.5y1', 'PM2.5y2', 'PM2.5y3', 'year', 'month', 'day', 'From Date'], dtype='object')"
      ]
     },
     "execution_count": 53,
     "metadata": {},
     "output_type": "execute_result"
    }
   ],
   "source": [
    "X.columns"
   ]
  },
  {
   "cell_type": "code",
   "execution_count": 54,
   "metadata": {},
   "outputs": [],
   "source": [
    "X['From Date']= X['From Date'].map(dt.datetime.fromordinal)"
   ]
  },
  {
   "cell_type": "code",
   "execution_count": 55,
   "metadata": {},
   "outputs": [],
   "source": [
    "test['From Date']= test['From Date'].map(dt.datetime.fromordinal)"
   ]
  },
  {
   "cell_type": "code",
   "execution_count": 56,
   "metadata": {},
   "outputs": [],
   "source": [
    "test = test.set_index(['From Date'])\n",
    "X = X.set_index(['From Date'])\n"
   ]
  },
  {
   "cell_type": "code",
   "execution_count": 57,
   "metadata": {},
   "outputs": [],
   "source": [
    "X['pred']=predict"
   ]
  },
  {
   "cell_type": "code",
   "execution_count": 58,
   "metadata": {
    "scrolled": true
   },
   "outputs": [
    {
     "data": {
      "text/plain": [
       "<AxesSubplot:xlabel='From Date'>"
      ]
     },
     "execution_count": 58,
     "metadata": {},
     "output_type": "execute_result"
    },
    {
     "data": {
      "image/png": "[encoded data removed]",
      "text/plain": [
       "<Figure size 720x432 with 1 Axes>"
      ]
     },
     "metadata": {},
     "output_type": "display_data"
    }
   ],
   "source": [
    "test['PM2.5'].plot(legend=True, label='Actual PM2.5', figsize=(10,6))\n",
    "X['pred'].plot(legend=True, label='Predicted PM2.5')"
   ]
  },
  {
   "cell_type": "code",
   "execution_count": 59,
   "metadata": {},
   "outputs": [
    {
     "data": {
      "text/plain": [
       "47.52188552785854"
      ]
     },
     "execution_count": 59,
     "metadata": {},
     "output_type": "execute_result"
    }
   ],
   "source": [
    "np.sqrt(mean_squared_error(test['PM2.5'],X['pred']))"
   ]
  },
  {
   "cell_type": "code",
   "execution_count": 60,
   "metadata": {
    "scrolled": false
   },
   "outputs": [
    {
     "name": "stdout",
     "output_type": "stream",
     "text": [
      "Results of sklearn.metrics:\n",
      "MAE: 26.317675995831824\n",
      "MSE: 1065.572812778562\n",
      "RMSE: 32.643112792418584\n",
      "R-Squared: 0.751151751444322\n"
     ]
    }
   ],
   "source": [
    "mae = metrics.mean_absolute_error(ytest, gboost_pred)\n",
    "mse = metrics.mean_squared_error(ytest, gboost_pred)\n",
    "rmsetest = np.sqrt(mse) # or mse**(0.5)  \n",
    "r2 = metrics.r2_score(ytest,gboost_pred)\n",
    "\n",
    "print(\"Results of sklearn.metrics:\")\n",
    "print(\"MAE:\",mae)\n",
    "print(\"MSE:\", mse)\n",
    "print(\"RMSE:\", rmsetest)\n",
    "print(\"R-Squared:\", r2)"
   ]
  },
  {
   "cell_type": "code",
   "execution_count": 61,
   "metadata": {},
   "outputs": [
    {
     "name": "stdout",
     "output_type": "stream",
     "text": [
      "Results of sklearn.metrics:\n",
      "MAE: 40.45824964398159\n",
      "MSE: 2258.329604122891\n",
      "RMSE: 47.52188552785854\n",
      "R-Squared: 0.6400982960215993\n"
     ]
    }
   ],
   "source": [
    "mae = metrics.mean_absolute_error(test['PM2.5'],X['pred'])\n",
    "mse = metrics.mean_squared_error(test['PM2.5'],X['pred'])\n",
    "rmse = np.sqrt(mse) # or mse**(0.5)  \n",
    "r2 = metrics.r2_score(test['PM2.5'],X['pred'])\n",
    "\n",
    "print(\"Results of sklearn.metrics:\")\n",
    "print(\"MAE:\",mae)\n",
    "print(\"MSE:\", mse)\n",
    "print(\"RMSE:\", rmse)\n",
    "print(\"R-Squared:\", r2)"
   ]
  },
  {
   "cell_type": "code",
   "execution_count": 62,
   "metadata": {},
   "outputs": [],
   "source": [
    "import pickle\n",
    "filename = 'PM2.5_gboost3y.sav'\n",
    "pickle.dump(grad_boost, open(filename, 'wb'))"
   ]
  },
  {
   "cell_type": "code",
   "execution_count": 63,
   "metadata": {},
   "outputs": [
    {
     "name": "stdout",
     "output_type": "stream",
     "text": [
      "0.751151751444322\n"
     ]
    }
   ],
   "source": [
    "#load model\n",
    "loaded_model = pickle.load(open(filename, 'rb'))\n",
    "result = loaded_model.score(xtest, ytest)\n",
    "print(result)"
   ]
  },
  {
   "cell_type": "markdown",
   "metadata": {},
   "source": [
    "# 3rd plot"
   ]
  },
  {
   "cell_type": "code",
   "execution_count": 64,
   "metadata": {},
   "outputs": [],
   "source": [
    "testcase = pd.DataFrame()"
   ]
  },
  {
   "cell_type": "code",
   "execution_count": 65,
   "metadata": {
    "scrolled": true
   },
   "outputs": [],
   "source": [
    "testcase['test']=ytest\n",
    "testcase['pred']=gboost_pred"
   ]
  },
  {
   "cell_type": "code",
   "execution_count": 66,
   "metadata": {},
   "outputs": [],
   "source": [
    "testcase[\"Corrected\"] = np.where(testcase[\"pred\"]<testcase[\"test\"],testcase[\"pred\"]+rmsetest ,\n",
    "                   np.where(testcase[\"pred\"]>testcase[\"test\"], testcase[\"pred\"]-rmsetest,\n",
    "                            testcase[\"pred\"]))"
   ]
  },
  {
   "cell_type": "code",
   "execution_count": 67,
   "metadata": {},
   "outputs": [
    {
     "data": {
      "text/html": [
       "<div>\n",
       "<style scoped>\n",
       "    .dataframe tbody tr th:only-of-type {\n",
       "        vertical-align: middle;\n",
       "    }\n",
       "\n",
       "    .dataframe tbody tr th {\n",
       "        vertical-align: top;\n",
       "    }\n",
       "\n",
       "    .dataframe thead th {\n",
       "        text-align: right;\n",
       "    }\n",
       "</style>\n",
       "<table border=\"1\" class=\"dataframe\">\n",
       "  <thead>\n",
       "    <tr style=\"text-align: right;\">\n",
       "      <th></th>\n",
       "      <th>test</th>\n",
       "      <th>pred</th>\n",
       "      <th>Corrected</th>\n",
       "    </tr>\n",
       "  </thead>\n",
       "  <tbody>\n",
       "    <tr>\n",
       "      <th>152</th>\n",
       "      <td>234.834286</td>\n",
       "      <td>194.454937</td>\n",
       "      <td>227.098050</td>\n",
       "    </tr>\n",
       "    <tr>\n",
       "      <th>14</th>\n",
       "      <td>93.437143</td>\n",
       "      <td>107.832444</td>\n",
       "      <td>75.189332</td>\n",
       "    </tr>\n",
       "    <tr>\n",
       "      <th>207</th>\n",
       "      <td>199.317143</td>\n",
       "      <td>159.189317</td>\n",
       "      <td>191.832430</td>\n",
       "    </tr>\n",
       "    <tr>\n",
       "      <th>189</th>\n",
       "      <td>44.624286</td>\n",
       "      <td>54.600037</td>\n",
       "      <td>21.956924</td>\n",
       "    </tr>\n",
       "    <tr>\n",
       "      <th>112</th>\n",
       "      <td>109.975714</td>\n",
       "      <td>89.020102</td>\n",
       "      <td>121.663215</td>\n",
       "    </tr>\n",
       "    <tr>\n",
       "      <th>121</th>\n",
       "      <td>72.604286</td>\n",
       "      <td>122.649747</td>\n",
       "      <td>90.006634</td>\n",
       "    </tr>\n",
       "    <tr>\n",
       "      <th>54</th>\n",
       "      <td>216.040000</td>\n",
       "      <td>169.535897</td>\n",
       "      <td>202.179010</td>\n",
       "    </tr>\n",
       "    <tr>\n",
       "      <th>159</th>\n",
       "      <td>128.998571</td>\n",
       "      <td>188.040921</td>\n",
       "      <td>155.397808</td>\n",
       "    </tr>\n",
       "    <tr>\n",
       "      <th>26</th>\n",
       "      <td>40.867143</td>\n",
       "      <td>68.245409</td>\n",
       "      <td>35.602296</td>\n",
       "    </tr>\n",
       "    <tr>\n",
       "      <th>122</th>\n",
       "      <td>118.565714</td>\n",
       "      <td>141.313892</td>\n",
       "      <td>108.670779</td>\n",
       "    </tr>\n",
       "    <tr>\n",
       "      <th>168</th>\n",
       "      <td>95.400000</td>\n",
       "      <td>92.241622</td>\n",
       "      <td>124.884735</td>\n",
       "    </tr>\n",
       "    <tr>\n",
       "      <th>103</th>\n",
       "      <td>217.428571</td>\n",
       "      <td>180.216054</td>\n",
       "      <td>212.859167</td>\n",
       "    </tr>\n",
       "    <tr>\n",
       "      <th>194</th>\n",
       "      <td>23.621429</td>\n",
       "      <td>55.062102</td>\n",
       "      <td>22.418989</td>\n",
       "    </tr>\n",
       "    <tr>\n",
       "      <th>181</th>\n",
       "      <td>58.997143</td>\n",
       "      <td>61.552979</td>\n",
       "      <td>28.909866</td>\n",
       "    </tr>\n",
       "    <tr>\n",
       "      <th>113</th>\n",
       "      <td>103.091429</td>\n",
       "      <td>103.513775</td>\n",
       "      <td>70.870662</td>\n",
       "    </tr>\n",
       "    <tr>\n",
       "      <th>127</th>\n",
       "      <td>106.337143</td>\n",
       "      <td>76.868850</td>\n",
       "      <td>109.511963</td>\n",
       "    </tr>\n",
       "    <tr>\n",
       "      <th>198</th>\n",
       "      <td>92.970000</td>\n",
       "      <td>115.232555</td>\n",
       "      <td>82.589443</td>\n",
       "    </tr>\n",
       "    <tr>\n",
       "      <th>176</th>\n",
       "      <td>58.565714</td>\n",
       "      <td>95.025055</td>\n",
       "      <td>62.381942</td>\n",
       "    </tr>\n",
       "    <tr>\n",
       "      <th>182</th>\n",
       "      <td>53.727143</td>\n",
       "      <td>54.918770</td>\n",
       "      <td>22.275657</td>\n",
       "    </tr>\n",
       "    <tr>\n",
       "      <th>180</th>\n",
       "      <td>53.668571</td>\n",
       "      <td>78.229294</td>\n",
       "      <td>45.586181</td>\n",
       "    </tr>\n",
       "    <tr>\n",
       "      <th>25</th>\n",
       "      <td>49.998571</td>\n",
       "      <td>77.571932</td>\n",
       "      <td>44.928820</td>\n",
       "    </tr>\n",
       "    <tr>\n",
       "      <th>76</th>\n",
       "      <td>105.477143</td>\n",
       "      <td>98.203137</td>\n",
       "      <td>130.846250</td>\n",
       "    </tr>\n",
       "    <tr>\n",
       "      <th>157</th>\n",
       "      <td>241.932857</td>\n",
       "      <td>191.039786</td>\n",
       "      <td>223.682899</td>\n",
       "    </tr>\n",
       "    <tr>\n",
       "      <th>109</th>\n",
       "      <td>193.068571</td>\n",
       "      <td>131.857785</td>\n",
       "      <td>164.500898</td>\n",
       "    </tr>\n",
       "    <tr>\n",
       "      <th>71</th>\n",
       "      <td>140.031429</td>\n",
       "      <td>104.792244</td>\n",
       "      <td>137.435356</td>\n",
       "    </tr>\n",
       "    <tr>\n",
       "      <th>174</th>\n",
       "      <td>70.897143</td>\n",
       "      <td>86.889928</td>\n",
       "      <td>54.246815</td>\n",
       "    </tr>\n",
       "    <tr>\n",
       "      <th>202</th>\n",
       "      <td>129.254286</td>\n",
       "      <td>203.425353</td>\n",
       "      <td>170.782240</td>\n",
       "    </tr>\n",
       "    <tr>\n",
       "      <th>29</th>\n",
       "      <td>42.291429</td>\n",
       "      <td>54.824608</td>\n",
       "      <td>22.181495</td>\n",
       "    </tr>\n",
       "    <tr>\n",
       "      <th>0</th>\n",
       "      <td>285.802857</td>\n",
       "      <td>227.270500</td>\n",
       "      <td>259.913613</td>\n",
       "    </tr>\n",
       "    <tr>\n",
       "      <th>77</th>\n",
       "      <td>62.025714</td>\n",
       "      <td>72.169254</td>\n",
       "      <td>39.526141</td>\n",
       "    </tr>\n",
       "    <tr>\n",
       "      <th>150</th>\n",
       "      <td>163.437143</td>\n",
       "      <td>194.895393</td>\n",
       "      <td>162.252280</td>\n",
       "    </tr>\n",
       "    <tr>\n",
       "      <th>19</th>\n",
       "      <td>94.824286</td>\n",
       "      <td>101.521529</td>\n",
       "      <td>68.878416</td>\n",
       "    </tr>\n",
       "    <tr>\n",
       "      <th>206</th>\n",
       "      <td>151.114286</td>\n",
       "      <td>189.337512</td>\n",
       "      <td>156.694399</td>\n",
       "    </tr>\n",
       "    <tr>\n",
       "      <th>191</th>\n",
       "      <td>51.194286</td>\n",
       "      <td>52.148077</td>\n",
       "      <td>19.504964</td>\n",
       "    </tr>\n",
       "    <tr>\n",
       "      <th>147</th>\n",
       "      <td>213.264286</td>\n",
       "      <td>155.028052</td>\n",
       "      <td>187.671165</td>\n",
       "    </tr>\n",
       "    <tr>\n",
       "      <th>136</th>\n",
       "      <td>44.018571</td>\n",
       "      <td>55.931756</td>\n",
       "      <td>23.288643</td>\n",
       "    </tr>\n",
       "    <tr>\n",
       "      <th>11</th>\n",
       "      <td>85.340000</td>\n",
       "      <td>82.053733</td>\n",
       "      <td>114.696846</td>\n",
       "    </tr>\n",
       "    <tr>\n",
       "      <th>83</th>\n",
       "      <td>67.970000</td>\n",
       "      <td>56.282324</td>\n",
       "      <td>88.925437</td>\n",
       "    </tr>\n",
       "    <tr>\n",
       "      <th>138</th>\n",
       "      <td>48.141429</td>\n",
       "      <td>62.153288</td>\n",
       "      <td>29.510175</td>\n",
       "    </tr>\n",
       "    <tr>\n",
       "      <th>170</th>\n",
       "      <td>62.221429</td>\n",
       "      <td>83.144219</td>\n",
       "      <td>50.501106</td>\n",
       "    </tr>\n",
       "    <tr>\n",
       "      <th>68</th>\n",
       "      <td>142.377143</td>\n",
       "      <td>110.636744</td>\n",
       "      <td>143.279857</td>\n",
       "    </tr>\n",
       "    <tr>\n",
       "      <th>91</th>\n",
       "      <td>72.185714</td>\n",
       "      <td>74.549365</td>\n",
       "      <td>41.906252</td>\n",
       "    </tr>\n",
       "  </tbody>\n",
       "</table>\n",
       "</div>"
      ],
      "text/plain": [
       "           test        pred   Corrected\n",
       "152  234.834286  194.454937  227.098050\n",
       "14    93.437143  107.832444   75.189332\n",
       "207  199.317143  159.189317  191.832430\n",
       "189   44.624286   54.600037   21.956924\n",
       "112  109.975714   89.020102  121.663215\n",
       "121   72.604286  122.649747   90.006634\n",
       "54   216.040000  169.535897  202.179010\n",
       "159  128.998571  188.040921  155.397808\n",
       "26    40.867143   68.245409   35.602296\n",
       "122  118.565714  141.313892  108.670779\n",
       "168   95.400000   92.241622  124.884735\n",
       "103  217.428571  180.216054  212.859167\n",
       "194   23.621429   55.062102   22.418989\n",
       "181   58.997143   61.552979   28.909866\n",
       "113  103.091429  103.513775   70.870662\n",
       "127  106.337143   76.868850  109.511963\n",
       "198   92.970000  115.232555   82.589443\n",
       "176   58.565714   95.025055   62.381942\n",
       "182   53.727143   54.918770   22.275657\n",
       "180   53.668571   78.229294   45.586181\n",
       "25    49.998571   77.571932   44.928820\n",
       "76   105.477143   98.203137  130.846250\n",
       "157  241.932857  191.039786  223.682899\n",
       "109  193.068571  131.857785  164.500898\n",
       "71   140.031429  104.792244  137.435356\n",
       "174   70.897143   86.889928   54.246815\n",
       "202  129.254286  203.425353  170.782240\n",
       "29    42.291429   54.824608   22.181495\n",
       "0    285.802857  227.270500  259.913613\n",
       "77    62.025714   72.169254   39.526141\n",
       "150  163.437143  194.895393  162.252280\n",
       "19    94.824286  101.521529   68.878416\n",
       "206  151.114286  189.337512  156.694399\n",
       "191   51.194286   52.148077   19.504964\n",
       "147  213.264286  155.028052  187.671165\n",
       "136   44.018571   55.931756   23.288643\n",
       "11    85.340000   82.053733  114.696846\n",
       "83    67.970000   56.282324   88.925437\n",
       "138   48.141429   62.153288   29.510175\n",
       "170   62.221429   83.144219   50.501106\n",
       "68   142.377143  110.636744  143.279857\n",
       "91    72.185714   74.549365   41.906252"
      ]
     },
     "execution_count": 67,
     "metadata": {},
     "output_type": "execute_result"
    }
   ],
   "source": [
    "testcase"
   ]
  },
  {
   "cell_type": "code",
   "execution_count": 68,
   "metadata": {},
   "outputs": [
    {
     "data": {
      "text/plain": [
       "'testcase[\\'test\\'].plot(legend=True, label=\\'Actual PM2.5\\', figsize=(10,6))\\ntestcase[\\'pred\\'].plot(legend=True, label=\\'Predicted PM2.5\\')\\ntestcase[\"Corrected\"].plot(legend=True, label=\\'Corrected PM2.5\\')'"
      ]
     },
     "execution_count": 68,
     "metadata": {},
     "output_type": "execute_result"
    }
   ],
   "source": [
    "'''testcase['test'].plot(legend=True, label='Actual PM2.5', figsize=(10,6))\n",
    "testcase['pred'].plot(legend=True, label='Predicted PM2.5')\n",
    "testcase[\"Corrected\"].plot(legend=True, label='Corrected PM2.5')'''"
   ]
  },
  {
   "cell_type": "code",
   "execution_count": 69,
   "metadata": {
    "scrolled": true
   },
   "outputs": [
    {
     "data": {
      "text/plain": [
       "0.9103709343496541"
      ]
     },
     "execution_count": 69,
     "metadata": {},
     "output_type": "execute_result"
    }
   ],
   "source": [
    "r2 = metrics.r2_score(testcase[\"Corrected\"],testcase['test'])\n",
    "r2"
   ]
  },
  {
   "cell_type": "code",
   "execution_count": 70,
   "metadata": {},
   "outputs": [],
   "source": [
    "test2020=pd.DataFrame()"
   ]
  },
  {
   "cell_type": "code",
   "execution_count": 71,
   "metadata": {},
   "outputs": [],
   "source": [
    "test2020['test']=test['PM2.5']\n",
    "test2020['pred']=X['pred']"
   ]
  },
  {
   "cell_type": "code",
   "execution_count": 72,
   "metadata": {},
   "outputs": [],
   "source": [
    "test2020.index=test.index"
   ]
  },
  {
   "cell_type": "code",
   "execution_count": 73,
   "metadata": {},
   "outputs": [],
   "source": [
    "test2020[\"Corrected\"] = np.where(test2020[\"pred\"]<test2020[\"test\"],test2020[\"pred\"]+rmsetest ,\n",
    "                   np.where(test2020[\"pred\"]>test2020[\"test\"], test2020[\"pred\"]-rmsetest,\n",
    "                            test2020[\"pred\"]))"
   ]
  },
  {
   "cell_type": "code",
   "execution_count": 74,
   "metadata": {},
   "outputs": [
    {
     "data": {
      "text/plain": [
       "<AxesSubplot:xlabel='From Date'>"
      ]
     },
     "execution_count": 74,
     "metadata": {},
     "output_type": "execute_result"
    },
    {
     "data": {
      "image/png": "[encoded data removed]",
      "text/plain": [
       "<Figure size 720x432 with 1 Axes>"
      ]
     },
     "metadata": {},
     "output_type": "display_data"
    }
   ],
   "source": [
    "test2020['test'].plot(legend=True, label='Actual PM2.5 2020', figsize=(10,6))\n",
    "test2020['pred'].plot(legend=True, label='Predicted PM2.5 2020')\n",
    "test2020[\"Corrected\"].plot(legend=True, label='Corrected PM2.5 2020')"
   ]
  },
  {
   "cell_type": "code",
   "execution_count": 75,
   "metadata": {},
   "outputs": [
    {
     "data": {
      "text/plain": [
       "0.8380603766288697"
      ]
     },
     "execution_count": 75,
     "metadata": {},
     "output_type": "execute_result"
    }
   ],
   "source": [
    "r2020 = metrics.r2_score(test2020[\"Corrected\"],test2020['test'])\n",
    "r2020"
   ]
  },
  {
   "cell_type": "code",
   "execution_count": null,
   "metadata": {},
   "outputs": [],
   "source": []
  }
 ],
 "metadata": {
  "kernelspec": {
   "display_name": "Python 3",
   "language": "python",
   "name": "python3"
  },
  "language_info": {
   "codemirror_mode": {
    "name": "ipython",
    "version": 3
   },
   "file_extension": ".py",
   "mimetype": "text/x-python",
   "name": "python",
   "nbconvert_exporter": "python",
   "pygments_lexer": "ipython3",
   "version": "3.8.5"
  }
 },
 "nbformat": 4,
 "nbformat_minor": 4
}
