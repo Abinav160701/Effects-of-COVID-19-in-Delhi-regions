{
 "cells": [
  {
   "cell_type": "code",
   "execution_count": 1,
   "metadata": {},
   "outputs": [],
   "source": [
    "import pandas as pd\n",
    "import numpy as np\n",
    "import matplotlib.pyplot as plt\n",
    "import seaborn as sns\n",
    "sns.set()\n",
    "import warnings\n",
    "warnings.filterwarnings(action='ignore')\n",
    "from statsmodels.tsa.seasonal import seasonal_decompose\n",
    "import statsmodels.formula.api as formula\n",
    "from statsmodels.stats.outliers_influence import variance_inflation_factor\n",
    "import statsmodels as sm\n",
    "from sklearn import preprocessing\n",
    "from sklearn.model_selection import train_test_split,GridSearchCV,RandomizedSearchCV\n",
    "from sklearn.linear_model import LinearRegression,Lasso,Ridge\n",
    "#from sklearn.externals import joblib\n",
    "from sklearn.metrics import r2_score,mean_squared_error\n",
    "from sklearn.ensemble import RandomForestRegressor,GradientBoostingRegressor\n",
    "from sklearn.tree import DecisionTreeRegressor\n",
    "from IPython.display import display\n",
    "from sklearn import metrics"
   ]
  },
  {
   "cell_type": "code",
   "execution_count": 2,
   "metadata": {},
   "outputs": [],
   "source": [
    "data = pd.read_excel (r'C:\\Users\\Kira\\Desktop\\Internship\\Data\\Delhi_Data-20210529T043217Z-001\\Delhi_Data\\2013-2020-RK-PURAM-final-dataset\\3y_weekly_RKPURAM.xlsx')\n",
    "data['From Date']=pd.to_datetime(data['From Date'])\n",
    "data['year'] = data['From Date'].dt.year\n",
    "data['month'] = data['From Date'].dt.month\n",
    "data['day'] = data['From Date'].dt.day"
   ]
  },
  {
   "cell_type": "code",
   "execution_count": 3,
   "metadata": {},
   "outputs": [],
   "source": [
    "import datetime as dt"
   ]
  },
  {
   "cell_type": "code",
   "execution_count": 4,
   "metadata": {},
   "outputs": [],
   "source": [
    "data['From Date']= data['From Date'].map(dt.datetime.toordinal)"
   ]
  },
  {
   "cell_type": "code",
   "execution_count": 5,
   "metadata": {},
   "outputs": [],
   "source": [
    "df=data.loc['0':'207']"
   ]
  },
  {
   "cell_type": "code",
   "execution_count": 6,
   "metadata": {},
   "outputs": [
    {
     "data": {
      "text/plain": [
       "Index(['From Date', 'PM2.5y1', 'PM1y1', 'NOy1', 'NO2y1', 'NOxy1', 'NH3y1',\n",
       "       'SO2y1', 'COy1', 'Ozoney1', 'RHy1', 'WSy1', 'WDy1', 'SRy1', 'BPy1',\n",
       "       'ATy1', 'PM2.5y2', 'PM1y2', 'NOy2', 'NO2y2', 'NOxy2', 'NH3y2', 'SO2y2',\n",
       "       'COy2', 'Ozoney2', 'RHy2', 'WSy2', 'WDy2', 'SRy2', 'BPy2', 'ATy2',\n",
       "       'PM2.5y3', 'PM1y3', 'NOy3', 'NO2y3', 'NOxy3', 'NH3y3', 'SO2y3', 'COy3',\n",
       "       'Ozoney3', 'RHy3', 'WSy3', 'WDy3', 'SRy3', 'BPy3', 'ATy3', 'PM2.5',\n",
       "       'PM1', 'NO', 'NO2', 'NOx', 'NH3', 'SO2', 'CO', 'Ozone', 'RH', 'WS',\n",
       "       'WD', 'SR', 'BP', 'AT', 'year', 'month', 'day'],\n",
       "      dtype='object')"
      ]
     },
     "execution_count": 6,
     "metadata": {},
     "output_type": "execute_result"
    }
   ],
   "source": [
    "df.columns"
   ]
  },
  {
   "cell_type": "code",
   "execution_count": 7,
   "metadata": {},
   "outputs": [],
   "source": [
    "X1 = df[['NOxy1','NOxy2','NOxy3','year', 'month', 'day']]\n",
    "Y1 = df['NOx']"
   ]
  },
  {
   "cell_type": "code",
   "execution_count": 20,
   "metadata": {},
   "outputs": [],
   "source": [
    "xtrain,xtest,ytrain,ytest = train_test_split(X1,Y1,test_size=.2,random_state=2)"
   ]
  },
  {
   "cell_type": "code",
   "execution_count": 35,
   "metadata": {},
   "outputs": [
    {
     "data": {
      "text/plain": [
       "GradientBoostingRegressor(learning_rate=0.02, max_depth=7, max_features=0.1,\n",
       "                          min_samples_leaf=3, n_estimators=2000)"
      ]
     },
     "execution_count": 35,
     "metadata": {},
     "output_type": "execute_result"
    }
   ],
   "source": [
    "grad_boost = GradientBoostingRegressor(n_estimators=2000,\n",
    "                                      max_depth=7,\n",
    "                                      max_features=0.1,\n",
    "                                      min_samples_split=2,\n",
    "                                      min_samples_leaf=3,\n",
    "                                      learning_rate=0.02)\n",
    "\n",
    "grad_boost.fit(xtrain,ytrain)"
   ]
  },
  {
   "cell_type": "code",
   "execution_count": 36,
   "metadata": {
    "scrolled": true
   },
   "outputs": [
    {
     "name": "stdout",
     "output_type": "stream",
     "text": [
      "Score on train data: 0.9999999676628176\n",
      "\n",
      "Score on test data: 0.7505450955591082\n",
      "\n",
      "Root Mean Squared Error: 40.660437277749566\n",
      "\n",
      "Overall model accuracy: 0.7505450955591082\n"
     ]
    }
   ],
   "source": [
    "# we now score the model\n",
    "print('Score on train data: {}\\n'.format(grad_boost.score(xtrain,ytrain)))\n",
    "print('Score on test data: {}\\n'.format(grad_boost.score(xtest,ytest)))\n",
    "\n",
    "gboost_pred = grad_boost.predict(xtest)\n",
    "gboost_mse = mean_squared_error(ytest,gboost_pred)\n",
    "gboost_accuracy = r2_score(ytest,gboost_pred)\n",
    "\n",
    "print('Root Mean Squared Error: {}\\n'.format(np.sqrt(gboost_mse)))\n",
    "print('Overall model accuracy: {}'.format(gboost_accuracy))"
   ]
  },
  {
   "cell_type": "code",
   "execution_count": 37,
   "metadata": {},
   "outputs": [
    {
     "data": {
      "text/html": [
       "<div>\n",
       "<style scoped>\n",
       "    .dataframe tbody tr th:only-of-type {\n",
       "        vertical-align: middle;\n",
       "    }\n",
       "\n",
       "    .dataframe tbody tr th {\n",
       "        vertical-align: top;\n",
       "    }\n",
       "\n",
       "    .dataframe thead th {\n",
       "        text-align: right;\n",
       "    }\n",
       "</style>\n",
       "<table border=\"1\" class=\"dataframe\">\n",
       "  <thead>\n",
       "    <tr style=\"text-align: right;\">\n",
       "      <th></th>\n",
       "      <th>NOxy1</th>\n",
       "      <th>NOxy2</th>\n",
       "      <th>NOxy3</th>\n",
       "      <th>year</th>\n",
       "      <th>month</th>\n",
       "      <th>day</th>\n",
       "    </tr>\n",
       "  </thead>\n",
       "  <tbody>\n",
       "    <tr>\n",
       "      <th>207</th>\n",
       "      <td>144.901429</td>\n",
       "      <td>180.832857</td>\n",
       "      <td>212.015714</td>\n",
       "      <td>2019</td>\n",
       "      <td>12</td>\n",
       "      <td>29</td>\n",
       "    </tr>\n",
       "    <tr>\n",
       "      <th>208</th>\n",
       "      <td>117.267143</td>\n",
       "      <td>397.518571</td>\n",
       "      <td>194.864286</td>\n",
       "      <td>2020</td>\n",
       "      <td>1</td>\n",
       "      <td>5</td>\n",
       "    </tr>\n",
       "    <tr>\n",
       "      <th>209</th>\n",
       "      <td>100.144286</td>\n",
       "      <td>219.385714</td>\n",
       "      <td>190.755714</td>\n",
       "      <td>2020</td>\n",
       "      <td>1</td>\n",
       "      <td>12</td>\n",
       "    </tr>\n",
       "    <tr>\n",
       "      <th>210</th>\n",
       "      <td>126.631429</td>\n",
       "      <td>148.370000</td>\n",
       "      <td>195.770000</td>\n",
       "      <td>2020</td>\n",
       "      <td>1</td>\n",
       "      <td>19</td>\n",
       "    </tr>\n",
       "    <tr>\n",
       "      <th>211</th>\n",
       "      <td>52.171429</td>\n",
       "      <td>157.414286</td>\n",
       "      <td>127.910000</td>\n",
       "      <td>2020</td>\n",
       "      <td>1</td>\n",
       "      <td>26</td>\n",
       "    </tr>\n",
       "    <tr>\n",
       "      <th>212</th>\n",
       "      <td>65.417143</td>\n",
       "      <td>77.248571</td>\n",
       "      <td>156.391429</td>\n",
       "      <td>2020</td>\n",
       "      <td>2</td>\n",
       "      <td>2</td>\n",
       "    </tr>\n",
       "    <tr>\n",
       "      <th>213</th>\n",
       "      <td>80.275714</td>\n",
       "      <td>129.428571</td>\n",
       "      <td>268.622857</td>\n",
       "      <td>2020</td>\n",
       "      <td>2</td>\n",
       "      <td>9</td>\n",
       "    </tr>\n",
       "    <tr>\n",
       "      <th>214</th>\n",
       "      <td>98.288571</td>\n",
       "      <td>86.665714</td>\n",
       "      <td>129.678571</td>\n",
       "      <td>2020</td>\n",
       "      <td>2</td>\n",
       "      <td>16</td>\n",
       "    </tr>\n",
       "    <tr>\n",
       "      <th>215</th>\n",
       "      <td>96.087143</td>\n",
       "      <td>173.738571</td>\n",
       "      <td>120.168571</td>\n",
       "      <td>2020</td>\n",
       "      <td>2</td>\n",
       "      <td>23</td>\n",
       "    </tr>\n",
       "    <tr>\n",
       "      <th>216</th>\n",
       "      <td>117.698571</td>\n",
       "      <td>137.625714</td>\n",
       "      <td>108.778571</td>\n",
       "      <td>2020</td>\n",
       "      <td>3</td>\n",
       "      <td>1</td>\n",
       "    </tr>\n",
       "    <tr>\n",
       "      <th>217</th>\n",
       "      <td>91.152857</td>\n",
       "      <td>100.787143</td>\n",
       "      <td>156.970000</td>\n",
       "      <td>2020</td>\n",
       "      <td>3</td>\n",
       "      <td>8</td>\n",
       "    </tr>\n",
       "    <tr>\n",
       "      <th>218</th>\n",
       "      <td>83.898571</td>\n",
       "      <td>126.192857</td>\n",
       "      <td>63.452857</td>\n",
       "      <td>2020</td>\n",
       "      <td>3</td>\n",
       "      <td>15</td>\n",
       "    </tr>\n",
       "    <tr>\n",
       "      <th>219</th>\n",
       "      <td>68.281429</td>\n",
       "      <td>104.107143</td>\n",
       "      <td>80.047143</td>\n",
       "      <td>2020</td>\n",
       "      <td>3</td>\n",
       "      <td>22</td>\n",
       "    </tr>\n",
       "    <tr>\n",
       "      <th>220</th>\n",
       "      <td>92.115714</td>\n",
       "      <td>121.507143</td>\n",
       "      <td>83.767143</td>\n",
       "      <td>2020</td>\n",
       "      <td>3</td>\n",
       "      <td>29</td>\n",
       "    </tr>\n",
       "    <tr>\n",
       "      <th>221</th>\n",
       "      <td>106.074286</td>\n",
       "      <td>118.452857</td>\n",
       "      <td>124.424286</td>\n",
       "      <td>2020</td>\n",
       "      <td>4</td>\n",
       "      <td>5</td>\n",
       "    </tr>\n",
       "    <tr>\n",
       "      <th>222</th>\n",
       "      <td>69.112857</td>\n",
       "      <td>71.315714</td>\n",
       "      <td>109.870000</td>\n",
       "      <td>2020</td>\n",
       "      <td>4</td>\n",
       "      <td>12</td>\n",
       "    </tr>\n",
       "    <tr>\n",
       "      <th>223</th>\n",
       "      <td>64.565714</td>\n",
       "      <td>82.070000</td>\n",
       "      <td>97.934286</td>\n",
       "      <td>2020</td>\n",
       "      <td>4</td>\n",
       "      <td>19</td>\n",
       "    </tr>\n",
       "    <tr>\n",
       "      <th>224</th>\n",
       "      <td>86.252857</td>\n",
       "      <td>106.258571</td>\n",
       "      <td>78.477143</td>\n",
       "      <td>2020</td>\n",
       "      <td>4</td>\n",
       "      <td>26</td>\n",
       "    </tr>\n",
       "    <tr>\n",
       "      <th>225</th>\n",
       "      <td>79.605714</td>\n",
       "      <td>74.865714</td>\n",
       "      <td>41.912857</td>\n",
       "      <td>2020</td>\n",
       "      <td>5</td>\n",
       "      <td>3</td>\n",
       "    </tr>\n",
       "    <tr>\n",
       "      <th>226</th>\n",
       "      <td>91.712857</td>\n",
       "      <td>118.582857</td>\n",
       "      <td>122.740000</td>\n",
       "      <td>2020</td>\n",
       "      <td>5</td>\n",
       "      <td>10</td>\n",
       "    </tr>\n",
       "    <tr>\n",
       "      <th>227</th>\n",
       "      <td>58.658571</td>\n",
       "      <td>101.145714</td>\n",
       "      <td>55.952857</td>\n",
       "      <td>2020</td>\n",
       "      <td>5</td>\n",
       "      <td>17</td>\n",
       "    </tr>\n",
       "    <tr>\n",
       "      <th>228</th>\n",
       "      <td>53.101429</td>\n",
       "      <td>161.900000</td>\n",
       "      <td>51.297143</td>\n",
       "      <td>2020</td>\n",
       "      <td>5</td>\n",
       "      <td>24</td>\n",
       "    </tr>\n",
       "    <tr>\n",
       "      <th>229</th>\n",
       "      <td>80.971429</td>\n",
       "      <td>84.982857</td>\n",
       "      <td>51.228571</td>\n",
       "      <td>2020</td>\n",
       "      <td>5</td>\n",
       "      <td>31</td>\n",
       "    </tr>\n",
       "    <tr>\n",
       "      <th>230</th>\n",
       "      <td>49.268571</td>\n",
       "      <td>63.682857</td>\n",
       "      <td>85.808571</td>\n",
       "      <td>2020</td>\n",
       "      <td>6</td>\n",
       "      <td>7</td>\n",
       "    </tr>\n",
       "    <tr>\n",
       "      <th>231</th>\n",
       "      <td>56.784286</td>\n",
       "      <td>47.785714</td>\n",
       "      <td>56.985714</td>\n",
       "      <td>2020</td>\n",
       "      <td>6</td>\n",
       "      <td>14</td>\n",
       "    </tr>\n",
       "    <tr>\n",
       "      <th>232</th>\n",
       "      <td>33.288571</td>\n",
       "      <td>79.941429</td>\n",
       "      <td>44.024286</td>\n",
       "      <td>2020</td>\n",
       "      <td>6</td>\n",
       "      <td>21</td>\n",
       "    </tr>\n",
       "    <tr>\n",
       "      <th>233</th>\n",
       "      <td>35.244286</td>\n",
       "      <td>41.204286</td>\n",
       "      <td>80.390000</td>\n",
       "      <td>2020</td>\n",
       "      <td>6</td>\n",
       "      <td>28</td>\n",
       "    </tr>\n",
       "    <tr>\n",
       "      <th>234</th>\n",
       "      <td>26.528571</td>\n",
       "      <td>56.062857</td>\n",
       "      <td>37.050000</td>\n",
       "      <td>2020</td>\n",
       "      <td>7</td>\n",
       "      <td>5</td>\n",
       "    </tr>\n",
       "    <tr>\n",
       "      <th>235</th>\n",
       "      <td>25.268571</td>\n",
       "      <td>30.231429</td>\n",
       "      <td>57.620000</td>\n",
       "      <td>2020</td>\n",
       "      <td>7</td>\n",
       "      <td>12</td>\n",
       "    </tr>\n",
       "    <tr>\n",
       "      <th>236</th>\n",
       "      <td>41.558571</td>\n",
       "      <td>37.442857</td>\n",
       "      <td>30.495714</td>\n",
       "      <td>2020</td>\n",
       "      <td>7</td>\n",
       "      <td>19</td>\n",
       "    </tr>\n",
       "    <tr>\n",
       "      <th>237</th>\n",
       "      <td>37.198571</td>\n",
       "      <td>22.938571</td>\n",
       "      <td>42.141429</td>\n",
       "      <td>2020</td>\n",
       "      <td>7</td>\n",
       "      <td>26</td>\n",
       "    </tr>\n",
       "    <tr>\n",
       "      <th>238</th>\n",
       "      <td>28.905714</td>\n",
       "      <td>17.365714</td>\n",
       "      <td>13.765714</td>\n",
       "      <td>2020</td>\n",
       "      <td>8</td>\n",
       "      <td>2</td>\n",
       "    </tr>\n",
       "    <tr>\n",
       "      <th>239</th>\n",
       "      <td>30.760000</td>\n",
       "      <td>18.158571</td>\n",
       "      <td>18.364286</td>\n",
       "      <td>2020</td>\n",
       "      <td>8</td>\n",
       "      <td>9</td>\n",
       "    </tr>\n",
       "    <tr>\n",
       "      <th>240</th>\n",
       "      <td>26.957143</td>\n",
       "      <td>43.620000</td>\n",
       "      <td>22.114286</td>\n",
       "      <td>2020</td>\n",
       "      <td>8</td>\n",
       "      <td>16</td>\n",
       "    </tr>\n",
       "    <tr>\n",
       "      <th>241</th>\n",
       "      <td>43.791429</td>\n",
       "      <td>15.724286</td>\n",
       "      <td>41.432857</td>\n",
       "      <td>2020</td>\n",
       "      <td>8</td>\n",
       "      <td>23</td>\n",
       "    </tr>\n",
       "    <tr>\n",
       "      <th>242</th>\n",
       "      <td>30.197143</td>\n",
       "      <td>17.601429</td>\n",
       "      <td>14.032857</td>\n",
       "      <td>2020</td>\n",
       "      <td>8</td>\n",
       "      <td>30</td>\n",
       "    </tr>\n",
       "    <tr>\n",
       "      <th>243</th>\n",
       "      <td>26.160000</td>\n",
       "      <td>17.881429</td>\n",
       "      <td>18.804286</td>\n",
       "      <td>2020</td>\n",
       "      <td>9</td>\n",
       "      <td>6</td>\n",
       "    </tr>\n",
       "    <tr>\n",
       "      <th>244</th>\n",
       "      <td>22.385714</td>\n",
       "      <td>15.425714</td>\n",
       "      <td>15.342857</td>\n",
       "      <td>2020</td>\n",
       "      <td>9</td>\n",
       "      <td>13</td>\n",
       "    </tr>\n",
       "    <tr>\n",
       "      <th>245</th>\n",
       "      <td>21.791429</td>\n",
       "      <td>26.442857</td>\n",
       "      <td>16.500000</td>\n",
       "      <td>2020</td>\n",
       "      <td>9</td>\n",
       "      <td>20</td>\n",
       "    </tr>\n",
       "    <tr>\n",
       "      <th>246</th>\n",
       "      <td>15.447143</td>\n",
       "      <td>118.931429</td>\n",
       "      <td>33.722857</td>\n",
       "      <td>2020</td>\n",
       "      <td>9</td>\n",
       "      <td>27</td>\n",
       "    </tr>\n",
       "    <tr>\n",
       "      <th>247</th>\n",
       "      <td>24.705714</td>\n",
       "      <td>166.292857</td>\n",
       "      <td>130.598571</td>\n",
       "      <td>2020</td>\n",
       "      <td>10</td>\n",
       "      <td>4</td>\n",
       "    </tr>\n",
       "    <tr>\n",
       "      <th>248</th>\n",
       "      <td>95.564286</td>\n",
       "      <td>111.468571</td>\n",
       "      <td>172.227143</td>\n",
       "      <td>2020</td>\n",
       "      <td>10</td>\n",
       "      <td>11</td>\n",
       "    </tr>\n",
       "    <tr>\n",
       "      <th>249</th>\n",
       "      <td>100.547143</td>\n",
       "      <td>166.334286</td>\n",
       "      <td>104.691429</td>\n",
       "      <td>2020</td>\n",
       "      <td>10</td>\n",
       "      <td>18</td>\n",
       "    </tr>\n",
       "    <tr>\n",
       "      <th>250</th>\n",
       "      <td>99.798571</td>\n",
       "      <td>177.812857</td>\n",
       "      <td>240.848571</td>\n",
       "      <td>2020</td>\n",
       "      <td>10</td>\n",
       "      <td>25</td>\n",
       "    </tr>\n",
       "    <tr>\n",
       "      <th>251</th>\n",
       "      <td>80.361429</td>\n",
       "      <td>117.737143</td>\n",
       "      <td>183.725714</td>\n",
       "      <td>2020</td>\n",
       "      <td>11</td>\n",
       "      <td>1</td>\n",
       "    </tr>\n",
       "    <tr>\n",
       "      <th>252</th>\n",
       "      <td>37.862857</td>\n",
       "      <td>132.630000</td>\n",
       "      <td>354.824286</td>\n",
       "      <td>2020</td>\n",
       "      <td>11</td>\n",
       "      <td>8</td>\n",
       "    </tr>\n",
       "    <tr>\n",
       "      <th>253</th>\n",
       "      <td>76.012857</td>\n",
       "      <td>146.062857</td>\n",
       "      <td>610.242857</td>\n",
       "      <td>2020</td>\n",
       "      <td>11</td>\n",
       "      <td>15</td>\n",
       "    </tr>\n",
       "    <tr>\n",
       "      <th>254</th>\n",
       "      <td>63.394286</td>\n",
       "      <td>137.261429</td>\n",
       "      <td>282.764286</td>\n",
       "      <td>2020</td>\n",
       "      <td>11</td>\n",
       "      <td>22</td>\n",
       "    </tr>\n",
       "    <tr>\n",
       "      <th>255</th>\n",
       "      <td>58.474286</td>\n",
       "      <td>182.934286</td>\n",
       "      <td>242.162857</td>\n",
       "      <td>2020</td>\n",
       "      <td>11</td>\n",
       "      <td>29</td>\n",
       "    </tr>\n",
       "    <tr>\n",
       "      <th>256</th>\n",
       "      <td>121.190000</td>\n",
       "      <td>220.201429</td>\n",
       "      <td>574.738571</td>\n",
       "      <td>2020</td>\n",
       "      <td>12</td>\n",
       "      <td>6</td>\n",
       "    </tr>\n",
       "    <tr>\n",
       "      <th>257</th>\n",
       "      <td>73.787143</td>\n",
       "      <td>147.455714</td>\n",
       "      <td>261.790000</td>\n",
       "      <td>2020</td>\n",
       "      <td>12</td>\n",
       "      <td>13</td>\n",
       "    </tr>\n",
       "    <tr>\n",
       "      <th>258</th>\n",
       "      <td>38.717143</td>\n",
       "      <td>184.412857</td>\n",
       "      <td>116.852857</td>\n",
       "      <td>2020</td>\n",
       "      <td>12</td>\n",
       "      <td>20</td>\n",
       "    </tr>\n",
       "    <tr>\n",
       "      <th>259</th>\n",
       "      <td>42.524286</td>\n",
       "      <td>144.901429</td>\n",
       "      <td>180.832857</td>\n",
       "      <td>2020</td>\n",
       "      <td>12</td>\n",
       "      <td>27</td>\n",
       "    </tr>\n",
       "  </tbody>\n",
       "</table>\n",
       "</div>"
      ],
      "text/plain": [
       "          NOxy1       NOxy2       NOxy3  year  month  day\n",
       "207  144.901429  180.832857  212.015714  2019     12   29\n",
       "208  117.267143  397.518571  194.864286  2020      1    5\n",
       "209  100.144286  219.385714  190.755714  2020      1   12\n",
       "210  126.631429  148.370000  195.770000  2020      1   19\n",
       "211   52.171429  157.414286  127.910000  2020      1   26\n",
       "212   65.417143   77.248571  156.391429  2020      2    2\n",
       "213   80.275714  129.428571  268.622857  2020      2    9\n",
       "214   98.288571   86.665714  129.678571  2020      2   16\n",
       "215   96.087143  173.738571  120.168571  2020      2   23\n",
       "216  117.698571  137.625714  108.778571  2020      3    1\n",
       "217   91.152857  100.787143  156.970000  2020      3    8\n",
       "218   83.898571  126.192857   63.452857  2020      3   15\n",
       "219   68.281429  104.107143   80.047143  2020      3   22\n",
       "220   92.115714  121.507143   83.767143  2020      3   29\n",
       "221  106.074286  118.452857  124.424286  2020      4    5\n",
       "222   69.112857   71.315714  109.870000  2020      4   12\n",
       "223   64.565714   82.070000   97.934286  2020      4   19\n",
       "224   86.252857  106.258571   78.477143  2020      4   26\n",
       "225   79.605714   74.865714   41.912857  2020      5    3\n",
       "226   91.712857  118.582857  122.740000  2020      5   10\n",
       "227   58.658571  101.145714   55.952857  2020      5   17\n",
       "228   53.101429  161.900000   51.297143  2020      5   24\n",
       "229   80.971429   84.982857   51.228571  2020      5   31\n",
       "230   49.268571   63.682857   85.808571  2020      6    7\n",
       "231   56.784286   47.785714   56.985714  2020      6   14\n",
       "232   33.288571   79.941429   44.024286  2020      6   21\n",
       "233   35.244286   41.204286   80.390000  2020      6   28\n",
       "234   26.528571   56.062857   37.050000  2020      7    5\n",
       "235   25.268571   30.231429   57.620000  2020      7   12\n",
       "236   41.558571   37.442857   30.495714  2020      7   19\n",
       "237   37.198571   22.938571   42.141429  2020      7   26\n",
       "238   28.905714   17.365714   13.765714  2020      8    2\n",
       "239   30.760000   18.158571   18.364286  2020      8    9\n",
       "240   26.957143   43.620000   22.114286  2020      8   16\n",
       "241   43.791429   15.724286   41.432857  2020      8   23\n",
       "242   30.197143   17.601429   14.032857  2020      8   30\n",
       "243   26.160000   17.881429   18.804286  2020      9    6\n",
       "244   22.385714   15.425714   15.342857  2020      9   13\n",
       "245   21.791429   26.442857   16.500000  2020      9   20\n",
       "246   15.447143  118.931429   33.722857  2020      9   27\n",
       "247   24.705714  166.292857  130.598571  2020     10    4\n",
       "248   95.564286  111.468571  172.227143  2020     10   11\n",
       "249  100.547143  166.334286  104.691429  2020     10   18\n",
       "250   99.798571  177.812857  240.848571  2020     10   25\n",
       "251   80.361429  117.737143  183.725714  2020     11    1\n",
       "252   37.862857  132.630000  354.824286  2020     11    8\n",
       "253   76.012857  146.062857  610.242857  2020     11   15\n",
       "254   63.394286  137.261429  282.764286  2020     11   22\n",
       "255   58.474286  182.934286  242.162857  2020     11   29\n",
       "256  121.190000  220.201429  574.738571  2020     12    6\n",
       "257   73.787143  147.455714  261.790000  2020     12   13\n",
       "258   38.717143  184.412857  116.852857  2020     12   20\n",
       "259   42.524286  144.901429  180.832857  2020     12   27"
      ]
     },
     "execution_count": 37,
     "metadata": {},
     "output_type": "execute_result"
    }
   ],
   "source": [
    "test=data.loc['207':'259']\n",
    "X=test[['NOxy1','NOxy2','NOxy3','year', 'month', 'day']]\n",
    "X"
   ]
  },
  {
   "cell_type": "code",
   "execution_count": 38,
   "metadata": {},
   "outputs": [],
   "source": [
    "predict=grad_boost.predict(X)"
   ]
  },
  {
   "cell_type": "code",
   "execution_count": 39,
   "metadata": {
    "scrolled": false
   },
   "outputs": [
    {
     "data": {
      "text/plain": [
       "array([ 42.528478  , 142.97702524, 113.53167821, 104.95588262,\n",
       "       115.37554211,  73.27053418,  80.68669238,  95.26515142,\n",
       "       103.77010598, 116.33984574,  85.56028219,  82.1963692 ,\n",
       "        81.33922595,  83.49251124,  88.99686601,  65.42780203,\n",
       "        67.55214056,  88.8481551 ,  63.47202591,  72.05575643,\n",
       "        64.17004089,  93.60325776,  69.16053361,  65.95974142,\n",
       "        46.88285938,  51.84159152,  54.42872605,  28.77377636,\n",
       "        36.83426686,  33.04511271,  38.88375925,  32.62703706,\n",
       "        29.57256407,  31.33807921,  31.4147008 ,  40.19651459,\n",
       "        26.44177072,  29.04350312,  32.92746004,  63.44426817,\n",
       "        88.80576384, 102.34950242, 103.49776202, 111.18162377,\n",
       "       101.41547005,  87.61007795, 104.91168268,  79.09981602,\n",
       "        77.96449593,  76.42431323,  78.62651337, 102.56622773,\n",
       "        80.01486571])"
      ]
     },
     "execution_count": 39,
     "metadata": {},
     "output_type": "execute_result"
    }
   ],
   "source": [
    "predict"
   ]
  },
  {
   "cell_type": "code",
   "execution_count": 40,
   "metadata": {},
   "outputs": [],
   "source": [
    "dates=data.loc['207':'259','From Date']"
   ]
  },
  {
   "cell_type": "code",
   "execution_count": 41,
   "metadata": {},
   "outputs": [],
   "source": [
    "X['From Date']=dates.values"
   ]
  },
  {
   "cell_type": "code",
   "execution_count": 42,
   "metadata": {},
   "outputs": [
    {
     "data": {
      "text/plain": [
       "Index(['NOxy1', 'NOxy2', 'NOxy3', 'year', 'month', 'day', 'From Date'], dtype='object')"
      ]
     },
     "execution_count": 42,
     "metadata": {},
     "output_type": "execute_result"
    }
   ],
   "source": [
    "X.columns"
   ]
  },
  {
   "cell_type": "code",
   "execution_count": 43,
   "metadata": {},
   "outputs": [],
   "source": [
    "X['From Date']= X['From Date'].map(dt.datetime.fromordinal)"
   ]
  },
  {
   "cell_type": "code",
   "execution_count": 44,
   "metadata": {},
   "outputs": [],
   "source": [
    "test['From Date']= test['From Date'].map(dt.datetime.fromordinal)"
   ]
  },
  {
   "cell_type": "code",
   "execution_count": 45,
   "metadata": {},
   "outputs": [],
   "source": [
    "test = test.set_index(['From Date'])\n",
    "X = X.set_index(['From Date'])\n"
   ]
  },
  {
   "cell_type": "code",
   "execution_count": 46,
   "metadata": {},
   "outputs": [],
   "source": [
    "X['pred']=predict"
   ]
  },
  {
   "cell_type": "code",
   "execution_count": 47,
   "metadata": {
    "scrolled": true
   },
   "outputs": [
    {
     "data": {
      "text/plain": [
       "<AxesSubplot:xlabel='From Date'>"
      ]
     },
     "execution_count": 47,
     "metadata": {},
     "output_type": "execute_result"
    },
    {
     "data": {
      "image/png": "[encoded data removed]",
      "text/plain": [
       "<Figure size 720x432 with 1 Axes>"
      ]
     },
     "metadata": {},
     "output_type": "display_data"
    }
   ],
   "source": [
    "test['NOx'].plot(legend=True, label='Actual NOx', figsize=(10,6))\n",
    "X['pred'].plot(legend=True, label='Predicted NOx')"
   ]
  },
  {
   "cell_type": "code",
   "execution_count": 48,
   "metadata": {},
   "outputs": [
    {
     "data": {
      "text/plain": [
       "42.34489617028514"
      ]
     },
     "execution_count": 48,
     "metadata": {},
     "output_type": "execute_result"
    }
   ],
   "source": [
    "np.sqrt(mean_squared_error(test['NOx'],X['pred']))"
   ]
  },
  {
   "cell_type": "code",
   "execution_count": 49,
   "metadata": {
    "scrolled": false
   },
   "outputs": [
    {
     "name": "stdout",
     "output_type": "stream",
     "text": [
      "Results of sklearn.metrics:\n",
      "MAE: 32.312535743825066\n",
      "MSE: 1653.2711596178065\n",
      "RMSE: 40.660437277749566\n",
      "R-Squared: 0.7505450955591082\n"
     ]
    }
   ],
   "source": [
    "mae = metrics.mean_absolute_error(ytest, gboost_pred)\n",
    "mse = metrics.mean_squared_error(ytest, gboost_pred)\n",
    "rmsetest = np.sqrt(mse) # or mse**(0.5)  \n",
    "r2 = metrics.r2_score(ytest,gboost_pred)\n",
    "\n",
    "print(\"Results of sklearn.metrics:\")\n",
    "print(\"MAE:\",mae)\n",
    "print(\"MSE:\", mse)\n",
    "print(\"RMSE:\", rmsetest)\n",
    "print(\"R-Squared:\", r2)"
   ]
  },
  {
   "cell_type": "code",
   "execution_count": 50,
   "metadata": {},
   "outputs": [
    {
     "name": "stdout",
     "output_type": "stream",
     "text": [
      "Results of sklearn.metrics:\n",
      "MAE: 34.284152495581445\n",
      "MSE: 1793.0902316722293\n",
      "RMSE: 42.34489617028514\n",
      "R-Squared: -0.3757320428165072\n"
     ]
    }
   ],
   "source": [
    "mae = metrics.mean_absolute_error(test['NOx'],X['pred'])\n",
    "mse = metrics.mean_squared_error(test['NOx'],X['pred'])\n",
    "rmse = np.sqrt(mse) # or mse**(0.5)  \n",
    "r2 = metrics.r2_score(test['NOx'],X['pred'])\n",
    "\n",
    "print(\"Results of sklearn.metrics:\")\n",
    "print(\"MAE:\",mae)\n",
    "print(\"MSE:\", mse)\n",
    "print(\"RMSE:\", rmse)\n",
    "print(\"R-Squared:\", r2)"
   ]
  },
  {
   "cell_type": "code",
   "execution_count": 51,
   "metadata": {},
   "outputs": [],
   "source": [
    "import pickle\n",
    "filename = 'NOx_gboost3y.sav'\n",
    "pickle.dump(grad_boost, open(filename, 'wb'))"
   ]
  },
  {
   "cell_type": "code",
   "execution_count": 52,
   "metadata": {},
   "outputs": [
    {
     "name": "stdout",
     "output_type": "stream",
     "text": [
      "0.7505450955591082\n"
     ]
    }
   ],
   "source": [
    "#load model\n",
    "loaded_model = pickle.load(open(filename, 'rb'))\n",
    "result = loaded_model.score(xtest, ytest)\n",
    "print(result)"
   ]
  },
  {
   "cell_type": "markdown",
   "metadata": {},
   "source": [
    "# 3rd plot"
   ]
  },
  {
   "cell_type": "code",
   "execution_count": 53,
   "metadata": {},
   "outputs": [],
   "source": [
    "testcase = pd.DataFrame()"
   ]
  },
  {
   "cell_type": "code",
   "execution_count": 54,
   "metadata": {
    "scrolled": true
   },
   "outputs": [],
   "source": [
    "testcase['test']=ytest\n",
    "testcase['pred']=gboost_pred"
   ]
  },
  {
   "cell_type": "code",
   "execution_count": 55,
   "metadata": {},
   "outputs": [],
   "source": [
    "testcase[\"Corrected\"] = np.where(testcase[\"pred\"]<testcase[\"test\"],testcase[\"pred\"]+rmsetest ,\n",
    "                   np.where(testcase[\"pred\"]>testcase[\"test\"], testcase[\"pred\"]-rmsetest,\n",
    "                            testcase[\"pred\"]))"
   ]
  },
  {
   "cell_type": "code",
   "execution_count": 56,
   "metadata": {},
   "outputs": [
    {
     "data": {
      "text/html": [
       "<div>\n",
       "<style scoped>\n",
       "    .dataframe tbody tr th:only-of-type {\n",
       "        vertical-align: middle;\n",
       "    }\n",
       "\n",
       "    .dataframe tbody tr th {\n",
       "        vertical-align: top;\n",
       "    }\n",
       "\n",
       "    .dataframe thead th {\n",
       "        text-align: right;\n",
       "    }\n",
       "</style>\n",
       "<table border=\"1\" class=\"dataframe\">\n",
       "  <thead>\n",
       "    <tr style=\"text-align: right;\">\n",
       "      <th></th>\n",
       "      <th>test</th>\n",
       "      <th>pred</th>\n",
       "      <th>Corrected</th>\n",
       "    </tr>\n",
       "  </thead>\n",
       "  <tbody>\n",
       "    <tr>\n",
       "      <th>154</th>\n",
       "      <td>184.412857</td>\n",
       "      <td>126.100769</td>\n",
       "      <td>166.761206</td>\n",
       "    </tr>\n",
       "    <tr>\n",
       "      <th>192</th>\n",
       "      <td>22.385714</td>\n",
       "      <td>23.533208</td>\n",
       "      <td>-17.127229</td>\n",
       "    </tr>\n",
       "    <tr>\n",
       "      <th>135</th>\n",
       "      <td>18.158571</td>\n",
       "      <td>57.349427</td>\n",
       "      <td>16.688990</td>\n",
       "    </tr>\n",
       "    <tr>\n",
       "      <th>10</th>\n",
       "      <td>333.305714</td>\n",
       "      <td>226.586903</td>\n",
       "      <td>267.247340</td>\n",
       "    </tr>\n",
       "    <tr>\n",
       "      <th>13</th>\n",
       "      <td>195.612857</td>\n",
       "      <td>150.849968</td>\n",
       "      <td>191.510405</td>\n",
       "    </tr>\n",
       "    <tr>\n",
       "      <th>173</th>\n",
       "      <td>79.605714</td>\n",
       "      <td>74.276679</td>\n",
       "      <td>114.937116</td>\n",
       "    </tr>\n",
       "    <tr>\n",
       "      <th>205</th>\n",
       "      <td>73.787143</td>\n",
       "      <td>62.221047</td>\n",
       "      <td>102.881484</td>\n",
       "    </tr>\n",
       "    <tr>\n",
       "      <th>23</th>\n",
       "      <td>59.937143</td>\n",
       "      <td>77.326744</td>\n",
       "      <td>36.666306</td>\n",
       "    </tr>\n",
       "    <tr>\n",
       "      <th>71</th>\n",
       "      <td>55.952857</td>\n",
       "      <td>98.988496</td>\n",
       "      <td>58.328059</td>\n",
       "    </tr>\n",
       "    <tr>\n",
       "      <th>28</th>\n",
       "      <td>73.998571</td>\n",
       "      <td>78.811460</td>\n",
       "      <td>38.151023</td>\n",
       "    </tr>\n",
       "    <tr>\n",
       "      <th>41</th>\n",
       "      <td>205.568571</td>\n",
       "      <td>246.326755</td>\n",
       "      <td>205.666318</td>\n",
       "    </tr>\n",
       "    <tr>\n",
       "      <th>182</th>\n",
       "      <td>26.528571</td>\n",
       "      <td>33.541209</td>\n",
       "      <td>-7.119228</td>\n",
       "    </tr>\n",
       "    <tr>\n",
       "      <th>25</th>\n",
       "      <td>52.015714</td>\n",
       "      <td>85.218051</td>\n",
       "      <td>44.557614</td>\n",
       "    </tr>\n",
       "    <tr>\n",
       "      <th>91</th>\n",
       "      <td>130.598571</td>\n",
       "      <td>103.203360</td>\n",
       "      <td>143.863797</td>\n",
       "    </tr>\n",
       "    <tr>\n",
       "      <th>24</th>\n",
       "      <td>49.275714</td>\n",
       "      <td>83.908437</td>\n",
       "      <td>43.248000</td>\n",
       "    </tr>\n",
       "    <tr>\n",
       "      <th>180</th>\n",
       "      <td>33.288571</td>\n",
       "      <td>49.128789</td>\n",
       "      <td>8.468352</td>\n",
       "    </tr>\n",
       "    <tr>\n",
       "      <th>186</th>\n",
       "      <td>28.905714</td>\n",
       "      <td>32.504650</td>\n",
       "      <td>-8.155787</td>\n",
       "    </tr>\n",
       "    <tr>\n",
       "      <th>109</th>\n",
       "      <td>129.428571</td>\n",
       "      <td>162.846192</td>\n",
       "      <td>122.185755</td>\n",
       "    </tr>\n",
       "    <tr>\n",
       "      <th>66</th>\n",
       "      <td>109.870000</td>\n",
       "      <td>110.397577</td>\n",
       "      <td>69.737140</td>\n",
       "    </tr>\n",
       "    <tr>\n",
       "      <th>44</th>\n",
       "      <td>345.268571</td>\n",
       "      <td>291.751585</td>\n",
       "      <td>332.412022</td>\n",
       "    </tr>\n",
       "    <tr>\n",
       "      <th>54</th>\n",
       "      <td>195.770000</td>\n",
       "      <td>133.389849</td>\n",
       "      <td>174.050286</td>\n",
       "    </tr>\n",
       "    <tr>\n",
       "      <th>144</th>\n",
       "      <td>111.468571</td>\n",
       "      <td>173.311255</td>\n",
       "      <td>132.650817</td>\n",
       "    </tr>\n",
       "    <tr>\n",
       "      <th>35</th>\n",
       "      <td>53.825714</td>\n",
       "      <td>59.704210</td>\n",
       "      <td>19.043773</td>\n",
       "    </tr>\n",
       "    <tr>\n",
       "      <th>143</th>\n",
       "      <td>166.292857</td>\n",
       "      <td>97.802533</td>\n",
       "      <td>138.462970</td>\n",
       "    </tr>\n",
       "    <tr>\n",
       "      <th>53</th>\n",
       "      <td>190.755714</td>\n",
       "      <td>211.050900</td>\n",
       "      <td>170.390462</td>\n",
       "    </tr>\n",
       "    <tr>\n",
       "      <th>6</th>\n",
       "      <td>211.717143</td>\n",
       "      <td>170.940179</td>\n",
       "      <td>211.600616</td>\n",
       "    </tr>\n",
       "    <tr>\n",
       "      <th>12</th>\n",
       "      <td>120.968571</td>\n",
       "      <td>165.232496</td>\n",
       "      <td>124.572058</td>\n",
       "    </tr>\n",
       "    <tr>\n",
       "      <th>29</th>\n",
       "      <td>58.828571</td>\n",
       "      <td>126.890873</td>\n",
       "      <td>86.230436</td>\n",
       "    </tr>\n",
       "    <tr>\n",
       "      <th>18</th>\n",
       "      <td>109.446429</td>\n",
       "      <td>154.610178</td>\n",
       "      <td>113.949741</td>\n",
       "    </tr>\n",
       "    <tr>\n",
       "      <th>115</th>\n",
       "      <td>104.107143</td>\n",
       "      <td>127.469558</td>\n",
       "      <td>86.809121</td>\n",
       "    </tr>\n",
       "    <tr>\n",
       "      <th>5</th>\n",
       "      <td>238.001429</td>\n",
       "      <td>189.556547</td>\n",
       "      <td>230.216984</td>\n",
       "    </tr>\n",
       "    <tr>\n",
       "      <th>139</th>\n",
       "      <td>17.881429</td>\n",
       "      <td>18.055740</td>\n",
       "      <td>-22.604697</td>\n",
       "    </tr>\n",
       "    <tr>\n",
       "      <th>2</th>\n",
       "      <td>202.024286</td>\n",
       "      <td>160.006905</td>\n",
       "      <td>200.667342</td>\n",
       "    </tr>\n",
       "    <tr>\n",
       "      <th>190</th>\n",
       "      <td>30.197143</td>\n",
       "      <td>57.372609</td>\n",
       "      <td>16.712172</td>\n",
       "    </tr>\n",
       "    <tr>\n",
       "      <th>3</th>\n",
       "      <td>197.802857</td>\n",
       "      <td>188.100408</td>\n",
       "      <td>228.760846</td>\n",
       "    </tr>\n",
       "    <tr>\n",
       "      <th>201</th>\n",
       "      <td>76.012857</td>\n",
       "      <td>76.579868</td>\n",
       "      <td>35.919430</td>\n",
       "    </tr>\n",
       "    <tr>\n",
       "      <th>14</th>\n",
       "      <td>139.898571</td>\n",
       "      <td>162.742391</td>\n",
       "      <td>122.081954</td>\n",
       "    </tr>\n",
       "    <tr>\n",
       "      <th>120</th>\n",
       "      <td>106.258571</td>\n",
       "      <td>97.089209</td>\n",
       "      <td>137.749646</td>\n",
       "    </tr>\n",
       "    <tr>\n",
       "      <th>172</th>\n",
       "      <td>86.252857</td>\n",
       "      <td>60.820089</td>\n",
       "      <td>101.480526</td>\n",
       "    </tr>\n",
       "    <tr>\n",
       "      <th>181</th>\n",
       "      <td>35.244286</td>\n",
       "      <td>64.977353</td>\n",
       "      <td>24.316915</td>\n",
       "    </tr>\n",
       "    <tr>\n",
       "      <th>130</th>\n",
       "      <td>56.062857</td>\n",
       "      <td>27.148802</td>\n",
       "      <td>67.809239</td>\n",
       "    </tr>\n",
       "    <tr>\n",
       "      <th>195</th>\n",
       "      <td>24.705714</td>\n",
       "      <td>114.973616</td>\n",
       "      <td>74.313179</td>\n",
       "    </tr>\n",
       "  </tbody>\n",
       "</table>\n",
       "</div>"
      ],
      "text/plain": [
       "           test        pred   Corrected\n",
       "154  184.412857  126.100769  166.761206\n",
       "192   22.385714   23.533208  -17.127229\n",
       "135   18.158571   57.349427   16.688990\n",
       "10   333.305714  226.586903  267.247340\n",
       "13   195.612857  150.849968  191.510405\n",
       "173   79.605714   74.276679  114.937116\n",
       "205   73.787143   62.221047  102.881484\n",
       "23    59.937143   77.326744   36.666306\n",
       "71    55.952857   98.988496   58.328059\n",
       "28    73.998571   78.811460   38.151023\n",
       "41   205.568571  246.326755  205.666318\n",
       "182   26.528571   33.541209   -7.119228\n",
       "25    52.015714   85.218051   44.557614\n",
       "91   130.598571  103.203360  143.863797\n",
       "24    49.275714   83.908437   43.248000\n",
       "180   33.288571   49.128789    8.468352\n",
       "186   28.905714   32.504650   -8.155787\n",
       "109  129.428571  162.846192  122.185755\n",
       "66   109.870000  110.397577   69.737140\n",
       "44   345.268571  291.751585  332.412022\n",
       "54   195.770000  133.389849  174.050286\n",
       "144  111.468571  173.311255  132.650817\n",
       "35    53.825714   59.704210   19.043773\n",
       "143  166.292857   97.802533  138.462970\n",
       "53   190.755714  211.050900  170.390462\n",
       "6    211.717143  170.940179  211.600616\n",
       "12   120.968571  165.232496  124.572058\n",
       "29    58.828571  126.890873   86.230436\n",
       "18   109.446429  154.610178  113.949741\n",
       "115  104.107143  127.469558   86.809121\n",
       "5    238.001429  189.556547  230.216984\n",
       "139   17.881429   18.055740  -22.604697\n",
       "2    202.024286  160.006905  200.667342\n",
       "190   30.197143   57.372609   16.712172\n",
       "3    197.802857  188.100408  228.760846\n",
       "201   76.012857   76.579868   35.919430\n",
       "14   139.898571  162.742391  122.081954\n",
       "120  106.258571   97.089209  137.749646\n",
       "172   86.252857   60.820089  101.480526\n",
       "181   35.244286   64.977353   24.316915\n",
       "130   56.062857   27.148802   67.809239\n",
       "195   24.705714  114.973616   74.313179"
      ]
     },
     "execution_count": 56,
     "metadata": {},
     "output_type": "execute_result"
    }
   ],
   "source": [
    "testcase"
   ]
  },
  {
   "cell_type": "code",
   "execution_count": 57,
   "metadata": {},
   "outputs": [
    {
     "data": {
      "text/plain": [
       "'testcase[\\'test\\'].plot(legend=True, label=\\'Actual PM2.5\\', figsize=(10,6))\\ntestcase[\\'pred\\'].plot(legend=True, label=\\'Predicted PM2.5\\')\\ntestcase[\"Corrected\"].plot(legend=True, label=\\'Corrected PM2.5\\')'"
      ]
     },
     "execution_count": 57,
     "metadata": {},
     "output_type": "execute_result"
    }
   ],
   "source": [
    "'''testcase['test'].plot(legend=True, label='Actual PM2.5', figsize=(10,6))\n",
    "testcase['pred'].plot(legend=True, label='Predicted PM2.5')\n",
    "testcase[\"Corrected\"].plot(legend=True, label='Corrected PM2.5')'''"
   ]
  },
  {
   "cell_type": "code",
   "execution_count": 58,
   "metadata": {
    "scrolled": true
   },
   "outputs": [
    {
     "data": {
      "text/plain": [
       "0.9012915205652519"
      ]
     },
     "execution_count": 58,
     "metadata": {},
     "output_type": "execute_result"
    }
   ],
   "source": [
    "r2 = metrics.r2_score(testcase[\"Corrected\"],testcase['test'])\n",
    "r2"
   ]
  },
  {
   "cell_type": "code",
   "execution_count": 59,
   "metadata": {},
   "outputs": [],
   "source": [
    "test2020=pd.DataFrame()"
   ]
  },
  {
   "cell_type": "code",
   "execution_count": 60,
   "metadata": {},
   "outputs": [],
   "source": [
    "test2020['test']=test['NOx']\n",
    "test2020['pred']=X['pred']"
   ]
  },
  {
   "cell_type": "code",
   "execution_count": 61,
   "metadata": {},
   "outputs": [],
   "source": [
    "test2020.index=test.index"
   ]
  },
  {
   "cell_type": "code",
   "execution_count": 62,
   "metadata": {},
   "outputs": [],
   "source": [
    "test2020[\"Corrected\"] = np.where(test2020[\"pred\"]<test2020[\"test\"],test2020[\"pred\"]+rmsetest ,\n",
    "                   np.where(test2020[\"pred\"]>test2020[\"test\"], test2020[\"pred\"]-rmsetest,\n",
    "                            test2020[\"pred\"]))"
   ]
  },
  {
   "cell_type": "code",
   "execution_count": 63,
   "metadata": {},
   "outputs": [
    {
     "data": {
      "text/plain": [
       "<AxesSubplot:xlabel='From Date'>"
      ]
     },
     "execution_count": 63,
     "metadata": {},
     "output_type": "execute_result"
    },
    {
     "data": {
      "image/png": "[encoded data removed]",
      "text/plain": [
       "<Figure size 720x432 with 1 Axes>"
      ]
     },
     "metadata": {},
     "output_type": "display_data"
    }
   ],
   "source": [
    "test2020['test'].plot(legend=True, label='Actual NOx 2020', figsize=(10,6))\n",
    "test2020['pred'].plot(legend=True, label='Predicted NOx 2020')\n",
    "test2020[\"Corrected\"].plot(legend=True, label='Corrected NOx 2020')"
   ]
  },
  {
   "cell_type": "code",
   "execution_count": 64,
   "metadata": {},
   "outputs": [
    {
     "data": {
      "text/plain": [
       "0.525279155885437"
      ]
     },
     "execution_count": 64,
     "metadata": {},
     "output_type": "execute_result"
    }
   ],
   "source": [
    "r2020 = metrics.r2_score(test2020[\"Corrected\"],test2020['test'])\n",
    "r2020"
   ]
  },
  {
   "cell_type": "code",
   "execution_count": null,
   "metadata": {},
   "outputs": [],
   "source": []
  }
 ],
 "metadata": {
  "kernelspec": {
   "display_name": "Python 3",
   "language": "python",
   "name": "python3"
  },
  "language_info": {
   "codemirror_mode": {
    "name": "ipython",
    "version": 3
   },
   "file_extension": ".py",
   "mimetype": "text/x-python",
   "name": "python",
   "nbconvert_exporter": "python",
   "pygments_lexer": "ipython3",
   "version": "3.8.5"
  }
 },
 "nbformat": 4,
 "nbformat_minor": 4
}
