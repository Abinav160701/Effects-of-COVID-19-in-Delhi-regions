{
 "cells": [
  {
   "cell_type": "code",
   "execution_count": 1,
   "metadata": {},
   "outputs": [],
   "source": [
    "import pandas as pd\n",
    "import numpy as np\n",
    "import matplotlib.pyplot as plt\n",
    "import seaborn as sns\n",
    "sns.set()\n",
    "import warnings\n",
    "warnings.filterwarnings(action='ignore')\n",
    "from statsmodels.tsa.seasonal import seasonal_decompose\n",
    "import statsmodels.formula.api as formula\n",
    "from statsmodels.stats.outliers_influence import variance_inflation_factor\n",
    "import statsmodels as sm\n",
    "from sklearn import preprocessing\n",
    "from sklearn.model_selection import train_test_split,GridSearchCV,RandomizedSearchCV\n",
    "from sklearn.linear_model import LinearRegression,Lasso,Ridge\n",
    "#from sklearn.externals import joblib\n",
    "from sklearn.metrics import r2_score,mean_squared_error\n",
    "from sklearn.ensemble import RandomForestRegressor,GradientBoostingRegressor\n",
    "from sklearn.tree import DecisionTreeRegressor\n",
    "from IPython.display import display\n",
    "from sklearn import metrics"
   ]
  },
  {
   "cell_type": "code",
   "execution_count": 2,
   "metadata": {},
   "outputs": [],
   "source": [
    "data = pd.read_excel (r'C:\\Users\\Kira\\Desktop\\Internship\\Data\\Delhi_Data-20210529T043217Z-001\\Delhi_Data\\2013-2020-RK-PURAM-final-dataset\\3y_weekly_RKPURAM.xlsx')\n",
    "data['From Date']=pd.to_datetime(data['From Date'])\n",
    "data['year'] = data['From Date'].dt.year\n",
    "data['month'] = data['From Date'].dt.month\n",
    "data['day'] = data['From Date'].dt.day"
   ]
  },
  {
   "cell_type": "code",
   "execution_count": 3,
   "metadata": {},
   "outputs": [],
   "source": [
    "import datetime as dt"
   ]
  },
  {
   "cell_type": "code",
   "execution_count": 4,
   "metadata": {},
   "outputs": [],
   "source": [
    "data['From Date']= data['From Date'].map(dt.datetime.toordinal)"
   ]
  },
  {
   "cell_type": "code",
   "execution_count": 5,
   "metadata": {},
   "outputs": [],
   "source": [
    "df=data.loc['0':'207']"
   ]
  },
  {
   "cell_type": "code",
   "execution_count": 6,
   "metadata": {},
   "outputs": [
    {
     "data": {
      "text/plain": [
       "Index(['From Date', 'PM2.5y1', 'PM1y1', 'NOy1', 'NO2y1', 'NOxy1', 'NH3y1',\n",
       "       'SO2y1', 'COy1', 'Ozoney1', 'RHy1', 'WSy1', 'WDy1', 'SRy1', 'BPy1',\n",
       "       'ATy1', 'PM2.5y2', 'PM1y2', 'NOy2', 'NO2y2', 'NOxy2', 'NH3y2', 'SO2y2',\n",
       "       'COy2', 'Ozoney2', 'RHy2', 'WSy2', 'WDy2', 'SRy2', 'BPy2', 'ATy2',\n",
       "       'PM2.5y3', 'PM1y3', 'NOy3', 'NO2y3', 'NOxy3', 'NH3y3', 'SO2y3', 'COy3',\n",
       "       'Ozoney3', 'RHy3', 'WSy3', 'WDy3', 'SRy3', 'BPy3', 'ATy3', 'PM2.5',\n",
       "       'PM1', 'NO', 'NO2', 'NOx', 'NH3', 'SO2', 'CO', 'Ozone', 'RH', 'WS',\n",
       "       'WD', 'SR', 'BP', 'AT', 'year', 'month', 'day'],\n",
       "      dtype='object')"
      ]
     },
     "execution_count": 6,
     "metadata": {},
     "output_type": "execute_result"
    }
   ],
   "source": [
    "df.columns"
   ]
  },
  {
   "cell_type": "code",
   "execution_count": 7,
   "metadata": {},
   "outputs": [],
   "source": [
    "X1 = df[['NO2y1','NO2y2','NO2y3','year', 'month', 'day']]\n",
    "Y1 = df['NO2']"
   ]
  },
  {
   "cell_type": "code",
   "execution_count": 41,
   "metadata": {},
   "outputs": [],
   "source": [
    "xtrain,xtest,ytrain,ytest = train_test_split(X1,Y1,test_size=.2,random_state=2)"
   ]
  },
  {
   "cell_type": "code",
   "execution_count": 42,
   "metadata": {},
   "outputs": [
    {
     "data": {
      "text/plain": [
       "GradientBoostingRegressor(learning_rate=0.2, max_depth=6, max_features=0.1,\n",
       "                          min_samples_leaf=2, min_samples_split=3,\n",
       "                          n_estimators=2000)"
      ]
     },
     "execution_count": 42,
     "metadata": {},
     "output_type": "execute_result"
    }
   ],
   "source": [
    "grad_boost = GradientBoostingRegressor(n_estimators=2000,\n",
    "                                      max_depth=6,\n",
    "                                      max_features=0.1,\n",
    "                                      min_samples_split=3,\n",
    "                                      min_samples_leaf=2,\n",
    "                                      learning_rate=0.2)\n",
    "\n",
    "grad_boost.fit(xtrain,ytrain)"
   ]
  },
  {
   "cell_type": "code",
   "execution_count": 43,
   "metadata": {
    "scrolled": true
   },
   "outputs": [
    {
     "name": "stdout",
     "output_type": "stream",
     "text": [
      "Score on train data: 1.0\n",
      "\n",
      "Score on test data: 0.5291949311347739\n",
      "\n",
      "Root Mean Squared Error: 17.381121575702245\n",
      "\n",
      "Overall model accuracy: 0.5291949311347739\n"
     ]
    }
   ],
   "source": [
    "# we now score the model\n",
    "print('Score on train data: {}\\n'.format(grad_boost.score(xtrain,ytrain)))\n",
    "print('Score on test data: {}\\n'.format(grad_boost.score(xtest,ytest)))\n",
    "\n",
    "gboost_pred = grad_boost.predict(xtest)\n",
    "gboost_mse = mean_squared_error(ytest,gboost_pred)\n",
    "gboost_accuracy = r2_score(ytest,gboost_pred)\n",
    "\n",
    "print('Root Mean Squared Error: {}\\n'.format(np.sqrt(gboost_mse)))\n",
    "print('Overall model accuracy: {}'.format(gboost_accuracy))"
   ]
  },
  {
   "cell_type": "code",
   "execution_count": 44,
   "metadata": {},
   "outputs": [
    {
     "data": {
      "text/html": [
       "<div>\n",
       "<style scoped>\n",
       "    .dataframe tbody tr th:only-of-type {\n",
       "        vertical-align: middle;\n",
       "    }\n",
       "\n",
       "    .dataframe tbody tr th {\n",
       "        vertical-align: top;\n",
       "    }\n",
       "\n",
       "    .dataframe thead th {\n",
       "        text-align: right;\n",
       "    }\n",
       "</style>\n",
       "<table border=\"1\" class=\"dataframe\">\n",
       "  <thead>\n",
       "    <tr style=\"text-align: right;\">\n",
       "      <th></th>\n",
       "      <th>NO2y1</th>\n",
       "      <th>NO2y2</th>\n",
       "      <th>NO2y3</th>\n",
       "      <th>year</th>\n",
       "      <th>month</th>\n",
       "      <th>day</th>\n",
       "    </tr>\n",
       "  </thead>\n",
       "  <tbody>\n",
       "    <tr>\n",
       "      <th>207</th>\n",
       "      <td>76.847143</td>\n",
       "      <td>81.828571</td>\n",
       "      <td>83.730000</td>\n",
       "      <td>2019</td>\n",
       "      <td>12</td>\n",
       "      <td>29</td>\n",
       "    </tr>\n",
       "    <tr>\n",
       "      <th>208</th>\n",
       "      <td>52.067143</td>\n",
       "      <td>78.085714</td>\n",
       "      <td>67.225714</td>\n",
       "      <td>2020</td>\n",
       "      <td>1</td>\n",
       "      <td>5</td>\n",
       "    </tr>\n",
       "    <tr>\n",
       "      <th>209</th>\n",
       "      <td>58.215714</td>\n",
       "      <td>86.725714</td>\n",
       "      <td>57.842857</td>\n",
       "      <td>2020</td>\n",
       "      <td>1</td>\n",
       "      <td>12</td>\n",
       "    </tr>\n",
       "    <tr>\n",
       "      <th>210</th>\n",
       "      <td>58.545714</td>\n",
       "      <td>79.045714</td>\n",
       "      <td>75.028571</td>\n",
       "      <td>2020</td>\n",
       "      <td>1</td>\n",
       "      <td>19</td>\n",
       "    </tr>\n",
       "    <tr>\n",
       "      <th>211</th>\n",
       "      <td>44.648571</td>\n",
       "      <td>68.768571</td>\n",
       "      <td>68.434286</td>\n",
       "      <td>2020</td>\n",
       "      <td>1</td>\n",
       "      <td>26</td>\n",
       "    </tr>\n",
       "    <tr>\n",
       "      <th>212</th>\n",
       "      <td>49.550000</td>\n",
       "      <td>40.208571</td>\n",
       "      <td>62.091429</td>\n",
       "      <td>2020</td>\n",
       "      <td>2</td>\n",
       "      <td>2</td>\n",
       "    </tr>\n",
       "    <tr>\n",
       "      <th>213</th>\n",
       "      <td>50.381429</td>\n",
       "      <td>104.145714</td>\n",
       "      <td>66.960000</td>\n",
       "      <td>2020</td>\n",
       "      <td>2</td>\n",
       "      <td>9</td>\n",
       "    </tr>\n",
       "    <tr>\n",
       "      <th>214</th>\n",
       "      <td>72.708571</td>\n",
       "      <td>61.682857</td>\n",
       "      <td>67.874286</td>\n",
       "      <td>2020</td>\n",
       "      <td>2</td>\n",
       "      <td>16</td>\n",
       "    </tr>\n",
       "    <tr>\n",
       "      <th>215</th>\n",
       "      <td>73.708571</td>\n",
       "      <td>91.308571</td>\n",
       "      <td>82.401429</td>\n",
       "      <td>2020</td>\n",
       "      <td>2</td>\n",
       "      <td>23</td>\n",
       "    </tr>\n",
       "    <tr>\n",
       "      <th>216</th>\n",
       "      <td>88.330000</td>\n",
       "      <td>77.098571</td>\n",
       "      <td>62.438571</td>\n",
       "      <td>2020</td>\n",
       "      <td>3</td>\n",
       "      <td>1</td>\n",
       "    </tr>\n",
       "    <tr>\n",
       "      <th>217</th>\n",
       "      <td>79.500000</td>\n",
       "      <td>79.525714</td>\n",
       "      <td>69.681429</td>\n",
       "      <td>2020</td>\n",
       "      <td>3</td>\n",
       "      <td>8</td>\n",
       "    </tr>\n",
       "    <tr>\n",
       "      <th>218</th>\n",
       "      <td>77.165714</td>\n",
       "      <td>74.798571</td>\n",
       "      <td>42.437143</td>\n",
       "      <td>2020</td>\n",
       "      <td>3</td>\n",
       "      <td>15</td>\n",
       "    </tr>\n",
       "    <tr>\n",
       "      <th>219</th>\n",
       "      <td>68.678571</td>\n",
       "      <td>64.557143</td>\n",
       "      <td>39.302857</td>\n",
       "      <td>2020</td>\n",
       "      <td>3</td>\n",
       "      <td>22</td>\n",
       "    </tr>\n",
       "    <tr>\n",
       "      <th>220</th>\n",
       "      <td>75.190000</td>\n",
       "      <td>78.710000</td>\n",
       "      <td>52.792857</td>\n",
       "      <td>2020</td>\n",
       "      <td>3</td>\n",
       "      <td>29</td>\n",
       "    </tr>\n",
       "    <tr>\n",
       "      <th>221</th>\n",
       "      <td>80.177143</td>\n",
       "      <td>85.032857</td>\n",
       "      <td>83.612857</td>\n",
       "      <td>2020</td>\n",
       "      <td>4</td>\n",
       "      <td>5</td>\n",
       "    </tr>\n",
       "    <tr>\n",
       "      <th>222</th>\n",
       "      <td>65.317143</td>\n",
       "      <td>100.721429</td>\n",
       "      <td>78.382857</td>\n",
       "      <td>2020</td>\n",
       "      <td>4</td>\n",
       "      <td>12</td>\n",
       "    </tr>\n",
       "    <tr>\n",
       "      <th>223</th>\n",
       "      <td>63.594286</td>\n",
       "      <td>72.021429</td>\n",
       "      <td>41.212857</td>\n",
       "      <td>2020</td>\n",
       "      <td>4</td>\n",
       "      <td>19</td>\n",
       "    </tr>\n",
       "    <tr>\n",
       "      <th>224</th>\n",
       "      <td>78.094286</td>\n",
       "      <td>81.438571</td>\n",
       "      <td>39.644286</td>\n",
       "      <td>2020</td>\n",
       "      <td>4</td>\n",
       "      <td>26</td>\n",
       "    </tr>\n",
       "    <tr>\n",
       "      <th>225</th>\n",
       "      <td>80.028571</td>\n",
       "      <td>59.942857</td>\n",
       "      <td>29.437143</td>\n",
       "      <td>2020</td>\n",
       "      <td>5</td>\n",
       "      <td>3</td>\n",
       "    </tr>\n",
       "    <tr>\n",
       "      <th>226</th>\n",
       "      <td>71.931429</td>\n",
       "      <td>81.362857</td>\n",
       "      <td>46.694286</td>\n",
       "      <td>2020</td>\n",
       "      <td>5</td>\n",
       "      <td>10</td>\n",
       "    </tr>\n",
       "    <tr>\n",
       "      <th>227</th>\n",
       "      <td>64.490000</td>\n",
       "      <td>72.390000</td>\n",
       "      <td>37.427143</td>\n",
       "      <td>2020</td>\n",
       "      <td>5</td>\n",
       "      <td>17</td>\n",
       "    </tr>\n",
       "    <tr>\n",
       "      <th>228</th>\n",
       "      <td>59.467143</td>\n",
       "      <td>102.204286</td>\n",
       "      <td>32.290000</td>\n",
       "      <td>2020</td>\n",
       "      <td>5</td>\n",
       "      <td>24</td>\n",
       "    </tr>\n",
       "    <tr>\n",
       "      <th>229</th>\n",
       "      <td>66.998571</td>\n",
       "      <td>68.358571</td>\n",
       "      <td>37.517143</td>\n",
       "      <td>2020</td>\n",
       "      <td>5</td>\n",
       "      <td>31</td>\n",
       "    </tr>\n",
       "    <tr>\n",
       "      <th>230</th>\n",
       "      <td>55.095714</td>\n",
       "      <td>53.407143</td>\n",
       "      <td>64.034286</td>\n",
       "      <td>2020</td>\n",
       "      <td>6</td>\n",
       "      <td>7</td>\n",
       "    </tr>\n",
       "    <tr>\n",
       "      <th>231</th>\n",
       "      <td>54.134286</td>\n",
       "      <td>37.104286</td>\n",
       "      <td>44.175714</td>\n",
       "      <td>2020</td>\n",
       "      <td>6</td>\n",
       "      <td>14</td>\n",
       "    </tr>\n",
       "    <tr>\n",
       "      <th>232</th>\n",
       "      <td>48.180000</td>\n",
       "      <td>83.901429</td>\n",
       "      <td>34.071429</td>\n",
       "      <td>2020</td>\n",
       "      <td>6</td>\n",
       "      <td>21</td>\n",
       "    </tr>\n",
       "    <tr>\n",
       "      <th>233</th>\n",
       "      <td>48.744286</td>\n",
       "      <td>66.621429</td>\n",
       "      <td>87.620000</td>\n",
       "      <td>2020</td>\n",
       "      <td>6</td>\n",
       "      <td>28</td>\n",
       "    </tr>\n",
       "    <tr>\n",
       "      <th>234</th>\n",
       "      <td>40.830000</td>\n",
       "      <td>73.278571</td>\n",
       "      <td>61.747143</td>\n",
       "      <td>2020</td>\n",
       "      <td>7</td>\n",
       "      <td>5</td>\n",
       "    </tr>\n",
       "    <tr>\n",
       "      <th>235</th>\n",
       "      <td>37.295714</td>\n",
       "      <td>40.361429</td>\n",
       "      <td>76.134286</td>\n",
       "      <td>2020</td>\n",
       "      <td>7</td>\n",
       "      <td>12</td>\n",
       "    </tr>\n",
       "    <tr>\n",
       "      <th>236</th>\n",
       "      <td>44.932857</td>\n",
       "      <td>42.640000</td>\n",
       "      <td>37.995714</td>\n",
       "      <td>2020</td>\n",
       "      <td>7</td>\n",
       "      <td>19</td>\n",
       "    </tr>\n",
       "    <tr>\n",
       "      <th>237</th>\n",
       "      <td>42.462857</td>\n",
       "      <td>19.683571</td>\n",
       "      <td>44.851429</td>\n",
       "      <td>2020</td>\n",
       "      <td>7</td>\n",
       "      <td>26</td>\n",
       "    </tr>\n",
       "    <tr>\n",
       "      <th>238</th>\n",
       "      <td>38.792857</td>\n",
       "      <td>16.265714</td>\n",
       "      <td>14.911429</td>\n",
       "      <td>2020</td>\n",
       "      <td>8</td>\n",
       "      <td>2</td>\n",
       "    </tr>\n",
       "    <tr>\n",
       "      <th>239</th>\n",
       "      <td>34.137143</td>\n",
       "      <td>13.340000</td>\n",
       "      <td>17.081429</td>\n",
       "      <td>2020</td>\n",
       "      <td>8</td>\n",
       "      <td>9</td>\n",
       "    </tr>\n",
       "    <tr>\n",
       "      <th>240</th>\n",
       "      <td>29.191429</td>\n",
       "      <td>43.347143</td>\n",
       "      <td>20.224286</td>\n",
       "      <td>2020</td>\n",
       "      <td>8</td>\n",
       "      <td>16</td>\n",
       "    </tr>\n",
       "    <tr>\n",
       "      <th>241</th>\n",
       "      <td>39.352857</td>\n",
       "      <td>15.490000</td>\n",
       "      <td>38.474286</td>\n",
       "      <td>2020</td>\n",
       "      <td>8</td>\n",
       "      <td>23</td>\n",
       "    </tr>\n",
       "    <tr>\n",
       "      <th>242</th>\n",
       "      <td>39.227143</td>\n",
       "      <td>14.774286</td>\n",
       "      <td>14.390000</td>\n",
       "      <td>2020</td>\n",
       "      <td>8</td>\n",
       "      <td>30</td>\n",
       "    </tr>\n",
       "    <tr>\n",
       "      <th>243</th>\n",
       "      <td>42.635714</td>\n",
       "      <td>13.055714</td>\n",
       "      <td>14.861429</td>\n",
       "      <td>2020</td>\n",
       "      <td>9</td>\n",
       "      <td>6</td>\n",
       "    </tr>\n",
       "    <tr>\n",
       "      <th>244</th>\n",
       "      <td>40.052857</td>\n",
       "      <td>11.482857</td>\n",
       "      <td>11.665714</td>\n",
       "      <td>2020</td>\n",
       "      <td>9</td>\n",
       "      <td>13</td>\n",
       "    </tr>\n",
       "    <tr>\n",
       "      <th>245</th>\n",
       "      <td>38.990000</td>\n",
       "      <td>23.715714</td>\n",
       "      <td>11.610000</td>\n",
       "      <td>2020</td>\n",
       "      <td>9</td>\n",
       "      <td>20</td>\n",
       "    </tr>\n",
       "    <tr>\n",
       "      <th>246</th>\n",
       "      <td>23.905714</td>\n",
       "      <td>62.097143</td>\n",
       "      <td>33.747143</td>\n",
       "      <td>2020</td>\n",
       "      <td>9</td>\n",
       "      <td>27</td>\n",
       "    </tr>\n",
       "    <tr>\n",
       "      <th>247</th>\n",
       "      <td>20.965714</td>\n",
       "      <td>87.121429</td>\n",
       "      <td>61.771429</td>\n",
       "      <td>2020</td>\n",
       "      <td>10</td>\n",
       "      <td>4</td>\n",
       "    </tr>\n",
       "    <tr>\n",
       "      <th>248</th>\n",
       "      <td>60.690000</td>\n",
       "      <td>77.111429</td>\n",
       "      <td>91.467143</td>\n",
       "      <td>2020</td>\n",
       "      <td>10</td>\n",
       "      <td>11</td>\n",
       "    </tr>\n",
       "    <tr>\n",
       "      <th>249</th>\n",
       "      <td>59.344286</td>\n",
       "      <td>87.697143</td>\n",
       "      <td>72.955714</td>\n",
       "      <td>2020</td>\n",
       "      <td>10</td>\n",
       "      <td>18</td>\n",
       "    </tr>\n",
       "    <tr>\n",
       "      <th>250</th>\n",
       "      <td>47.874286</td>\n",
       "      <td>89.054286</td>\n",
       "      <td>71.262857</td>\n",
       "      <td>2020</td>\n",
       "      <td>10</td>\n",
       "      <td>25</td>\n",
       "    </tr>\n",
       "    <tr>\n",
       "      <th>251</th>\n",
       "      <td>45.787143</td>\n",
       "      <td>53.365714</td>\n",
       "      <td>60.322857</td>\n",
       "      <td>2020</td>\n",
       "      <td>11</td>\n",
       "      <td>1</td>\n",
       "    </tr>\n",
       "    <tr>\n",
       "      <th>252</th>\n",
       "      <td>24.797143</td>\n",
       "      <td>73.451429</td>\n",
       "      <td>85.232857</td>\n",
       "      <td>2020</td>\n",
       "      <td>11</td>\n",
       "      <td>8</td>\n",
       "    </tr>\n",
       "    <tr>\n",
       "      <th>253</th>\n",
       "      <td>49.948571</td>\n",
       "      <td>105.328571</td>\n",
       "      <td>160.201429</td>\n",
       "      <td>2020</td>\n",
       "      <td>11</td>\n",
       "      <td>15</td>\n",
       "    </tr>\n",
       "    <tr>\n",
       "      <th>254</th>\n",
       "      <td>28.337143</td>\n",
       "      <td>110.898571</td>\n",
       "      <td>104.030000</td>\n",
       "      <td>2020</td>\n",
       "      <td>11</td>\n",
       "      <td>22</td>\n",
       "    </tr>\n",
       "    <tr>\n",
       "      <th>255</th>\n",
       "      <td>40.572857</td>\n",
       "      <td>101.784286</td>\n",
       "      <td>102.722857</td>\n",
       "      <td>2020</td>\n",
       "      <td>11</td>\n",
       "      <td>29</td>\n",
       "    </tr>\n",
       "    <tr>\n",
       "      <th>256</th>\n",
       "      <td>56.087143</td>\n",
       "      <td>107.428571</td>\n",
       "      <td>127.561429</td>\n",
       "      <td>2020</td>\n",
       "      <td>12</td>\n",
       "      <td>6</td>\n",
       "    </tr>\n",
       "    <tr>\n",
       "      <th>257</th>\n",
       "      <td>39.930000</td>\n",
       "      <td>84.142857</td>\n",
       "      <td>124.638571</td>\n",
       "      <td>2020</td>\n",
       "      <td>12</td>\n",
       "      <td>13</td>\n",
       "    </tr>\n",
       "    <tr>\n",
       "      <th>258</th>\n",
       "      <td>29.250000</td>\n",
       "      <td>102.625714</td>\n",
       "      <td>72.678571</td>\n",
       "      <td>2020</td>\n",
       "      <td>12</td>\n",
       "      <td>20</td>\n",
       "    </tr>\n",
       "    <tr>\n",
       "      <th>259</th>\n",
       "      <td>32.095714</td>\n",
       "      <td>76.847143</td>\n",
       "      <td>81.828571</td>\n",
       "      <td>2020</td>\n",
       "      <td>12</td>\n",
       "      <td>27</td>\n",
       "    </tr>\n",
       "  </tbody>\n",
       "</table>\n",
       "</div>"
      ],
      "text/plain": [
       "         NO2y1       NO2y2       NO2y3  year  month  day\n",
       "207  76.847143   81.828571   83.730000  2019     12   29\n",
       "208  52.067143   78.085714   67.225714  2020      1    5\n",
       "209  58.215714   86.725714   57.842857  2020      1   12\n",
       "210  58.545714   79.045714   75.028571  2020      1   19\n",
       "211  44.648571   68.768571   68.434286  2020      1   26\n",
       "212  49.550000   40.208571   62.091429  2020      2    2\n",
       "213  50.381429  104.145714   66.960000  2020      2    9\n",
       "214  72.708571   61.682857   67.874286  2020      2   16\n",
       "215  73.708571   91.308571   82.401429  2020      2   23\n",
       "216  88.330000   77.098571   62.438571  2020      3    1\n",
       "217  79.500000   79.525714   69.681429  2020      3    8\n",
       "218  77.165714   74.798571   42.437143  2020      3   15\n",
       "219  68.678571   64.557143   39.302857  2020      3   22\n",
       "220  75.190000   78.710000   52.792857  2020      3   29\n",
       "221  80.177143   85.032857   83.612857  2020      4    5\n",
       "222  65.317143  100.721429   78.382857  2020      4   12\n",
       "223  63.594286   72.021429   41.212857  2020      4   19\n",
       "224  78.094286   81.438571   39.644286  2020      4   26\n",
       "225  80.028571   59.942857   29.437143  2020      5    3\n",
       "226  71.931429   81.362857   46.694286  2020      5   10\n",
       "227  64.490000   72.390000   37.427143  2020      5   17\n",
       "228  59.467143  102.204286   32.290000  2020      5   24\n",
       "229  66.998571   68.358571   37.517143  2020      5   31\n",
       "230  55.095714   53.407143   64.034286  2020      6    7\n",
       "231  54.134286   37.104286   44.175714  2020      6   14\n",
       "232  48.180000   83.901429   34.071429  2020      6   21\n",
       "233  48.744286   66.621429   87.620000  2020      6   28\n",
       "234  40.830000   73.278571   61.747143  2020      7    5\n",
       "235  37.295714   40.361429   76.134286  2020      7   12\n",
       "236  44.932857   42.640000   37.995714  2020      7   19\n",
       "237  42.462857   19.683571   44.851429  2020      7   26\n",
       "238  38.792857   16.265714   14.911429  2020      8    2\n",
       "239  34.137143   13.340000   17.081429  2020      8    9\n",
       "240  29.191429   43.347143   20.224286  2020      8   16\n",
       "241  39.352857   15.490000   38.474286  2020      8   23\n",
       "242  39.227143   14.774286   14.390000  2020      8   30\n",
       "243  42.635714   13.055714   14.861429  2020      9    6\n",
       "244  40.052857   11.482857   11.665714  2020      9   13\n",
       "245  38.990000   23.715714   11.610000  2020      9   20\n",
       "246  23.905714   62.097143   33.747143  2020      9   27\n",
       "247  20.965714   87.121429   61.771429  2020     10    4\n",
       "248  60.690000   77.111429   91.467143  2020     10   11\n",
       "249  59.344286   87.697143   72.955714  2020     10   18\n",
       "250  47.874286   89.054286   71.262857  2020     10   25\n",
       "251  45.787143   53.365714   60.322857  2020     11    1\n",
       "252  24.797143   73.451429   85.232857  2020     11    8\n",
       "253  49.948571  105.328571  160.201429  2020     11   15\n",
       "254  28.337143  110.898571  104.030000  2020     11   22\n",
       "255  40.572857  101.784286  102.722857  2020     11   29\n",
       "256  56.087143  107.428571  127.561429  2020     12    6\n",
       "257  39.930000   84.142857  124.638571  2020     12   13\n",
       "258  29.250000  102.625714   72.678571  2020     12   20\n",
       "259  32.095714   76.847143   81.828571  2020     12   27"
      ]
     },
     "execution_count": 44,
     "metadata": {},
     "output_type": "execute_result"
    }
   ],
   "source": [
    "test=data.loc['207':'259']\n",
    "X=test[['NO2y1','NO2y2','NO2y3','year', 'month', 'day']]\n",
    "X"
   ]
  },
  {
   "cell_type": "code",
   "execution_count": 45,
   "metadata": {},
   "outputs": [],
   "source": [
    "predict=grad_boost.predict(X)"
   ]
  },
  {
   "cell_type": "code",
   "execution_count": 46,
   "metadata": {
    "scrolled": false
   },
   "outputs": [
    {
     "data": {
      "text/plain": [
       "array([32.09571429, 71.00273466, 62.89375656, 62.78652093, 61.04252387,\n",
       "       64.21546513, 58.19882687, 67.56002647, 58.85653513, 72.93228017,\n",
       "       77.32018072, 72.85776445, 64.02302534, 51.91742221, 68.76675496,\n",
       "       60.27334421, 55.25061092, 64.70732068, 62.26028189, 64.75594674,\n",
       "       52.55652537, 53.65850967, 58.29128225, 53.84964677, 46.08444279,\n",
       "       57.26915631, 55.18811662, 37.12423262, 46.91966128, 38.44444996,\n",
       "       42.13341801, 26.64090355, 31.0534666 , 34.02820198, 34.52361995,\n",
       "       29.09520514, 28.65491807, 30.43974887, 33.88047542, 41.98446078,\n",
       "       41.82116305, 61.35667619, 41.44191247, 45.66867495, 38.52364857,\n",
       "       43.48808422, 25.15621858, 41.50690257, 47.53227917, 24.63109368,\n",
       "       27.19909311, 33.12425555, 40.40422128])"
      ]
     },
     "execution_count": 46,
     "metadata": {},
     "output_type": "execute_result"
    }
   ],
   "source": [
    "predict"
   ]
  },
  {
   "cell_type": "code",
   "execution_count": 47,
   "metadata": {},
   "outputs": [],
   "source": [
    "dates=data.loc['207':'259','From Date']"
   ]
  },
  {
   "cell_type": "code",
   "execution_count": 48,
   "metadata": {},
   "outputs": [],
   "source": [
    "X['From Date']=dates.values"
   ]
  },
  {
   "cell_type": "code",
   "execution_count": 49,
   "metadata": {},
   "outputs": [
    {
     "data": {
      "text/plain": [
       "Index(['NO2y1', 'NO2y2', 'NO2y3', 'year', 'month', 'day', 'From Date'], dtype='object')"
      ]
     },
     "execution_count": 49,
     "metadata": {},
     "output_type": "execute_result"
    }
   ],
   "source": [
    "X.columns"
   ]
  },
  {
   "cell_type": "code",
   "execution_count": 50,
   "metadata": {},
   "outputs": [],
   "source": [
    "X['From Date']= X['From Date'].map(dt.datetime.fromordinal)"
   ]
  },
  {
   "cell_type": "code",
   "execution_count": 51,
   "metadata": {},
   "outputs": [],
   "source": [
    "test['From Date']= test['From Date'].map(dt.datetime.fromordinal)"
   ]
  },
  {
   "cell_type": "code",
   "execution_count": 52,
   "metadata": {},
   "outputs": [],
   "source": [
    "test = test.set_index(['From Date'])\n",
    "X = X.set_index(['From Date'])\n"
   ]
  },
  {
   "cell_type": "code",
   "execution_count": 53,
   "metadata": {},
   "outputs": [],
   "source": [
    "X['pred']=predict"
   ]
  },
  {
   "cell_type": "code",
   "execution_count": 54,
   "metadata": {
    "scrolled": true
   },
   "outputs": [
    {
     "data": {
      "text/plain": [
       "<AxesSubplot:xlabel='From Date'>"
      ]
     },
     "execution_count": 54,
     "metadata": {},
     "output_type": "execute_result"
    },
    {
     "data": {
      "image/png": "[encoded data removed]",
      "text/plain": [
       "<Figure size 720x432 with 1 Axes>"
      ]
     },
     "metadata": {},
     "output_type": "display_data"
    }
   ],
   "source": [
    "test['NO2'].plot(legend=True, label='Actual NO2', figsize=(10,6))\n",
    "X['pred'].plot(legend=True, label='Predicted NO2')"
   ]
  },
  {
   "cell_type": "code",
   "execution_count": 55,
   "metadata": {},
   "outputs": [
    {
     "data": {
      "text/plain": [
       "27.2440301203722"
      ]
     },
     "execution_count": 55,
     "metadata": {},
     "output_type": "execute_result"
    }
   ],
   "source": [
    "np.sqrt(mean_squared_error(test['NO2'],X['pred']))"
   ]
  },
  {
   "cell_type": "code",
   "execution_count": 56,
   "metadata": {
    "scrolled": false
   },
   "outputs": [
    {
     "name": "stdout",
     "output_type": "stream",
     "text": [
      "Results of sklearn.metrics:\n",
      "MAE: 13.55540337745593\n",
      "MSE: 302.10338722934205\n",
      "RMSE: 17.381121575702245\n",
      "R-Squared: 0.5291949311347739\n"
     ]
    }
   ],
   "source": [
    "mae = metrics.mean_absolute_error(ytest, gboost_pred)\n",
    "mse = metrics.mean_squared_error(ytest, gboost_pred)\n",
    "rmsetest = np.sqrt(mse) # or mse**(0.5)  \n",
    "r2 = metrics.r2_score(ytest,gboost_pred)\n",
    "\n",
    "print(\"Results of sklearn.metrics:\")\n",
    "print(\"MAE:\",mae)\n",
    "print(\"MSE:\", mse)\n",
    "print(\"RMSE:\", rmsetest)\n",
    "print(\"R-Squared:\", r2)"
   ]
  },
  {
   "cell_type": "code",
   "execution_count": 57,
   "metadata": {},
   "outputs": [
    {
     "name": "stdout",
     "output_type": "stream",
     "text": [
      "Results of sklearn.metrics:\n",
      "MAE: 21.967600436788235\n",
      "MSE: 742.2371771997477\n",
      "RMSE: 27.2440301203722\n",
      "R-Squared: -0.893034201793226\n"
     ]
    }
   ],
   "source": [
    "mae = metrics.mean_absolute_error(test['NO2'],X['pred'])\n",
    "mse = metrics.mean_squared_error(test['NO2'],X['pred'])\n",
    "rmse = np.sqrt(mse) # or mse**(0.5)  \n",
    "r2 = metrics.r2_score(test['NO2'],X['pred'])\n",
    "\n",
    "print(\"Results of sklearn.metrics:\")\n",
    "print(\"MAE:\",mae)\n",
    "print(\"MSE:\", mse)\n",
    "print(\"RMSE:\", rmse)\n",
    "print(\"R-Squared:\", r2)"
   ]
  },
  {
   "cell_type": "code",
   "execution_count": 58,
   "metadata": {},
   "outputs": [],
   "source": [
    "import pickle\n",
    "filename = 'NO2_gboost3y.sav'\n",
    "pickle.dump(grad_boost, open(filename, 'wb'))"
   ]
  },
  {
   "cell_type": "code",
   "execution_count": 59,
   "metadata": {},
   "outputs": [
    {
     "name": "stdout",
     "output_type": "stream",
     "text": [
      "0.5291949311347739\n"
     ]
    }
   ],
   "source": [
    "#load model\n",
    "loaded_model = pickle.load(open(filename, 'rb'))\n",
    "result = loaded_model.score(xtest, ytest)\n",
    "print(result)"
   ]
  },
  {
   "cell_type": "markdown",
   "metadata": {},
   "source": [
    "# 3rd plot"
   ]
  },
  {
   "cell_type": "code",
   "execution_count": 60,
   "metadata": {},
   "outputs": [],
   "source": [
    "testcase = pd.DataFrame()"
   ]
  },
  {
   "cell_type": "code",
   "execution_count": 61,
   "metadata": {
    "scrolled": true
   },
   "outputs": [],
   "source": [
    "testcase['test']=ytest\n",
    "testcase['pred']=gboost_pred"
   ]
  },
  {
   "cell_type": "code",
   "execution_count": 62,
   "metadata": {},
   "outputs": [],
   "source": [
    "testcase[\"Corrected\"] = np.where(testcase[\"pred\"]<testcase[\"test\"],testcase[\"pred\"]+rmsetest ,\n",
    "                   np.where(testcase[\"pred\"]>testcase[\"test\"], testcase[\"pred\"]-rmsetest,\n",
    "                            testcase[\"pred\"]))"
   ]
  },
  {
   "cell_type": "code",
   "execution_count": 63,
   "metadata": {},
   "outputs": [
    {
     "data": {
      "text/html": [
       "<div>\n",
       "<style scoped>\n",
       "    .dataframe tbody tr th:only-of-type {\n",
       "        vertical-align: middle;\n",
       "    }\n",
       "\n",
       "    .dataframe tbody tr th {\n",
       "        vertical-align: top;\n",
       "    }\n",
       "\n",
       "    .dataframe thead th {\n",
       "        text-align: right;\n",
       "    }\n",
       "</style>\n",
       "<table border=\"1\" class=\"dataframe\">\n",
       "  <thead>\n",
       "    <tr style=\"text-align: right;\">\n",
       "      <th></th>\n",
       "      <th>test</th>\n",
       "      <th>pred</th>\n",
       "      <th>Corrected</th>\n",
       "    </tr>\n",
       "  </thead>\n",
       "  <tbody>\n",
       "    <tr>\n",
       "      <th>154</th>\n",
       "      <td>102.625714</td>\n",
       "      <td>79.611149</td>\n",
       "      <td>96.992271</td>\n",
       "    </tr>\n",
       "    <tr>\n",
       "      <th>192</th>\n",
       "      <td>40.052857</td>\n",
       "      <td>32.625342</td>\n",
       "      <td>50.006463</td>\n",
       "    </tr>\n",
       "    <tr>\n",
       "      <th>135</th>\n",
       "      <td>13.340000</td>\n",
       "      <td>25.217391</td>\n",
       "      <td>7.836269</td>\n",
       "    </tr>\n",
       "    <tr>\n",
       "      <th>10</th>\n",
       "      <td>80.291429</td>\n",
       "      <td>74.175025</td>\n",
       "      <td>91.556146</td>\n",
       "    </tr>\n",
       "    <tr>\n",
       "      <th>13</th>\n",
       "      <td>92.682857</td>\n",
       "      <td>85.814340</td>\n",
       "      <td>103.195461</td>\n",
       "    </tr>\n",
       "    <tr>\n",
       "      <th>173</th>\n",
       "      <td>80.028571</td>\n",
       "      <td>55.402597</td>\n",
       "      <td>72.783719</td>\n",
       "    </tr>\n",
       "    <tr>\n",
       "      <th>205</th>\n",
       "      <td>39.930000</td>\n",
       "      <td>51.331825</td>\n",
       "      <td>33.950704</td>\n",
       "    </tr>\n",
       "    <tr>\n",
       "      <th>23</th>\n",
       "      <td>57.194286</td>\n",
       "      <td>59.686014</td>\n",
       "      <td>42.304892</td>\n",
       "    </tr>\n",
       "    <tr>\n",
       "      <th>71</th>\n",
       "      <td>37.427143</td>\n",
       "      <td>66.209222</td>\n",
       "      <td>48.828101</td>\n",
       "    </tr>\n",
       "    <tr>\n",
       "      <th>28</th>\n",
       "      <td>42.674286</td>\n",
       "      <td>52.754626</td>\n",
       "      <td>35.373504</td>\n",
       "    </tr>\n",
       "    <tr>\n",
       "      <th>41</th>\n",
       "      <td>84.795714</td>\n",
       "      <td>85.154819</td>\n",
       "      <td>67.773698</td>\n",
       "    </tr>\n",
       "    <tr>\n",
       "      <th>182</th>\n",
       "      <td>40.830000</td>\n",
       "      <td>55.913723</td>\n",
       "      <td>38.532602</td>\n",
       "    </tr>\n",
       "    <tr>\n",
       "      <th>25</th>\n",
       "      <td>48.759286</td>\n",
       "      <td>66.741377</td>\n",
       "      <td>49.360256</td>\n",
       "    </tr>\n",
       "    <tr>\n",
       "      <th>91</th>\n",
       "      <td>61.771429</td>\n",
       "      <td>68.409063</td>\n",
       "      <td>51.027942</td>\n",
       "    </tr>\n",
       "    <tr>\n",
       "      <th>24</th>\n",
       "      <td>44.781429</td>\n",
       "      <td>69.018340</td>\n",
       "      <td>51.637218</td>\n",
       "    </tr>\n",
       "    <tr>\n",
       "      <th>180</th>\n",
       "      <td>48.180000</td>\n",
       "      <td>58.708822</td>\n",
       "      <td>41.327700</td>\n",
       "    </tr>\n",
       "    <tr>\n",
       "      <th>186</th>\n",
       "      <td>38.792857</td>\n",
       "      <td>37.038441</td>\n",
       "      <td>54.419562</td>\n",
       "    </tr>\n",
       "    <tr>\n",
       "      <th>109</th>\n",
       "      <td>104.145714</td>\n",
       "      <td>63.208191</td>\n",
       "      <td>80.589312</td>\n",
       "    </tr>\n",
       "    <tr>\n",
       "      <th>66</th>\n",
       "      <td>78.382857</td>\n",
       "      <td>64.928465</td>\n",
       "      <td>82.309587</td>\n",
       "    </tr>\n",
       "    <tr>\n",
       "      <th>44</th>\n",
       "      <td>129.578571</td>\n",
       "      <td>96.438763</td>\n",
       "      <td>113.819885</td>\n",
       "    </tr>\n",
       "    <tr>\n",
       "      <th>54</th>\n",
       "      <td>75.028571</td>\n",
       "      <td>65.608167</td>\n",
       "      <td>82.989289</td>\n",
       "    </tr>\n",
       "    <tr>\n",
       "      <th>144</th>\n",
       "      <td>77.111429</td>\n",
       "      <td>87.441754</td>\n",
       "      <td>70.060632</td>\n",
       "    </tr>\n",
       "    <tr>\n",
       "      <th>35</th>\n",
       "      <td>40.070000</td>\n",
       "      <td>30.465447</td>\n",
       "      <td>47.846569</td>\n",
       "    </tr>\n",
       "    <tr>\n",
       "      <th>143</th>\n",
       "      <td>87.121429</td>\n",
       "      <td>46.062860</td>\n",
       "      <td>63.443981</td>\n",
       "    </tr>\n",
       "    <tr>\n",
       "      <th>53</th>\n",
       "      <td>57.842857</td>\n",
       "      <td>78.442396</td>\n",
       "      <td>61.061274</td>\n",
       "    </tr>\n",
       "    <tr>\n",
       "      <th>6</th>\n",
       "      <td>83.024286</td>\n",
       "      <td>89.905293</td>\n",
       "      <td>72.524172</td>\n",
       "    </tr>\n",
       "    <tr>\n",
       "      <th>12</th>\n",
       "      <td>60.820000</td>\n",
       "      <td>69.639337</td>\n",
       "      <td>52.258215</td>\n",
       "    </tr>\n",
       "    <tr>\n",
       "      <th>29</th>\n",
       "      <td>42.780000</td>\n",
       "      <td>50.460141</td>\n",
       "      <td>33.079020</td>\n",
       "    </tr>\n",
       "    <tr>\n",
       "      <th>18</th>\n",
       "      <td>88.401429</td>\n",
       "      <td>88.034821</td>\n",
       "      <td>105.415942</td>\n",
       "    </tr>\n",
       "    <tr>\n",
       "      <th>115</th>\n",
       "      <td>64.557143</td>\n",
       "      <td>74.555837</td>\n",
       "      <td>57.174716</td>\n",
       "    </tr>\n",
       "    <tr>\n",
       "      <th>5</th>\n",
       "      <td>93.995714</td>\n",
       "      <td>86.854325</td>\n",
       "      <td>104.235446</td>\n",
       "    </tr>\n",
       "    <tr>\n",
       "      <th>139</th>\n",
       "      <td>13.055714</td>\n",
       "      <td>16.895704</td>\n",
       "      <td>-0.485417</td>\n",
       "    </tr>\n",
       "    <tr>\n",
       "      <th>2</th>\n",
       "      <td>69.614286</td>\n",
       "      <td>82.181784</td>\n",
       "      <td>64.800662</td>\n",
       "    </tr>\n",
       "    <tr>\n",
       "      <th>190</th>\n",
       "      <td>39.227143</td>\n",
       "      <td>34.859487</td>\n",
       "      <td>52.240608</td>\n",
       "    </tr>\n",
       "    <tr>\n",
       "      <th>3</th>\n",
       "      <td>88.211429</td>\n",
       "      <td>89.377826</td>\n",
       "      <td>71.996704</td>\n",
       "    </tr>\n",
       "    <tr>\n",
       "      <th>201</th>\n",
       "      <td>49.948571</td>\n",
       "      <td>63.223892</td>\n",
       "      <td>45.842770</td>\n",
       "    </tr>\n",
       "    <tr>\n",
       "      <th>14</th>\n",
       "      <td>76.464286</td>\n",
       "      <td>77.533997</td>\n",
       "      <td>60.152875</td>\n",
       "    </tr>\n",
       "    <tr>\n",
       "      <th>120</th>\n",
       "      <td>81.438571</td>\n",
       "      <td>60.203225</td>\n",
       "      <td>77.584346</td>\n",
       "    </tr>\n",
       "    <tr>\n",
       "      <th>172</th>\n",
       "      <td>78.094286</td>\n",
       "      <td>63.997763</td>\n",
       "      <td>81.378885</td>\n",
       "    </tr>\n",
       "    <tr>\n",
       "      <th>181</th>\n",
       "      <td>48.744286</td>\n",
       "      <td>45.945021</td>\n",
       "      <td>63.326142</td>\n",
       "    </tr>\n",
       "    <tr>\n",
       "      <th>130</th>\n",
       "      <td>73.278571</td>\n",
       "      <td>39.544700</td>\n",
       "      <td>56.925822</td>\n",
       "    </tr>\n",
       "    <tr>\n",
       "      <th>195</th>\n",
       "      <td>20.965714</td>\n",
       "      <td>53.439744</td>\n",
       "      <td>36.058622</td>\n",
       "    </tr>\n",
       "  </tbody>\n",
       "</table>\n",
       "</div>"
      ],
      "text/plain": [
       "           test       pred   Corrected\n",
       "154  102.625714  79.611149   96.992271\n",
       "192   40.052857  32.625342   50.006463\n",
       "135   13.340000  25.217391    7.836269\n",
       "10    80.291429  74.175025   91.556146\n",
       "13    92.682857  85.814340  103.195461\n",
       "173   80.028571  55.402597   72.783719\n",
       "205   39.930000  51.331825   33.950704\n",
       "23    57.194286  59.686014   42.304892\n",
       "71    37.427143  66.209222   48.828101\n",
       "28    42.674286  52.754626   35.373504\n",
       "41    84.795714  85.154819   67.773698\n",
       "182   40.830000  55.913723   38.532602\n",
       "25    48.759286  66.741377   49.360256\n",
       "91    61.771429  68.409063   51.027942\n",
       "24    44.781429  69.018340   51.637218\n",
       "180   48.180000  58.708822   41.327700\n",
       "186   38.792857  37.038441   54.419562\n",
       "109  104.145714  63.208191   80.589312\n",
       "66    78.382857  64.928465   82.309587\n",
       "44   129.578571  96.438763  113.819885\n",
       "54    75.028571  65.608167   82.989289\n",
       "144   77.111429  87.441754   70.060632\n",
       "35    40.070000  30.465447   47.846569\n",
       "143   87.121429  46.062860   63.443981\n",
       "53    57.842857  78.442396   61.061274\n",
       "6     83.024286  89.905293   72.524172\n",
       "12    60.820000  69.639337   52.258215\n",
       "29    42.780000  50.460141   33.079020\n",
       "18    88.401429  88.034821  105.415942\n",
       "115   64.557143  74.555837   57.174716\n",
       "5     93.995714  86.854325  104.235446\n",
       "139   13.055714  16.895704   -0.485417\n",
       "2     69.614286  82.181784   64.800662\n",
       "190   39.227143  34.859487   52.240608\n",
       "3     88.211429  89.377826   71.996704\n",
       "201   49.948571  63.223892   45.842770\n",
       "14    76.464286  77.533997   60.152875\n",
       "120   81.438571  60.203225   77.584346\n",
       "172   78.094286  63.997763   81.378885\n",
       "181   48.744286  45.945021   63.326142\n",
       "130   73.278571  39.544700   56.925822\n",
       "195   20.965714  53.439744   36.058622"
      ]
     },
     "execution_count": 63,
     "metadata": {},
     "output_type": "execute_result"
    }
   ],
   "source": [
    "testcase"
   ]
  },
  {
   "cell_type": "code",
   "execution_count": 64,
   "metadata": {},
   "outputs": [
    {
     "data": {
      "text/plain": [
       "'testcase[\\'test\\'].plot(legend=True, label=\\'Actual PM2.5\\', figsize=(10,6))\\ntestcase[\\'pred\\'].plot(legend=True, label=\\'Predicted PM2.5\\')\\ntestcase[\"Corrected\"].plot(legend=True, label=\\'Corrected PM2.5\\')'"
      ]
     },
     "execution_count": 64,
     "metadata": {},
     "output_type": "execute_result"
    }
   ],
   "source": [
    "'''testcase['test'].plot(legend=True, label='Actual PM2.5', figsize=(10,6))\n",
    "testcase['pred'].plot(legend=True, label='Predicted PM2.5')\n",
    "testcase[\"Corrected\"].plot(legend=True, label='Corrected PM2.5')'''"
   ]
  },
  {
   "cell_type": "code",
   "execution_count": 65,
   "metadata": {
    "scrolled": true
   },
   "outputs": [
    {
     "data": {
      "text/plain": [
       "0.7770881762942305"
      ]
     },
     "execution_count": 65,
     "metadata": {},
     "output_type": "execute_result"
    }
   ],
   "source": [
    "r2 = metrics.r2_score(testcase[\"Corrected\"],testcase['test'])\n",
    "r2"
   ]
  },
  {
   "cell_type": "code",
   "execution_count": 66,
   "metadata": {},
   "outputs": [],
   "source": [
    "test2020=pd.DataFrame()"
   ]
  },
  {
   "cell_type": "code",
   "execution_count": 67,
   "metadata": {},
   "outputs": [],
   "source": [
    "test2020['test']=test['NO2']\n",
    "test2020['pred']=X['pred']"
   ]
  },
  {
   "cell_type": "code",
   "execution_count": 68,
   "metadata": {},
   "outputs": [],
   "source": [
    "test2020.index=test.index"
   ]
  },
  {
   "cell_type": "code",
   "execution_count": 69,
   "metadata": {},
   "outputs": [],
   "source": [
    "test2020[\"Corrected\"] = np.where(test2020[\"pred\"]<test2020[\"test\"],test2020[\"pred\"]+rmsetest ,\n",
    "                   np.where(test2020[\"pred\"]>test2020[\"test\"], test2020[\"pred\"]-rmsetest,\n",
    "                            test2020[\"pred\"]))"
   ]
  },
  {
   "cell_type": "code",
   "execution_count": 70,
   "metadata": {},
   "outputs": [
    {
     "data": {
      "text/plain": [
       "<AxesSubplot:xlabel='From Date'>"
      ]
     },
     "execution_count": 70,
     "metadata": {},
     "output_type": "execute_result"
    },
    {
     "data": {
      "image/png": "[encoded data removed]",
      "text/plain": [
       "<Figure size 720x432 with 1 Axes>"
      ]
     },
     "metadata": {},
     "output_type": "display_data"
    }
   ],
   "source": [
    "test2020['test'].plot(legend=True, label='Actual NO2 2020', figsize=(10,6))\n",
    "test2020['pred'].plot(legend=True, label='Predicted NO2 2020')\n",
    "test2020[\"Corrected\"].plot(legend=True, label='Corrected NO2 2020')"
   ]
  },
  {
   "cell_type": "code",
   "execution_count": 71,
   "metadata": {},
   "outputs": [
    {
     "data": {
      "text/plain": [
       "-0.0449805883965706"
      ]
     },
     "execution_count": 71,
     "metadata": {},
     "output_type": "execute_result"
    }
   ],
   "source": [
    "r2020 = metrics.r2_score(test2020[\"Corrected\"],test2020['test'])\n",
    "r2020"
   ]
  },
  {
   "cell_type": "code",
   "execution_count": null,
   "metadata": {},
   "outputs": [],
   "source": []
  }
 ],
 "metadata": {
  "kernelspec": {
   "display_name": "Python 3",
   "language": "python",
   "name": "python3"
  },
  "language_info": {
   "codemirror_mode": {
    "name": "ipython",
    "version": 3
   },
   "file_extension": ".py",
   "mimetype": "text/x-python",
   "name": "python",
   "nbconvert_exporter": "python",
   "pygments_lexer": "ipython3",
   "version": "3.8.5"
  }
 },
 "nbformat": 4,
 "nbformat_minor": 4
}
