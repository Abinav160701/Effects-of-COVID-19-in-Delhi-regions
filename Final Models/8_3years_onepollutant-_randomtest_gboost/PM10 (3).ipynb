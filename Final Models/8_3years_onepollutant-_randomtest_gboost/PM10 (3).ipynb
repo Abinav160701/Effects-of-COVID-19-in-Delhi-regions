{
 "cells": [
  {
   "cell_type": "code",
   "execution_count": 1,
   "metadata": {},
   "outputs": [],
   "source": [
    "import pandas as pd\n",
    "import numpy as np\n",
    "import matplotlib.pyplot as plt\n",
    "import seaborn as sns\n",
    "sns.set()\n",
    "import warnings\n",
    "warnings.filterwarnings(action='ignore')\n",
    "from statsmodels.tsa.seasonal import seasonal_decompose\n",
    "import statsmodels.formula.api as formula\n",
    "from statsmodels.stats.outliers_influence import variance_inflation_factor\n",
    "import statsmodels as sm\n",
    "from sklearn import preprocessing\n",
    "from sklearn.model_selection import train_test_split,GridSearchCV,RandomizedSearchCV\n",
    "from sklearn.linear_model import LinearRegression,Lasso,Ridge\n",
    "#from sklearn.externals import joblib\n",
    "from sklearn.metrics import r2_score,mean_squared_error\n",
    "from sklearn.ensemble import RandomForestRegressor,GradientBoostingRegressor\n",
    "from sklearn.tree import DecisionTreeRegressor\n",
    "from IPython.display import display\n",
    "from sklearn import metrics"
   ]
  },
  {
   "cell_type": "code",
   "execution_count": 2,
   "metadata": {},
   "outputs": [],
   "source": [
    "data = pd.read_excel (r'C:\\Users\\Kira\\Desktop\\Internship\\Data\\Delhi_Data-20210529T043217Z-001\\Delhi_Data\\2013-2020-RK-PURAM-final-dataset\\3y_weekly_RKPURAM.xlsx')\n",
    "data['From Date']=pd.to_datetime(data['From Date'])\n",
    "data['year'] = data['From Date'].dt.year\n",
    "data['month'] = data['From Date'].dt.month\n",
    "data['day'] = data['From Date'].dt.day"
   ]
  },
  {
   "cell_type": "code",
   "execution_count": 3,
   "metadata": {},
   "outputs": [],
   "source": [
    "import datetime as dt"
   ]
  },
  {
   "cell_type": "code",
   "execution_count": 4,
   "metadata": {},
   "outputs": [],
   "source": [
    "data['From Date']= data['From Date'].map(dt.datetime.toordinal)"
   ]
  },
  {
   "cell_type": "code",
   "execution_count": 5,
   "metadata": {},
   "outputs": [],
   "source": [
    "df=data.loc['0':'207']"
   ]
  },
  {
   "cell_type": "code",
   "execution_count": 6,
   "metadata": {},
   "outputs": [
    {
     "data": {
      "text/plain": [
       "Index(['From Date', 'PM2.5y1', 'PM1y1', 'NOy1', 'NO2y1', 'NOxy1', 'NH3y1',\n",
       "       'SO2y1', 'COy1', 'Ozoney1', 'RHy1', 'WSy1', 'WDy1', 'SRy1', 'BPy1',\n",
       "       'ATy1', 'PM2.5y2', 'PM1y2', 'NOy2', 'NO2y2', 'NOxy2', 'NH3y2', 'SO2y2',\n",
       "       'COy2', 'Ozoney2', 'RHy2', 'WSy2', 'WDy2', 'SRy2', 'BPy2', 'ATy2',\n",
       "       'PM2.5y3', 'PM1y3', 'NOy3', 'NO2y3', 'NOxy3', 'NH3y3', 'SO2y3', 'COy3',\n",
       "       'Ozoney3', 'RHy3', 'WSy3', 'WDy3', 'SRy3', 'BPy3', 'ATy3', 'PM2.5',\n",
       "       'PM1', 'NO', 'NO2', 'NOx', 'NH3', 'SO2', 'CO', 'Ozone', 'RH', 'WS',\n",
       "       'WD', 'SR', 'BP', 'AT', 'year', 'month', 'day'],\n",
       "      dtype='object')"
      ]
     },
     "execution_count": 6,
     "metadata": {},
     "output_type": "execute_result"
    }
   ],
   "source": [
    "df.columns"
   ]
  },
  {
   "cell_type": "code",
   "execution_count": 7,
   "metadata": {},
   "outputs": [],
   "source": [
    "X1 = df[['PM1y1', 'PM1y2', 'PM1y3','year', 'month', 'day']]\n",
    "Y1 = df['PM1']"
   ]
  },
  {
   "cell_type": "code",
   "execution_count": 21,
   "metadata": {},
   "outputs": [],
   "source": [
    "xtrain,xtest,ytrain,ytest = train_test_split(X1,Y1,test_size=.2,random_state=4)"
   ]
  },
  {
   "cell_type": "code",
   "execution_count": 22,
   "metadata": {},
   "outputs": [
    {
     "data": {
      "text/plain": [
       "GradientBoostingRegressor(learning_rate=0.001, max_depth=8, max_features=0.25,\n",
       "                          min_samples_leaf=6, min_samples_split=4,\n",
       "                          n_estimators=2500)"
      ]
     },
     "execution_count": 22,
     "metadata": {},
     "output_type": "execute_result"
    }
   ],
   "source": [
    "grad_boost = GradientBoostingRegressor(n_estimators=2500,\n",
    "                                      max_depth=8,\n",
    "                                      max_features=0.25,\n",
    "                                      min_samples_split=4,\n",
    "                                      min_samples_leaf=6,\n",
    "                                      learning_rate=0.001)\n",
    "\n",
    "grad_boost.fit(xtrain,ytrain)"
   ]
  },
  {
   "cell_type": "code",
   "execution_count": 23,
   "metadata": {
    "scrolled": true
   },
   "outputs": [
    {
     "name": "stdout",
     "output_type": "stream",
     "text": [
      "Score on train data: 0.8584370491654519\n",
      "\n",
      "Score on test data: 0.7198635152196273\n",
      "\n",
      "Root Mean Squared Error: 60.24285854549239\n",
      "\n",
      "Overall model accuracy: 0.7198635152196273\n"
     ]
    }
   ],
   "source": [
    "# we now score the model\n",
    "print('Score on train data: {}\\n'.format(grad_boost.score(xtrain,ytrain)))\n",
    "print('Score on test data: {}\\n'.format(grad_boost.score(xtest,ytest)))\n",
    "\n",
    "gboost_pred = grad_boost.predict(xtest)\n",
    "gboost_mse = mean_squared_error(ytest,gboost_pred)\n",
    "gboost_accuracy = r2_score(ytest,gboost_pred)\n",
    "\n",
    "print('Root Mean Squared Error: {}\\n'.format(np.sqrt(gboost_mse)))\n",
    "print('Overall model accuracy: {}'.format(gboost_accuracy))"
   ]
  },
  {
   "cell_type": "code",
   "execution_count": 24,
   "metadata": {},
   "outputs": [
    {
     "data": {
      "text/html": [
       "<div>\n",
       "<style scoped>\n",
       "    .dataframe tbody tr th:only-of-type {\n",
       "        vertical-align: middle;\n",
       "    }\n",
       "\n",
       "    .dataframe tbody tr th {\n",
       "        vertical-align: top;\n",
       "    }\n",
       "\n",
       "    .dataframe thead th {\n",
       "        text-align: right;\n",
       "    }\n",
       "</style>\n",
       "<table border=\"1\" class=\"dataframe\">\n",
       "  <thead>\n",
       "    <tr style=\"text-align: right;\">\n",
       "      <th></th>\n",
       "      <th>PM1y1</th>\n",
       "      <th>PM1y2</th>\n",
       "      <th>PM1y3</th>\n",
       "      <th>year</th>\n",
       "      <th>month</th>\n",
       "      <th>day</th>\n",
       "    </tr>\n",
       "  </thead>\n",
       "  <tbody>\n",
       "    <tr>\n",
       "      <th>207</th>\n",
       "      <td>428.861429</td>\n",
       "      <td>371.975714</td>\n",
       "      <td>416.398571</td>\n",
       "      <td>2019</td>\n",
       "      <td>12</td>\n",
       "      <td>29</td>\n",
       "    </tr>\n",
       "    <tr>\n",
       "      <th>208</th>\n",
       "      <td>456.537143</td>\n",
       "      <td>452.655714</td>\n",
       "      <td>332.717143</td>\n",
       "      <td>2020</td>\n",
       "      <td>1</td>\n",
       "      <td>5</td>\n",
       "    </tr>\n",
       "    <tr>\n",
       "      <th>209</th>\n",
       "      <td>349.680000</td>\n",
       "      <td>344.172857</td>\n",
       "      <td>282.434286</td>\n",
       "      <td>2020</td>\n",
       "      <td>1</td>\n",
       "      <td>12</td>\n",
       "    </tr>\n",
       "    <tr>\n",
       "      <th>210</th>\n",
       "      <td>405.144286</td>\n",
       "      <td>405.398571</td>\n",
       "      <td>346.604286</td>\n",
       "      <td>2020</td>\n",
       "      <td>1</td>\n",
       "      <td>19</td>\n",
       "    </tr>\n",
       "    <tr>\n",
       "      <th>211</th>\n",
       "      <td>223.215604</td>\n",
       "      <td>302.185714</td>\n",
       "      <td>237.858571</td>\n",
       "      <td>2020</td>\n",
       "      <td>1</td>\n",
       "      <td>26</td>\n",
       "    </tr>\n",
       "    <tr>\n",
       "      <th>212</th>\n",
       "      <td>225.330769</td>\n",
       "      <td>284.925714</td>\n",
       "      <td>251.350000</td>\n",
       "      <td>2020</td>\n",
       "      <td>2</td>\n",
       "      <td>2</td>\n",
       "    </tr>\n",
       "    <tr>\n",
       "      <th>213</th>\n",
       "      <td>198.920769</td>\n",
       "      <td>331.052857</td>\n",
       "      <td>328.171429</td>\n",
       "      <td>2020</td>\n",
       "      <td>2</td>\n",
       "      <td>9</td>\n",
       "    </tr>\n",
       "    <tr>\n",
       "      <th>214</th>\n",
       "      <td>333.581429</td>\n",
       "      <td>204.577143</td>\n",
       "      <td>279.338571</td>\n",
       "      <td>2020</td>\n",
       "      <td>2</td>\n",
       "      <td>16</td>\n",
       "    </tr>\n",
       "    <tr>\n",
       "      <th>215</th>\n",
       "      <td>192.155714</td>\n",
       "      <td>330.682857</td>\n",
       "      <td>275.608571</td>\n",
       "      <td>2020</td>\n",
       "      <td>2</td>\n",
       "      <td>23</td>\n",
       "    </tr>\n",
       "    <tr>\n",
       "      <th>216</th>\n",
       "      <td>172.547857</td>\n",
       "      <td>228.510000</td>\n",
       "      <td>280.377143</td>\n",
       "      <td>2020</td>\n",
       "      <td>3</td>\n",
       "      <td>1</td>\n",
       "    </tr>\n",
       "    <tr>\n",
       "      <th>217</th>\n",
       "      <td>179.461429</td>\n",
       "      <td>205.820000</td>\n",
       "      <td>289.880000</td>\n",
       "      <td>2020</td>\n",
       "      <td>3</td>\n",
       "      <td>8</td>\n",
       "    </tr>\n",
       "    <tr>\n",
       "      <th>218</th>\n",
       "      <td>186.185714</td>\n",
       "      <td>250.127143</td>\n",
       "      <td>193.385714</td>\n",
       "      <td>2020</td>\n",
       "      <td>3</td>\n",
       "      <td>15</td>\n",
       "    </tr>\n",
       "    <tr>\n",
       "      <th>219</th>\n",
       "      <td>189.462857</td>\n",
       "      <td>196.691429</td>\n",
       "      <td>241.430000</td>\n",
       "      <td>2020</td>\n",
       "      <td>3</td>\n",
       "      <td>22</td>\n",
       "    </tr>\n",
       "    <tr>\n",
       "      <th>220</th>\n",
       "      <td>195.962857</td>\n",
       "      <td>229.671429</td>\n",
       "      <td>237.648571</td>\n",
       "      <td>2020</td>\n",
       "      <td>3</td>\n",
       "      <td>29</td>\n",
       "    </tr>\n",
       "    <tr>\n",
       "      <th>221</th>\n",
       "      <td>266.042857</td>\n",
       "      <td>212.157143</td>\n",
       "      <td>226.832857</td>\n",
       "      <td>2020</td>\n",
       "      <td>4</td>\n",
       "      <td>5</td>\n",
       "    </tr>\n",
       "    <tr>\n",
       "      <th>222</th>\n",
       "      <td>219.594286</td>\n",
       "      <td>198.141429</td>\n",
       "      <td>206.071429</td>\n",
       "      <td>2020</td>\n",
       "      <td>4</td>\n",
       "      <td>12</td>\n",
       "    </tr>\n",
       "    <tr>\n",
       "      <th>223</th>\n",
       "      <td>163.178571</td>\n",
       "      <td>325.294286</td>\n",
       "      <td>305.537143</td>\n",
       "      <td>2020</td>\n",
       "      <td>4</td>\n",
       "      <td>19</td>\n",
       "    </tr>\n",
       "    <tr>\n",
       "      <th>224</th>\n",
       "      <td>283.217143</td>\n",
       "      <td>305.235714</td>\n",
       "      <td>331.410000</td>\n",
       "      <td>2020</td>\n",
       "      <td>4</td>\n",
       "      <td>26</td>\n",
       "    </tr>\n",
       "    <tr>\n",
       "      <th>225</th>\n",
       "      <td>247.807143</td>\n",
       "      <td>180.768571</td>\n",
       "      <td>218.927143</td>\n",
       "      <td>2020</td>\n",
       "      <td>5</td>\n",
       "      <td>3</td>\n",
       "    </tr>\n",
       "    <tr>\n",
       "      <th>226</th>\n",
       "      <td>351.612857</td>\n",
       "      <td>225.631429</td>\n",
       "      <td>313.712857</td>\n",
       "      <td>2020</td>\n",
       "      <td>5</td>\n",
       "      <td>10</td>\n",
       "    </tr>\n",
       "    <tr>\n",
       "      <th>227</th>\n",
       "      <td>197.115714</td>\n",
       "      <td>201.934286</td>\n",
       "      <td>309.000000</td>\n",
       "      <td>2020</td>\n",
       "      <td>5</td>\n",
       "      <td>17</td>\n",
       "    </tr>\n",
       "    <tr>\n",
       "      <th>228</th>\n",
       "      <td>167.354286</td>\n",
       "      <td>245.527143</td>\n",
       "      <td>277.441429</td>\n",
       "      <td>2020</td>\n",
       "      <td>5</td>\n",
       "      <td>24</td>\n",
       "    </tr>\n",
       "    <tr>\n",
       "      <th>229</th>\n",
       "      <td>214.297143</td>\n",
       "      <td>215.097143</td>\n",
       "      <td>219.807143</td>\n",
       "      <td>2020</td>\n",
       "      <td>5</td>\n",
       "      <td>31</td>\n",
       "    </tr>\n",
       "    <tr>\n",
       "      <th>230</th>\n",
       "      <td>200.808571</td>\n",
       "      <td>168.624286</td>\n",
       "      <td>187.057143</td>\n",
       "      <td>2020</td>\n",
       "      <td>6</td>\n",
       "      <td>7</td>\n",
       "    </tr>\n",
       "    <tr>\n",
       "      <th>231</th>\n",
       "      <td>236.931429</td>\n",
       "      <td>398.428571</td>\n",
       "      <td>180.308571</td>\n",
       "      <td>2020</td>\n",
       "      <td>6</td>\n",
       "      <td>14</td>\n",
       "    </tr>\n",
       "    <tr>\n",
       "      <th>232</th>\n",
       "      <td>130.957143</td>\n",
       "      <td>212.274286</td>\n",
       "      <td>390.261429</td>\n",
       "      <td>2020</td>\n",
       "      <td>6</td>\n",
       "      <td>21</td>\n",
       "    </tr>\n",
       "    <tr>\n",
       "      <th>233</th>\n",
       "      <td>207.891429</td>\n",
       "      <td>93.648571</td>\n",
       "      <td>213.428571</td>\n",
       "      <td>2020</td>\n",
       "      <td>6</td>\n",
       "      <td>28</td>\n",
       "    </tr>\n",
       "    <tr>\n",
       "      <th>234</th>\n",
       "      <td>126.332857</td>\n",
       "      <td>148.795714</td>\n",
       "      <td>83.122857</td>\n",
       "      <td>2020</td>\n",
       "      <td>7</td>\n",
       "      <td>5</td>\n",
       "    </tr>\n",
       "    <tr>\n",
       "      <th>235</th>\n",
       "      <td>280.812857</td>\n",
       "      <td>106.338571</td>\n",
       "      <td>160.072857</td>\n",
       "      <td>2020</td>\n",
       "      <td>7</td>\n",
       "      <td>12</td>\n",
       "    </tr>\n",
       "    <tr>\n",
       "      <th>236</th>\n",
       "      <td>111.605714</td>\n",
       "      <td>83.135714</td>\n",
       "      <td>92.230000</td>\n",
       "      <td>2020</td>\n",
       "      <td>7</td>\n",
       "      <td>19</td>\n",
       "    </tr>\n",
       "    <tr>\n",
       "      <th>237</th>\n",
       "      <td>91.477143</td>\n",
       "      <td>66.541429</td>\n",
       "      <td>81.110000</td>\n",
       "      <td>2020</td>\n",
       "      <td>7</td>\n",
       "      <td>26</td>\n",
       "    </tr>\n",
       "    <tr>\n",
       "      <th>238</th>\n",
       "      <td>77.688571</td>\n",
       "      <td>219.920000</td>\n",
       "      <td>74.575714</td>\n",
       "      <td>2020</td>\n",
       "      <td>8</td>\n",
       "      <td>2</td>\n",
       "    </tr>\n",
       "    <tr>\n",
       "      <th>239</th>\n",
       "      <td>61.948571</td>\n",
       "      <td>104.780000</td>\n",
       "      <td>224.825714</td>\n",
       "      <td>2020</td>\n",
       "      <td>8</td>\n",
       "      <td>9</td>\n",
       "    </tr>\n",
       "    <tr>\n",
       "      <th>240</th>\n",
       "      <td>41.944286</td>\n",
       "      <td>98.462857</td>\n",
       "      <td>96.570000</td>\n",
       "      <td>2020</td>\n",
       "      <td>8</td>\n",
       "      <td>16</td>\n",
       "    </tr>\n",
       "    <tr>\n",
       "      <th>241</th>\n",
       "      <td>110.490000</td>\n",
       "      <td>89.305714</td>\n",
       "      <td>103.921429</td>\n",
       "      <td>2020</td>\n",
       "      <td>8</td>\n",
       "      <td>23</td>\n",
       "    </tr>\n",
       "    <tr>\n",
       "      <th>242</th>\n",
       "      <td>84.177143</td>\n",
       "      <td>94.600000</td>\n",
       "      <td>79.894286</td>\n",
       "      <td>2020</td>\n",
       "      <td>8</td>\n",
       "      <td>30</td>\n",
       "    </tr>\n",
       "    <tr>\n",
       "      <th>243</th>\n",
       "      <td>112.964286</td>\n",
       "      <td>90.128571</td>\n",
       "      <td>97.191429</td>\n",
       "      <td>2020</td>\n",
       "      <td>9</td>\n",
       "      <td>6</td>\n",
       "    </tr>\n",
       "    <tr>\n",
       "      <th>244</th>\n",
       "      <td>126.384286</td>\n",
       "      <td>122.124286</td>\n",
       "      <td>87.520000</td>\n",
       "      <td>2020</td>\n",
       "      <td>9</td>\n",
       "      <td>13</td>\n",
       "    </tr>\n",
       "    <tr>\n",
       "      <th>245</th>\n",
       "      <td>93.104286</td>\n",
       "      <td>148.934286</td>\n",
       "      <td>138.811429</td>\n",
       "      <td>2020</td>\n",
       "      <td>9</td>\n",
       "      <td>20</td>\n",
       "    </tr>\n",
       "    <tr>\n",
       "      <th>246</th>\n",
       "      <td>61.434286</td>\n",
       "      <td>140.537143</td>\n",
       "      <td>127.725714</td>\n",
       "      <td>2020</td>\n",
       "      <td>9</td>\n",
       "      <td>27</td>\n",
       "    </tr>\n",
       "    <tr>\n",
       "      <th>247</th>\n",
       "      <td>110.091429</td>\n",
       "      <td>228.338571</td>\n",
       "      <td>166.141429</td>\n",
       "      <td>2020</td>\n",
       "      <td>10</td>\n",
       "      <td>4</td>\n",
       "    </tr>\n",
       "    <tr>\n",
       "      <th>248</th>\n",
       "      <td>186.514286</td>\n",
       "      <td>288.815714</td>\n",
       "      <td>245.940000</td>\n",
       "      <td>2020</td>\n",
       "      <td>10</td>\n",
       "      <td>11</td>\n",
       "    </tr>\n",
       "    <tr>\n",
       "      <th>249</th>\n",
       "      <td>231.625714</td>\n",
       "      <td>332.014286</td>\n",
       "      <td>280.895714</td>\n",
       "      <td>2020</td>\n",
       "      <td>10</td>\n",
       "      <td>18</td>\n",
       "    </tr>\n",
       "    <tr>\n",
       "      <th>250</th>\n",
       "      <td>272.804286</td>\n",
       "      <td>376.511429</td>\n",
       "      <td>315.600000</td>\n",
       "      <td>2020</td>\n",
       "      <td>10</td>\n",
       "      <td>25</td>\n",
       "    </tr>\n",
       "    <tr>\n",
       "      <th>251</th>\n",
       "      <td>477.715714</td>\n",
       "      <td>375.422857</td>\n",
       "      <td>217.511429</td>\n",
       "      <td>2020</td>\n",
       "      <td>11</td>\n",
       "      <td>1</td>\n",
       "    </tr>\n",
       "    <tr>\n",
       "      <th>252</th>\n",
       "      <td>253.190000</td>\n",
       "      <td>442.911429</td>\n",
       "      <td>263.664286</td>\n",
       "      <td>2020</td>\n",
       "      <td>11</td>\n",
       "      <td>8</td>\n",
       "    </tr>\n",
       "    <tr>\n",
       "      <th>253</th>\n",
       "      <td>415.400000</td>\n",
       "      <td>300.608571</td>\n",
       "      <td>641.107143</td>\n",
       "      <td>2020</td>\n",
       "      <td>11</td>\n",
       "      <td>15</td>\n",
       "    </tr>\n",
       "    <tr>\n",
       "      <th>254</th>\n",
       "      <td>251.350000</td>\n",
       "      <td>310.477143</td>\n",
       "      <td>374.161429</td>\n",
       "      <td>2020</td>\n",
       "      <td>11</td>\n",
       "      <td>22</td>\n",
       "    </tr>\n",
       "    <tr>\n",
       "      <th>255</th>\n",
       "      <td>155.477143</td>\n",
       "      <td>351.001429</td>\n",
       "      <td>377.317143</td>\n",
       "      <td>2020</td>\n",
       "      <td>11</td>\n",
       "      <td>29</td>\n",
       "    </tr>\n",
       "    <tr>\n",
       "      <th>256</th>\n",
       "      <td>318.638571</td>\n",
       "      <td>415.775714</td>\n",
       "      <td>467.504286</td>\n",
       "      <td>2020</td>\n",
       "      <td>12</td>\n",
       "      <td>6</td>\n",
       "    </tr>\n",
       "    <tr>\n",
       "      <th>257</th>\n",
       "      <td>272.724286</td>\n",
       "      <td>325.415714</td>\n",
       "      <td>387.571429</td>\n",
       "      <td>2020</td>\n",
       "      <td>12</td>\n",
       "      <td>13</td>\n",
       "    </tr>\n",
       "    <tr>\n",
       "      <th>258</th>\n",
       "      <td>252.675714</td>\n",
       "      <td>430.512857</td>\n",
       "      <td>236.960714</td>\n",
       "      <td>2020</td>\n",
       "      <td>12</td>\n",
       "      <td>20</td>\n",
       "    </tr>\n",
       "    <tr>\n",
       "      <th>259</th>\n",
       "      <td>381.122857</td>\n",
       "      <td>428.861429</td>\n",
       "      <td>371.975714</td>\n",
       "      <td>2020</td>\n",
       "      <td>12</td>\n",
       "      <td>27</td>\n",
       "    </tr>\n",
       "  </tbody>\n",
       "</table>\n",
       "</div>"
      ],
      "text/plain": [
       "          PM1y1       PM1y2       PM1y3  year  month  day\n",
       "207  428.861429  371.975714  416.398571  2019     12   29\n",
       "208  456.537143  452.655714  332.717143  2020      1    5\n",
       "209  349.680000  344.172857  282.434286  2020      1   12\n",
       "210  405.144286  405.398571  346.604286  2020      1   19\n",
       "211  223.215604  302.185714  237.858571  2020      1   26\n",
       "212  225.330769  284.925714  251.350000  2020      2    2\n",
       "213  198.920769  331.052857  328.171429  2020      2    9\n",
       "214  333.581429  204.577143  279.338571  2020      2   16\n",
       "215  192.155714  330.682857  275.608571  2020      2   23\n",
       "216  172.547857  228.510000  280.377143  2020      3    1\n",
       "217  179.461429  205.820000  289.880000  2020      3    8\n",
       "218  186.185714  250.127143  193.385714  2020      3   15\n",
       "219  189.462857  196.691429  241.430000  2020      3   22\n",
       "220  195.962857  229.671429  237.648571  2020      3   29\n",
       "221  266.042857  212.157143  226.832857  2020      4    5\n",
       "222  219.594286  198.141429  206.071429  2020      4   12\n",
       "223  163.178571  325.294286  305.537143  2020      4   19\n",
       "224  283.217143  305.235714  331.410000  2020      4   26\n",
       "225  247.807143  180.768571  218.927143  2020      5    3\n",
       "226  351.612857  225.631429  313.712857  2020      5   10\n",
       "227  197.115714  201.934286  309.000000  2020      5   17\n",
       "228  167.354286  245.527143  277.441429  2020      5   24\n",
       "229  214.297143  215.097143  219.807143  2020      5   31\n",
       "230  200.808571  168.624286  187.057143  2020      6    7\n",
       "231  236.931429  398.428571  180.308571  2020      6   14\n",
       "232  130.957143  212.274286  390.261429  2020      6   21\n",
       "233  207.891429   93.648571  213.428571  2020      6   28\n",
       "234  126.332857  148.795714   83.122857  2020      7    5\n",
       "235  280.812857  106.338571  160.072857  2020      7   12\n",
       "236  111.605714   83.135714   92.230000  2020      7   19\n",
       "237   91.477143   66.541429   81.110000  2020      7   26\n",
       "238   77.688571  219.920000   74.575714  2020      8    2\n",
       "239   61.948571  104.780000  224.825714  2020      8    9\n",
       "240   41.944286   98.462857   96.570000  2020      8   16\n",
       "241  110.490000   89.305714  103.921429  2020      8   23\n",
       "242   84.177143   94.600000   79.894286  2020      8   30\n",
       "243  112.964286   90.128571   97.191429  2020      9    6\n",
       "244  126.384286  122.124286   87.520000  2020      9   13\n",
       "245   93.104286  148.934286  138.811429  2020      9   20\n",
       "246   61.434286  140.537143  127.725714  2020      9   27\n",
       "247  110.091429  228.338571  166.141429  2020     10    4\n",
       "248  186.514286  288.815714  245.940000  2020     10   11\n",
       "249  231.625714  332.014286  280.895714  2020     10   18\n",
       "250  272.804286  376.511429  315.600000  2020     10   25\n",
       "251  477.715714  375.422857  217.511429  2020     11    1\n",
       "252  253.190000  442.911429  263.664286  2020     11    8\n",
       "253  415.400000  300.608571  641.107143  2020     11   15\n",
       "254  251.350000  310.477143  374.161429  2020     11   22\n",
       "255  155.477143  351.001429  377.317143  2020     11   29\n",
       "256  318.638571  415.775714  467.504286  2020     12    6\n",
       "257  272.724286  325.415714  387.571429  2020     12   13\n",
       "258  252.675714  430.512857  236.960714  2020     12   20\n",
       "259  381.122857  428.861429  371.975714  2020     12   27"
      ]
     },
     "execution_count": 24,
     "metadata": {},
     "output_type": "execute_result"
    }
   ],
   "source": [
    "test=data.loc['207':'259']\n",
    "X=test[['PM1y1', 'PM1y2', 'PM1y3','year', 'month', 'day']]\n",
    "X"
   ]
  },
  {
   "cell_type": "code",
   "execution_count": 25,
   "metadata": {},
   "outputs": [],
   "source": [
    "predict=grad_boost.predict(X)"
   ]
  },
  {
   "cell_type": "code",
   "execution_count": 26,
   "metadata": {
    "scrolled": false
   },
   "outputs": [
    {
     "data": {
      "text/plain": [
       "array([322.05640834, 333.24676665, 329.41545046, 337.35195485,\n",
       "       268.911858  , 225.81847745, 282.18128264, 248.62626103,\n",
       "       282.48798557, 226.42490111, 239.54547932, 223.77826295,\n",
       "       243.83848799, 255.10428331, 226.84498079, 216.28539348,\n",
       "       269.78121155, 238.13108845, 199.91396562, 263.84236429,\n",
       "       261.00988789, 250.1682419 , 230.38117722, 206.15452722,\n",
       "       249.56143955, 248.039139  , 184.76730952, 172.87678388,\n",
       "       178.62229817, 122.4143672 , 105.85391892, 169.64566666,\n",
       "       150.54402441, 126.64729568, 122.80083002, 114.19919167,\n",
       "       148.13190763, 138.69142432, 143.64919802, 131.32838335,\n",
       "       190.01922372, 252.73463172, 288.85136829, 288.40326047,\n",
       "       272.60793878, 313.6489428 , 318.17942708, 267.76972507,\n",
       "       276.86909909, 373.11678685, 281.68039907, 306.61225682,\n",
       "       310.74327279])"
      ]
     },
     "execution_count": 26,
     "metadata": {},
     "output_type": "execute_result"
    }
   ],
   "source": [
    "predict"
   ]
  },
  {
   "cell_type": "code",
   "execution_count": 27,
   "metadata": {},
   "outputs": [],
   "source": [
    "dates=data.loc['207':'259','From Date']"
   ]
  },
  {
   "cell_type": "code",
   "execution_count": 28,
   "metadata": {},
   "outputs": [],
   "source": [
    "X['From Date']=dates.values"
   ]
  },
  {
   "cell_type": "code",
   "execution_count": 29,
   "metadata": {},
   "outputs": [
    {
     "data": {
      "text/plain": [
       "Index(['PM1y1', 'PM1y2', 'PM1y3', 'year', 'month', 'day', 'From Date'], dtype='object')"
      ]
     },
     "execution_count": 29,
     "metadata": {},
     "output_type": "execute_result"
    }
   ],
   "source": [
    "X.columns"
   ]
  },
  {
   "cell_type": "code",
   "execution_count": 30,
   "metadata": {},
   "outputs": [],
   "source": [
    "X['From Date']= X['From Date'].map(dt.datetime.fromordinal)"
   ]
  },
  {
   "cell_type": "code",
   "execution_count": 31,
   "metadata": {},
   "outputs": [],
   "source": [
    "test['From Date']= test['From Date'].map(dt.datetime.fromordinal)"
   ]
  },
  {
   "cell_type": "code",
   "execution_count": 32,
   "metadata": {},
   "outputs": [],
   "source": [
    "test = test.set_index(['From Date'])\n",
    "X = X.set_index(['From Date'])\n"
   ]
  },
  {
   "cell_type": "code",
   "execution_count": 33,
   "metadata": {},
   "outputs": [],
   "source": [
    "X['pred']=predict"
   ]
  },
  {
   "cell_type": "code",
   "execution_count": 34,
   "metadata": {
    "scrolled": true
   },
   "outputs": [
    {
     "data": {
      "text/plain": [
       "<AxesSubplot:xlabel='From Date'>"
      ]
     },
     "execution_count": 34,
     "metadata": {},
     "output_type": "execute_result"
    },
    {
     "data": {
      "image/png": "[encoded data removed]",
      "text/plain": [
       "<Figure size 720x432 with 1 Axes>"
      ]
     },
     "metadata": {},
     "output_type": "display_data"
    }
   ],
   "source": [
    "test['PM1'].plot(legend=True, label='Actual PM10', figsize=(10,6))\n",
    "X['pred'].plot(legend=True, label='Predicted PM10')"
   ]
  },
  {
   "cell_type": "code",
   "execution_count": 35,
   "metadata": {},
   "outputs": [
    {
     "data": {
      "text/plain": [
       "98.4629393570046"
      ]
     },
     "execution_count": 35,
     "metadata": {},
     "output_type": "execute_result"
    }
   ],
   "source": [
    "np.sqrt(mean_squared_error(test['PM1'],X['pred']))"
   ]
  },
  {
   "cell_type": "code",
   "execution_count": 36,
   "metadata": {
    "scrolled": false
   },
   "outputs": [
    {
     "name": "stdout",
     "output_type": "stream",
     "text": [
      "Results of sklearn.metrics:\n",
      "MAE: 48.05725427949885\n",
      "MSE: 3629.2020057322056\n",
      "RMSE: 60.24285854549239\n",
      "R-Squared: 0.7198635152196273\n"
     ]
    }
   ],
   "source": [
    "mae = metrics.mean_absolute_error(ytest, gboost_pred)\n",
    "mse = metrics.mean_squared_error(ytest, gboost_pred)\n",
    "rmsetest = np.sqrt(mse) # or mse**(0.5)  \n",
    "r2 = metrics.r2_score(ytest,gboost_pred)\n",
    "\n",
    "print(\"Results of sklearn.metrics:\")\n",
    "print(\"MAE:\",mae)\n",
    "print(\"MSE:\", mse)\n",
    "print(\"RMSE:\", rmsetest)\n",
    "print(\"R-Squared:\", r2)"
   ]
  },
  {
   "cell_type": "code",
   "execution_count": 37,
   "metadata": {},
   "outputs": [
    {
     "name": "stdout",
     "output_type": "stream",
     "text": [
      "Results of sklearn.metrics:\n",
      "MAE: 86.94323900710104\n",
      "MSE: 9694.950426821166\n",
      "RMSE: 98.4629393570046\n",
      "R-Squared: 0.18241150758044455\n"
     ]
    }
   ],
   "source": [
    "mae = metrics.mean_absolute_error(test['PM1'],X['pred'])\n",
    "mse = metrics.mean_squared_error(test['PM1'],X['pred'])\n",
    "rmse = np.sqrt(mse) # or mse**(0.5)  \n",
    "r2 = metrics.r2_score(test['PM1'],X['pred'])\n",
    "\n",
    "print(\"Results of sklearn.metrics:\")\n",
    "print(\"MAE:\",mae)\n",
    "print(\"MSE:\", mse)\n",
    "print(\"RMSE:\", rmse)\n",
    "print(\"R-Squared:\", r2)"
   ]
  },
  {
   "cell_type": "code",
   "execution_count": 38,
   "metadata": {},
   "outputs": [],
   "source": [
    "import pickle\n",
    "filename = 'PM10_gboost3y.sav'\n",
    "pickle.dump(grad_boost, open(filename, 'wb'))"
   ]
  },
  {
   "cell_type": "code",
   "execution_count": 39,
   "metadata": {},
   "outputs": [
    {
     "name": "stdout",
     "output_type": "stream",
     "text": [
      "0.7198635152196273\n"
     ]
    }
   ],
   "source": [
    "#load model\n",
    "loaded_model = pickle.load(open(filename, 'rb'))\n",
    "result = loaded_model.score(xtest, ytest)\n",
    "print(result)"
   ]
  },
  {
   "cell_type": "markdown",
   "metadata": {},
   "source": [
    "# 3rd plot"
   ]
  },
  {
   "cell_type": "code",
   "execution_count": 40,
   "metadata": {},
   "outputs": [],
   "source": [
    "testcase = pd.DataFrame()"
   ]
  },
  {
   "cell_type": "code",
   "execution_count": 41,
   "metadata": {
    "scrolled": true
   },
   "outputs": [],
   "source": [
    "testcase['test']=ytest\n",
    "testcase['pred']=gboost_pred"
   ]
  },
  {
   "cell_type": "code",
   "execution_count": 42,
   "metadata": {},
   "outputs": [],
   "source": [
    "testcase[\"Corrected\"] = np.where(testcase[\"pred\"]<testcase[\"test\"],testcase[\"pred\"]+rmsetest ,\n",
    "                   np.where(testcase[\"pred\"]>testcase[\"test\"], testcase[\"pred\"]-rmsetest,\n",
    "                            testcase[\"pred\"]))"
   ]
  },
  {
   "cell_type": "code",
   "execution_count": 43,
   "metadata": {},
   "outputs": [
    {
     "data": {
      "text/html": [
       "<div>\n",
       "<style scoped>\n",
       "    .dataframe tbody tr th:only-of-type {\n",
       "        vertical-align: middle;\n",
       "    }\n",
       "\n",
       "    .dataframe tbody tr th {\n",
       "        vertical-align: top;\n",
       "    }\n",
       "\n",
       "    .dataframe thead th {\n",
       "        text-align: right;\n",
       "    }\n",
       "</style>\n",
       "<table border=\"1\" class=\"dataframe\">\n",
       "  <thead>\n",
       "    <tr style=\"text-align: right;\">\n",
       "      <th></th>\n",
       "      <th>test</th>\n",
       "      <th>pred</th>\n",
       "      <th>Corrected</th>\n",
       "    </tr>\n",
       "  </thead>\n",
       "  <tbody>\n",
       "    <tr>\n",
       "      <th>33</th>\n",
       "      <td>103.254286</td>\n",
       "      <td>115.582004</td>\n",
       "      <td>55.339145</td>\n",
       "    </tr>\n",
       "    <tr>\n",
       "      <th>176</th>\n",
       "      <td>167.354286</td>\n",
       "      <td>236.429518</td>\n",
       "      <td>176.186659</td>\n",
       "    </tr>\n",
       "    <tr>\n",
       "      <th>105</th>\n",
       "      <td>344.172857</td>\n",
       "      <td>354.164884</td>\n",
       "      <td>293.922025</td>\n",
       "    </tr>\n",
       "    <tr>\n",
       "      <th>18</th>\n",
       "      <td>267.381786</td>\n",
       "      <td>335.345432</td>\n",
       "      <td>275.102573</td>\n",
       "    </tr>\n",
       "    <tr>\n",
       "      <th>90</th>\n",
       "      <td>127.725714</td>\n",
       "      <td>129.884482</td>\n",
       "      <td>69.641623</td>\n",
       "    </tr>\n",
       "    <tr>\n",
       "      <th>1</th>\n",
       "      <td>497.675714</td>\n",
       "      <td>391.851576</td>\n",
       "      <td>452.094435</td>\n",
       "    </tr>\n",
       "    <tr>\n",
       "      <th>187</th>\n",
       "      <td>61.948571</td>\n",
       "      <td>172.921449</td>\n",
       "      <td>112.678590</td>\n",
       "    </tr>\n",
       "    <tr>\n",
       "      <th>89</th>\n",
       "      <td>138.811429</td>\n",
       "      <td>163.031641</td>\n",
       "      <td>102.788783</td>\n",
       "    </tr>\n",
       "    <tr>\n",
       "      <th>191</th>\n",
       "      <td>112.964286</td>\n",
       "      <td>132.208521</td>\n",
       "      <td>71.965662</td>\n",
       "    </tr>\n",
       "    <tr>\n",
       "      <th>81</th>\n",
       "      <td>81.110000</td>\n",
       "      <td>131.256717</td>\n",
       "      <td>71.013859</td>\n",
       "    </tr>\n",
       "    <tr>\n",
       "      <th>48</th>\n",
       "      <td>401.037143</td>\n",
       "      <td>427.806304</td>\n",
       "      <td>367.563446</td>\n",
       "    </tr>\n",
       "    <tr>\n",
       "      <th>11</th>\n",
       "      <td>189.508571</td>\n",
       "      <td>216.161301</td>\n",
       "      <td>155.918442</td>\n",
       "    </tr>\n",
       "    <tr>\n",
       "      <th>100</th>\n",
       "      <td>467.504286</td>\n",
       "      <td>323.712259</td>\n",
       "      <td>383.955118</td>\n",
       "    </tr>\n",
       "    <tr>\n",
       "      <th>138</th>\n",
       "      <td>94.600000</td>\n",
       "      <td>130.981223</td>\n",
       "      <td>70.738364</td>\n",
       "    </tr>\n",
       "    <tr>\n",
       "      <th>62</th>\n",
       "      <td>193.385714</td>\n",
       "      <td>232.239330</td>\n",
       "      <td>171.996471</td>\n",
       "    </tr>\n",
       "    <tr>\n",
       "      <th>180</th>\n",
       "      <td>130.957143</td>\n",
       "      <td>240.057706</td>\n",
       "      <td>179.814847</td>\n",
       "    </tr>\n",
       "    <tr>\n",
       "      <th>135</th>\n",
       "      <td>104.780000</td>\n",
       "      <td>157.372943</td>\n",
       "      <td>97.130084</td>\n",
       "    </tr>\n",
       "    <tr>\n",
       "      <th>165</th>\n",
       "      <td>179.461429</td>\n",
       "      <td>239.648065</td>\n",
       "      <td>179.405206</td>\n",
       "    </tr>\n",
       "    <tr>\n",
       "      <th>193</th>\n",
       "      <td>93.104286</td>\n",
       "      <td>141.900247</td>\n",
       "      <td>81.657388</td>\n",
       "    </tr>\n",
       "    <tr>\n",
       "      <th>172</th>\n",
       "      <td>283.217143</td>\n",
       "      <td>280.426655</td>\n",
       "      <td>340.669514</td>\n",
       "    </tr>\n",
       "    <tr>\n",
       "      <th>14</th>\n",
       "      <td>221.097143</td>\n",
       "      <td>198.562533</td>\n",
       "      <td>258.805391</td>\n",
       "    </tr>\n",
       "    <tr>\n",
       "      <th>192</th>\n",
       "      <td>126.384286</td>\n",
       "      <td>143.376448</td>\n",
       "      <td>83.133590</td>\n",
       "    </tr>\n",
       "    <tr>\n",
       "      <th>92</th>\n",
       "      <td>245.940000</td>\n",
       "      <td>224.963756</td>\n",
       "      <td>285.206615</td>\n",
       "    </tr>\n",
       "    <tr>\n",
       "      <th>177</th>\n",
       "      <td>214.297143</td>\n",
       "      <td>239.667842</td>\n",
       "      <td>179.424983</td>\n",
       "    </tr>\n",
       "    <tr>\n",
       "      <th>102</th>\n",
       "      <td>236.960714</td>\n",
       "      <td>335.353953</td>\n",
       "      <td>275.111095</td>\n",
       "    </tr>\n",
       "    <tr>\n",
       "      <th>181</th>\n",
       "      <td>207.891429</td>\n",
       "      <td>194.232206</td>\n",
       "      <td>254.475064</td>\n",
       "    </tr>\n",
       "    <tr>\n",
       "      <th>195</th>\n",
       "      <td>110.091429</td>\n",
       "      <td>201.546490</td>\n",
       "      <td>141.303632</td>\n",
       "    </tr>\n",
       "    <tr>\n",
       "      <th>47</th>\n",
       "      <td>365.194286</td>\n",
       "      <td>421.912076</td>\n",
       "      <td>361.669218</td>\n",
       "    </tr>\n",
       "    <tr>\n",
       "      <th>194</th>\n",
       "      <td>61.434286</td>\n",
       "      <td>134.334749</td>\n",
       "      <td>74.091891</td>\n",
       "    </tr>\n",
       "    <tr>\n",
       "      <th>110</th>\n",
       "      <td>204.577143</td>\n",
       "      <td>308.491727</td>\n",
       "      <td>248.248869</td>\n",
       "    </tr>\n",
       "    <tr>\n",
       "      <th>124</th>\n",
       "      <td>245.527143</td>\n",
       "      <td>280.437894</td>\n",
       "      <td>220.195036</td>\n",
       "    </tr>\n",
       "    <tr>\n",
       "      <th>119</th>\n",
       "      <td>325.294286</td>\n",
       "      <td>234.757835</td>\n",
       "      <td>295.000693</td>\n",
       "    </tr>\n",
       "    <tr>\n",
       "      <th>170</th>\n",
       "      <td>219.594286</td>\n",
       "      <td>226.257700</td>\n",
       "      <td>166.014841</td>\n",
       "    </tr>\n",
       "    <tr>\n",
       "      <th>34</th>\n",
       "      <td>81.714286</td>\n",
       "      <td>119.897830</td>\n",
       "      <td>59.654971</td>\n",
       "    </tr>\n",
       "    <tr>\n",
       "      <th>113</th>\n",
       "      <td>205.820000</td>\n",
       "      <td>222.794225</td>\n",
       "      <td>162.551367</td>\n",
       "    </tr>\n",
       "    <tr>\n",
       "      <th>6</th>\n",
       "      <td>324.407143</td>\n",
       "      <td>318.803844</td>\n",
       "      <td>379.046703</td>\n",
       "    </tr>\n",
       "    <tr>\n",
       "      <th>45</th>\n",
       "      <td>526.261429</td>\n",
       "      <td>423.033731</td>\n",
       "      <td>483.276590</td>\n",
       "    </tr>\n",
       "    <tr>\n",
       "      <th>69</th>\n",
       "      <td>218.927143</td>\n",
       "      <td>279.287782</td>\n",
       "      <td>219.044923</td>\n",
       "    </tr>\n",
       "    <tr>\n",
       "      <th>159</th>\n",
       "      <td>223.215604</td>\n",
       "      <td>275.381070</td>\n",
       "      <td>215.138212</td>\n",
       "    </tr>\n",
       "    <tr>\n",
       "      <th>77</th>\n",
       "      <td>213.428571</td>\n",
       "      <td>221.604952</td>\n",
       "      <td>161.362094</td>\n",
       "    </tr>\n",
       "    <tr>\n",
       "      <th>130</th>\n",
       "      <td>148.795714</td>\n",
       "      <td>135.102006</td>\n",
       "      <td>195.344864</td>\n",
       "    </tr>\n",
       "    <tr>\n",
       "      <th>128</th>\n",
       "      <td>212.274286</td>\n",
       "      <td>259.428396</td>\n",
       "      <td>199.185537</td>\n",
       "    </tr>\n",
       "  </tbody>\n",
       "</table>\n",
       "</div>"
      ],
      "text/plain": [
       "           test        pred   Corrected\n",
       "33   103.254286  115.582004   55.339145\n",
       "176  167.354286  236.429518  176.186659\n",
       "105  344.172857  354.164884  293.922025\n",
       "18   267.381786  335.345432  275.102573\n",
       "90   127.725714  129.884482   69.641623\n",
       "1    497.675714  391.851576  452.094435\n",
       "187   61.948571  172.921449  112.678590\n",
       "89   138.811429  163.031641  102.788783\n",
       "191  112.964286  132.208521   71.965662\n",
       "81    81.110000  131.256717   71.013859\n",
       "48   401.037143  427.806304  367.563446\n",
       "11   189.508571  216.161301  155.918442\n",
       "100  467.504286  323.712259  383.955118\n",
       "138   94.600000  130.981223   70.738364\n",
       "62   193.385714  232.239330  171.996471\n",
       "180  130.957143  240.057706  179.814847\n",
       "135  104.780000  157.372943   97.130084\n",
       "165  179.461429  239.648065  179.405206\n",
       "193   93.104286  141.900247   81.657388\n",
       "172  283.217143  280.426655  340.669514\n",
       "14   221.097143  198.562533  258.805391\n",
       "192  126.384286  143.376448   83.133590\n",
       "92   245.940000  224.963756  285.206615\n",
       "177  214.297143  239.667842  179.424983\n",
       "102  236.960714  335.353953  275.111095\n",
       "181  207.891429  194.232206  254.475064\n",
       "195  110.091429  201.546490  141.303632\n",
       "47   365.194286  421.912076  361.669218\n",
       "194   61.434286  134.334749   74.091891\n",
       "110  204.577143  308.491727  248.248869\n",
       "124  245.527143  280.437894  220.195036\n",
       "119  325.294286  234.757835  295.000693\n",
       "170  219.594286  226.257700  166.014841\n",
       "34    81.714286  119.897830   59.654971\n",
       "113  205.820000  222.794225  162.551367\n",
       "6    324.407143  318.803844  379.046703\n",
       "45   526.261429  423.033731  483.276590\n",
       "69   218.927143  279.287782  219.044923\n",
       "159  223.215604  275.381070  215.138212\n",
       "77   213.428571  221.604952  161.362094\n",
       "130  148.795714  135.102006  195.344864\n",
       "128  212.274286  259.428396  199.185537"
      ]
     },
     "execution_count": 43,
     "metadata": {},
     "output_type": "execute_result"
    }
   ],
   "source": [
    "testcase"
   ]
  },
  {
   "cell_type": "code",
   "execution_count": 44,
   "metadata": {},
   "outputs": [
    {
     "data": {
      "text/plain": [
       "'testcase[\\'test\\'].plot(legend=True, label=\\'Actual PM2.5\\', figsize=(10,6))\\ntestcase[\\'pred\\'].plot(legend=True, label=\\'Predicted PM2.5\\')\\ntestcase[\"Corrected\"].plot(legend=True, label=\\'Corrected PM2.5\\')'"
      ]
     },
     "execution_count": 44,
     "metadata": {},
     "output_type": "execute_result"
    }
   ],
   "source": [
    "'''testcase['test'].plot(legend=True, label='Actual PM2.5', figsize=(10,6))\n",
    "testcase['pred'].plot(legend=True, label='Predicted PM2.5')\n",
    "testcase[\"Corrected\"].plot(legend=True, label='Corrected PM2.5')'''"
   ]
  },
  {
   "cell_type": "code",
   "execution_count": 45,
   "metadata": {
    "scrolled": true
   },
   "outputs": [
    {
     "data": {
      "text/plain": [
       "0.8812346633702672"
      ]
     },
     "execution_count": 45,
     "metadata": {},
     "output_type": "execute_result"
    }
   ],
   "source": [
    "r2 = metrics.r2_score(testcase[\"Corrected\"],testcase['test'])\n",
    "r2"
   ]
  },
  {
   "cell_type": "code",
   "execution_count": 46,
   "metadata": {},
   "outputs": [],
   "source": [
    "test2020=pd.DataFrame()"
   ]
  },
  {
   "cell_type": "code",
   "execution_count": 47,
   "metadata": {},
   "outputs": [],
   "source": [
    "test2020['test']=test['PM1']\n",
    "test2020['pred']=X['pred']"
   ]
  },
  {
   "cell_type": "code",
   "execution_count": 48,
   "metadata": {},
   "outputs": [],
   "source": [
    "test2020.index=test.index"
   ]
  },
  {
   "cell_type": "code",
   "execution_count": 49,
   "metadata": {},
   "outputs": [],
   "source": [
    "test2020[\"Corrected\"] = np.where(test2020[\"pred\"]<test2020[\"test\"],test2020[\"pred\"]+rmsetest ,\n",
    "                   np.where(test2020[\"pred\"]>test2020[\"test\"], test2020[\"pred\"]-rmsetest,\n",
    "                            test2020[\"pred\"]))"
   ]
  },
  {
   "cell_type": "code",
   "execution_count": 50,
   "metadata": {},
   "outputs": [
    {
     "data": {
      "text/plain": [
       "<AxesSubplot:xlabel='From Date'>"
      ]
     },
     "execution_count": 50,
     "metadata": {},
     "output_type": "execute_result"
    },
    {
     "data": {
      "image/png": "[encoded data removed]",
      "text/plain": [
       "<Figure size 720x432 with 1 Axes>"
      ]
     },
     "metadata": {},
     "output_type": "display_data"
    }
   ],
   "source": [
    "test2020['test'].plot(legend=True, label='Actual PM10 2020', figsize=(10,6))\n",
    "test2020['pred'].plot(legend=True, label='Predicted PM10 2020')\n",
    "test2020[\"Corrected\"].plot(legend=True, label='Corrected PM10 2020')"
   ]
  },
  {
   "cell_type": "code",
   "execution_count": 51,
   "metadata": {},
   "outputs": [
    {
     "data": {
      "text/plain": [
       "0.6842064223646711"
      ]
     },
     "execution_count": 51,
     "metadata": {},
     "output_type": "execute_result"
    }
   ],
   "source": [
    "r2020 = metrics.r2_score(test2020[\"Corrected\"],test2020['test'])\n",
    "r2020"
   ]
  },
  {
   "cell_type": "code",
   "execution_count": null,
   "metadata": {},
   "outputs": [],
   "source": []
  }
 ],
 "metadata": {
  "kernelspec": {
   "display_name": "Python 3",
   "language": "python",
   "name": "python3"
  },
  "language_info": {
   "codemirror_mode": {
    "name": "ipython",
    "version": 3
   },
   "file_extension": ".py",
   "mimetype": "text/x-python",
   "name": "python",
   "nbconvert_exporter": "python",
   "pygments_lexer": "ipython3",
   "version": "3.8.5"
  }
 },
 "nbformat": 4,
 "nbformat_minor": 4
}
